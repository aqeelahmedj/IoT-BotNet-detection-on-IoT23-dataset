{
 "cells": [
  {
   "cell_type": "markdown",
   "metadata": {},
   "source": [
    "# Feed Forward ANN "
   ]
  },
  {
   "cell_type": "code",
   "execution_count": 1,
   "metadata": {},
   "outputs": [],
   "source": [
    "import numpy as np\n",
    "import pandas as pd\n",
    "import tensorflow as tf\n",
    "from matplotlib import pyplot\n",
    "from tensorflow.keras import Model\n",
    "from tensorflow.keras import Sequential\n",
    "from tensorflow.keras.models import Sequential, Model\n",
    "from tensorflow.keras.layers import Conv2D, Input, Dropout, Activation, Dense, MaxPooling2D, Flatten, GlobalAveragePooling2D\n",
    "from tensorflow.keras.optimizers import Adadelta\n",
    "from tensorflow.keras.callbacks import ModelCheckpoint\n",
    "from tensorflow.keras.layers import Dense\n",
    "from tensorflow.keras.layers import LSTM\n",
    "import sklearn\n",
    "from sklearn.preprocessing import MinMaxScaler,LabelEncoder"
   ]
  },
  {
   "cell_type": "code",
   "execution_count": null,
   "metadata": {},
   "outputs": [],
   "source": []
  },
  {
   "cell_type": "code",
   "execution_count": 2,
   "metadata": {},
   "outputs": [],
   "source": [
    "Data=pd.read_csv('D:\\JupyterNotebook\\GitHub\\IoT-BotNet-detection-on-IoT23-dataset\\IoT23\\Data Preparation\\preprocessed_iot23.csv')"
   ]
  },
  {
   "cell_type": "code",
   "execution_count": 3,
   "metadata": {},
   "outputs": [
    {
     "data": {
      "text/html": [
       "<div>\n",
       "<style scoped>\n",
       "    .dataframe tbody tr th:only-of-type {\n",
       "        vertical-align: middle;\n",
       "    }\n",
       "\n",
       "    .dataframe tbody tr th {\n",
       "        vertical-align: top;\n",
       "    }\n",
       "\n",
       "    .dataframe thead th {\n",
       "        text-align: right;\n",
       "    }\n",
       "</style>\n",
       "<table border=\"1\" class=\"dataframe\">\n",
       "  <thead>\n",
       "    <tr style=\"text-align: right;\">\n",
       "      <th></th>\n",
       "      <th>Unnamed: 0</th>\n",
       "      <th>duration</th>\n",
       "      <th>orig_bytes</th>\n",
       "      <th>resp_bytes</th>\n",
       "      <th>missed_bytes</th>\n",
       "      <th>orig_pkts</th>\n",
       "      <th>orig_ip_bytes</th>\n",
       "      <th>resp_pkts</th>\n",
       "      <th>resp_ip_bytes</th>\n",
       "      <th>proto</th>\n",
       "      <th>conn_state</th>\n",
       "      <th>history</th>\n",
       "      <th>label</th>\n",
       "    </tr>\n",
       "  </thead>\n",
       "  <tbody>\n",
       "    <tr>\n",
       "      <th>0</th>\n",
       "      <td>0</td>\n",
       "      <td>0.000003</td>\n",
       "      <td>0.0</td>\n",
       "      <td>0.0</td>\n",
       "      <td>0.0</td>\n",
       "      <td>2.0</td>\n",
       "      <td>80.0</td>\n",
       "      <td>0.0</td>\n",
       "      <td>0.0</td>\n",
       "      <td>1</td>\n",
       "      <td>5</td>\n",
       "      <td>16</td>\n",
       "      <td>POHS</td>\n",
       "    </tr>\n",
       "    <tr>\n",
       "      <th>1</th>\n",
       "      <td>1</td>\n",
       "      <td>0.000002</td>\n",
       "      <td>0.0</td>\n",
       "      <td>0.0</td>\n",
       "      <td>0.0</td>\n",
       "      <td>2.0</td>\n",
       "      <td>80.0</td>\n",
       "      <td>0.0</td>\n",
       "      <td>0.0</td>\n",
       "      <td>1</td>\n",
       "      <td>5</td>\n",
       "      <td>16</td>\n",
       "      <td>POHS</td>\n",
       "    </tr>\n",
       "    <tr>\n",
       "      <th>2</th>\n",
       "      <td>2</td>\n",
       "      <td>0.000002</td>\n",
       "      <td>0.0</td>\n",
       "      <td>0.0</td>\n",
       "      <td>0.0</td>\n",
       "      <td>2.0</td>\n",
       "      <td>80.0</td>\n",
       "      <td>0.0</td>\n",
       "      <td>0.0</td>\n",
       "      <td>1</td>\n",
       "      <td>5</td>\n",
       "      <td>16</td>\n",
       "      <td>POHS</td>\n",
       "    </tr>\n",
       "    <tr>\n",
       "      <th>3</th>\n",
       "      <td>3</td>\n",
       "      <td>0.000002</td>\n",
       "      <td>0.0</td>\n",
       "      <td>0.0</td>\n",
       "      <td>0.0</td>\n",
       "      <td>2.0</td>\n",
       "      <td>80.0</td>\n",
       "      <td>0.0</td>\n",
       "      <td>0.0</td>\n",
       "      <td>1</td>\n",
       "      <td>5</td>\n",
       "      <td>16</td>\n",
       "      <td>POHS</td>\n",
       "    </tr>\n",
       "    <tr>\n",
       "      <th>4</th>\n",
       "      <td>4</td>\n",
       "      <td>0.000002</td>\n",
       "      <td>0.0</td>\n",
       "      <td>0.0</td>\n",
       "      <td>0.0</td>\n",
       "      <td>2.0</td>\n",
       "      <td>80.0</td>\n",
       "      <td>0.0</td>\n",
       "      <td>0.0</td>\n",
       "      <td>1</td>\n",
       "      <td>5</td>\n",
       "      <td>16</td>\n",
       "      <td>POHS</td>\n",
       "    </tr>\n",
       "  </tbody>\n",
       "</table>\n",
       "</div>"
      ],
      "text/plain": [
       "   Unnamed: 0  duration  orig_bytes  resp_bytes  missed_bytes  orig_pkts  \\\n",
       "0           0  0.000003         0.0         0.0           0.0        2.0   \n",
       "1           1  0.000002         0.0         0.0           0.0        2.0   \n",
       "2           2  0.000002         0.0         0.0           0.0        2.0   \n",
       "3           3  0.000002         0.0         0.0           0.0        2.0   \n",
       "4           4  0.000002         0.0         0.0           0.0        2.0   \n",
       "\n",
       "   orig_ip_bytes  resp_pkts  resp_ip_bytes  proto  conn_state  history label  \n",
       "0           80.0        0.0            0.0      1           5       16  POHS  \n",
       "1           80.0        0.0            0.0      1           5       16  POHS  \n",
       "2           80.0        0.0            0.0      1           5       16  POHS  \n",
       "3           80.0        0.0            0.0      1           5       16  POHS  \n",
       "4           80.0        0.0            0.0      1           5       16  POHS  "
      ]
     },
     "execution_count": 3,
     "metadata": {},
     "output_type": "execute_result"
    }
   ],
   "source": [
    "Data.head()"
   ]
  },
  {
   "cell_type": "code",
   "execution_count": 4,
   "metadata": {},
   "outputs": [
    {
     "data": {
      "text/html": [
       "<div>\n",
       "<style scoped>\n",
       "    .dataframe tbody tr th:only-of-type {\n",
       "        vertical-align: middle;\n",
       "    }\n",
       "\n",
       "    .dataframe tbody tr th {\n",
       "        vertical-align: top;\n",
       "    }\n",
       "\n",
       "    .dataframe thead th {\n",
       "        text-align: right;\n",
       "    }\n",
       "</style>\n",
       "<table border=\"1\" class=\"dataframe\">\n",
       "  <thead>\n",
       "    <tr style=\"text-align: right;\">\n",
       "      <th></th>\n",
       "      <th>Unnamed: 0</th>\n",
       "      <th>duration</th>\n",
       "      <th>orig_bytes</th>\n",
       "      <th>resp_bytes</th>\n",
       "      <th>missed_bytes</th>\n",
       "      <th>orig_pkts</th>\n",
       "      <th>orig_ip_bytes</th>\n",
       "      <th>resp_pkts</th>\n",
       "      <th>resp_ip_bytes</th>\n",
       "      <th>proto</th>\n",
       "      <th>conn_state</th>\n",
       "      <th>history</th>\n",
       "      <th>label</th>\n",
       "    </tr>\n",
       "  </thead>\n",
       "  <tbody>\n",
       "    <tr>\n",
       "      <th>1244126</th>\n",
       "      <td>1244671</td>\n",
       "      <td>0.0</td>\n",
       "      <td>0.0</td>\n",
       "      <td>0.0</td>\n",
       "      <td>0.0</td>\n",
       "      <td>1.0</td>\n",
       "      <td>40.0</td>\n",
       "      <td>0.0</td>\n",
       "      <td>0.0</td>\n",
       "      <td>1</td>\n",
       "      <td>5</td>\n",
       "      <td>16</td>\n",
       "      <td>POHS</td>\n",
       "    </tr>\n",
       "    <tr>\n",
       "      <th>1244127</th>\n",
       "      <td>1244672</td>\n",
       "      <td>0.0</td>\n",
       "      <td>0.0</td>\n",
       "      <td>0.0</td>\n",
       "      <td>0.0</td>\n",
       "      <td>1.0</td>\n",
       "      <td>40.0</td>\n",
       "      <td>0.0</td>\n",
       "      <td>0.0</td>\n",
       "      <td>1</td>\n",
       "      <td>5</td>\n",
       "      <td>16</td>\n",
       "      <td>POHS</td>\n",
       "    </tr>\n",
       "    <tr>\n",
       "      <th>1244128</th>\n",
       "      <td>1244673</td>\n",
       "      <td>0.0</td>\n",
       "      <td>0.0</td>\n",
       "      <td>0.0</td>\n",
       "      <td>0.0</td>\n",
       "      <td>1.0</td>\n",
       "      <td>40.0</td>\n",
       "      <td>0.0</td>\n",
       "      <td>0.0</td>\n",
       "      <td>1</td>\n",
       "      <td>5</td>\n",
       "      <td>16</td>\n",
       "      <td>POHS</td>\n",
       "    </tr>\n",
       "    <tr>\n",
       "      <th>1244129</th>\n",
       "      <td>1244674</td>\n",
       "      <td>0.0</td>\n",
       "      <td>0.0</td>\n",
       "      <td>0.0</td>\n",
       "      <td>0.0</td>\n",
       "      <td>1.0</td>\n",
       "      <td>40.0</td>\n",
       "      <td>0.0</td>\n",
       "      <td>0.0</td>\n",
       "      <td>1</td>\n",
       "      <td>5</td>\n",
       "      <td>16</td>\n",
       "      <td>POHS</td>\n",
       "    </tr>\n",
       "    <tr>\n",
       "      <th>1244130</th>\n",
       "      <td>1244675</td>\n",
       "      <td>0.0</td>\n",
       "      <td>0.0</td>\n",
       "      <td>0.0</td>\n",
       "      <td>0.0</td>\n",
       "      <td>1.0</td>\n",
       "      <td>40.0</td>\n",
       "      <td>0.0</td>\n",
       "      <td>0.0</td>\n",
       "      <td>1</td>\n",
       "      <td>5</td>\n",
       "      <td>16</td>\n",
       "      <td>POHS</td>\n",
       "    </tr>\n",
       "  </tbody>\n",
       "</table>\n",
       "</div>"
      ],
      "text/plain": [
       "         Unnamed: 0  duration  orig_bytes  resp_bytes  missed_bytes  \\\n",
       "1244126     1244671       0.0         0.0         0.0           0.0   \n",
       "1244127     1244672       0.0         0.0         0.0           0.0   \n",
       "1244128     1244673       0.0         0.0         0.0           0.0   \n",
       "1244129     1244674       0.0         0.0         0.0           0.0   \n",
       "1244130     1244675       0.0         0.0         0.0           0.0   \n",
       "\n",
       "         orig_pkts  orig_ip_bytes  resp_pkts  resp_ip_bytes  proto  \\\n",
       "1244126        1.0           40.0        0.0            0.0      1   \n",
       "1244127        1.0           40.0        0.0            0.0      1   \n",
       "1244128        1.0           40.0        0.0            0.0      1   \n",
       "1244129        1.0           40.0        0.0            0.0      1   \n",
       "1244130        1.0           40.0        0.0            0.0      1   \n",
       "\n",
       "         conn_state  history label  \n",
       "1244126           5       16  POHS  \n",
       "1244127           5       16  POHS  \n",
       "1244128           5       16  POHS  \n",
       "1244129           5       16  POHS  \n",
       "1244130           5       16  POHS  "
      ]
     },
     "execution_count": 4,
     "metadata": {},
     "output_type": "execute_result"
    }
   ],
   "source": [
    "Data.tail()"
   ]
  },
  {
   "cell_type": "code",
   "execution_count": 5,
   "metadata": {},
   "outputs": [
    {
     "data": {
      "text/plain": [
       "(1244131, 13)"
      ]
     },
     "execution_count": 5,
     "metadata": {},
     "output_type": "execute_result"
    }
   ],
   "source": [
    "Data.shape"
   ]
  },
  {
   "cell_type": "code",
   "execution_count": 6,
   "metadata": {},
   "outputs": [
    {
     "data": {
      "text/html": [
       "<div>\n",
       "<style scoped>\n",
       "    .dataframe tbody tr th:only-of-type {\n",
       "        vertical-align: middle;\n",
       "    }\n",
       "\n",
       "    .dataframe tbody tr th {\n",
       "        vertical-align: top;\n",
       "    }\n",
       "\n",
       "    .dataframe thead th {\n",
       "        text-align: right;\n",
       "    }\n",
       "</style>\n",
       "<table border=\"1\" class=\"dataframe\">\n",
       "  <thead>\n",
       "    <tr style=\"text-align: right;\">\n",
       "      <th></th>\n",
       "      <th>Unnamed: 0</th>\n",
       "      <th>duration</th>\n",
       "      <th>orig_bytes</th>\n",
       "      <th>resp_bytes</th>\n",
       "      <th>missed_bytes</th>\n",
       "      <th>orig_pkts</th>\n",
       "      <th>orig_ip_bytes</th>\n",
       "      <th>resp_pkts</th>\n",
       "      <th>resp_ip_bytes</th>\n",
       "      <th>proto</th>\n",
       "      <th>conn_state</th>\n",
       "      <th>history</th>\n",
       "    </tr>\n",
       "  </thead>\n",
       "  <tbody>\n",
       "    <tr>\n",
       "      <th>count</th>\n",
       "      <td>1.244131e+06</td>\n",
       "      <td>1.244131e+06</td>\n",
       "      <td>1.244131e+06</td>\n",
       "      <td>1.244131e+06</td>\n",
       "      <td>1.244131e+06</td>\n",
       "      <td>1.244131e+06</td>\n",
       "      <td>1.244131e+06</td>\n",
       "      <td>1.244131e+06</td>\n",
       "      <td>1.244131e+06</td>\n",
       "      <td>1.244131e+06</td>\n",
       "      <td>1.244131e+06</td>\n",
       "      <td>1.244131e+06</td>\n",
       "    </tr>\n",
       "    <tr>\n",
       "      <th>mean</th>\n",
       "      <td>6.223079e+05</td>\n",
       "      <td>4.382011e-01</td>\n",
       "      <td>3.162748e+03</td>\n",
       "      <td>1.228624e+01</td>\n",
       "      <td>5.353777e-02</td>\n",
       "      <td>2.063864e+02</td>\n",
       "      <td>8.971911e+03</td>\n",
       "      <td>3.341047e-02</td>\n",
       "      <td>1.382442e+01</td>\n",
       "      <td>1.011863e+00</td>\n",
       "      <td>4.577432e+00</td>\n",
       "      <td>1.471021e+01</td>\n",
       "    </tr>\n",
       "    <tr>\n",
       "      <th>std</th>\n",
       "      <td>3.593211e+05</td>\n",
       "      <td>5.560016e+01</td>\n",
       "      <td>1.847804e+06</td>\n",
       "      <td>1.046620e+04</td>\n",
       "      <td>1.525009e+01</td>\n",
       "      <td>7.791396e+04</td>\n",
       "      <td>3.070481e+06</td>\n",
       "      <td>7.342897e+00</td>\n",
       "      <td>1.083993e+04</td>\n",
       "      <td>1.103718e-01</td>\n",
       "      <td>1.502551e+00</td>\n",
       "      <td>4.651819e+00</td>\n",
       "    </tr>\n",
       "    <tr>\n",
       "      <th>min</th>\n",
       "      <td>0.000000e+00</td>\n",
       "      <td>0.000000e+00</td>\n",
       "      <td>0.000000e+00</td>\n",
       "      <td>0.000000e+00</td>\n",
       "      <td>0.000000e+00</td>\n",
       "      <td>0.000000e+00</td>\n",
       "      <td>0.000000e+00</td>\n",
       "      <td>0.000000e+00</td>\n",
       "      <td>0.000000e+00</td>\n",
       "      <td>0.000000e+00</td>\n",
       "      <td>0.000000e+00</td>\n",
       "      <td>0.000000e+00</td>\n",
       "    </tr>\n",
       "    <tr>\n",
       "      <th>25%</th>\n",
       "      <td>3.110905e+05</td>\n",
       "      <td>0.000000e+00</td>\n",
       "      <td>0.000000e+00</td>\n",
       "      <td>0.000000e+00</td>\n",
       "      <td>0.000000e+00</td>\n",
       "      <td>1.000000e+00</td>\n",
       "      <td>4.000000e+01</td>\n",
       "      <td>0.000000e+00</td>\n",
       "      <td>0.000000e+00</td>\n",
       "      <td>1.000000e+00</td>\n",
       "      <td>5.000000e+00</td>\n",
       "      <td>1.600000e+01</td>\n",
       "    </tr>\n",
       "    <tr>\n",
       "      <th>50%</th>\n",
       "      <td>6.222540e+05</td>\n",
       "      <td>0.000000e+00</td>\n",
       "      <td>0.000000e+00</td>\n",
       "      <td>0.000000e+00</td>\n",
       "      <td>0.000000e+00</td>\n",
       "      <td>1.000000e+00</td>\n",
       "      <td>4.000000e+01</td>\n",
       "      <td>0.000000e+00</td>\n",
       "      <td>0.000000e+00</td>\n",
       "      <td>1.000000e+00</td>\n",
       "      <td>5.000000e+00</td>\n",
       "      <td>1.600000e+01</td>\n",
       "    </tr>\n",
       "    <tr>\n",
       "      <th>75%</th>\n",
       "      <td>9.334275e+05</td>\n",
       "      <td>2.000000e-06</td>\n",
       "      <td>0.000000e+00</td>\n",
       "      <td>0.000000e+00</td>\n",
       "      <td>0.000000e+00</td>\n",
       "      <td>2.000000e+00</td>\n",
       "      <td>8.000000e+01</td>\n",
       "      <td>0.000000e+00</td>\n",
       "      <td>0.000000e+00</td>\n",
       "      <td>1.000000e+00</td>\n",
       "      <td>5.000000e+00</td>\n",
       "      <td>1.600000e+01</td>\n",
       "    </tr>\n",
       "    <tr>\n",
       "      <th>max</th>\n",
       "      <td>1.244675e+06</td>\n",
       "      <td>4.897682e+04</td>\n",
       "      <td>1.744830e+09</td>\n",
       "      <td>1.166102e+07</td>\n",
       "      <td>5.792000e+03</td>\n",
       "      <td>6.602735e+07</td>\n",
       "      <td>1.914793e+09</td>\n",
       "      <td>8.055000e+03</td>\n",
       "      <td>1.207699e+07</td>\n",
       "      <td>2.000000e+00</td>\n",
       "      <td>1.100000e+01</td>\n",
       "      <td>7.000000e+01</td>\n",
       "    </tr>\n",
       "  </tbody>\n",
       "</table>\n",
       "</div>"
      ],
      "text/plain": [
       "         Unnamed: 0      duration    orig_bytes    resp_bytes  missed_bytes  \\\n",
       "count  1.244131e+06  1.244131e+06  1.244131e+06  1.244131e+06  1.244131e+06   \n",
       "mean   6.223079e+05  4.382011e-01  3.162748e+03  1.228624e+01  5.353777e-02   \n",
       "std    3.593211e+05  5.560016e+01  1.847804e+06  1.046620e+04  1.525009e+01   \n",
       "min    0.000000e+00  0.000000e+00  0.000000e+00  0.000000e+00  0.000000e+00   \n",
       "25%    3.110905e+05  0.000000e+00  0.000000e+00  0.000000e+00  0.000000e+00   \n",
       "50%    6.222540e+05  0.000000e+00  0.000000e+00  0.000000e+00  0.000000e+00   \n",
       "75%    9.334275e+05  2.000000e-06  0.000000e+00  0.000000e+00  0.000000e+00   \n",
       "max    1.244675e+06  4.897682e+04  1.744830e+09  1.166102e+07  5.792000e+03   \n",
       "\n",
       "          orig_pkts  orig_ip_bytes     resp_pkts  resp_ip_bytes         proto  \\\n",
       "count  1.244131e+06   1.244131e+06  1.244131e+06   1.244131e+06  1.244131e+06   \n",
       "mean   2.063864e+02   8.971911e+03  3.341047e-02   1.382442e+01  1.011863e+00   \n",
       "std    7.791396e+04   3.070481e+06  7.342897e+00   1.083993e+04  1.103718e-01   \n",
       "min    0.000000e+00   0.000000e+00  0.000000e+00   0.000000e+00  0.000000e+00   \n",
       "25%    1.000000e+00   4.000000e+01  0.000000e+00   0.000000e+00  1.000000e+00   \n",
       "50%    1.000000e+00   4.000000e+01  0.000000e+00   0.000000e+00  1.000000e+00   \n",
       "75%    2.000000e+00   8.000000e+01  0.000000e+00   0.000000e+00  1.000000e+00   \n",
       "max    6.602735e+07   1.914793e+09  8.055000e+03   1.207699e+07  2.000000e+00   \n",
       "\n",
       "         conn_state       history  \n",
       "count  1.244131e+06  1.244131e+06  \n",
       "mean   4.577432e+00  1.471021e+01  \n",
       "std    1.502551e+00  4.651819e+00  \n",
       "min    0.000000e+00  0.000000e+00  \n",
       "25%    5.000000e+00  1.600000e+01  \n",
       "50%    5.000000e+00  1.600000e+01  \n",
       "75%    5.000000e+00  1.600000e+01  \n",
       "max    1.100000e+01  7.000000e+01  "
      ]
     },
     "execution_count": 6,
     "metadata": {},
     "output_type": "execute_result"
    }
   ],
   "source": [
    "Data.describe()"
   ]
  },
  {
   "cell_type": "code",
   "execution_count": 7,
   "metadata": {},
   "outputs": [
    {
     "name": "stdout",
     "output_type": "stream",
     "text": [
      "Index(['Unnamed: 0', 'duration', 'orig_bytes', 'resp_bytes', 'missed_bytes',\n",
      "       'orig_pkts', 'orig_ip_bytes', 'resp_pkts', 'resp_ip_bytes', 'proto',\n",
      "       'conn_state', 'history', 'label'],\n",
      "      dtype='object')\n"
     ]
    }
   ],
   "source": [
    "print(Data.columns)"
   ]
  },
  {
   "cell_type": "code",
   "execution_count": 8,
   "metadata": {},
   "outputs": [],
   "source": [
    "Data.drop(\"Unnamed: 0\",inplace=True,axis=1)"
   ]
  },
  {
   "cell_type": "code",
   "execution_count": 9,
   "metadata": {},
   "outputs": [
    {
     "name": "stdout",
     "output_type": "stream",
     "text": [
      "Index(['duration', 'orig_bytes', 'resp_bytes', 'missed_bytes', 'orig_pkts',\n",
      "       'orig_ip_bytes', 'resp_pkts', 'resp_ip_bytes', 'proto', 'conn_state',\n",
      "       'history', 'label'],\n",
      "      dtype='object')\n"
     ]
    }
   ],
   "source": [
    "print(Data.columns)"
   ]
  },
  {
   "cell_type": "code",
   "execution_count": 10,
   "metadata": {},
   "outputs": [
    {
     "data": {
      "text/plain": [
       "(1244131, 12)"
      ]
     },
     "execution_count": 10,
     "metadata": {},
     "output_type": "execute_result"
    }
   ],
   "source": [
    "Data.shape"
   ]
  },
  {
   "cell_type": "code",
   "execution_count": 11,
   "metadata": {},
   "outputs": [
    {
     "name": "stdout",
     "output_type": "stream",
     "text": [
      "(1244131, 11)\n",
      "(1244131,)\n"
     ]
    }
   ],
   "source": [
    "X=Data.values[:,0:11]\n",
    "Ym=Data.values[:,11]\n",
    "print(X.shape)\n",
    "print(Ym.shape)"
   ]
  },
  {
   "cell_type": "code",
   "execution_count": 12,
   "metadata": {},
   "outputs": [],
   "source": [
    "#Y=Y.reshape(Y.shape[0],1)"
   ]
  },
  {
   "cell_type": "code",
   "execution_count": 13,
   "metadata": {},
   "outputs": [
    {
     "data": {
      "text/plain": [
       "array(['Benign', 'C&C', 'DDoS', 'Okiru', 'POHS'], dtype=object)"
      ]
     },
     "execution_count": 13,
     "metadata": {},
     "output_type": "execute_result"
    }
   ],
   "source": [
    "np.unique(Ym)"
   ]
  },
  {
   "cell_type": "code",
   "execution_count": 14,
   "metadata": {},
   "outputs": [
    {
     "data": {
      "text/plain": [
       "array(['Benign', 'C&C', 'DDoS', 'Okiru', 'POHS'], dtype=object)"
      ]
     },
     "execution_count": 14,
     "metadata": {},
     "output_type": "execute_result"
    }
   ],
   "source": [
    "np.unique(Ym)"
   ]
  },
  {
   "cell_type": "code",
   "execution_count": 15,
   "metadata": {},
   "outputs": [
    {
     "name": "stdout",
     "output_type": "stream",
     "text": [
      "[[3e-06 0.0 0.0 ... 1 5 16]\n",
      " [2e-06 0.0 0.0 ... 1 5 16]\n",
      " [2e-06 0.0 0.0 ... 1 5 16]\n",
      " ...\n",
      " [0.0 0.0 0.0 ... 1 5 16]\n",
      " [0.0 0.0 0.0 ... 1 5 16]\n",
      " [0.0 0.0 0.0 ... 1 5 16]]\n"
     ]
    }
   ],
   "source": [
    "print(X)"
   ]
  },
  {
   "cell_type": "code",
   "execution_count": 16,
   "metadata": {},
   "outputs": [],
   "source": [
    "X = np.asarray(X).astype(np.float32)"
   ]
  },
  {
   "cell_type": "code",
   "execution_count": 17,
   "metadata": {},
   "outputs": [],
   "source": [
    "Y = pd.get_dummies(Ym).values"
   ]
  },
  {
   "cell_type": "code",
   "execution_count": 18,
   "metadata": {},
   "outputs": [
    {
     "data": {
      "text/plain": [
       "(1244131, 5)"
      ]
     },
     "execution_count": 18,
     "metadata": {},
     "output_type": "execute_result"
    }
   ],
   "source": [
    "Y.shape"
   ]
  },
  {
   "cell_type": "code",
   "execution_count": 19,
   "metadata": {},
   "outputs": [],
   "source": [
    "x_scaler=MinMaxScaler()"
   ]
  },
  {
   "cell_type": "code",
   "execution_count": 20,
   "metadata": {},
   "outputs": [
    {
     "data": {
      "text/plain": [
       "MinMaxScaler()"
      ]
     },
     "execution_count": 20,
     "metadata": {},
     "output_type": "execute_result"
    }
   ],
   "source": [
    "x_scaler.fit(X)"
   ]
  },
  {
   "cell_type": "code",
   "execution_count": 21,
   "metadata": {},
   "outputs": [],
   "source": [
    "Normalized_x=x_scaler.transform(X)"
   ]
  },
  {
   "cell_type": "code",
   "execution_count": 22,
   "metadata": {},
   "outputs": [
    {
     "data": {
      "text/plain": [
       "array([[6.1253468e-11, 0.0000000e+00, 0.0000000e+00, ..., 5.0000000e-01,\n",
       "        4.5454547e-01, 2.2857143e-01],\n",
       "       [4.0835644e-11, 0.0000000e+00, 0.0000000e+00, ..., 5.0000000e-01,\n",
       "        4.5454547e-01, 2.2857143e-01],\n",
       "       [4.0835644e-11, 0.0000000e+00, 0.0000000e+00, ..., 5.0000000e-01,\n",
       "        4.5454547e-01, 2.2857143e-01],\n",
       "       ...,\n",
       "       [0.0000000e+00, 0.0000000e+00, 0.0000000e+00, ..., 5.0000000e-01,\n",
       "        4.5454547e-01, 2.2857143e-01],\n",
       "       [0.0000000e+00, 0.0000000e+00, 0.0000000e+00, ..., 5.0000000e-01,\n",
       "        4.5454547e-01, 2.2857143e-01],\n",
       "       [0.0000000e+00, 0.0000000e+00, 0.0000000e+00, ..., 5.0000000e-01,\n",
       "        4.5454547e-01, 2.2857143e-01]], dtype=float32)"
      ]
     },
     "execution_count": 22,
     "metadata": {},
     "output_type": "execute_result"
    }
   ],
   "source": [
    "Normalized_x"
   ]
  },
  {
   "cell_type": "code",
   "execution_count": 23,
   "metadata": {},
   "outputs": [
    {
     "data": {
      "text/plain": [
       "(1244131, 11)"
      ]
     },
     "execution_count": 23,
     "metadata": {},
     "output_type": "execute_result"
    }
   ],
   "source": [
    "Normalized_x.shape"
   ]
  },
  {
   "cell_type": "code",
   "execution_count": 24,
   "metadata": {},
   "outputs": [
    {
     "data": {
      "text/plain": [
       "MinMaxScaler()"
      ]
     },
     "execution_count": 24,
     "metadata": {},
     "output_type": "execute_result"
    }
   ],
   "source": [
    "x_scaler.fit(Y)"
   ]
  },
  {
   "cell_type": "code",
   "execution_count": 25,
   "metadata": {},
   "outputs": [],
   "source": [
    "normalized_y = x_scaler.transform(Y)"
   ]
  },
  {
   "cell_type": "code",
   "execution_count": 26,
   "metadata": {},
   "outputs": [
    {
     "data": {
      "text/plain": [
       "array([[0., 0., 0., 0., 1.],\n",
       "       [0., 0., 0., 0., 1.],\n",
       "       [0., 0., 0., 0., 1.],\n",
       "       ...,\n",
       "       [0., 0., 0., 0., 1.],\n",
       "       [0., 0., 0., 0., 1.],\n",
       "       [0., 0., 0., 0., 1.]])"
      ]
     },
     "execution_count": 26,
     "metadata": {},
     "output_type": "execute_result"
    }
   ],
   "source": [
    "normalized_y"
   ]
  },
  {
   "cell_type": "markdown",
   "metadata": {},
   "source": [
    "We are first developing a feed forward network for binary classification"
   ]
  },
  {
   "cell_type": "code",
   "execution_count": 27,
   "metadata": {},
   "outputs": [],
   "source": [
    "from tensorflow.keras.optimizers import Adam\n",
    "from keras.layers import Dense,Conv1D,LSTM,Flatten\n",
    "from keras.utils.np_utils import to_categorical\n",
    "from sklearn.model_selection import train_test_split\n",
    "from sklearn.preprocessing import MinMaxScaler, LabelEncoder\n",
    "from keras.callbacks import EarlyStopping"
   ]
  },
  {
   "cell_type": "code",
   "execution_count": 28,
   "metadata": {},
   "outputs": [],
   "source": [
    "from keras import Sequential"
   ]
  },
  {
   "cell_type": "code",
   "execution_count": 30,
   "metadata": {},
   "outputs": [],
   "source": [
    "X_train, X_test, y_train, y_test = train_test_split(Normalized_x, normalized_y, test_size=0.2, random_state=10)"
   ]
  },
  {
   "cell_type": "code",
   "execution_count": 52,
   "metadata": {},
   "outputs": [],
   "source": []
  },
  {
   "cell_type": "code",
   "execution_count": null,
   "metadata": {},
   "outputs": [],
   "source": []
  },
  {
   "cell_type": "markdown",
   "metadata": {},
   "source": [
    "# Model Creation"
   ]
  },
  {
   "cell_type": "code",
   "execution_count": 33,
   "metadata": {},
   "outputs": [],
   "source": [
    "model = Sequential()"
   ]
  },
  {
   "cell_type": "code",
   "execution_count": 34,
   "metadata": {},
   "outputs": [],
   "source": [
    "model.add(Dense(1000, activation='relu',input_dim=11))\n",
    "model.add(Dense(500, activation='relu'))\n",
    "model.add(Dense(250,activation='relu'))\n",
    "model.add(Dense(5, activation='softmax'))\n",
    "opt=Adam(learning_rate=0.001)\n",
    "\n",
    "model.compile(loss='categorical_crossentropy',optimizer=opt, metrics=['accuracy'])\n"
   ]
  },
  {
   "cell_type": "code",
   "execution_count": 35,
   "metadata": {},
   "outputs": [
    {
     "name": "stdout",
     "output_type": "stream",
     "text": [
      "Model: \"sequential\"\n",
      "_________________________________________________________________\n",
      " Layer (type)                Output Shape              Param #   \n",
      "=================================================================\n",
      " dense (Dense)               (None, 1000)              12000     \n",
      "                                                                 \n",
      " dense_1 (Dense)             (None, 500)               500500    \n",
      "                                                                 \n",
      " dense_2 (Dense)             (None, 250)               125250    \n",
      "                                                                 \n",
      " dense_3 (Dense)             (None, 5)                 1255      \n",
      "                                                                 \n",
      "=================================================================\n",
      "Total params: 639,005\n",
      "Trainable params: 639,005\n",
      "Non-trainable params: 0\n",
      "_________________________________________________________________\n"
     ]
    }
   ],
   "source": [
    "model.summary()"
   ]
  },
  {
   "cell_type": "code",
   "execution_count": 36,
   "metadata": {},
   "outputs": [],
   "source": [
    "import time"
   ]
  },
  {
   "cell_type": "code",
   "execution_count": 37,
   "metadata": {},
   "outputs": [
    {
     "name": "stdout",
     "output_type": "stream",
     "text": [
      "program start...\n",
      "\n",
      "Epoch 1/50\n",
      "7776/7776 [==============================] - 64s 8ms/step - loss: 11921.9805 - accuracy: 0.6305 - val_loss: 96485.5391 - val_accuracy: 0.6649\n",
      "Epoch 2/50\n",
      "7776/7776 [==============================] - 66s 9ms/step - loss: 60274.1445 - accuracy: 0.6574 - val_loss: 777886.3125 - val_accuracy: 0.7279\n",
      "Epoch 3/50\n",
      "7776/7776 [==============================] - 71s 9ms/step - loss: 62339.8711 - accuracy: 0.6540 - val_loss: 1098537.8750 - val_accuracy: 0.6886\n",
      "Epoch 4/50\n",
      "7776/7776 [==============================] - 66s 9ms/step - loss: 210814.1875 - accuracy: 0.6687 - val_loss: 1418835.5000 - val_accuracy: 0.7296\n",
      "Epoch 5/50\n",
      "7776/7776 [==============================] - 65s 8ms/step - loss: 46742.4570 - accuracy: 0.6621 - val_loss: 6258711.5000 - val_accuracy: 0.6589\n",
      "Epoch 6/50\n",
      "7776/7776 [==============================] - 66s 8ms/step - loss: 341956.2500 - accuracy: 0.6607 - val_loss: 1006571.0625 - val_accuracy: 0.6586\n",
      "Epoch 7/50\n",
      "7776/7776 [==============================] - 66s 8ms/step - loss: 86876.7734 - accuracy: 0.6727 - val_loss: 2251614.5000 - val_accuracy: 0.7293\n",
      "Epoch 8/50\n",
      "7776/7776 [==============================] - 69s 9ms/step - loss: 866658.6875 - accuracy: 0.6661 - val_loss: 1895587.7500 - val_accuracy: 0.7296\n",
      "Epoch 9/50\n",
      "7776/7776 [==============================] - 71s 9ms/step - loss: 1447948.3750 - accuracy: 0.6754 - val_loss: 2237597.5000 - val_accuracy: 0.7295\n",
      "Epoch 10/50\n",
      "7776/7776 [==============================] - 71s 9ms/step - loss: 152437.7656 - accuracy: 0.6695 - val_loss: 1338003.1250 - val_accuracy: 0.7296\n",
      "Epoch 11/50\n",
      "3599/7776 [============>.................] - ETA: 33s - loss: 413455.1562 - accuracy: 0.6684"
     ]
    },
    {
     "ename": "KeyboardInterrupt",
     "evalue": "",
     "output_type": "error",
     "traceback": [
      "\u001b[1;31m---------------------------------------------------------------------------\u001b[0m",
      "\u001b[1;31mKeyboardInterrupt\u001b[0m                         Traceback (most recent call last)",
      "\u001b[1;32m<ipython-input-37-4498588fd06c>\u001b[0m in \u001b[0;36m<module>\u001b[1;34m\u001b[0m\n\u001b[0;32m      3\u001b[0m \u001b[0mprint\u001b[0m\u001b[1;33m(\u001b[0m\u001b[1;33m)\u001b[0m\u001b[1;33m\u001b[0m\u001b[1;33m\u001b[0m\u001b[0m\n\u001b[0;32m      4\u001b[0m \u001b[1;33m\u001b[0m\u001b[0m\n\u001b[1;32m----> 5\u001b[1;33m \u001b[0mhistory\u001b[0m \u001b[1;33m=\u001b[0m \u001b[0mmodel\u001b[0m\u001b[1;33m.\u001b[0m\u001b[0mfit\u001b[0m\u001b[1;33m(\u001b[0m\u001b[0mX_train\u001b[0m\u001b[1;33m,\u001b[0m \u001b[0my_train\u001b[0m\u001b[1;33m,\u001b[0m \u001b[0mbatch_size\u001b[0m\u001b[1;33m=\u001b[0m\u001b[1;36m128\u001b[0m\u001b[1;33m,\u001b[0m\u001b[0mepochs\u001b[0m \u001b[1;33m=\u001b[0m \u001b[1;36m50\u001b[0m\u001b[1;33m,\u001b[0m  \u001b[0mvalidation_data\u001b[0m\u001b[1;33m=\u001b[0m\u001b[1;33m(\u001b[0m\u001b[0mX_test\u001b[0m\u001b[1;33m,\u001b[0m\u001b[0my_test\u001b[0m\u001b[1;33m)\u001b[0m\u001b[1;33m,\u001b[0m\u001b[0mverbose\u001b[0m\u001b[1;33m=\u001b[0m\u001b[1;36m1\u001b[0m\u001b[1;33m)\u001b[0m\u001b[1;33m\u001b[0m\u001b[1;33m\u001b[0m\u001b[0m\n\u001b[0m\u001b[0;32m      6\u001b[0m \u001b[1;33m\u001b[0m\u001b[0m\n\u001b[0;32m      7\u001b[0m \u001b[0mprint\u001b[0m\u001b[1;33m(\u001b[0m\u001b[1;33m)\u001b[0m\u001b[1;33m\u001b[0m\u001b[1;33m\u001b[0m\u001b[0m\n",
      "\u001b[1;32m~\\anaconda3\\lib\\site-packages\\keras\\utils\\traceback_utils.py\u001b[0m in \u001b[0;36merror_handler\u001b[1;34m(*args, **kwargs)\u001b[0m\n\u001b[0;32m     62\u001b[0m     \u001b[0mfiltered_tb\u001b[0m \u001b[1;33m=\u001b[0m \u001b[1;32mNone\u001b[0m\u001b[1;33m\u001b[0m\u001b[1;33m\u001b[0m\u001b[0m\n\u001b[0;32m     63\u001b[0m     \u001b[1;32mtry\u001b[0m\u001b[1;33m:\u001b[0m\u001b[1;33m\u001b[0m\u001b[1;33m\u001b[0m\u001b[0m\n\u001b[1;32m---> 64\u001b[1;33m       \u001b[1;32mreturn\u001b[0m \u001b[0mfn\u001b[0m\u001b[1;33m(\u001b[0m\u001b[1;33m*\u001b[0m\u001b[0margs\u001b[0m\u001b[1;33m,\u001b[0m \u001b[1;33m**\u001b[0m\u001b[0mkwargs\u001b[0m\u001b[1;33m)\u001b[0m\u001b[1;33m\u001b[0m\u001b[1;33m\u001b[0m\u001b[0m\n\u001b[0m\u001b[0;32m     65\u001b[0m     \u001b[1;32mexcept\u001b[0m \u001b[0mException\u001b[0m \u001b[1;32mas\u001b[0m \u001b[0me\u001b[0m\u001b[1;33m:\u001b[0m  \u001b[1;31m# pylint: disable=broad-except\u001b[0m\u001b[1;33m\u001b[0m\u001b[1;33m\u001b[0m\u001b[0m\n\u001b[0;32m     66\u001b[0m       \u001b[0mfiltered_tb\u001b[0m \u001b[1;33m=\u001b[0m \u001b[0m_process_traceback_frames\u001b[0m\u001b[1;33m(\u001b[0m\u001b[0me\u001b[0m\u001b[1;33m.\u001b[0m\u001b[0m__traceback__\u001b[0m\u001b[1;33m)\u001b[0m\u001b[1;33m\u001b[0m\u001b[1;33m\u001b[0m\u001b[0m\n",
      "\u001b[1;32m~\\anaconda3\\lib\\site-packages\\keras\\engine\\training.py\u001b[0m in \u001b[0;36mfit\u001b[1;34m(self, x, y, batch_size, epochs, verbose, callbacks, validation_split, validation_data, shuffle, class_weight, sample_weight, initial_epoch, steps_per_epoch, validation_steps, validation_batch_size, validation_freq, max_queue_size, workers, use_multiprocessing)\u001b[0m\n\u001b[0;32m   1382\u001b[0m                 _r=1):\n\u001b[0;32m   1383\u001b[0m               \u001b[0mcallbacks\u001b[0m\u001b[1;33m.\u001b[0m\u001b[0mon_train_batch_begin\u001b[0m\u001b[1;33m(\u001b[0m\u001b[0mstep\u001b[0m\u001b[1;33m)\u001b[0m\u001b[1;33m\u001b[0m\u001b[1;33m\u001b[0m\u001b[0m\n\u001b[1;32m-> 1384\u001b[1;33m               \u001b[0mtmp_logs\u001b[0m \u001b[1;33m=\u001b[0m \u001b[0mself\u001b[0m\u001b[1;33m.\u001b[0m\u001b[0mtrain_function\u001b[0m\u001b[1;33m(\u001b[0m\u001b[0miterator\u001b[0m\u001b[1;33m)\u001b[0m\u001b[1;33m\u001b[0m\u001b[1;33m\u001b[0m\u001b[0m\n\u001b[0m\u001b[0;32m   1385\u001b[0m               \u001b[1;32mif\u001b[0m \u001b[0mdata_handler\u001b[0m\u001b[1;33m.\u001b[0m\u001b[0mshould_sync\u001b[0m\u001b[1;33m:\u001b[0m\u001b[1;33m\u001b[0m\u001b[1;33m\u001b[0m\u001b[0m\n\u001b[0;32m   1386\u001b[0m                 \u001b[0mcontext\u001b[0m\u001b[1;33m.\u001b[0m\u001b[0masync_wait\u001b[0m\u001b[1;33m(\u001b[0m\u001b[1;33m)\u001b[0m\u001b[1;33m\u001b[0m\u001b[1;33m\u001b[0m\u001b[0m\n",
      "\u001b[1;32m~\\anaconda3\\lib\\site-packages\\tensorflow\\python\\util\\traceback_utils.py\u001b[0m in \u001b[0;36merror_handler\u001b[1;34m(*args, **kwargs)\u001b[0m\n\u001b[0;32m    148\u001b[0m     \u001b[0mfiltered_tb\u001b[0m \u001b[1;33m=\u001b[0m \u001b[1;32mNone\u001b[0m\u001b[1;33m\u001b[0m\u001b[1;33m\u001b[0m\u001b[0m\n\u001b[0;32m    149\u001b[0m     \u001b[1;32mtry\u001b[0m\u001b[1;33m:\u001b[0m\u001b[1;33m\u001b[0m\u001b[1;33m\u001b[0m\u001b[0m\n\u001b[1;32m--> 150\u001b[1;33m       \u001b[1;32mreturn\u001b[0m \u001b[0mfn\u001b[0m\u001b[1;33m(\u001b[0m\u001b[1;33m*\u001b[0m\u001b[0margs\u001b[0m\u001b[1;33m,\u001b[0m \u001b[1;33m**\u001b[0m\u001b[0mkwargs\u001b[0m\u001b[1;33m)\u001b[0m\u001b[1;33m\u001b[0m\u001b[1;33m\u001b[0m\u001b[0m\n\u001b[0m\u001b[0;32m    151\u001b[0m     \u001b[1;32mexcept\u001b[0m \u001b[0mException\u001b[0m \u001b[1;32mas\u001b[0m \u001b[0me\u001b[0m\u001b[1;33m:\u001b[0m\u001b[1;33m\u001b[0m\u001b[1;33m\u001b[0m\u001b[0m\n\u001b[0;32m    152\u001b[0m       \u001b[0mfiltered_tb\u001b[0m \u001b[1;33m=\u001b[0m \u001b[0m_process_traceback_frames\u001b[0m\u001b[1;33m(\u001b[0m\u001b[0me\u001b[0m\u001b[1;33m.\u001b[0m\u001b[0m__traceback__\u001b[0m\u001b[1;33m)\u001b[0m\u001b[1;33m\u001b[0m\u001b[1;33m\u001b[0m\u001b[0m\n",
      "\u001b[1;32m~\\anaconda3\\lib\\site-packages\\tensorflow\\python\\eager\\def_function.py\u001b[0m in \u001b[0;36m__call__\u001b[1;34m(self, *args, **kwds)\u001b[0m\n\u001b[0;32m    913\u001b[0m \u001b[1;33m\u001b[0m\u001b[0m\n\u001b[0;32m    914\u001b[0m       \u001b[1;32mwith\u001b[0m \u001b[0mOptionalXlaContext\u001b[0m\u001b[1;33m(\u001b[0m\u001b[0mself\u001b[0m\u001b[1;33m.\u001b[0m\u001b[0m_jit_compile\u001b[0m\u001b[1;33m)\u001b[0m\u001b[1;33m:\u001b[0m\u001b[1;33m\u001b[0m\u001b[1;33m\u001b[0m\u001b[0m\n\u001b[1;32m--> 915\u001b[1;33m         \u001b[0mresult\u001b[0m \u001b[1;33m=\u001b[0m \u001b[0mself\u001b[0m\u001b[1;33m.\u001b[0m\u001b[0m_call\u001b[0m\u001b[1;33m(\u001b[0m\u001b[1;33m*\u001b[0m\u001b[0margs\u001b[0m\u001b[1;33m,\u001b[0m \u001b[1;33m**\u001b[0m\u001b[0mkwds\u001b[0m\u001b[1;33m)\u001b[0m\u001b[1;33m\u001b[0m\u001b[1;33m\u001b[0m\u001b[0m\n\u001b[0m\u001b[0;32m    916\u001b[0m \u001b[1;33m\u001b[0m\u001b[0m\n\u001b[0;32m    917\u001b[0m       \u001b[0mnew_tracing_count\u001b[0m \u001b[1;33m=\u001b[0m \u001b[0mself\u001b[0m\u001b[1;33m.\u001b[0m\u001b[0mexperimental_get_tracing_count\u001b[0m\u001b[1;33m(\u001b[0m\u001b[1;33m)\u001b[0m\u001b[1;33m\u001b[0m\u001b[1;33m\u001b[0m\u001b[0m\n",
      "\u001b[1;32m~\\anaconda3\\lib\\site-packages\\tensorflow\\python\\eager\\def_function.py\u001b[0m in \u001b[0;36m_call\u001b[1;34m(self, *args, **kwds)\u001b[0m\n\u001b[0;32m    945\u001b[0m       \u001b[1;31m# In this case we have created variables on the first call, so we run the\u001b[0m\u001b[1;33m\u001b[0m\u001b[1;33m\u001b[0m\u001b[1;33m\u001b[0m\u001b[0m\n\u001b[0;32m    946\u001b[0m       \u001b[1;31m# defunned version which is guaranteed to never create variables.\u001b[0m\u001b[1;33m\u001b[0m\u001b[1;33m\u001b[0m\u001b[1;33m\u001b[0m\u001b[0m\n\u001b[1;32m--> 947\u001b[1;33m       \u001b[1;32mreturn\u001b[0m \u001b[0mself\u001b[0m\u001b[1;33m.\u001b[0m\u001b[0m_stateless_fn\u001b[0m\u001b[1;33m(\u001b[0m\u001b[1;33m*\u001b[0m\u001b[0margs\u001b[0m\u001b[1;33m,\u001b[0m \u001b[1;33m**\u001b[0m\u001b[0mkwds\u001b[0m\u001b[1;33m)\u001b[0m  \u001b[1;31m# pylint: disable=not-callable\u001b[0m\u001b[1;33m\u001b[0m\u001b[1;33m\u001b[0m\u001b[0m\n\u001b[0m\u001b[0;32m    948\u001b[0m     \u001b[1;32melif\u001b[0m \u001b[0mself\u001b[0m\u001b[1;33m.\u001b[0m\u001b[0m_stateful_fn\u001b[0m \u001b[1;32mis\u001b[0m \u001b[1;32mnot\u001b[0m \u001b[1;32mNone\u001b[0m\u001b[1;33m:\u001b[0m\u001b[1;33m\u001b[0m\u001b[1;33m\u001b[0m\u001b[0m\n\u001b[0;32m    949\u001b[0m       \u001b[1;31m# Release the lock early so that multiple threads can perform the call\u001b[0m\u001b[1;33m\u001b[0m\u001b[1;33m\u001b[0m\u001b[1;33m\u001b[0m\u001b[0m\n",
      "\u001b[1;32m~\\anaconda3\\lib\\site-packages\\tensorflow\\python\\eager\\function.py\u001b[0m in \u001b[0;36m__call__\u001b[1;34m(self, *args, **kwargs)\u001b[0m\n\u001b[0;32m   2954\u001b[0m       (graph_function,\n\u001b[0;32m   2955\u001b[0m        filtered_flat_args) = self._maybe_define_function(args, kwargs)\n\u001b[1;32m-> 2956\u001b[1;33m     return graph_function._call_flat(\n\u001b[0m\u001b[0;32m   2957\u001b[0m         filtered_flat_args, captured_inputs=graph_function.captured_inputs)  # pylint: disable=protected-access\n\u001b[0;32m   2958\u001b[0m \u001b[1;33m\u001b[0m\u001b[0m\n",
      "\u001b[1;32m~\\anaconda3\\lib\\site-packages\\tensorflow\\python\\eager\\function.py\u001b[0m in \u001b[0;36m_call_flat\u001b[1;34m(self, args, captured_inputs, cancellation_manager)\u001b[0m\n\u001b[0;32m   1851\u001b[0m         and executing_eagerly):\n\u001b[0;32m   1852\u001b[0m       \u001b[1;31m# No tape is watching; skip to running the function.\u001b[0m\u001b[1;33m\u001b[0m\u001b[1;33m\u001b[0m\u001b[1;33m\u001b[0m\u001b[0m\n\u001b[1;32m-> 1853\u001b[1;33m       return self._build_call_outputs(self._inference_function.call(\n\u001b[0m\u001b[0;32m   1854\u001b[0m           ctx, args, cancellation_manager=cancellation_manager))\n\u001b[0;32m   1855\u001b[0m     forward_backward = self._select_forward_and_backward_functions(\n",
      "\u001b[1;32m~\\anaconda3\\lib\\site-packages\\tensorflow\\python\\eager\\function.py\u001b[0m in \u001b[0;36mcall\u001b[1;34m(self, ctx, args, cancellation_manager)\u001b[0m\n\u001b[0;32m    497\u001b[0m       \u001b[1;32mwith\u001b[0m \u001b[0m_InterpolateFunctionError\u001b[0m\u001b[1;33m(\u001b[0m\u001b[0mself\u001b[0m\u001b[1;33m)\u001b[0m\u001b[1;33m:\u001b[0m\u001b[1;33m\u001b[0m\u001b[1;33m\u001b[0m\u001b[0m\n\u001b[0;32m    498\u001b[0m         \u001b[1;32mif\u001b[0m \u001b[0mcancellation_manager\u001b[0m \u001b[1;32mis\u001b[0m \u001b[1;32mNone\u001b[0m\u001b[1;33m:\u001b[0m\u001b[1;33m\u001b[0m\u001b[1;33m\u001b[0m\u001b[0m\n\u001b[1;32m--> 499\u001b[1;33m           outputs = execute.execute(\n\u001b[0m\u001b[0;32m    500\u001b[0m               \u001b[0mstr\u001b[0m\u001b[1;33m(\u001b[0m\u001b[0mself\u001b[0m\u001b[1;33m.\u001b[0m\u001b[0msignature\u001b[0m\u001b[1;33m.\u001b[0m\u001b[0mname\u001b[0m\u001b[1;33m)\u001b[0m\u001b[1;33m,\u001b[0m\u001b[1;33m\u001b[0m\u001b[1;33m\u001b[0m\u001b[0m\n\u001b[0;32m    501\u001b[0m               \u001b[0mnum_outputs\u001b[0m\u001b[1;33m=\u001b[0m\u001b[0mself\u001b[0m\u001b[1;33m.\u001b[0m\u001b[0m_num_outputs\u001b[0m\u001b[1;33m,\u001b[0m\u001b[1;33m\u001b[0m\u001b[1;33m\u001b[0m\u001b[0m\n",
      "\u001b[1;32m~\\anaconda3\\lib\\site-packages\\tensorflow\\python\\eager\\execute.py\u001b[0m in \u001b[0;36mquick_execute\u001b[1;34m(op_name, num_outputs, inputs, attrs, ctx, name)\u001b[0m\n\u001b[0;32m     52\u001b[0m   \u001b[1;32mtry\u001b[0m\u001b[1;33m:\u001b[0m\u001b[1;33m\u001b[0m\u001b[1;33m\u001b[0m\u001b[0m\n\u001b[0;32m     53\u001b[0m     \u001b[0mctx\u001b[0m\u001b[1;33m.\u001b[0m\u001b[0mensure_initialized\u001b[0m\u001b[1;33m(\u001b[0m\u001b[1;33m)\u001b[0m\u001b[1;33m\u001b[0m\u001b[1;33m\u001b[0m\u001b[0m\n\u001b[1;32m---> 54\u001b[1;33m     tensors = pywrap_tfe.TFE_Py_Execute(ctx._handle, device_name, op_name,\n\u001b[0m\u001b[0;32m     55\u001b[0m                                         inputs, attrs, num_outputs)\n\u001b[0;32m     56\u001b[0m   \u001b[1;32mexcept\u001b[0m \u001b[0mcore\u001b[0m\u001b[1;33m.\u001b[0m\u001b[0m_NotOkStatusException\u001b[0m \u001b[1;32mas\u001b[0m \u001b[0me\u001b[0m\u001b[1;33m:\u001b[0m\u001b[1;33m\u001b[0m\u001b[1;33m\u001b[0m\u001b[0m\n",
      "\u001b[1;31mKeyboardInterrupt\u001b[0m: "
     ]
    }
   ],
   "source": [
    "start = time.time()\n",
    "print('program start...')\n",
    "print()\n",
    "\n",
    "history = model.fit(X_train, y_train, batch_size=128,epochs = 50,  validation_data=(X_test,y_test),verbose=1)\n",
    "\n",
    "print()\n",
    "end = time.time()\n",
    "print('program end...')\n",
    "print()\n",
    "print('time cost: ')\n",
    "print(end - start, 'seconds')"
   ]
  },
  {
   "cell_type": "markdown",
   "metadata": {},
   "source": [
    "<<<<<=====the reason for huge loss value here is the learning rate and complexity of the model....======>>"
   ]
  },
  {
   "cell_type": "code",
   "execution_count": 79,
   "metadata": {},
   "outputs": [
    {
     "name": "stdout",
     "output_type": "stream",
     "text": [
      "INFO:tensorflow:Assets written to: file_name\\assets\n"
     ]
    }
   ],
   "source": [
    "file_name = 'FFNN_IoT23_first_model'\n",
    "model.save('file_name')"
   ]
  },
  {
   "cell_type": "code",
   "execution_count": 49,
   "metadata": {},
   "outputs": [],
   "source": [
    "import matplotlib.pyplot as plt"
   ]
  },
  {
   "cell_type": "code",
   "execution_count": null,
   "metadata": {},
   "outputs": [],
   "source": []
  },
  {
   "cell_type": "code",
   "execution_count": null,
   "metadata": {},
   "outputs": [],
   "source": []
  },
  {
   "cell_type": "code",
   "execution_count": 44,
   "metadata": {},
   "outputs": [],
   "source": [
    "model_new = Sequential()"
   ]
  },
  {
   "cell_type": "code",
   "execution_count": 45,
   "metadata": {},
   "outputs": [],
   "source": [
    "model_new.add(Dense(512, activation='relu',input_dim=11))\n",
    "model_new.add(Dense(256, activation='relu'))\n",
    "model_new.add(Dense(128,activation='relu'))\n",
    "model_new.add(Dense(5, activation='softmax'))\n",
    "opt=Adam(learning_rate=0.0001)\n",
    "\n",
    "model_new.compile(loss='categorical_crossentropy',optimizer=opt, metrics=['accuracy'])"
   ]
  },
  {
   "cell_type": "code",
   "execution_count": 46,
   "metadata": {},
   "outputs": [
    {
     "name": "stdout",
     "output_type": "stream",
     "text": [
      "Model: \"sequential_2\"\n",
      "_________________________________________________________________\n",
      " Layer (type)                Output Shape              Param #   \n",
      "=================================================================\n",
      " dense_16 (Dense)            (None, 512)               6144      \n",
      "                                                                 \n",
      " dense_17 (Dense)            (None, 256)               131328    \n",
      "                                                                 \n",
      " dense_18 (Dense)            (None, 128)               32896     \n",
      "                                                                 \n",
      " dense_19 (Dense)            (None, 5)                 645       \n",
      "                                                                 \n",
      "=================================================================\n",
      "Total params: 171,013\n",
      "Trainable params: 171,013\n",
      "Non-trainable params: 0\n",
      "_________________________________________________________________\n"
     ]
    }
   ],
   "source": [
    "model_new.summary()"
   ]
  },
  {
   "cell_type": "code",
   "execution_count": 47,
   "metadata": {},
   "outputs": [
    {
     "name": "stdout",
     "output_type": "stream",
     "text": [
      "program start...\n",
      "\n",
      "Epoch 1/50\n",
      "3888/3888 [==============================] - 15s 4ms/step - loss: 156.3961 - accuracy: 0.6244 - val_loss: 135.1438 - val_accuracy: 0.6876\n",
      "Epoch 2/50\n",
      "3888/3888 [==============================] - 20s 5ms/step - loss: 241.5687 - accuracy: 0.6516 - val_loss: 513.2184 - val_accuracy: 0.6863\n",
      "Epoch 3/50\n",
      "3888/3888 [==============================] - 19s 5ms/step - loss: 144.8248 - accuracy: 0.6831 - val_loss: 508.9613 - val_accuracy: 0.7298\n",
      "Epoch 4/50\n",
      "3888/3888 [==============================] - 19s 5ms/step - loss: 954.0712 - accuracy: 0.7041 - val_loss: 1663.2808 - val_accuracy: 0.6359\n",
      "Epoch 5/50\n",
      "3888/3888 [==============================] - 19s 5ms/step - loss: 48.5089 - accuracy: 0.7232 - val_loss: 659.1236 - val_accuracy: 0.7293\n",
      "Epoch 6/50\n",
      "3888/3888 [==============================] - 18s 5ms/step - loss: 54.2244 - accuracy: 0.7135 - val_loss: 758.7767 - val_accuracy: 0.7293\n",
      "Epoch 7/50\n",
      "3888/3888 [==============================] - 18s 5ms/step - loss: 1267.3540 - accuracy: 0.7231 - val_loss: 451.2890 - val_accuracy: 0.7294\n",
      "Epoch 8/50\n",
      "3888/3888 [==============================] - 19s 5ms/step - loss: 45.2891 - accuracy: 0.7250 - val_loss: 549.6681 - val_accuracy: 0.7285\n",
      "Epoch 9/50\n",
      "3888/3888 [==============================] - 18s 5ms/step - loss: 85.8941 - accuracy: 0.7217 - val_loss: 833.0198 - val_accuracy: 0.7297\n",
      "Epoch 10/50\n",
      "3888/3888 [==============================] - 19s 5ms/step - loss: 94.4005 - accuracy: 0.7234 - val_loss: 1478.6949 - val_accuracy: 0.7283\n",
      "Epoch 11/50\n",
      "3888/3888 [==============================] - 19s 5ms/step - loss: 482.3217 - accuracy: 0.7235 - val_loss: 2096.4714 - val_accuracy: 0.6874\n",
      "Epoch 12/50\n",
      "3888/3888 [==============================] - 19s 5ms/step - loss: 75.0754 - accuracy: 0.7279 - val_loss: 121.4747 - val_accuracy: 0.7301\n",
      "Epoch 13/50\n",
      "3888/3888 [==============================] - 20s 5ms/step - loss: 93.2453 - accuracy: 0.7263 - val_loss: 466.5431 - val_accuracy: 0.6587\n",
      "Epoch 14/50\n",
      "3888/3888 [==============================] - 20s 5ms/step - loss: 204.2502 - accuracy: 0.7237 - val_loss: 1126.3566 - val_accuracy: 0.7295\n",
      "Epoch 15/50\n",
      "3888/3888 [==============================] - 19s 5ms/step - loss: 686.6712 - accuracy: 0.7252 - val_loss: 123.3328 - val_accuracy: 0.7300\n",
      "Epoch 16/50\n",
      "3888/3888 [==============================] - 20s 5ms/step - loss: 188.4851 - accuracy: 0.7242 - val_loss: 2364.1375 - val_accuracy: 0.7294\n",
      "Epoch 17/50\n",
      "3888/3888 [==============================] - 18s 5ms/step - loss: 588.5386 - accuracy: 0.7261 - val_loss: 2889.7268 - val_accuracy: 0.7298\n",
      "Epoch 18/50\n",
      "3888/3888 [==============================] - 18s 5ms/step - loss: 129.7739 - accuracy: 0.7240 - val_loss: 2066.8538 - val_accuracy: 0.7291\n",
      "Epoch 19/50\n",
      "3888/3888 [==============================] - 18s 5ms/step - loss: 392.4521 - accuracy: 0.7211 - val_loss: 1609.2461 - val_accuracy: 0.7303\n",
      "Epoch 20/50\n",
      "3888/3888 [==============================] - 18s 5ms/step - loss: 132.7431 - accuracy: 0.7264 - val_loss: 1538.7046 - val_accuracy: 0.7297\n",
      "Epoch 21/50\n",
      "3888/3888 [==============================] - 20s 5ms/step - loss: 906.4962 - accuracy: 0.7258 - val_loss: 1609.9171 - val_accuracy: 0.7302\n",
      "Epoch 22/50\n",
      "3888/3888 [==============================] - 20s 5ms/step - loss: 386.5008 - accuracy: 0.7253 - val_loss: 2793.0959 - val_accuracy: 0.7299\n",
      "Epoch 23/50\n",
      "3888/3888 [==============================] - 19s 5ms/step - loss: 288.5151 - accuracy: 0.7265 - val_loss: 4042.6516 - val_accuracy: 0.7298\n",
      "Epoch 24/50\n",
      "3888/3888 [==============================] - 20s 5ms/step - loss: 181.6272 - accuracy: 0.7273 - val_loss: 2415.7351 - val_accuracy: 0.7291\n",
      "Epoch 25/50\n",
      "3888/3888 [==============================] - 19s 5ms/step - loss: 395.6473 - accuracy: 0.7231 - val_loss: 1491.2451 - val_accuracy: 0.7301\n",
      "Epoch 26/50\n",
      "3888/3888 [==============================] - 20s 5ms/step - loss: 144.0421 - accuracy: 0.7255 - val_loss: 1722.4325 - val_accuracy: 0.7298\n",
      "Epoch 27/50\n",
      "3888/3888 [==============================] - 19s 5ms/step - loss: 853.5671 - accuracy: 0.7206 - val_loss: 3970.4248 - val_accuracy: 0.7301\n",
      "Epoch 28/50\n",
      "3888/3888 [==============================] - 19s 5ms/step - loss: 147.8729 - accuracy: 0.7278 - val_loss: 1932.9302 - val_accuracy: 0.7300\n",
      "Epoch 29/50\n",
      "3888/3888 [==============================] - 19s 5ms/step - loss: 557.7194 - accuracy: 0.7242 - val_loss: 2166.0674 - val_accuracy: 0.6593\n",
      "Epoch 30/50\n",
      "3888/3888 [==============================] - 18s 5ms/step - loss: 1743.5250 - accuracy: 0.7253 - val_loss: 3176.1067 - val_accuracy: 0.7298\n",
      "Epoch 31/50\n",
      "3888/3888 [==============================] - 21s 5ms/step - loss: 154.4432 - accuracy: 0.7301 - val_loss: 2421.5420 - val_accuracy: 0.7303\n",
      "Epoch 32/50\n",
      "3888/3888 [==============================] - 21s 5ms/step - loss: 1172.9393 - accuracy: 0.7236 - val_loss: 3592.8423 - val_accuracy: 0.7300\n",
      "Epoch 33/50\n",
      "3888/3888 [==============================] - 20s 5ms/step - loss: 1627.6296 - accuracy: 0.7251 - val_loss: 5656.2827 - val_accuracy: 0.7298\n",
      "Epoch 34/50\n",
      "3888/3888 [==============================] - 20s 5ms/step - loss: 188.9185 - accuracy: 0.7274 - val_loss: 3051.8093 - val_accuracy: 0.6593\n",
      "Epoch 35/50\n",
      "3888/3888 [==============================] - 19s 5ms/step - loss: 601.4156 - accuracy: 0.7248 - val_loss: 3067.2063 - val_accuracy: 0.6587\n",
      "Epoch 36/50\n",
      "3888/3888 [==============================] - 20s 5ms/step - loss: 166.2377 - accuracy: 0.7261 - val_loss: 1900.1938 - val_accuracy: 0.7304\n",
      "Epoch 37/50\n",
      "3888/3888 [==============================] - 22s 6ms/step - loss: 940.6675 - accuracy: 0.7246 - val_loss: 3199.9141 - val_accuracy: 0.6596\n",
      "Epoch 38/50\n",
      "3888/3888 [==============================] - 20s 5ms/step - loss: 1709.5560 - accuracy: 0.7260 - val_loss: 3303.2451 - val_accuracy: 0.7304\n",
      "Epoch 39/50\n",
      "3888/3888 [==============================] - 21s 5ms/step - loss: 144.6389 - accuracy: 0.7264 - val_loss: 363.8445 - val_accuracy: 0.7305\n",
      "Epoch 40/50\n",
      "3888/3888 [==============================] - 22s 6ms/step - loss: 1089.9232 - accuracy: 0.7226 - val_loss: 1806.1215 - val_accuracy: 0.7302\n",
      "Epoch 41/50\n",
      "3888/3888 [==============================] - 21s 5ms/step - loss: 67.1619 - accuracy: 0.7277 - val_loss: 12830.6787 - val_accuracy: 0.7304\n",
      "Epoch 42/50\n",
      "3888/3888 [==============================] - 20s 5ms/step - loss: 3290.0149 - accuracy: 0.7230 - val_loss: 4977.4473 - val_accuracy: 0.7302\n",
      "Epoch 43/50\n",
      "3888/3888 [==============================] - 19s 5ms/step - loss: 169.6267 - accuracy: 0.7273 - val_loss: 1728.0140 - val_accuracy: 0.7291\n",
      "Epoch 44/50\n",
      "3888/3888 [==============================] - 19s 5ms/step - loss: 393.0146 - accuracy: 0.7260 - val_loss: 3841.7000 - val_accuracy: 0.7304\n",
      "Epoch 45/50\n",
      "3888/3888 [==============================] - 21s 5ms/step - loss: 196.2624 - accuracy: 0.7229 - val_loss: 1408.7184 - val_accuracy: 0.7304\n",
      "Epoch 46/50\n",
      "3888/3888 [==============================] - 20s 5ms/step - loss: 211.8268 - accuracy: 0.7232 - val_loss: 4405.5073 - val_accuracy: 0.7295\n",
      "Epoch 47/50\n",
      "3888/3888 [==============================] - 22s 6ms/step - loss: 238.3442 - accuracy: 0.7272 - val_loss: 2815.9028 - val_accuracy: 0.7304\n",
      "Epoch 48/50\n",
      "3888/3888 [==============================] - 20s 5ms/step - loss: 193.8253 - accuracy: 0.7258 - val_loss: 7045.1719 - val_accuracy: 0.7303\n",
      "Epoch 49/50\n",
      "3888/3888 [==============================] - 19s 5ms/step - loss: 307.1450 - accuracy: 0.7261 - val_loss: 702.1080 - val_accuracy: 0.7304\n",
      "Epoch 50/50\n",
      "3888/3888 [==============================] - 20s 5ms/step - loss: 173.2822 - accuracy: 0.7274 - val_loss: 10574.7354 - val_accuracy: 0.7306\n",
      "\n",
      "program end...\n",
      "\n",
      "time cost: \n",
      "975.8119323253632 seconds\n"
     ]
    }
   ],
   "source": [
    "start = time.time()\n",
    "print('program start...')\n",
    "print()\n",
    "\n",
    "history = model_new.fit(X_train, y_train, batch_size=256,epochs = 50,  validation_data=(X_test,y_test),verbose=1)\n",
    "\n",
    "print()\n",
    "end = time.time()\n",
    "print('program end...')\n",
    "print()\n",
    "print('time cost: ')\n",
    "print(end - start, 'seconds')"
   ]
  },
  {
   "cell_type": "code",
   "execution_count": 48,
   "metadata": {},
   "outputs": [
    {
     "name": "stdout",
     "output_type": "stream",
     "text": [
      "7776/7776 [==============================] - 11s 1ms/step - loss: 10574.3447 - accuracy: 0.7306\n",
      "Accuracy = 73.05718660354614 %\n"
     ]
    }
   ],
   "source": [
    "_, acc= model_new.evaluate(X_test, y_test)\n",
    "print(\"Accuracy =\", (acc* 100.0), \"%\")"
   ]
  },
  {
   "cell_type": "code",
   "execution_count": 87,
   "metadata": {},
   "outputs": [],
   "source": [
    "loss_train = history.history['loss']\n",
    "loss_val = history.history['val_loss']\n",
    "epochs=range(1, len(loss_train) +1)"
   ]
  },
  {
   "cell_type": "code",
   "execution_count": 88,
   "metadata": {},
   "outputs": [
    {
     "data": {
      "image/png": "[encoded data removed]",
      "text/plain": [
       "<Figure size 432x288 with 1 Axes>"
      ]
     },
     "metadata": {
      "needs_background": "light"
     },
     "output_type": "display_data"
    }
   ],
   "source": [
    "plt.plot(epochs, loss_train, 'g', label='Training_loss')\n",
    "plt.plot(epochs, loss_val, 'b', label='Validation_loss')\n",
    "plt.title('Training and Validation Loss')\n",
    "plt.xlabel('Epochs')\n",
    "plt.ylabel('Loss')\n",
    "plt.legend()\n",
    "plt.savefig(r'C:\\Users\\DELL\\Pictures\\TonIoT Images\\first_iot_23_model.tiff', bbox_inches='tight', dpi=500)\n",
    "plt.show()"
   ]
  },
  {
   "cell_type": "code",
   "execution_count": 89,
   "metadata": {},
   "outputs": [
    {
     "data": {
      "image/png": "[encoded data removed]",
      "text/plain": [
       "<Figure size 432x288 with 1 Axes>"
      ]
     },
     "metadata": {
      "needs_background": "light"
     },
     "output_type": "display_data"
    }
   ],
   "source": [
    "acc = history.history['accuracy']\n",
    "val_acc = history.history['val_accuracy']\n",
    "plt.plot(epochs, acc, 'b', label='Training_accuracy')\n",
    "plt.plot(epochs, val_acc, 'r', label='Validation_accuracy')\n",
    "plt.title('Training and Validation Accuracy')\n",
    "plt.xlabel('Epochs')\n",
    "plt.ylabel('Accuracy')\n",
    "plt.legend()\n",
    "plt.savefig(r'C:\\Users\\DELL\\Pictures\\TonIoT Images\\first_io23_model_acc.tiff', bbox_inches='tight', dpi=500)\n",
    "plt.show()"
   ]
  },
  {
   "cell_type": "code",
   "execution_count": null,
   "metadata": {},
   "outputs": [],
   "source": []
  },
  {
   "cell_type": "code",
   "execution_count": null,
   "metadata": {},
   "outputs": [],
   "source": []
  },
  {
   "cell_type": "markdown",
   "metadata": {},
   "source": [
    "New model with l2 regularization"
   ]
  },
  {
   "cell_type": "code",
   "execution_count": 54,
   "metadata": {},
   "outputs": [],
   "source": [
    "from keras.regularizers import l2"
   ]
  },
  {
   "cell_type": "code",
   "execution_count": 70,
   "metadata": {},
   "outputs": [],
   "source": [
    "l2_model=Sequential()"
   ]
  },
  {
   "cell_type": "code",
   "execution_count": 71,
   "metadata": {},
   "outputs": [],
   "source": [
    "l2_model.add(Dense(512, activation='relu',input_dim=11))\n",
    "l2_model.add(Dense(256, activation='relu',kernel_regularizer=l2(0.001)))\n",
    "l2_model.add(Dense(5, activation='softmax'))\n",
    "opt=Adam(learning_rate=0.00001)\n",
    "\n",
    "l2_model.compile(loss='categorical_crossentropy',optimizer=opt, metrics=['accuracy'])"
   ]
  },
  {
   "cell_type": "code",
   "execution_count": 72,
   "metadata": {},
   "outputs": [
    {
     "name": "stdout",
     "output_type": "stream",
     "text": [
      "Model: \"sequential_5\"\n",
      "_________________________________________________________________\n",
      " Layer (type)                Output Shape              Param #   \n",
      "=================================================================\n",
      " dense_31 (Dense)            (None, 512)               6144      \n",
      "                                                                 \n",
      " dense_32 (Dense)            (None, 256)               131328    \n",
      "                                                                 \n",
      " dense_33 (Dense)            (None, 5)                 1285      \n",
      "                                                                 \n",
      "=================================================================\n",
      "Total params: 138,757\n",
      "Trainable params: 138,757\n",
      "Non-trainable params: 0\n",
      "_________________________________________________________________\n"
     ]
    }
   ],
   "source": [
    "l2_model.summary()"
   ]
  },
  {
   "cell_type": "code",
   "execution_count": 73,
   "metadata": {},
   "outputs": [
    {
     "name": "stdout",
     "output_type": "stream",
     "text": [
      "program start...\n",
      "\n",
      "Epoch 1/30\n",
      "7776/7776 [==============================] - 21s 3ms/step - loss: 23.3269 - accuracy: 0.6183 - val_loss: 8.5694 - val_accuracy: 0.6456\n",
      "Epoch 2/30\n",
      "7776/7776 [==============================] - 24s 3ms/step - loss: 34.5521 - accuracy: 0.6479 - val_loss: 24.9769 - val_accuracy: 0.6459\n",
      "Epoch 3/30\n",
      "7776/7776 [==============================] - 26s 3ms/step - loss: 115.0784 - accuracy: 0.6558 - val_loss: 53.6490 - val_accuracy: 0.6863\n",
      "Epoch 4/30\n",
      "7776/7776 [==============================] - 25s 3ms/step - loss: 3.4818 - accuracy: 0.7196 - val_loss: 63.8579 - val_accuracy: 0.6893\n",
      "Epoch 5/30\n",
      "7776/7776 [==============================] - 25s 3ms/step - loss: 29.4297 - accuracy: 0.7178 - val_loss: 146.7720 - val_accuracy: 0.6895\n",
      "Epoch 6/30\n",
      "7776/7776 [==============================] - 27s 4ms/step - loss: 23.6507 - accuracy: 0.7135 - val_loss: 90.3454 - val_accuracy: 0.7296\n",
      "Epoch 7/30\n",
      "7776/7776 [==============================] - 27s 4ms/step - loss: 5.9105 - accuracy: 0.7106 - val_loss: 282.8897 - val_accuracy: 0.6861\n",
      "Epoch 8/30\n",
      "7776/7776 [==============================] - 28s 4ms/step - loss: 132.9470 - accuracy: 0.7258 - val_loss: 42.3276 - val_accuracy: 0.7293\n",
      "Epoch 9/30\n",
      "7776/7776 [==============================] - 26s 3ms/step - loss: 34.2625 - accuracy: 0.7291 - val_loss: 49.8166 - val_accuracy: 0.7295\n",
      "Epoch 10/30\n",
      "7776/7776 [==============================] - 24s 3ms/step - loss: 17.7635 - accuracy: 0.7287 - val_loss: 2.9331 - val_accuracy: 0.7297\n",
      "Epoch 11/30\n",
      "7776/7776 [==============================] - 24s 3ms/step - loss: 31.1246 - accuracy: 0.7306 - val_loss: 6.9741 - val_accuracy: 0.7296\n",
      "Epoch 12/30\n",
      "7776/7776 [==============================] - 27s 4ms/step - loss: 16.9168 - accuracy: 0.7297 - val_loss: 105.7679 - val_accuracy: 0.7291\n",
      "Epoch 13/30\n",
      "7776/7776 [==============================] - 27s 3ms/step - loss: 5.9946 - accuracy: 0.7239 - val_loss: 42.8863 - val_accuracy: 0.7298\n",
      "Epoch 14/30\n",
      "7776/7776 [==============================] - 28s 4ms/step - loss: 13.6462 - accuracy: 0.7276 - val_loss: 139.2446 - val_accuracy: 0.7291\n",
      "Epoch 15/30\n",
      "7776/7776 [==============================] - 27s 3ms/step - loss: 8.7033 - accuracy: 0.7288 - val_loss: 24.3409 - val_accuracy: 0.7301\n",
      "Epoch 16/30\n",
      "7776/7776 [==============================] - 27s 4ms/step - loss: 23.8128 - accuracy: 0.7307 - val_loss: 20.9359 - val_accuracy: 0.7296\n",
      "Epoch 17/30\n",
      "7776/7776 [==============================] - 30s 4ms/step - loss: 5.9098 - accuracy: 0.7288 - val_loss: 633.1780 - val_accuracy: 0.7300\n",
      "Epoch 18/30\n",
      "7776/7776 [==============================] - 34s 4ms/step - loss: 17.7967 - accuracy: 0.7211 - val_loss: 43.3802 - val_accuracy: 0.7295\n",
      "Epoch 19/30\n",
      "7776/7776 [==============================] - 27s 3ms/step - loss: 53.9357 - accuracy: 0.7122 - val_loss: 107.8422 - val_accuracy: 0.7292\n",
      "Epoch 20/30\n",
      "7776/7776 [==============================] - 26s 3ms/step - loss: 11.1451 - accuracy: 0.7269 - val_loss: 90.9882 - val_accuracy: 0.7294\n",
      "Epoch 21/30\n",
      "7776/7776 [==============================] - 32s 4ms/step - loss: 9.2176 - accuracy: 0.7240 - val_loss: 93.7538 - val_accuracy: 0.7294\n",
      "Epoch 22/30\n",
      "7776/7776 [==============================] - 28s 4ms/step - loss: 6.9129 - accuracy: 0.7166 - val_loss: 193.3606 - val_accuracy: 0.7295\n",
      "Epoch 23/30\n",
      "7776/7776 [==============================] - 26s 3ms/step - loss: 26.1329 - accuracy: 0.7290 - val_loss: 146.5973 - val_accuracy: 0.7297\n",
      "Epoch 24/30\n",
      "7776/7776 [==============================] - 25s 3ms/step - loss: 70.2778 - accuracy: 0.7312 - val_loss: 123.0221 - val_accuracy: 0.7300\n",
      "Epoch 25/30\n",
      "7776/7776 [==============================] - 25s 3ms/step - loss: 13.4709 - accuracy: 0.7278 - val_loss: 92.6514 - val_accuracy: 0.7298\n",
      "Epoch 26/30\n",
      "7776/7776 [==============================] - 26s 3ms/step - loss: 7.3637 - accuracy: 0.7302 - val_loss: 150.5033 - val_accuracy: 0.7298\n",
      "Epoch 27/30\n",
      "7776/7776 [==============================] - 27s 3ms/step - loss: 18.4083 - accuracy: 0.7302 - val_loss: 206.4333 - val_accuracy: 0.7295\n",
      "Epoch 28/30\n",
      "7776/7776 [==============================] - 29s 4ms/step - loss: 8.4506 - accuracy: 0.7303 - val_loss: 126.9639 - val_accuracy: 0.7298\n",
      "Epoch 29/30\n",
      "7776/7776 [==============================] - 26s 3ms/step - loss: 11.6711 - accuracy: 0.7268 - val_loss: 119.3074 - val_accuracy: 0.7296\n",
      "Epoch 30/30\n",
      "7776/7776 [==============================] - 27s 3ms/step - loss: 20.5259 - accuracy: 0.7312 - val_loss: 44.2532 - val_accuracy: 0.7302\n",
      "\n",
      "program end...\n",
      "\n",
      "time cost: \n",
      "802.8678085803986 seconds\n"
     ]
    }
   ],
   "source": [
    "start = time.time()\n",
    "print('program start...')\n",
    "print()\n",
    "\n",
    "history = l2_model.fit(X_train, y_train, batch_size=128,epochs = 30,  validation_data=(X_test,y_test),verbose=1)\n",
    "\n",
    "print()\n",
    "end = time.time()\n",
    "print('program end...')\n",
    "print()\n",
    "print('time cost: ')\n",
    "print(end - start, 'seconds')"
   ]
  },
  {
   "cell_type": "code",
   "execution_count": 74,
   "metadata": {},
   "outputs": [
    {
     "name": "stdout",
     "output_type": "stream",
     "text": [
      "7776/7776 [==============================] - 10s 1ms/step - loss: 44.2534 - accuracy: 0.7302\n",
      "Accuracy = 73.01779985427856 %\n"
     ]
    }
   ],
   "source": [
    "_, acc= l2_model.evaluate(X_test, y_test)\n",
    "print(\"Accuracy =\", (acc* 100.0), \"%\")"
   ]
  },
  {
   "cell_type": "code",
   "execution_count": 75,
   "metadata": {},
   "outputs": [],
   "source": [
    "loss_train = history.history['loss']\n",
    "loss_val = history.history['val_loss']\n",
    "epochs=range(1, len(loss_train) +1)"
   ]
  },
  {
   "cell_type": "code",
   "execution_count": 90,
   "metadata": {},
   "outputs": [
    {
     "data": {
      "image/png": "[encoded data removed]",
      "text/plain": [
       "<Figure size 432x288 with 1 Axes>"
      ]
     },
     "metadata": {
      "needs_background": "light"
     },
     "output_type": "display_data"
    }
   ],
   "source": [
    "plt.plot(epochs, loss_train, 'g', label='Training_loss')\n",
    "plt.plot(epochs, loss_val, 'b', label='Validation_loss')\n",
    "plt.title('Training and Validation Loss')\n",
    "plt.xlabel('Epochs')\n",
    "plt.ylabel('Loss')\n",
    "plt.legend()\n",
    "plt.savefig(r'C:\\Users\\DELL\\Pictures\\TonIoT Images\\l2_model_loss.tiff', bbox_inches='tight', dpi=500)\n",
    "plt.show()\n",
    "plt.show()"
   ]
  },
  {
   "cell_type": "code",
   "execution_count": 91,
   "metadata": {},
   "outputs": [
    {
     "data": {
      "image/png": "[encoded data removed]",
      "text/plain": [
       "<Figure size 432x288 with 1 Axes>"
      ]
     },
     "metadata": {
      "needs_background": "light"
     },
     "output_type": "display_data"
    }
   ],
   "source": [
    "acc = history.history['accuracy']\n",
    "val_acc = history.history['val_accuracy']\n",
    "plt.plot(epochs, acc, 'b', label='Training_accuracy')\n",
    "plt.plot(epochs, val_acc, 'r', label='Validation_accuracy')\n",
    "plt.title('Training and Validation Accuracy')\n",
    "plt.xlabel('Epochs')\n",
    "plt.ylabel('Accuracy')\n",
    "plt.legend()\n",
    "plt.savefig(r'C:\\Users\\DELL\\Pictures\\TonIoT Images\\l2_model_acc.tiff', bbox_inches='tight', dpi=500)\n",
    "plt.show()"
   ]
  },
  {
   "cell_type": "markdown",
   "metadata": {},
   "source": [
    "Last model before sleep.. its 4 AM already! "
   ]
  },
  {
   "cell_type": "code",
   "execution_count": 78,
   "metadata": {},
   "outputs": [],
   "source": [
    "a4am_model=Sequential()"
   ]
  },
  {
   "cell_type": "code",
   "execution_count": 79,
   "metadata": {},
   "outputs": [],
   "source": [
    "a4am_model.add(Dense(1024, activation='relu',input_dim=11))\n",
    "a4am_model.add(Dense(512, activation='relu',kernel_regularizer=l2(0.01)))\n",
    "a4am_model.add(Dense(128, activation='relu',kernel_regularizer=l2(0.01)))\n",
    "a4am_model.add(Dense(5, activation='softmax'))\n",
    "opt=Adam(learning_rate=0.00001)\n",
    "\n",
    "a4am_model.compile(loss='categorical_crossentropy',optimizer=opt, metrics=['accuracy'])"
   ]
  },
  {
   "cell_type": "code",
   "execution_count": 80,
   "metadata": {},
   "outputs": [
    {
     "name": "stdout",
     "output_type": "stream",
     "text": [
      "Model: \"sequential_6\"\n",
      "_________________________________________________________________\n",
      " Layer (type)                Output Shape              Param #   \n",
      "=================================================================\n",
      " dense_34 (Dense)            (None, 1024)              12288     \n",
      "                                                                 \n",
      " dense_35 (Dense)            (None, 512)               524800    \n",
      "                                                                 \n",
      " dense_36 (Dense)            (None, 128)               65664     \n",
      "                                                                 \n",
      " dense_37 (Dense)            (None, 5)                 645       \n",
      "                                                                 \n",
      "=================================================================\n",
      "Total params: 603,397\n",
      "Trainable params: 603,397\n",
      "Non-trainable params: 0\n",
      "_________________________________________________________________\n"
     ]
    }
   ],
   "source": [
    "a4am_model.summary()"
   ]
  },
  {
   "cell_type": "code",
   "execution_count": 81,
   "metadata": {},
   "outputs": [
    {
     "name": "stdout",
     "output_type": "stream",
     "text": [
      "program start...\n",
      "\n",
      "Epoch 1/50\n",
      "7776/7776 [==============================] - 87s 11ms/step - loss: 34.1536 - accuracy: 0.6295 - val_loss: 20.2268 - val_accuracy: 0.6478\n",
      "Epoch 2/50\n",
      "7776/7776 [==============================] - 87s 11ms/step - loss: 34.4099 - accuracy: 0.6474 - val_loss: 24.3252 - val_accuracy: 0.6880\n",
      "Epoch 3/50\n",
      "7776/7776 [==============================] - 91s 12ms/step - loss: 14.0271 - accuracy: 0.6727 - val_loss: 15.1199 - val_accuracy: 0.6889\n",
      "Epoch 4/50\n",
      "7776/7776 [==============================] - 89s 11ms/step - loss: 147.3138 - accuracy: 0.6545 - val_loss: 46.0097 - val_accuracy: 0.6447\n",
      "Epoch 5/50\n",
      "7776/7776 [==============================] - 96s 12ms/step - loss: 14.9055 - accuracy: 0.6818 - val_loss: 120.1362 - val_accuracy: 0.6849\n",
      "Epoch 6/50\n",
      "7776/7776 [==============================] - 89s 11ms/step - loss: 245.0915 - accuracy: 0.6747 - val_loss: 215.1995 - val_accuracy: 0.6420\n",
      "Epoch 7/50\n",
      "7776/7776 [==============================] - 89s 11ms/step - loss: 80.0511 - accuracy: 0.7170 - val_loss: 89.6775 - val_accuracy: 0.6440\n",
      "Epoch 8/50\n",
      "7776/7776 [==============================] - 86s 11ms/step - loss: 24.6011 - accuracy: 0.6928 - val_loss: 218.8580 - val_accuracy: 0.6850\n",
      "Epoch 9/50\n",
      "7776/7776 [==============================] - 88s 11ms/step - loss: 23.6191 - accuracy: 0.7084 - val_loss: 118.6683 - val_accuracy: 0.7294\n",
      "Epoch 10/50\n",
      "7776/7776 [==============================] - 88s 11ms/step - loss: 24.4533 - accuracy: 0.6958 - val_loss: 94.9556 - val_accuracy: 0.7291\n",
      "Epoch 11/50\n",
      "7776/7776 [==============================] - 96s 12ms/step - loss: 19.3598 - accuracy: 0.6995 - val_loss: 202.8806 - val_accuracy: 0.7278\n",
      "Epoch 12/50\n",
      "7776/7776 [==============================] - 89s 11ms/step - loss: 32.9484 - accuracy: 0.6977 - val_loss: 293.8622 - val_accuracy: 0.7282\n",
      "Epoch 13/50\n",
      "7776/7776 [==============================] - 87s 11ms/step - loss: 115.5949 - accuracy: 0.7166 - val_loss: 144.3309 - val_accuracy: 0.7297\n",
      "Epoch 14/50\n",
      "7776/7776 [==============================] - 92s 12ms/step - loss: 37.4113 - accuracy: 0.7234 - val_loss: 181.3040 - val_accuracy: 0.7290\n",
      "Epoch 15/50\n",
      "7776/7776 [==============================] - 94s 12ms/step - loss: 57.3584 - accuracy: 0.7131 - val_loss: 269.1827 - val_accuracy: 0.7294\n",
      "Epoch 16/50\n",
      "7776/7776 [==============================] - 93s 12ms/step - loss: 291.9070 - accuracy: 0.6677 - val_loss: 435.7238 - val_accuracy: 0.6370\n",
      "Epoch 17/50\n",
      "7776/7776 [==============================] - 89s 11ms/step - loss: 19.6091 - accuracy: 0.6963 - val_loss: 405.9784 - val_accuracy: 0.7289\n",
      "Epoch 18/50\n",
      "7776/7776 [==============================] - 88s 11ms/step - loss: 268.5823 - accuracy: 0.7205 - val_loss: 135.1083 - val_accuracy: 0.7296\n",
      "Epoch 19/50\n",
      "7776/7776 [==============================] - 87s 11ms/step - loss: 11.2206 - accuracy: 0.7146 - val_loss: 1738.0217 - val_accuracy: 0.6227\n",
      "Epoch 20/50\n",
      "7776/7776 [==============================] - 92s 12ms/step - loss: 566.4016 - accuracy: 0.7147 - val_loss: 420.4914 - val_accuracy: 0.7285\n",
      "Epoch 21/50\n",
      "7776/7776 [==============================] - 93s 12ms/step - loss: 22.9056 - accuracy: 0.7272 - val_loss: 463.8033 - val_accuracy: 0.7290\n",
      "Epoch 22/50\n",
      "7776/7776 [==============================] - 90s 12ms/step - loss: 35.4146 - accuracy: 0.7259 - val_loss: 224.0776 - val_accuracy: 0.7300\n",
      "Epoch 23/50\n",
      "7776/7776 [==============================] - 91s 12ms/step - loss: 42.3425 - accuracy: 0.6863 - val_loss: 495.3627 - val_accuracy: 0.7283\n",
      "Epoch 24/50\n",
      "7776/7776 [==============================] - 88s 11ms/step - loss: 183.2914 - accuracy: 0.7208 - val_loss: 299.2763 - val_accuracy: 0.7291\n",
      "Epoch 25/50\n",
      "7776/7776 [==============================] - 87s 11ms/step - loss: 18.4970 - accuracy: 0.7234 - val_loss: 144.2934 - val_accuracy: 0.7291\n",
      "Epoch 26/50\n",
      "7776/7776 [==============================] - 86s 11ms/step - loss: 81.6149 - accuracy: 0.7150 - val_loss: 98.7060 - val_accuracy: 0.7293\n",
      "Epoch 27/50\n",
      "7776/7776 [==============================] - 90s 12ms/step - loss: 35.5352 - accuracy: 0.7175 - val_loss: 227.4921 - val_accuracy: 0.7291\n",
      "Epoch 28/50\n",
      "7776/7776 [==============================] - 92s 12ms/step - loss: 145.0846 - accuracy: 0.7195 - val_loss: 185.0617 - val_accuracy: 0.6806\n",
      "Epoch 29/50\n",
      "7776/7776 [==============================] - 89s 11ms/step - loss: 21.9604 - accuracy: 0.7124 - val_loss: 135.9874 - val_accuracy: 0.7297\n",
      "Epoch 30/50\n",
      "7776/7776 [==============================] - 90s 12ms/step - loss: 265.6263 - accuracy: 0.7215 - val_loss: 198.7480 - val_accuracy: 0.7298\n",
      "Epoch 31/50\n",
      "7776/7776 [==============================] - 98s 13ms/step - loss: 40.8209 - accuracy: 0.7257 - val_loss: 374.4586 - val_accuracy: 0.7294\n",
      "Epoch 32/50\n",
      "7776/7776 [==============================] - 92s 12ms/step - loss: 20.5564 - accuracy: 0.7197 - val_loss: 114.3302 - val_accuracy: 0.7298\n",
      "Epoch 33/50\n",
      "7776/7776 [==============================] - 97s 12ms/step - loss: 29.7814 - accuracy: 0.7234 - val_loss: 425.0440 - val_accuracy: 0.7290\n",
      "Epoch 34/50\n",
      "7776/7776 [==============================] - 95s 12ms/step - loss: 36.9882 - accuracy: 0.7270 - val_loss: 408.9795 - val_accuracy: 0.7297\n",
      "Epoch 35/50\n",
      "7776/7776 [==============================] - 96s 12ms/step - loss: 25.5719 - accuracy: 0.7206 - val_loss: 381.1712 - val_accuracy: 0.7291\n",
      "Epoch 36/50\n",
      "7776/7776 [==============================] - 90s 12ms/step - loss: 24.6466 - accuracy: 0.7239 - val_loss: 188.3491 - val_accuracy: 0.7294\n",
      "Epoch 37/50\n",
      "7776/7776 [==============================] - 94s 12ms/step - loss: 43.3433 - accuracy: 0.7163 - val_loss: 156.1315 - val_accuracy: 0.7299\n",
      "Epoch 38/50\n",
      "7776/7776 [==============================] - 93s 12ms/step - loss: 27.0670 - accuracy: 0.7270 - val_loss: 101.9951 - val_accuracy: 0.7294\n",
      "Epoch 39/50\n",
      "7776/7776 [==============================] - 93s 12ms/step - loss: 136.0816 - accuracy: 0.7044 - val_loss: 421.9710 - val_accuracy: 0.7285\n",
      "Epoch 40/50\n",
      "7776/7776 [==============================] - 93s 12ms/step - loss: 172.2773 - accuracy: 0.7269 - val_loss: 265.5518 - val_accuracy: 0.7297\n",
      "Epoch 41/50\n",
      "7776/7776 [==============================] - 94s 12ms/step - loss: 177.4313 - accuracy: 0.7265 - val_loss: 400.1216 - val_accuracy: 0.7284\n",
      "Epoch 42/50\n",
      "7776/7776 [==============================] - 99s 13ms/step - loss: 18.4965 - accuracy: 0.7290 - val_loss: 54.5463 - val_accuracy: 0.7299\n",
      "Epoch 43/50\n",
      "7776/7776 [==============================] - 95s 12ms/step - loss: 295.0570 - accuracy: 0.7218 - val_loss: 277.3855 - val_accuracy: 0.7297\n",
      "Epoch 44/50\n",
      "7776/7776 [==============================] - 100s 13ms/step - loss: 24.1112 - accuracy: 0.7227 - val_loss: 438.7122 - val_accuracy: 0.7296\n",
      "Epoch 45/50\n",
      "7776/7776 [==============================] - 95s 12ms/step - loss: 35.1803 - accuracy: 0.6944 - val_loss: 492.8160 - val_accuracy: 0.6864\n",
      "Epoch 46/50\n",
      "7776/7776 [==============================] - 92s 12ms/step - loss: 149.2381 - accuracy: 0.7185 - val_loss: 385.6320 - val_accuracy: 0.6456\n",
      "Epoch 47/50\n",
      "7776/7776 [==============================] - 92s 12ms/step - loss: 17.5737 - accuracy: 0.7291 - val_loss: 132.0455 - val_accuracy: 0.7299\n",
      "Epoch 48/50\n",
      "7776/7776 [==============================] - 92s 12ms/step - loss: 50.0356 - accuracy: 0.7233 - val_loss: 157.2885 - val_accuracy: 0.7297\n",
      "Epoch 49/50\n",
      "7776/7776 [==============================] - 93s 12ms/step - loss: 111.5915 - accuracy: 0.7214 - val_loss: 222.6870 - val_accuracy: 0.7297\n",
      "Epoch 50/50\n",
      "7776/7776 [==============================] - 94s 12ms/step - loss: 181.5583 - accuracy: 0.7211 - val_loss: 386.1125 - val_accuracy: 0.7296\n",
      "\n",
      "program end...\n",
      "\n",
      "time cost: \n",
      "4578.48193693161 seconds\n"
     ]
    }
   ],
   "source": [
    "start = time.time()\n",
    "print('program start...')\n",
    "print()\n",
    "\n",
    "history = a4am_model.fit(X_train, y_train, batch_size=128,epochs =50,  validation_data=(X_test,y_test),verbose=1)\n",
    "\n",
    "print()\n",
    "end = time.time()\n",
    "print('program end...')\n",
    "print()\n",
    "print('time cost: ')\n",
    "print(end - start, 'seconds')"
   ]
  },
  {
   "cell_type": "code",
   "execution_count": 82,
   "metadata": {},
   "outputs": [
    {
     "name": "stdout",
     "output_type": "stream",
     "text": [
      "7776/7776 [==============================] - 20s 3ms/step - loss: 386.1124 - accuracy: 0.7296\n",
      "Accuracy = 72.95711636543274 %\n"
     ]
    }
   ],
   "source": [
    "_, acc= a4am_model.evaluate(X_test, y_test)\n",
    "print(\"Accuracy =\", (acc* 100.0), \"%\")"
   ]
  },
  {
   "cell_type": "code",
   "execution_count": 85,
   "metadata": {},
   "outputs": [],
   "source": [
    "import matplotlib.pyplot as plt"
   ]
  },
  {
   "cell_type": "code",
   "execution_count": 86,
   "metadata": {},
   "outputs": [],
   "source": [
    "loss_train = history.history['loss']\n",
    "loss_val = history.history['val_loss']\n",
    "epochs=range(1, len(loss_train) +1)"
   ]
  },
  {
   "cell_type": "code",
   "execution_count": 92,
   "metadata": {},
   "outputs": [
    {
     "data": {
      "image/png": "[encoded data removed]",
      "text/plain": [
       "<Figure size 432x288 with 1 Axes>"
      ]
     },
     "metadata": {
      "needs_background": "light"
     },
     "output_type": "display_data"
    }
   ],
   "source": [
    "plt.plot(epochs, loss_train, 'g', label='Training_loss')\n",
    "plt.plot(epochs, loss_val, 'b', label='Validation_loss')\n",
    "plt.title('Training and Validation Loss')\n",
    "plt.xlabel('Epochs')\n",
    "plt.ylabel('Loss')\n",
    "plt.legend()\n",
    "plt.savefig(r'C:\\Users\\DELL\\Pictures\\TonIoT Images\\4am_model_loss.tiff', bbox_inches='tight', dpi=500)\n",
    "plt.show()"
   ]
  },
  {
   "cell_type": "code",
   "execution_count": 93,
   "metadata": {},
   "outputs": [
    {
     "data": {
      "image/png": "[encoded data removed]",
      "text/plain": [
       "<Figure size 432x288 with 1 Axes>"
      ]
     },
     "metadata": {
      "needs_background": "light"
     },
     "output_type": "display_data"
    }
   ],
   "source": [
    "acc = history.history['accuracy']\n",
    "val_acc = history.history['val_accuracy']\n",
    "plt.plot(epochs, acc, 'b', label='Training_accuracy')\n",
    "plt.plot(epochs, val_acc, 'r', label='Validation_accuracy')\n",
    "plt.title('Training and Validation Accuracy')\n",
    "plt.xlabel('Epochs')\n",
    "plt.ylabel('Accuracy')\n",
    "plt.legend()\n",
    "plt.savefig(r'C:\\Users\\DELL\\Pictures\\TonIoT Images\\4am_model_acc.tiff', bbox_inches='tight', dpi=500)\n",
    "plt.show()"
   ]
  },
  {
   "cell_type": "code",
   "execution_count": null,
   "metadata": {},
   "outputs": [],
   "source": []
  },
  {
   "cell_type": "markdown",
   "metadata": {},
   "source": [
    "==============STANDBY MODEL============"
   ]
  },
  {
   "cell_type": "code",
   "execution_count": null,
   "metadata": {},
   "outputs": [],
   "source": []
  },
  {
   "cell_type": "code",
   "execution_count": 94,
   "metadata": {},
   "outputs": [],
   "source": [
    "model_s tandby = Sequential()"
   ]
  },
  {
   "cell_type": "code",
   "execution_count": 95,
   "metadata": {},
   "outputs": [],
   "source": [
    "model_standby.add(Dense(2000, activation='relu',input_dim=11))\n",
    "model_standby.add(Dense(1500, activation='relu'))\n",
    "model_standby.add(Dropout(0.2))\n",
    "model_standby.add(Dense(800,activation='relu'))\n",
    "model_standby.add(Dropout(0.2))\n",
    "model_standby.add(Dense(400,activation='relu'))\n",
    "model_standby.add(Dropout(0.2))\n",
    "model_standby.add(Dense(150,activation='relu'))\n",
    "model_standby.add(Dropout(0.2))\n",
    "model_standby.add(Dense(5, activation='softmax'))\n",
    "model_standby.compile(loss='categorical_crossentropy', optimizer='adam', metrics=['accuracy'])"
   ]
  },
  {
   "cell_type": "code",
   "execution_count": 96,
   "metadata": {},
   "outputs": [
    {
     "name": "stdout",
     "output_type": "stream",
     "text": [
      "Model: \"sequential_7\"\n",
      "_________________________________________________________________\n",
      " Layer (type)                Output Shape              Param #   \n",
      "=================================================================\n",
      " dense_38 (Dense)            (None, 2000)              24000     \n",
      "                                                                 \n",
      " dense_39 (Dense)            (None, 1500)              3001500   \n",
      "                                                                 \n",
      " dropout (Dropout)           (None, 1500)              0         \n",
      "                                                                 \n",
      " dense_40 (Dense)            (None, 800)               1200800   \n",
      "                                                                 \n",
      " dropout_1 (Dropout)         (None, 800)               0         \n",
      "                                                                 \n",
      " dense_41 (Dense)            (None, 400)               320400    \n",
      "                                                                 \n",
      " dropout_2 (Dropout)         (None, 400)               0         \n",
      "                                                                 \n",
      " dense_42 (Dense)            (None, 150)               60150     \n",
      "                                                                 \n",
      " dropout_3 (Dropout)         (None, 150)               0         \n",
      "                                                                 \n",
      " dense_43 (Dense)            (None, 5)                 755       \n",
      "                                                                 \n",
      "=================================================================\n",
      "Total params: 4,607,605\n",
      "Trainable params: 4,607,605\n",
      "Non-trainable params: 0\n",
      "_________________________________________________________________\n"
     ]
    }
   ],
   "source": [
    "model_standby.summary()"
   ]
  },
  {
   "cell_type": "markdown",
   "metadata": {},
   "source": [
    "Lets start and sleep..! see u later ! "
   ]
  },
  {
   "cell_type": "code",
   "execution_count": 98,
   "metadata": {},
   "outputs": [
    {
     "name": "stdout",
     "output_type": "stream",
     "text": [
      "program start...\n",
      "\n",
      "Epoch 1/100\n",
      "3888/3888 [==============================] - 312s 80ms/step - loss: 1822.4122 - accuracy: 0.6811 - val_loss: 0.6766 - val_accuracy: 0.6802\n",
      "Epoch 2/100\n",
      "3888/3888 [==============================] - 315s 81ms/step - loss: 12.9271 - accuracy: 0.6749 - val_loss: 0.6734 - val_accuracy: 0.6803\n",
      "Epoch 3/100\n",
      "3888/3888 [==============================] - 298s 77ms/step - loss: 736.8888 - accuracy: 0.7052 - val_loss: 5063.0762 - val_accuracy: 0.7290\n",
      "Epoch 4/100\n",
      "3888/3888 [==============================] - 293s 75ms/step - loss: 2628.1404 - accuracy: 0.7200 - val_loss: 0.6021 - val_accuracy: 0.7269\n",
      "Epoch 5/100\n",
      "3888/3888 [==============================] - 293s 75ms/step - loss: 107.9220 - accuracy: 0.7238 - val_loss: 0.5941 - val_accuracy: 0.7275\n",
      "Epoch 6/100\n",
      "3888/3888 [==============================] - 298s 77ms/step - loss: 0.6899 - accuracy: 0.7258 - val_loss: 0.5890 - val_accuracy: 0.7290\n",
      "Epoch 7/100\n",
      "3888/3888 [==============================] - 292s 75ms/step - loss: 170.6413 - accuracy: 0.7202 - val_loss: 0.5972 - val_accuracy: 0.7273\n",
      "Epoch 8/100\n",
      "3888/3888 [==============================] - 292s 75ms/step - loss: 0.6168 - accuracy: 0.7208 - val_loss: 0.6005 - val_accuracy: 0.7262\n",
      "Epoch 9/100\n",
      "3888/3888 [==============================] - 314s 81ms/step - loss: 0.6118 - accuracy: 0.7228 - val_loss: 0.5908 - val_accuracy: 0.7268\n",
      "Epoch 10/100\n",
      "3888/3888 [==============================] - 304s 78ms/step - loss: 0.6611 - accuracy: 0.7247 - val_loss: 0.6956 - val_accuracy: 0.7290\n",
      "Epoch 11/100\n",
      "3888/3888 [==============================] - 291s 75ms/step - loss: 682.0403 - accuracy: 0.7220 - val_loss: 0.5920 - val_accuracy: 0.7279\n",
      "Epoch 12/100\n",
      "3888/3888 [==============================] - 288s 74ms/step - loss: 0.6353 - accuracy: 0.7176 - val_loss: 0.5834 - val_accuracy: 0.7281\n",
      "Epoch 13/100\n",
      "3888/3888 [==============================] - 288s 74ms/step - loss: 0.6415 - accuracy: 0.7191 - val_loss: 0.5862 - val_accuracy: 0.7285\n",
      "Epoch 14/100\n",
      "3888/3888 [==============================] - 294s 76ms/step - loss: 0.6165 - accuracy: 0.7211 - val_loss: 0.5811 - val_accuracy: 0.7290\n",
      "Epoch 15/100\n",
      "3888/3888 [==============================] - 295s 76ms/step - loss: 0.6568 - accuracy: 0.7154 - val_loss: 0.6353 - val_accuracy: 0.6874\n",
      "Epoch 16/100\n",
      "3888/3888 [==============================] - 293s 75ms/step - loss: 0.6847 - accuracy: 0.6882 - val_loss: 0.6479 - val_accuracy: 0.6883\n",
      "Epoch 17/100\n",
      "3888/3888 [==============================] - 293s 75ms/step - loss: 1.2781 - accuracy: 0.7122 - val_loss: 0.5837 - val_accuracy: 0.7277\n",
      "Epoch 18/100\n",
      "3888/3888 [==============================] - 296s 76ms/step - loss: 0.6457 - accuracy: 0.7198 - val_loss: 0.7810 - val_accuracy: 0.6885\n",
      "Epoch 19/100\n",
      "3888/3888 [==============================] - 293s 75ms/step - loss: 1.7071 - accuracy: 0.6958 - val_loss: 0.5839 - val_accuracy: 0.7287\n",
      "Epoch 20/100\n",
      "3888/3888 [==============================] - 291s 75ms/step - loss: 0.6647 - accuracy: 0.7085 - val_loss: 0.7015 - val_accuracy: 0.6879\n",
      "Epoch 21/100\n",
      "3888/3888 [==============================] - 293s 75ms/step - loss: 0.7847 - accuracy: 0.6858 - val_loss: 0.7838 - val_accuracy: 0.6880\n",
      "Epoch 22/100\n",
      "3888/3888 [==============================] - 291s 75ms/step - loss: 0.7885 - accuracy: 0.6886 - val_loss: 0.7861 - val_accuracy: 0.6884\n",
      "Epoch 23/100\n",
      "3888/3888 [==============================] - 292s 75ms/step - loss: 0.7618 - accuracy: 0.6953 - val_loss: 0.7020 - val_accuracy: 0.6872\n",
      "Epoch 24/100\n",
      "3888/3888 [==============================] - 288s 74ms/step - loss: 0.7470 - accuracy: 0.6876 - val_loss: 0.7188 - val_accuracy: 0.6876\n",
      "Epoch 25/100\n",
      "3888/3888 [==============================] - 286s 74ms/step - loss: 2261.6118 - accuracy: 0.7108 - val_loss: 0.5912 - val_accuracy: 0.7289\n",
      "Epoch 26/100\n",
      "3888/3888 [==============================] - 293s 75ms/step - loss: 0.6058 - accuracy: 0.7254 - val_loss: 0.5844 - val_accuracy: 0.7278\n",
      "Epoch 27/100\n",
      "3888/3888 [==============================] - 295s 76ms/step - loss: 411.4423 - accuracy: 0.7182 - val_loss: 0.6114 - val_accuracy: 0.7292\n",
      "Epoch 28/100\n",
      "3888/3888 [==============================] - 293s 75ms/step - loss: 0.6105 - accuracy: 0.7278 - val_loss: 0.5854 - val_accuracy: 0.7292\n",
      "Epoch 29/100\n",
      "3888/3888 [==============================] - 293s 75ms/step - loss: 0.5974 - accuracy: 0.7293 - val_loss: 0.5827 - val_accuracy: 0.7292\n",
      "Epoch 30/100\n",
      "3888/3888 [==============================] - 292s 75ms/step - loss: 0.5932 - accuracy: 0.7295 - val_loss: 0.5835 - val_accuracy: 0.7292\n",
      "Epoch 31/100\n",
      "3888/3888 [==============================] - 293s 75ms/step - loss: 0.5941 - accuracy: 0.7294 - val_loss: 0.5864 - val_accuracy: 0.7292\n",
      "Epoch 32/100\n",
      "3888/3888 [==============================] - 292s 75ms/step - loss: 0.6141 - accuracy: 0.7244 - val_loss: 0.6114 - val_accuracy: 0.7278\n",
      "Epoch 33/100\n",
      "3888/3888 [==============================] - 294s 76ms/step - loss: 5053.1104 - accuracy: 0.7253 - val_loss: 0.5960 - val_accuracy: 0.7267\n",
      "Epoch 34/100\n",
      "3888/3888 [==============================] - 290s 75ms/step - loss: 0.6017 - accuracy: 0.7276 - val_loss: 0.5865 - val_accuracy: 0.7286\n",
      "Epoch 35/100\n",
      "3888/3888 [==============================] - 289s 74ms/step - loss: 2.5952 - accuracy: 0.7284 - val_loss: 0.5818 - val_accuracy: 0.7290\n",
      "Epoch 36/100\n",
      "3888/3888 [==============================] - 288s 74ms/step - loss: 0.8620 - accuracy: 0.7280 - val_loss: 0.5814 - val_accuracy: 0.7285\n",
      "Epoch 37/100\n",
      "3888/3888 [==============================] - 288s 74ms/step - loss: 0.5914 - accuracy: 0.7292 - val_loss: 0.5831 - val_accuracy: 0.7292\n",
      "Epoch 38/100\n",
      "3888/3888 [==============================] - 289s 74ms/step - loss: 930.1338 - accuracy: 0.7219 - val_loss: 0.5865 - val_accuracy: 0.7279\n",
      "Epoch 39/100\n",
      "3888/3888 [==============================] - 291s 75ms/step - loss: 0.6053 - accuracy: 0.7263 - val_loss: 0.5926 - val_accuracy: 0.7279\n",
      "Epoch 40/100\n",
      "3888/3888 [==============================] - 292s 75ms/step - loss: 0.6011 - accuracy: 0.7284 - val_loss: 0.5821 - val_accuracy: 0.7289\n",
      "Epoch 41/100\n",
      "3888/3888 [==============================] - 288s 74ms/step - loss: 178.7245 - accuracy: 0.7274 - val_loss: 0.5844 - val_accuracy: 0.7290\n",
      "Epoch 42/100\n",
      "3888/3888 [==============================] - 289s 74ms/step - loss: 0.7984 - accuracy: 0.7259 - val_loss: 0.5944 - val_accuracy: 0.7277\n",
      "Epoch 43/100\n",
      "3888/3888 [==============================] - 290s 75ms/step - loss: 0.6685 - accuracy: 0.6923 - val_loss: 0.7075 - val_accuracy: 0.6872\n",
      "Epoch 44/100\n",
      "3888/3888 [==============================] - 287s 74ms/step - loss: 0.7185 - accuracy: 0.6884 - val_loss: 0.7078 - val_accuracy: 0.6872\n",
      "Epoch 45/100\n",
      "3888/3888 [==============================] - 286s 74ms/step - loss: 0.7244 - accuracy: 0.6872 - val_loss: 0.7080 - val_accuracy: 0.6873\n",
      "Epoch 46/100\n",
      "3888/3888 [==============================] - 11177s 3s/step - loss: 0.7260 - accuracy: 0.6875 - val_loss: 0.7135 - val_accuracy: 0.6874\n",
      "Epoch 47/100\n",
      "3888/3888 [==============================] - 291s 75ms/step - loss: 2.6444 - accuracy: 0.6874 - val_loss: 0.7080 - val_accuracy: 0.6873\n",
      "Epoch 48/100\n",
      "3888/3888 [==============================] - 283s 73ms/step - loss: 0.7265 - accuracy: 0.6869 - val_loss: 0.7082 - val_accuracy: 0.6872\n",
      "Epoch 49/100\n",
      "3888/3888 [==============================] - 283s 73ms/step - loss: 0.7248 - accuracy: 0.6870 - val_loss: 0.7079 - val_accuracy: 0.6874\n",
      "Epoch 50/100\n",
      "3888/3888 [==============================] - 315s 81ms/step - loss: 4731.3193 - accuracy: 0.7109 - val_loss: 0.6013 - val_accuracy: 0.7279\n",
      "Epoch 51/100\n",
      "3888/3888 [==============================] - 285s 73ms/step - loss: 0.6071 - accuracy: 0.7276 - val_loss: 0.5939 - val_accuracy: 0.7280\n",
      "Epoch 52/100\n",
      "3888/3888 [==============================] - 281s 72ms/step - loss: 0.6016 - accuracy: 0.7285 - val_loss: 0.5931 - val_accuracy: 0.7280\n",
      "Epoch 53/100\n",
      "3888/3888 [==============================] - 282s 73ms/step - loss: 0.6057 - accuracy: 0.7278 - val_loss: 0.5926 - val_accuracy: 0.7280\n",
      "Epoch 54/100\n",
      "3888/3888 [==============================] - 282s 72ms/step - loss: 0.6083 - accuracy: 0.7283 - val_loss: 0.5936 - val_accuracy: 0.7280\n",
      "Epoch 55/100\n",
      "3888/3888 [==============================] - 288s 74ms/step - loss: 5675.6836 - accuracy: 0.6824 - val_loss: 0.7320 - val_accuracy: 0.6894\n",
      "Epoch 56/100\n",
      "3888/3888 [==============================] - 287s 74ms/step - loss: 0.7635 - accuracy: 0.6825 - val_loss: 0.7322 - val_accuracy: 0.6888\n",
      "Epoch 57/100\n",
      "3888/3888 [==============================] - 288s 74ms/step - loss: 0.7455 - accuracy: 0.6853 - val_loss: 0.7309 - val_accuracy: 0.6893\n",
      "Epoch 58/100\n",
      "3888/3888 [==============================] - 288s 74ms/step - loss: 0.7165 - accuracy: 0.7127 - val_loss: 0.6068 - val_accuracy: 0.7292\n",
      "Epoch 59/100\n",
      "3888/3888 [==============================] - 288s 74ms/step - loss: 0.6385 - accuracy: 0.7232 - val_loss: 0.6016 - val_accuracy: 0.7292\n",
      "Epoch 60/100\n",
      "3888/3888 [==============================] - 287s 74ms/step - loss: 0.6518 - accuracy: 0.7146 - val_loss: 0.6677 - val_accuracy: 0.6883\n",
      "Epoch 61/100\n",
      "3888/3888 [==============================] - 287s 74ms/step - loss: 0.6636 - accuracy: 0.7114 - val_loss: 0.6330 - val_accuracy: 0.7289\n",
      "Epoch 62/100\n",
      "3888/3888 [==============================] - 287s 74ms/step - loss: 90.9805 - accuracy: 0.7171 - val_loss: 0.6076 - val_accuracy: 0.7282\n",
      "Epoch 63/100\n",
      "3888/3888 [==============================] - 290s 75ms/step - loss: 0.6426 - accuracy: 0.7171 - val_loss: 0.6166 - val_accuracy: 0.7291\n",
      "Epoch 64/100\n",
      "3888/3888 [==============================] - 293s 75ms/step - loss: 0.7042 - accuracy: 0.6997 - val_loss: 0.6679 - val_accuracy: 0.7289\n",
      "Epoch 65/100\n",
      "3888/3888 [==============================] - 290s 75ms/step - loss: 0.7299 - accuracy: 0.6924 - val_loss: 0.7375 - val_accuracy: 0.6879\n",
      "Epoch 66/100\n",
      "3888/3888 [==============================] - 287s 74ms/step - loss: 0.7720 - accuracy: 0.6871 - val_loss: 0.7333 - val_accuracy: 0.6882\n",
      "Epoch 67/100\n",
      "3888/3888 [==============================] - 289s 74ms/step - loss: 5885.2305 - accuracy: 0.7065 - val_loss: 0.6029 - val_accuracy: 0.7280\n",
      "Epoch 68/100\n",
      "3888/3888 [==============================] - 287s 74ms/step - loss: 4.0870 - accuracy: 0.7265 - val_loss: 0.5870 - val_accuracy: 0.7286\n",
      "Epoch 69/100\n",
      "3888/3888 [==============================] - 285s 73ms/step - loss: 0.5998 - accuracy: 0.7284 - val_loss: 0.5855 - val_accuracy: 0.7290\n",
      "Epoch 70/100\n",
      "3888/3888 [==============================] - 284s 73ms/step - loss: 0.6004 - accuracy: 0.7283 - val_loss: 0.5929 - val_accuracy: 0.7280\n",
      "Epoch 71/100\n",
      "3888/3888 [==============================] - 287s 74ms/step - loss: 1047.4849 - accuracy: 0.7240 - val_loss: 0.5915 - val_accuracy: 0.7288\n",
      "Epoch 72/100\n",
      "3888/3888 [==============================] - 287s 74ms/step - loss: 1945.3783 - accuracy: 0.7206 - val_loss: 0.6054 - val_accuracy: 0.7286\n",
      "Epoch 73/100\n",
      "3888/3888 [==============================] - 287s 74ms/step - loss: 0.6292 - accuracy: 0.7268 - val_loss: 0.5845 - val_accuracy: 0.7290\n",
      "Epoch 74/100\n",
      "3888/3888 [==============================] - 291s 75ms/step - loss: 0.6249 - accuracy: 0.7220 - val_loss: 0.5874 - val_accuracy: 0.7290\n",
      "Epoch 75/100\n",
      "3888/3888 [==============================] - 290s 75ms/step - loss: 0.6376 - accuracy: 0.7216 - val_loss: 0.5898 - val_accuracy: 0.7293\n",
      "Epoch 76/100\n",
      "3888/3888 [==============================] - 288s 74ms/step - loss: 0.7971 - accuracy: 0.7061 - val_loss: 0.7004 - val_accuracy: 0.6890\n",
      "Epoch 77/100\n",
      "3888/3888 [==============================] - 289s 74ms/step - loss: 6968.2646 - accuracy: 0.7004 - val_loss: 0.7008 - val_accuracy: 0.6889\n",
      "Epoch 78/100\n",
      "3888/3888 [==============================] - 290s 75ms/step - loss: 1849.5964 - accuracy: 0.6807 - val_loss: 0.8099 - val_accuracy: 0.6475\n",
      "Epoch 79/100\n",
      "3888/3888 [==============================] - 287s 74ms/step - loss: 47500.3320 - accuracy: 0.6830 - val_loss: 0.6706 - val_accuracy: 0.7280\n",
      "Epoch 80/100\n",
      "3888/3888 [==============================] - 311s 80ms/step - loss: 0.7112 - accuracy: 0.7044 - val_loss: 0.6170 - val_accuracy: 0.7280\n",
      "Epoch 81/100\n",
      "3888/3888 [==============================] - 289s 74ms/step - loss: 31732.0410 - accuracy: 0.6995 - val_loss: 0.6013 - val_accuracy: 0.7294\n",
      "Epoch 82/100\n",
      "3888/3888 [==============================] - 288s 74ms/step - loss: 786.9040 - accuracy: 0.7145 - val_loss: 0.5943 - val_accuracy: 0.7287\n",
      "Epoch 83/100\n",
      "3888/3888 [==============================] - 289s 74ms/step - loss: 11143.9365 - accuracy: 0.7117 - val_loss: 0.6873 - val_accuracy: 0.7278\n",
      "Epoch 84/100\n",
      "3888/3888 [==============================] - 289s 74ms/step - loss: 11566.5576 - accuracy: 0.7121 - val_loss: 0.7560 - val_accuracy: 0.6880\n",
      "Epoch 85/100\n",
      "3888/3888 [==============================] - 289s 74ms/step - loss: 25.5058 - accuracy: 0.7070 - val_loss: 0.6345 - val_accuracy: 0.7288\n",
      "Epoch 86/100\n",
      "3888/3888 [==============================] - 290s 75ms/step - loss: 0.7362 - accuracy: 0.7166 - val_loss: 0.5937 - val_accuracy: 0.7294\n",
      "Epoch 87/100\n",
      "3888/3888 [==============================] - 2613s 672ms/step - loss: 3.5474 - accuracy: 0.7190 - val_loss: 0.5859 - val_accuracy: 0.7292\n",
      "Epoch 88/100\n",
      "3888/3888 [==============================] - 316s 81ms/step - loss: 0.6422 - accuracy: 0.7203 - val_loss: 0.6584 - val_accuracy: 0.7289\n",
      "Epoch 89/100\n",
      "3888/3888 [==============================] - 316s 81ms/step - loss: 737.6783 - accuracy: 0.7198 - val_loss: 0.5880 - val_accuracy: 0.7278\n",
      "Epoch 90/100\n",
      "3888/3888 [==============================] - 317s 82ms/step - loss: 0.6455 - accuracy: 0.7201 - val_loss: 0.5825 - val_accuracy: 0.7295\n",
      "Epoch 91/100\n",
      "3888/3888 [==============================] - 312s 80ms/step - loss: 72.9974 - accuracy: 0.7201 - val_loss: 0.6350 - val_accuracy: 0.7294\n",
      "Epoch 92/100\n",
      "3888/3888 [==============================] - 310s 80ms/step - loss: 4.9147 - accuracy: 0.7203 - val_loss: 0.5832 - val_accuracy: 0.7294\n",
      "Epoch 93/100\n",
      "3888/3888 [==============================] - 295s 76ms/step - loss: 0.8329 - accuracy: 0.7202 - val_loss: 0.5811 - val_accuracy: 0.7294\n",
      "Epoch 94/100\n",
      "3888/3888 [==============================] - 295s 76ms/step - loss: 5607.4692 - accuracy: 0.7146 - val_loss: 0.6443 - val_accuracy: 0.7285\n",
      "Epoch 95/100\n",
      "3888/3888 [==============================] - 289s 74ms/step - loss: 509.3030 - accuracy: 0.7154 - val_loss: 0.5862 - val_accuracy: 0.7286\n",
      "Epoch 96/100\n",
      "3888/3888 [==============================] - 295s 76ms/step - loss: 0.6343 - accuracy: 0.7188 - val_loss: 0.5858 - val_accuracy: 0.7284\n",
      "Epoch 97/100\n",
      "3888/3888 [==============================] - 315s 81ms/step - loss: 6289.7026 - accuracy: 0.7150 - val_loss: 0.6850 - val_accuracy: 0.7288\n",
      "Epoch 98/100\n",
      "3888/3888 [==============================] - 354s 91ms/step - loss: 0.7017 - accuracy: 0.7143 - val_loss: 0.5941 - val_accuracy: 0.7288\n",
      "Epoch 99/100\n",
      "3888/3888 [==============================] - 336s 87ms/step - loss: 13198.4785 - accuracy: 0.7169 - val_loss: 0.6535 - val_accuracy: 0.7287\n",
      "Epoch 100/100\n",
      "3888/3888 [==============================] - 315s 81ms/step - loss: 0.7593 - accuracy: 0.7102 - val_loss: 0.6111 - val_accuracy: 0.7295\n",
      "\n",
      "program end...\n",
      "\n",
      "time cost: \n",
      "42597.967322826385 seconds\n"
     ]
    }
   ],
   "source": [
    "start = time.time()\n",
    "print('program start...')\n",
    "print()\n",
    "\n",
    "history = model_standby.fit(X_train, y_train, batch_size=256,epochs = 100,  validation_data=(X_test,y_test),verbose=1)\n",
    "\n",
    "print()\n",
    "end = time.time()\n",
    "print('program end...')\n",
    "print()\n",
    "print('time cost: ')\n",
    "print(end - start, 'seconds')"
   ]
  },
  {
   "cell_type": "markdown",
   "metadata": {},
   "source": [
    "wooh... its 5:14 PM ! and this model just completed  its mission now... took a long time..! "
   ]
  },
  {
   "cell_type": "code",
   "execution_count": 99,
   "metadata": {},
   "outputs": [
    {
     "name": "stdout",
     "output_type": "stream",
     "text": [
      "7776/7776 [==============================] - 59s 8ms/step - loss: 0.6111 - accuracy: 0.7295\n",
      "Accuracy = 72.95028567314148 %\n"
     ]
    }
   ],
   "source": [
    "_, acc= model_standby.evaluate(X_test, y_test)\n",
    "print(\"Accuracy =\", (acc* 100.0), \"%\")"
   ]
  },
  {
   "cell_type": "code",
   "execution_count": 100,
   "metadata": {},
   "outputs": [],
   "source": [
    "loss_train = history.history['loss']\n",
    "loss_val = history.history['val_loss']\n",
    "epochs=range(1, len(loss_train) +1)"
   ]
  },
  {
   "cell_type": "code",
   "execution_count": 101,
   "metadata": {},
   "outputs": [
    {
     "data": {
      "image/png": "[encoded data removed]",
      "text/plain": [
       "<Figure size 432x288 with 1 Axes>"
      ]
     },
     "metadata": {
      "needs_background": "light"
     },
     "output_type": "display_data"
    }
   ],
   "source": [
    "plt.plot(epochs, loss_train, 'g', label='Training_loss')\n",
    "plt.plot(epochs, loss_val, 'b', label='Validation_loss')\n",
    "plt.title('Training and Validation Loss')\n",
    "plt.xlabel('Epochs')\n",
    "plt.ylabel('Loss')\n",
    "plt.legend()\n",
    "plt.savefig(r'C:\\Users\\DELL\\Pictures\\TonIoT Images\\standby_model_loss.tiff', bbox_inches='tight', dpi=500)\n",
    "plt.show()"
   ]
  },
  {
   "cell_type": "code",
   "execution_count": 102,
   "metadata": {},
   "outputs": [
    {
     "data": {
      "image/png": "[encoded data removed]",
      "text/plain": [
       "<Figure size 432x288 with 1 Axes>"
      ]
     },
     "metadata": {
      "needs_background": "light"
     },
     "output_type": "display_data"
    }
   ],
   "source": [
    "acc = history.history['accuracy']\n",
    "val_acc = history.history['val_accuracy']\n",
    "plt.plot(epochs, acc, 'b', label='Training_accuracy')\n",
    "plt.plot(epochs, val_acc, 'r', label='Validation_accuracy')\n",
    "plt.title('Training and Validation Accuracy')\n",
    "plt.xlabel('Epochs')\n",
    "plt.ylabel('Accuracy')\n",
    "plt.legend()\n",
    "plt.savefig(r'C:\\Users\\DELL\\Pictures\\TonIoT Images\\standby_model_acc.tiff', bbox_inches='tight', dpi=500)\n",
    "plt.show()"
   ]
  },
  {
   "cell_type": "markdown",
   "metadata": {},
   "source": [
    "Previous model with learning rate! "
   ]
  },
  {
   "cell_type": "code",
   "execution_count": null,
   "metadata": {},
   "outputs": [],
   "source": [
    "============================Changing activation function to Tanh======================="
   ]
  },
  {
   "cell_type": "code",
   "execution_count": 31,
   "metadata": {},
   "outputs": [],
   "source": [
    "_model=Sequential()"
   ]
  },
  {
   "cell_type": "code",
   "execution_count": 32,
   "metadata": {},
   "outputs": [],
   "source": [
    "_model.add(Dense(76,activation='tanh',input_shape=(11,)))\n",
    "_model.add(Dense(38,activation='tanh'))\n",
    "_model.add(Dense(5,activation='softmax'))\n",
    "opt=Adam(learning_rate=0.001)"
   ]
  },
  {
   "cell_type": "code",
   "execution_count": 33,
   "metadata": {},
   "outputs": [],
   "source": [
    "_model.compile(loss='categorical_crossentropy',metrics=['accuracy'],optimizer=opt)"
   ]
  },
  {
   "cell_type": "code",
   "execution_count": 35,
   "metadata": {},
   "outputs": [],
   "source": [
    "import time "
   ]
  },
  {
   "cell_type": "code",
   "execution_count": 36,
   "metadata": {},
   "outputs": [
    {
     "name": "stdout",
     "output_type": "stream",
     "text": [
      "program start...\n",
      "\n",
      "Epoch 1/100\n",
      "3888/3888 [==============================] - 7s 2ms/step - loss: 0.9434 - accuracy: 0.6467 - val_loss: 0.9307 - val_accuracy: 0.6488\n",
      "Epoch 2/100\n",
      "3888/3888 [==============================] - 6s 2ms/step - loss: 0.9313 - accuracy: 0.6499 - val_loss: 0.9298 - val_accuracy: 0.6490\n",
      "Epoch 3/100\n",
      "3888/3888 [==============================] - 6s 2ms/step - loss: 0.9296 - accuracy: 0.6500 - val_loss: 0.9292 - val_accuracy: 0.6490\n",
      "Epoch 4/100\n",
      "3888/3888 [==============================] - 6s 2ms/step - loss: 0.9288 - accuracy: 0.6502 - val_loss: 0.9278 - val_accuracy: 0.6492\n",
      "Epoch 5/100\n",
      "3888/3888 [==============================] - 6s 2ms/step - loss: 0.9284 - accuracy: 0.6502 - val_loss: 0.9286 - val_accuracy: 0.6492\n",
      "Epoch 6/100\n",
      "3888/3888 [==============================] - 7s 2ms/step - loss: 0.9281 - accuracy: 0.6503 - val_loss: 0.9281 - val_accuracy: 0.6492\n",
      "Epoch 7/100\n",
      "3888/3888 [==============================] - 6s 2ms/step - loss: 0.9273 - accuracy: 0.6503 - val_loss: 0.9263 - val_accuracy: 0.6492\n",
      "Epoch 8/100\n",
      "3888/3888 [==============================] - 7s 2ms/step - loss: 0.9247 - accuracy: 0.6503 - val_loss: 0.9218 - val_accuracy: 0.6492\n",
      "Epoch 9/100\n",
      "3888/3888 [==============================] - 6s 2ms/step - loss: 0.9156 - accuracy: 0.6503 - val_loss: 0.9032 - val_accuracy: 0.6492\n",
      "Epoch 10/100\n",
      "3888/3888 [==============================] - 6s 2ms/step - loss: 0.8988 - accuracy: 0.6503 - val_loss: 0.8968 - val_accuracy: 0.6492\n",
      "Epoch 11/100\n",
      "3888/3888 [==============================] - 7s 2ms/step - loss: 0.8875 - accuracy: 0.6502 - val_loss: 0.8804 - val_accuracy: 0.6491\n",
      "Epoch 12/100\n",
      "3888/3888 [==============================] - 6s 2ms/step - loss: 0.8840 - accuracy: 0.6505 - val_loss: 0.8775 - val_accuracy: 0.6491\n",
      "Epoch 13/100\n",
      "3888/3888 [==============================] - 7s 2ms/step - loss: 0.8829 - accuracy: 0.6507 - val_loss: 0.8781 - val_accuracy: 0.6491\n",
      "Epoch 14/100\n",
      "3888/3888 [==============================] - 7s 2ms/step - loss: 0.8823 - accuracy: 0.6502 - val_loss: 0.8831 - val_accuracy: 0.6492\n",
      "Epoch 15/100\n",
      "3888/3888 [==============================] - 8s 2ms/step - loss: 0.8810 - accuracy: 0.6504 - val_loss: 0.8776 - val_accuracy: 0.6492\n",
      "Epoch 16/100\n",
      "3888/3888 [==============================] - 7s 2ms/step - loss: 0.8806 - accuracy: 0.6506 - val_loss: 0.9071 - val_accuracy: 0.6491\n",
      "Epoch 17/100\n",
      "3888/3888 [==============================] - 6s 2ms/step - loss: 0.8800 - accuracy: 0.6507 - val_loss: 0.8813 - val_accuracy: 0.6491\n",
      "Epoch 18/100\n",
      "3888/3888 [==============================] - 6s 2ms/step - loss: 0.8796 - accuracy: 0.6507 - val_loss: 0.8757 - val_accuracy: 0.6493\n",
      "Epoch 19/100\n",
      "3888/3888 [==============================] - 6s 2ms/step - loss: 0.8791 - accuracy: 0.6508 - val_loss: 0.8744 - val_accuracy: 0.6492\n",
      "Epoch 20/100\n",
      "3888/3888 [==============================] - 6s 2ms/step - loss: 0.8789 - accuracy: 0.6505 - val_loss: 0.8764 - val_accuracy: 0.6491\n",
      "Epoch 21/100\n",
      "3888/3888 [==============================] - 7s 2ms/step - loss: 0.8790 - accuracy: 0.6505 - val_loss: 0.8745 - val_accuracy: 0.6492\n",
      "Epoch 22/100\n",
      "3888/3888 [==============================] - 7s 2ms/step - loss: 0.8788 - accuracy: 0.6504 - val_loss: 0.8818 - val_accuracy: 0.6491\n",
      "Epoch 23/100\n",
      "3888/3888 [==============================] - 6s 2ms/step - loss: 0.8786 - accuracy: 0.6507 - val_loss: 0.8801 - val_accuracy: 0.6491\n",
      "Epoch 24/100\n",
      "3888/3888 [==============================] - 6s 2ms/step - loss: 0.8785 - accuracy: 0.6508 - val_loss: 0.8749 - val_accuracy: 0.6492\n",
      "Epoch 25/100\n",
      "3888/3888 [==============================] - 6s 2ms/step - loss: 0.8786 - accuracy: 0.6505 - val_loss: 0.8867 - val_accuracy: 0.6492\n",
      "Epoch 26/100\n",
      "3888/3888 [==============================] - 7s 2ms/step - loss: 0.8777 - accuracy: 0.6508 - val_loss: 0.8748 - val_accuracy: 0.6493\n",
      "Epoch 27/100\n",
      "3888/3888 [==============================] - 7s 2ms/step - loss: 0.8779 - accuracy: 0.6505 - val_loss: 0.8729 - val_accuracy: 0.6493\n",
      "Epoch 28/100\n",
      "3888/3888 [==============================] - 7s 2ms/step - loss: 0.8774 - accuracy: 0.6506 - val_loss: 0.8734 - val_accuracy: 0.6492\n",
      "Epoch 29/100\n",
      "3888/3888 [==============================] - 6s 2ms/step - loss: 0.8772 - accuracy: 0.6506 - val_loss: 0.8827 - val_accuracy: 0.6492\n",
      "Epoch 30/100\n",
      "3888/3888 [==============================] - 7s 2ms/step - loss: 0.8774 - accuracy: 0.6508 - val_loss: 0.8728 - val_accuracy: 0.6491\n",
      "Epoch 31/100\n",
      "3888/3888 [==============================] - 6s 2ms/step - loss: 0.8776 - accuracy: 0.6504 - val_loss: 0.8841 - val_accuracy: 0.6492\n",
      "Epoch 32/100\n",
      "3888/3888 [==============================] - 6s 2ms/step - loss: 0.8764 - accuracy: 0.6508 - val_loss: 0.8760 - val_accuracy: 0.6491\n",
      "Epoch 33/100\n",
      "3888/3888 [==============================] - 6s 2ms/step - loss: 0.8769 - accuracy: 0.6505 - val_loss: 0.8828 - val_accuracy: 0.6491\n",
      "Epoch 34/100\n",
      "3888/3888 [==============================] - 6s 2ms/step - loss: 0.8770 - accuracy: 0.6506 - val_loss: 0.8725 - val_accuracy: 0.6491\n",
      "Epoch 35/100\n",
      "3888/3888 [==============================] - 6s 2ms/step - loss: 0.8768 - accuracy: 0.6505 - val_loss: 0.8746 - val_accuracy: 0.6491\n",
      "Epoch 36/100\n",
      "3888/3888 [==============================] - 6s 2ms/step - loss: 0.8767 - accuracy: 0.6507 - val_loss: 0.8735 - val_accuracy: 0.6491\n",
      "Epoch 37/100\n",
      "3888/3888 [==============================] - 6s 2ms/step - loss: 0.8760 - accuracy: 0.6505 - val_loss: 0.8807 - val_accuracy: 0.6492\n",
      "Epoch 38/100\n",
      "3888/3888 [==============================] - 6s 2ms/step - loss: 0.8766 - accuracy: 0.6506 - val_loss: 0.8740 - val_accuracy: 0.6493\n",
      "Epoch 39/100\n",
      "3888/3888 [==============================] - 6s 2ms/step - loss: 0.8767 - accuracy: 0.6503 - val_loss: 0.8736 - val_accuracy: 0.6493\n",
      "Epoch 40/100\n",
      "3888/3888 [==============================] - 6s 2ms/step - loss: 0.8760 - accuracy: 0.6505 - val_loss: 0.8856 - val_accuracy: 0.6491\n",
      "Epoch 41/100\n",
      "3888/3888 [==============================] - 7s 2ms/step - loss: 0.8764 - accuracy: 0.6507 - val_loss: 0.8773 - val_accuracy: 0.6492\n",
      "Epoch 42/100\n",
      "3888/3888 [==============================] - 8s 2ms/step - loss: 0.8760 - accuracy: 0.6505 - val_loss: 0.8739 - val_accuracy: 0.6499\n",
      "Epoch 43/100\n",
      "3888/3888 [==============================] - 7s 2ms/step - loss: 0.8760 - accuracy: 0.6508 - val_loss: 0.8722 - val_accuracy: 0.6493\n",
      "Epoch 44/100\n",
      "3888/3888 [==============================] - 6s 2ms/step - loss: 0.8762 - accuracy: 0.6507 - val_loss: 0.8820 - val_accuracy: 0.6491\n",
      "Epoch 45/100\n",
      "3888/3888 [==============================] - 7s 2ms/step - loss: 0.8761 - accuracy: 0.6506 - val_loss: 0.8879 - val_accuracy: 0.6491\n",
      "Epoch 46/100\n",
      "3888/3888 [==============================] - 7s 2ms/step - loss: 0.8754 - accuracy: 0.6507 - val_loss: 0.8851 - val_accuracy: 0.6493\n",
      "Epoch 47/100\n",
      "3888/3888 [==============================] - 6s 2ms/step - loss: 0.8755 - accuracy: 0.6507 - val_loss: 0.8784 - val_accuracy: 0.6492\n",
      "Epoch 48/100\n",
      "3888/3888 [==============================] - 7s 2ms/step - loss: 0.8762 - accuracy: 0.6506 - val_loss: 0.8751 - val_accuracy: 0.6492\n",
      "Epoch 49/100\n",
      "3888/3888 [==============================] - 7s 2ms/step - loss: 0.8760 - accuracy: 0.6507 - val_loss: 0.8790 - val_accuracy: 0.6491\n",
      "Epoch 50/100\n",
      "3888/3888 [==============================] - 7s 2ms/step - loss: 0.8754 - accuracy: 0.6506 - val_loss: 0.8756 - val_accuracy: 0.6492\n",
      "Epoch 51/100\n",
      "3888/3888 [==============================] - 7s 2ms/step - loss: 0.8757 - accuracy: 0.6509 - val_loss: 0.8901 - val_accuracy: 0.6491\n",
      "Epoch 52/100\n",
      "3888/3888 [==============================] - 8s 2ms/step - loss: 0.8755 - accuracy: 0.6506 - val_loss: 0.8759 - val_accuracy: 0.6491\n",
      "Epoch 53/100\n",
      "3888/3888 [==============================] - 9s 2ms/step - loss: 0.8752 - accuracy: 0.6505 - val_loss: 0.8763 - val_accuracy: 0.6493\n",
      "Epoch 54/100\n",
      "3888/3888 [==============================] - 9s 2ms/step - loss: 0.8752 - accuracy: 0.6507 - val_loss: 0.8775 - val_accuracy: 0.6493\n",
      "Epoch 55/100\n",
      "3888/3888 [==============================] - 9s 2ms/step - loss: 0.8753 - accuracy: 0.6507 - val_loss: 0.8729 - val_accuracy: 0.6491\n",
      "Epoch 56/100\n",
      "3888/3888 [==============================] - 9s 2ms/step - loss: 0.8751 - accuracy: 0.6507 - val_loss: 0.8735 - val_accuracy: 0.6492\n",
      "Epoch 57/100\n"
     ]
    },
    {
     "name": "stdout",
     "output_type": "stream",
     "text": [
      "3888/3888 [==============================] - 9s 2ms/step - loss: 0.8751 - accuracy: 0.6505 - val_loss: 0.8730 - val_accuracy: 0.6497\n",
      "Epoch 58/100\n",
      "3888/3888 [==============================] - 9s 2ms/step - loss: 0.8752 - accuracy: 0.6505 - val_loss: 0.8726 - val_accuracy: 0.6493\n",
      "Epoch 59/100\n",
      "3888/3888 [==============================] - 8s 2ms/step - loss: 0.8750 - accuracy: 0.6507 - val_loss: 0.8721 - val_accuracy: 0.6493\n",
      "Epoch 60/100\n",
      "3888/3888 [==============================] - 9s 2ms/step - loss: 0.8749 - accuracy: 0.6510 - val_loss: 0.8719 - val_accuracy: 0.6491\n",
      "Epoch 61/100\n",
      "3888/3888 [==============================] - 9s 2ms/step - loss: 0.8749 - accuracy: 0.6511 - val_loss: 0.8856 - val_accuracy: 0.6491\n",
      "Epoch 62/100\n",
      "3888/3888 [==============================] - 9s 2ms/step - loss: 0.8748 - accuracy: 0.6509 - val_loss: 0.8719 - val_accuracy: 0.6502\n",
      "Epoch 63/100\n",
      "3888/3888 [==============================] - 9s 2ms/step - loss: 0.8747 - accuracy: 0.6507 - val_loss: 0.8830 - val_accuracy: 0.6491\n",
      "Epoch 64/100\n",
      "3888/3888 [==============================] - 8s 2ms/step - loss: 0.8748 - accuracy: 0.6506 - val_loss: 0.8860 - val_accuracy: 0.6491\n",
      "Epoch 65/100\n",
      "3888/3888 [==============================] - 9s 2ms/step - loss: 0.8749 - accuracy: 0.6506 - val_loss: 0.8760 - val_accuracy: 0.6493\n",
      "Epoch 66/100\n",
      "3888/3888 [==============================] - 8s 2ms/step - loss: 0.8744 - accuracy: 0.6509 - val_loss: 0.8714 - val_accuracy: 0.6494\n",
      "Epoch 67/100\n",
      "3888/3888 [==============================] - 11s 3ms/step - loss: 0.8746 - accuracy: 0.6506 - val_loss: 0.8773 - val_accuracy: 0.6493\n",
      "Epoch 68/100\n",
      "3888/3888 [==============================] - 10s 3ms/step - loss: 0.8742 - accuracy: 0.6504 - val_loss: 0.8779 - val_accuracy: 0.6494\n",
      "Epoch 69/100\n",
      "3888/3888 [==============================] - 10s 3ms/step - loss: 0.8748 - accuracy: 0.6506 - val_loss: 0.8712 - val_accuracy: 0.6491\n",
      "Epoch 70/100\n",
      "3888/3888 [==============================] - 10s 3ms/step - loss: 0.8743 - accuracy: 0.6507 - val_loss: 0.8751 - val_accuracy: 0.6492\n",
      "Epoch 71/100\n",
      "3888/3888 [==============================] - 9s 2ms/step - loss: 0.8744 - accuracy: 0.6509 - val_loss: 0.8749 - val_accuracy: 0.6494\n",
      "Epoch 72/100\n",
      "3888/3888 [==============================] - 10s 2ms/step - loss: 0.8747 - accuracy: 0.6506 - val_loss: 0.8733 - val_accuracy: 0.6491\n",
      "Epoch 73/100\n",
      "3888/3888 [==============================] - 10s 3ms/step - loss: 0.8741 - accuracy: 0.6508 - val_loss: 0.8750 - val_accuracy: 0.6493\n",
      "Epoch 74/100\n",
      "3888/3888 [==============================] - 9s 2ms/step - loss: 0.8743 - accuracy: 0.6509 - val_loss: 0.8717 - val_accuracy: 0.6493\n",
      "Epoch 75/100\n",
      "3888/3888 [==============================] - 9s 2ms/step - loss: 0.8740 - accuracy: 0.6507 - val_loss: 0.8845 - val_accuracy: 0.6491\n",
      "Epoch 76/100\n",
      "3888/3888 [==============================] - 9s 2ms/step - loss: 0.8741 - accuracy: 0.6511 - val_loss: 0.8737 - val_accuracy: 0.6492\n",
      "Epoch 77/100\n",
      "3888/3888 [==============================] - 10s 3ms/step - loss: 0.8745 - accuracy: 0.6506 - val_loss: 0.8747 - val_accuracy: 0.6491\n",
      "Epoch 78/100\n",
      "3888/3888 [==============================] - 10s 3ms/step - loss: 0.8742 - accuracy: 0.6507 - val_loss: 0.8803 - val_accuracy: 0.6492\n",
      "Epoch 79/100\n",
      "3888/3888 [==============================] - 9s 2ms/step - loss: 0.8744 - accuracy: 0.6509 - val_loss: 0.8733 - val_accuracy: 0.6494\n",
      "Epoch 80/100\n",
      "3888/3888 [==============================] - 10s 2ms/step - loss: 0.8742 - accuracy: 0.6509 - val_loss: 0.8735 - val_accuracy: 0.6493\n",
      "Epoch 81/100\n",
      "3888/3888 [==============================] - 7s 2ms/step - loss: 0.8741 - accuracy: 0.6507 - val_loss: 0.8762 - val_accuracy: 0.6492\n",
      "Epoch 82/100\n",
      "3888/3888 [==============================] - 7s 2ms/step - loss: 0.8739 - accuracy: 0.6507 - val_loss: 0.8718 - val_accuracy: 0.6494\n",
      "Epoch 83/100\n",
      "3888/3888 [==============================] - 7s 2ms/step - loss: 0.8741 - accuracy: 0.6509 - val_loss: 0.8726 - val_accuracy: 0.6501\n",
      "Epoch 84/100\n",
      "3888/3888 [==============================] - 8s 2ms/step - loss: 0.8741 - accuracy: 0.6505 - val_loss: 0.8713 - val_accuracy: 0.6494\n",
      "Epoch 85/100\n",
      "3888/3888 [==============================] - 7s 2ms/step - loss: 0.8741 - accuracy: 0.6505 - val_loss: 0.8719 - val_accuracy: 0.6493\n",
      "Epoch 86/100\n",
      "3888/3888 [==============================] - 7s 2ms/step - loss: 0.8740 - accuracy: 0.6506 - val_loss: 0.8765 - val_accuracy: 0.6492\n",
      "Epoch 87/100\n",
      "3888/3888 [==============================] - 7s 2ms/step - loss: 0.8735 - accuracy: 0.6508 - val_loss: 0.8709 - val_accuracy: 0.6491\n",
      "Epoch 88/100\n",
      "3888/3888 [==============================] - 7s 2ms/step - loss: 0.8737 - accuracy: 0.6508 - val_loss: 0.8717 - val_accuracy: 0.6491\n",
      "Epoch 89/100\n",
      "3888/3888 [==============================] - 7s 2ms/step - loss: 0.8741 - accuracy: 0.6506 - val_loss: 0.8714 - val_accuracy: 0.6500\n",
      "Epoch 90/100\n",
      "3888/3888 [==============================] - 9s 2ms/step - loss: 0.8737 - accuracy: 0.6505 - val_loss: 0.8720 - val_accuracy: 0.6492\n",
      "Epoch 91/100\n",
      "3888/3888 [==============================] - 9s 2ms/step - loss: 0.8737 - accuracy: 0.6506 - val_loss: 0.8723 - val_accuracy: 0.6492\n",
      "Epoch 92/100\n",
      "3888/3888 [==============================] - 9s 2ms/step - loss: 0.8737 - accuracy: 0.6507 - val_loss: 0.8778 - val_accuracy: 0.6492\n",
      "Epoch 93/100\n",
      "3888/3888 [==============================] - 9s 2ms/step - loss: 0.8734 - accuracy: 0.6506 - val_loss: 0.8745 - val_accuracy: 0.6491\n",
      "Epoch 94/100\n",
      "3888/3888 [==============================] - 9s 2ms/step - loss: 0.8734 - accuracy: 0.6508 - val_loss: 0.8892 - val_accuracy: 0.6491\n",
      "Epoch 95/100\n",
      "3888/3888 [==============================] - 9s 2ms/step - loss: 0.8738 - accuracy: 0.6506 - val_loss: 0.8725 - val_accuracy: 0.6499\n",
      "Epoch 96/100\n",
      "3888/3888 [==============================] - 9s 2ms/step - loss: 0.8731 - accuracy: 0.6504 - val_loss: 0.8926 - val_accuracy: 0.6493\n",
      "Epoch 97/100\n",
      "3888/3888 [==============================] - 9s 2ms/step - loss: 0.8735 - accuracy: 0.6508 - val_loss: 0.8811 - val_accuracy: 0.6493\n",
      "Epoch 98/100\n",
      "3888/3888 [==============================] - 9s 2ms/step - loss: 0.8735 - accuracy: 0.6507 - val_loss: 0.8725 - val_accuracy: 0.6491\n",
      "Epoch 99/100\n",
      "3888/3888 [==============================] - 8s 2ms/step - loss: 0.8732 - accuracy: 0.6508 - val_loss: 0.8707 - val_accuracy: 0.6491\n",
      "Epoch 100/100\n",
      "3888/3888 [==============================] - 9s 2ms/step - loss: 0.8732 - accuracy: 0.6503 - val_loss: 0.8793 - val_accuracy: 0.6491\n",
      "\n",
      "program end...\n",
      "\n",
      "time cost: \n",
      "756.904194355011 seconds\n"
     ]
    }
   ],
   "source": [
    "start = time.time()\n",
    "print('program start...')\n",
    "print()\n",
    "\n",
    "history = _model.fit(X_train, y_train, batch_size=256,epochs =100,  validation_data=(X_test,y_test),verbose=1)\n",
    "\n",
    "print()\n",
    "end = time.time()\n",
    "print('program end...')\n",
    "print()\n",
    "print('time cost: ')\n",
    "print(end - start, 'seconds')"
   ]
  },
  {
   "cell_type": "code",
   "execution_count": null,
   "metadata": {},
   "outputs": [],
   "source": []
  }
 ],
 "metadata": {
  "kernelspec": {
   "display_name": "Python 3",
   "language": "python",
   "name": "python3"
  },
  "language_info": {
   "codemirror_mode": {
    "name": "ipython",
    "version": 3
   },
   "file_extension": ".py",
   "mimetype": "text/x-python",
   "name": "python",
   "nbconvert_exporter": "python",
   "pygments_lexer": "ipython3",
   "version": "3.8.5"
  }
 },
 "nbformat": 4,
 "nbformat_minor": 5
}
