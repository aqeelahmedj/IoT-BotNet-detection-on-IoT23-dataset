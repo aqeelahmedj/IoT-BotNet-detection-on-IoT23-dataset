{
 "cells": [
  {
   "cell_type": "markdown",
   "metadata": {},
   "source": [
    "# Feed Forward ANN "
   ]
  },
  {
   "cell_type": "code",
   "execution_count": 1,
   "metadata": {},
   "outputs": [],
   "source": [
    "import numpy as np\n",
    "import pandas as pd\n",
    "import tensorflow as tf\n",
    "from matplotlib import pyplot\n",
    "from tensorflow.keras import Model\n",
    "from tensorflow.keras import Sequential\n",
    "from tensorflow.keras.models import Sequential, Model\n",
    "from tensorflow.keras.layers import Conv2D, Input, Dropout, Activation, Dense, MaxPooling2D, Flatten, GlobalAveragePooling2D\n",
    "from tensorflow.keras.optimizers import Adadelta\n",
    "from tensorflow.keras.callbacks import ModelCheckpoint\n",
    "from tensorflow.keras.layers import Dense\n",
    "from tensorflow.keras.layers import LSTM\n",
    "import sklearn\n",
    "from sklearn.preprocessing import MinMaxScaler,LabelEncoder"
   ]
  },
  {
   "cell_type": "code",
   "execution_count": null,
   "metadata": {},
   "outputs": [],
   "source": []
  },
  {
   "cell_type": "code",
   "execution_count": 2,
   "metadata": {},
   "outputs": [],
   "source": [
    "Data=pd.read_csv('D:\\JupyterNotebook\\GitHub\\IoT-BotNet-detection-on-IoT23-dataset\\IoT23\\Data Preparation\\iot23_combined_new_3M.csv', low_memory=False)"
   ]
  },
  {
   "cell_type": "code",
   "execution_count": 3,
   "metadata": {},
   "outputs": [
    {
     "data": {
      "text/html": [
       "<div>\n",
       "<style scoped>\n",
       "    .dataframe tbody tr th:only-of-type {\n",
       "        vertical-align: middle;\n",
       "    }\n",
       "\n",
       "    .dataframe tbody tr th {\n",
       "        vertical-align: top;\n",
       "    }\n",
       "\n",
       "    .dataframe thead th {\n",
       "        text-align: right;\n",
       "    }\n",
       "</style>\n",
       "<table border=\"1\" class=\"dataframe\">\n",
       "  <thead>\n",
       "    <tr style=\"text-align: right;\">\n",
       "      <th></th>\n",
       "      <th>Unnamed: 0</th>\n",
       "      <th>ts</th>\n",
       "      <th>uid</th>\n",
       "      <th>id.orig_h</th>\n",
       "      <th>id.orig_p</th>\n",
       "      <th>id.resp_h</th>\n",
       "      <th>id.resp_p</th>\n",
       "      <th>proto</th>\n",
       "      <th>service</th>\n",
       "      <th>duration</th>\n",
       "      <th>...</th>\n",
       "      <th>local_orig</th>\n",
       "      <th>local_resp</th>\n",
       "      <th>missed_bytes</th>\n",
       "      <th>history</th>\n",
       "      <th>orig_pkts</th>\n",
       "      <th>orig_ip_bytes</th>\n",
       "      <th>resp_pkts</th>\n",
       "      <th>resp_ip_bytes</th>\n",
       "      <th>label</th>\n",
       "      <th>detailed_label</th>\n",
       "    </tr>\n",
       "  </thead>\n",
       "  <tbody>\n",
       "    <tr>\n",
       "      <th>0</th>\n",
       "      <td>0</td>\n",
       "      <td>1.536227e+09</td>\n",
       "      <td>CeqqKl3hyLQmO8LK98</td>\n",
       "      <td>192.168.100.111</td>\n",
       "      <td>17576.0</td>\n",
       "      <td>78.1.220.212</td>\n",
       "      <td>8081.0</td>\n",
       "      <td>tcp</td>\n",
       "      <td>-</td>\n",
       "      <td>3e-06</td>\n",
       "      <td>...</td>\n",
       "      <td>-</td>\n",
       "      <td>-</td>\n",
       "      <td>0.0</td>\n",
       "      <td>S</td>\n",
       "      <td>2.0</td>\n",
       "      <td>80.0</td>\n",
       "      <td>0.0</td>\n",
       "      <td>0.0</td>\n",
       "      <td>POHScan</td>\n",
       "      <td>NaN</td>\n",
       "    </tr>\n",
       "    <tr>\n",
       "      <th>1</th>\n",
       "      <td>1</td>\n",
       "      <td>1.536227e+09</td>\n",
       "      <td>C2oHQWo1EFGH8D9x7</td>\n",
       "      <td>192.168.100.111</td>\n",
       "      <td>17576.0</td>\n",
       "      <td>152.84.7.111</td>\n",
       "      <td>8081.0</td>\n",
       "      <td>tcp</td>\n",
       "      <td>-</td>\n",
       "      <td>2e-06</td>\n",
       "      <td>...</td>\n",
       "      <td>-</td>\n",
       "      <td>-</td>\n",
       "      <td>0.0</td>\n",
       "      <td>S</td>\n",
       "      <td>2.0</td>\n",
       "      <td>80.0</td>\n",
       "      <td>0.0</td>\n",
       "      <td>0.0</td>\n",
       "      <td>POHScan</td>\n",
       "      <td>NaN</td>\n",
       "    </tr>\n",
       "    <tr>\n",
       "      <th>2</th>\n",
       "      <td>2</td>\n",
       "      <td>1.536227e+09</td>\n",
       "      <td>CJLVjs4BByG04mczXc</td>\n",
       "      <td>192.168.100.111</td>\n",
       "      <td>17576.0</td>\n",
       "      <td>173.36.41.67</td>\n",
       "      <td>8081.0</td>\n",
       "      <td>tcp</td>\n",
       "      <td>-</td>\n",
       "      <td>2e-06</td>\n",
       "      <td>...</td>\n",
       "      <td>-</td>\n",
       "      <td>-</td>\n",
       "      <td>0.0</td>\n",
       "      <td>S</td>\n",
       "      <td>2.0</td>\n",
       "      <td>80.0</td>\n",
       "      <td>0.0</td>\n",
       "      <td>0.0</td>\n",
       "      <td>POHScan</td>\n",
       "      <td>NaN</td>\n",
       "    </tr>\n",
       "    <tr>\n",
       "      <th>3</th>\n",
       "      <td>3</td>\n",
       "      <td>1.536227e+09</td>\n",
       "      <td>C0z4uS9AWHDH2s4S7</td>\n",
       "      <td>192.168.100.111</td>\n",
       "      <td>17576.0</td>\n",
       "      <td>87.13.21.104</td>\n",
       "      <td>8081.0</td>\n",
       "      <td>tcp</td>\n",
       "      <td>-</td>\n",
       "      <td>2e-06</td>\n",
       "      <td>...</td>\n",
       "      <td>-</td>\n",
       "      <td>-</td>\n",
       "      <td>0.0</td>\n",
       "      <td>S</td>\n",
       "      <td>2.0</td>\n",
       "      <td>80.0</td>\n",
       "      <td>0.0</td>\n",
       "      <td>0.0</td>\n",
       "      <td>POHScan</td>\n",
       "      <td>NaN</td>\n",
       "    </tr>\n",
       "    <tr>\n",
       "      <th>4</th>\n",
       "      <td>4</td>\n",
       "      <td>1.536227e+09</td>\n",
       "      <td>CxbNVk3liFNUIlqSPi</td>\n",
       "      <td>192.168.100.111</td>\n",
       "      <td>17576.0</td>\n",
       "      <td>99.110.163.140</td>\n",
       "      <td>8081.0</td>\n",
       "      <td>tcp</td>\n",
       "      <td>-</td>\n",
       "      <td>2e-06</td>\n",
       "      <td>...</td>\n",
       "      <td>-</td>\n",
       "      <td>-</td>\n",
       "      <td>0.0</td>\n",
       "      <td>S</td>\n",
       "      <td>2.0</td>\n",
       "      <td>80.0</td>\n",
       "      <td>0.0</td>\n",
       "      <td>0.0</td>\n",
       "      <td>POHScan</td>\n",
       "      <td>NaN</td>\n",
       "    </tr>\n",
       "  </tbody>\n",
       "</table>\n",
       "<p>5 rows × 23 columns</p>\n",
       "</div>"
      ],
      "text/plain": [
       "   Unnamed: 0            ts                 uid        id.orig_h  id.orig_p  \\\n",
       "0           0  1.536227e+09  CeqqKl3hyLQmO8LK98  192.168.100.111    17576.0   \n",
       "1           1  1.536227e+09   C2oHQWo1EFGH8D9x7  192.168.100.111    17576.0   \n",
       "2           2  1.536227e+09  CJLVjs4BByG04mczXc  192.168.100.111    17576.0   \n",
       "3           3  1.536227e+09   C0z4uS9AWHDH2s4S7  192.168.100.111    17576.0   \n",
       "4           4  1.536227e+09  CxbNVk3liFNUIlqSPi  192.168.100.111    17576.0   \n",
       "\n",
       "        id.resp_h  id.resp_p proto service duration  ... local_orig  \\\n",
       "0    78.1.220.212     8081.0   tcp       -    3e-06  ...          -   \n",
       "1    152.84.7.111     8081.0   tcp       -    2e-06  ...          -   \n",
       "2    173.36.41.67     8081.0   tcp       -    2e-06  ...          -   \n",
       "3    87.13.21.104     8081.0   tcp       -    2e-06  ...          -   \n",
       "4  99.110.163.140     8081.0   tcp       -    2e-06  ...          -   \n",
       "\n",
       "  local_resp missed_bytes history orig_pkts  orig_ip_bytes resp_pkts  \\\n",
       "0          -          0.0       S       2.0           80.0       0.0   \n",
       "1          -          0.0       S       2.0           80.0       0.0   \n",
       "2          -          0.0       S       2.0           80.0       0.0   \n",
       "3          -          0.0       S       2.0           80.0       0.0   \n",
       "4          -          0.0       S       2.0           80.0       0.0   \n",
       "\n",
       "   resp_ip_bytes    label  detailed_label  \n",
       "0            0.0  POHScan             NaN  \n",
       "1            0.0  POHScan             NaN  \n",
       "2            0.0  POHScan             NaN  \n",
       "3            0.0  POHScan             NaN  \n",
       "4            0.0  POHScan             NaN  \n",
       "\n",
       "[5 rows x 23 columns]"
      ]
     },
     "execution_count": 3,
     "metadata": {},
     "output_type": "execute_result"
    }
   ],
   "source": [
    "Data.head()"
   ]
  },
  {
   "cell_type": "code",
   "execution_count": 4,
   "metadata": {},
   "outputs": [
    {
     "data": {
      "text/html": [
       "<div>\n",
       "<style scoped>\n",
       "    .dataframe tbody tr th:only-of-type {\n",
       "        vertical-align: middle;\n",
       "    }\n",
       "\n",
       "    .dataframe tbody tr th {\n",
       "        vertical-align: top;\n",
       "    }\n",
       "\n",
       "    .dataframe thead th {\n",
       "        text-align: right;\n",
       "    }\n",
       "</style>\n",
       "<table border=\"1\" class=\"dataframe\">\n",
       "  <thead>\n",
       "    <tr style=\"text-align: right;\">\n",
       "      <th></th>\n",
       "      <th>Unnamed: 0</th>\n",
       "      <th>ts</th>\n",
       "      <th>uid</th>\n",
       "      <th>id.orig_h</th>\n",
       "      <th>id.orig_p</th>\n",
       "      <th>id.resp_h</th>\n",
       "      <th>id.resp_p</th>\n",
       "      <th>proto</th>\n",
       "      <th>service</th>\n",
       "      <th>duration</th>\n",
       "      <th>...</th>\n",
       "      <th>local_orig</th>\n",
       "      <th>local_resp</th>\n",
       "      <th>missed_bytes</th>\n",
       "      <th>history</th>\n",
       "      <th>orig_pkts</th>\n",
       "      <th>orig_ip_bytes</th>\n",
       "      <th>resp_pkts</th>\n",
       "      <th>resp_ip_bytes</th>\n",
       "      <th>label</th>\n",
       "      <th>detailed_label</th>\n",
       "    </tr>\n",
       "  </thead>\n",
       "  <tbody>\n",
       "    <tr>\n",
       "      <th>2803565</th>\n",
       "      <td>122</td>\n",
       "      <td>1.562165e+09</td>\n",
       "      <td>CbiAr234EfpzQInxbg</td>\n",
       "      <td>0.0.0.0</td>\n",
       "      <td>68.0</td>\n",
       "      <td>255.255.255.255</td>\n",
       "      <td>67.0</td>\n",
       "      <td>udp</td>\n",
       "      <td>dhcp</td>\n",
       "      <td>90.034713</td>\n",
       "      <td>...</td>\n",
       "      <td>-</td>\n",
       "      <td>-</td>\n",
       "      <td>0.0</td>\n",
       "      <td>D</td>\n",
       "      <td>11.0</td>\n",
       "      <td>3608.0</td>\n",
       "      <td>0.0</td>\n",
       "      <td>0.0</td>\n",
       "      <td>Benign</td>\n",
       "      <td>NaN</td>\n",
       "    </tr>\n",
       "    <tr>\n",
       "      <th>2803566</th>\n",
       "      <td>123</td>\n",
       "      <td>1.562165e+09</td>\n",
       "      <td>CqEhZf1lYmVokqECn3</td>\n",
       "      <td>::</td>\n",
       "      <td>143.0</td>\n",
       "      <td>ff02::16</td>\n",
       "      <td>0.0</td>\n",
       "      <td>icmp</td>\n",
       "      <td>-</td>\n",
       "      <td>90.39997</td>\n",
       "      <td>...</td>\n",
       "      <td>-</td>\n",
       "      <td>-</td>\n",
       "      <td>0.0</td>\n",
       "      <td>-</td>\n",
       "      <td>9.0</td>\n",
       "      <td>844.0</td>\n",
       "      <td>0.0</td>\n",
       "      <td>0.0</td>\n",
       "      <td>Benign</td>\n",
       "      <td>NaN</td>\n",
       "    </tr>\n",
       "    <tr>\n",
       "      <th>2803567</th>\n",
       "      <td>124</td>\n",
       "      <td>1.562165e+09</td>\n",
       "      <td>Cr5vKO1CGfMQwFp22c</td>\n",
       "      <td>::</td>\n",
       "      <td>135.0</td>\n",
       "      <td>ff02::1:ffd5:cdf</td>\n",
       "      <td>136.0</td>\n",
       "      <td>icmp</td>\n",
       "      <td>-</td>\n",
       "      <td>89.82403000000001</td>\n",
       "      <td>...</td>\n",
       "      <td>-</td>\n",
       "      <td>-</td>\n",
       "      <td>0.0</td>\n",
       "      <td>-</td>\n",
       "      <td>3.0</td>\n",
       "      <td>216.0</td>\n",
       "      <td>0.0</td>\n",
       "      <td>0.0</td>\n",
       "      <td>Benign</td>\n",
       "      <td>NaN</td>\n",
       "    </tr>\n",
       "    <tr>\n",
       "      <th>2803568</th>\n",
       "      <td>125</td>\n",
       "      <td>1.562165e+09</td>\n",
       "      <td>CQ5cJ21U9NUbUWIznd</td>\n",
       "      <td>fe80::5bcc:698e:39d5:cdf</td>\n",
       "      <td>143.0</td>\n",
       "      <td>ff02::16</td>\n",
       "      <td>0.0</td>\n",
       "      <td>icmp</td>\n",
       "      <td>-</td>\n",
       "      <td>45.215915</td>\n",
       "      <td>...</td>\n",
       "      <td>-</td>\n",
       "      <td>-</td>\n",
       "      <td>0.0</td>\n",
       "      <td>-</td>\n",
       "      <td>8.0</td>\n",
       "      <td>648.0</td>\n",
       "      <td>0.0</td>\n",
       "      <td>0.0</td>\n",
       "      <td>Benign</td>\n",
       "      <td>NaN</td>\n",
       "    </tr>\n",
       "    <tr>\n",
       "      <th>2803569</th>\n",
       "      <td>126</td>\n",
       "      <td>1.562165e+09</td>\n",
       "      <td>CjD5ve2qwxfFtvd4zl</td>\n",
       "      <td>fe80::5bcc:698e:39d5:cdf</td>\n",
       "      <td>133.0</td>\n",
       "      <td>ff02::2</td>\n",
       "      <td>134.0</td>\n",
       "      <td>icmp</td>\n",
       "      <td>-</td>\n",
       "      <td>44.242222999999996</td>\n",
       "      <td>...</td>\n",
       "      <td>-</td>\n",
       "      <td>-</td>\n",
       "      <td>0.0</td>\n",
       "      <td>-</td>\n",
       "      <td>2.0</td>\n",
       "      <td>96.0</td>\n",
       "      <td>0.0</td>\n",
       "      <td>0.0</td>\n",
       "      <td>Benign</td>\n",
       "      <td>NaN</td>\n",
       "    </tr>\n",
       "  </tbody>\n",
       "</table>\n",
       "<p>5 rows × 23 columns</p>\n",
       "</div>"
      ],
      "text/plain": [
       "         Unnamed: 0            ts                 uid  \\\n",
       "2803565         122  1.562165e+09  CbiAr234EfpzQInxbg   \n",
       "2803566         123  1.562165e+09  CqEhZf1lYmVokqECn3   \n",
       "2803567         124  1.562165e+09  Cr5vKO1CGfMQwFp22c   \n",
       "2803568         125  1.562165e+09  CQ5cJ21U9NUbUWIznd   \n",
       "2803569         126  1.562165e+09  CjD5ve2qwxfFtvd4zl   \n",
       "\n",
       "                        id.orig_h  id.orig_p         id.resp_h  id.resp_p  \\\n",
       "2803565                   0.0.0.0       68.0   255.255.255.255       67.0   \n",
       "2803566                        ::      143.0          ff02::16        0.0   \n",
       "2803567                        ::      135.0  ff02::1:ffd5:cdf      136.0   \n",
       "2803568  fe80::5bcc:698e:39d5:cdf      143.0          ff02::16        0.0   \n",
       "2803569  fe80::5bcc:698e:39d5:cdf      133.0           ff02::2      134.0   \n",
       "\n",
       "        proto service            duration  ... local_orig local_resp  \\\n",
       "2803565   udp    dhcp           90.034713  ...          -          -   \n",
       "2803566  icmp       -            90.39997  ...          -          -   \n",
       "2803567  icmp       -   89.82403000000001  ...          -          -   \n",
       "2803568  icmp       -           45.215915  ...          -          -   \n",
       "2803569  icmp       -  44.242222999999996  ...          -          -   \n",
       "\n",
       "        missed_bytes history orig_pkts  orig_ip_bytes resp_pkts  \\\n",
       "2803565          0.0       D      11.0         3608.0       0.0   \n",
       "2803566          0.0       -       9.0          844.0       0.0   \n",
       "2803567          0.0       -       3.0          216.0       0.0   \n",
       "2803568          0.0       -       8.0          648.0       0.0   \n",
       "2803569          0.0       -       2.0           96.0       0.0   \n",
       "\n",
       "         resp_ip_bytes   label  detailed_label  \n",
       "2803565            0.0  Benign             NaN  \n",
       "2803566            0.0  Benign             NaN  \n",
       "2803567            0.0  Benign             NaN  \n",
       "2803568            0.0  Benign             NaN  \n",
       "2803569            0.0  Benign             NaN  \n",
       "\n",
       "[5 rows x 23 columns]"
      ]
     },
     "execution_count": 4,
     "metadata": {},
     "output_type": "execute_result"
    }
   ],
   "source": [
    "Data.tail()"
   ]
  },
  {
   "cell_type": "code",
   "execution_count": 5,
   "metadata": {},
   "outputs": [
    {
     "data": {
      "text/plain": [
       "(2803570, 23)"
      ]
     },
     "execution_count": 5,
     "metadata": {},
     "output_type": "execute_result"
    }
   ],
   "source": [
    "Data.shape"
   ]
  },
  {
   "cell_type": "code",
   "execution_count": 6,
   "metadata": {},
   "outputs": [],
   "source": [
    "del Data['Unnamed: 0']"
   ]
  },
  {
   "cell_type": "code",
   "execution_count": 46,
   "metadata": {},
   "outputs": [],
   "source": [
    "df= Data.drop(columns=['history','id.orig_p','id.resp_p','ts','uid','id.orig_h','id.resp_h','local_orig','local_resp','detailed_label'])"
   ]
  },
  {
   "cell_type": "code",
   "execution_count": 47,
   "metadata": {},
   "outputs": [
    {
     "data": {
      "text/html": [
       "<div>\n",
       "<style scoped>\n",
       "    .dataframe tbody tr th:only-of-type {\n",
       "        vertical-align: middle;\n",
       "    }\n",
       "\n",
       "    .dataframe tbody tr th {\n",
       "        vertical-align: top;\n",
       "    }\n",
       "\n",
       "    .dataframe thead th {\n",
       "        text-align: right;\n",
       "    }\n",
       "</style>\n",
       "<table border=\"1\" class=\"dataframe\">\n",
       "  <thead>\n",
       "    <tr style=\"text-align: right;\">\n",
       "      <th></th>\n",
       "      <th>proto</th>\n",
       "      <th>service</th>\n",
       "      <th>duration</th>\n",
       "      <th>orig_bytes</th>\n",
       "      <th>resp_bytes</th>\n",
       "      <th>conn_state</th>\n",
       "      <th>missed_bytes</th>\n",
       "      <th>orig_pkts</th>\n",
       "      <th>orig_ip_bytes</th>\n",
       "      <th>resp_pkts</th>\n",
       "      <th>resp_ip_bytes</th>\n",
       "      <th>label</th>\n",
       "    </tr>\n",
       "  </thead>\n",
       "  <tbody>\n",
       "    <tr>\n",
       "      <th>0</th>\n",
       "      <td>tcp</td>\n",
       "      <td>-</td>\n",
       "      <td>3e-06</td>\n",
       "      <td>0</td>\n",
       "      <td>0</td>\n",
       "      <td>S0</td>\n",
       "      <td>0.0</td>\n",
       "      <td>2.0</td>\n",
       "      <td>80.0</td>\n",
       "      <td>0.0</td>\n",
       "      <td>0.0</td>\n",
       "      <td>POHScan</td>\n",
       "    </tr>\n",
       "    <tr>\n",
       "      <th>1</th>\n",
       "      <td>tcp</td>\n",
       "      <td>-</td>\n",
       "      <td>2e-06</td>\n",
       "      <td>0</td>\n",
       "      <td>0</td>\n",
       "      <td>S0</td>\n",
       "      <td>0.0</td>\n",
       "      <td>2.0</td>\n",
       "      <td>80.0</td>\n",
       "      <td>0.0</td>\n",
       "      <td>0.0</td>\n",
       "      <td>POHScan</td>\n",
       "    </tr>\n",
       "    <tr>\n",
       "      <th>2</th>\n",
       "      <td>tcp</td>\n",
       "      <td>-</td>\n",
       "      <td>2e-06</td>\n",
       "      <td>0</td>\n",
       "      <td>0</td>\n",
       "      <td>S0</td>\n",
       "      <td>0.0</td>\n",
       "      <td>2.0</td>\n",
       "      <td>80.0</td>\n",
       "      <td>0.0</td>\n",
       "      <td>0.0</td>\n",
       "      <td>POHScan</td>\n",
       "    </tr>\n",
       "    <tr>\n",
       "      <th>3</th>\n",
       "      <td>tcp</td>\n",
       "      <td>-</td>\n",
       "      <td>2e-06</td>\n",
       "      <td>0</td>\n",
       "      <td>0</td>\n",
       "      <td>S0</td>\n",
       "      <td>0.0</td>\n",
       "      <td>2.0</td>\n",
       "      <td>80.0</td>\n",
       "      <td>0.0</td>\n",
       "      <td>0.0</td>\n",
       "      <td>POHScan</td>\n",
       "    </tr>\n",
       "    <tr>\n",
       "      <th>4</th>\n",
       "      <td>tcp</td>\n",
       "      <td>-</td>\n",
       "      <td>2e-06</td>\n",
       "      <td>0</td>\n",
       "      <td>0</td>\n",
       "      <td>S0</td>\n",
       "      <td>0.0</td>\n",
       "      <td>2.0</td>\n",
       "      <td>80.0</td>\n",
       "      <td>0.0</td>\n",
       "      <td>0.0</td>\n",
       "      <td>POHScan</td>\n",
       "    </tr>\n",
       "  </tbody>\n",
       "</table>\n",
       "</div>"
      ],
      "text/plain": [
       "  proto service duration orig_bytes resp_bytes conn_state  missed_bytes  \\\n",
       "0   tcp       -    3e-06          0          0         S0           0.0   \n",
       "1   tcp       -    2e-06          0          0         S0           0.0   \n",
       "2   tcp       -    2e-06          0          0         S0           0.0   \n",
       "3   tcp       -    2e-06          0          0         S0           0.0   \n",
       "4   tcp       -    2e-06          0          0         S0           0.0   \n",
       "\n",
       "   orig_pkts  orig_ip_bytes  resp_pkts  resp_ip_bytes    label  \n",
       "0        2.0           80.0        0.0            0.0  POHScan  \n",
       "1        2.0           80.0        0.0            0.0  POHScan  \n",
       "2        2.0           80.0        0.0            0.0  POHScan  \n",
       "3        2.0           80.0        0.0            0.0  POHScan  \n",
       "4        2.0           80.0        0.0            0.0  POHScan  "
      ]
     },
     "execution_count": 47,
     "metadata": {},
     "output_type": "execute_result"
    }
   ],
   "source": [
    "df.head()"
   ]
  },
  {
   "cell_type": "code",
   "execution_count": 48,
   "metadata": {},
   "outputs": [],
   "source": [
    "df.replace('-',0, inplace=True)"
   ]
  },
  {
   "cell_type": "code",
   "execution_count": 49,
   "metadata": {},
   "outputs": [
    {
     "name": "stdout",
     "output_type": "stream",
     "text": [
      "<class 'pandas.core.frame.DataFrame'>\n",
      "RangeIndex: 2803570 entries, 0 to 2803569\n",
      "Data columns (total 12 columns):\n",
      " #   Column         Dtype  \n",
      "---  ------         -----  \n",
      " 0   proto          object \n",
      " 1   service        object \n",
      " 2   duration       object \n",
      " 3   orig_bytes     object \n",
      " 4   resp_bytes     object \n",
      " 5   conn_state     object \n",
      " 6   missed_bytes   float64\n",
      " 7   orig_pkts      float64\n",
      " 8   orig_ip_bytes  float64\n",
      " 9   resp_pkts      float64\n",
      " 10  resp_ip_bytes  float64\n",
      " 11  label          object \n",
      "dtypes: float64(5), object(7)\n",
      "memory usage: 256.7+ MB\n"
     ]
    }
   ],
   "source": [
    "df.info()"
   ]
  },
  {
   "cell_type": "code",
   "execution_count": 50,
   "metadata": {},
   "outputs": [],
   "source": [
    "X=df"
   ]
  },
  {
   "cell_type": "code",
   "execution_count": 51,
   "metadata": {},
   "outputs": [],
   "source": [
    "X['orig_bytes']=X['orig_bytes'].astype(float)\n",
    "X['duration']=X['duration'].astype(float)\n",
    "X['resp_bytes']=X['resp_bytes'].astype(float)"
   ]
  },
  {
   "cell_type": "code",
   "execution_count": 52,
   "metadata": {},
   "outputs": [
    {
     "name": "stdout",
     "output_type": "stream",
     "text": [
      "<class 'pandas.core.frame.DataFrame'>\n",
      "RangeIndex: 2803570 entries, 0 to 2803569\n",
      "Data columns (total 12 columns):\n",
      " #   Column         Dtype  \n",
      "---  ------         -----  \n",
      " 0   proto          object \n",
      " 1   service        object \n",
      " 2   duration       float64\n",
      " 3   orig_bytes     float64\n",
      " 4   resp_bytes     float64\n",
      " 5   conn_state     object \n",
      " 6   missed_bytes   float64\n",
      " 7   orig_pkts      float64\n",
      " 8   orig_ip_bytes  float64\n",
      " 9   resp_pkts      float64\n",
      " 10  resp_ip_bytes  float64\n",
      " 11  label          object \n",
      "dtypes: float64(8), object(4)\n",
      "memory usage: 256.7+ MB\n"
     ]
    }
   ],
   "source": [
    "df.info()"
   ]
  },
  {
   "cell_type": "code",
   "execution_count": 53,
   "metadata": {},
   "outputs": [
    {
     "data": {
      "text/plain": [
       "(2803570, 12)"
      ]
     },
     "execution_count": 53,
     "metadata": {},
     "output_type": "execute_result"
    }
   ],
   "source": [
    "X.shape"
   ]
  },
  {
   "cell_type": "code",
   "execution_count": 54,
   "metadata": {},
   "outputs": [],
   "source": [
    "Xt=X.iloc[:,:-1]"
   ]
  },
  {
   "cell_type": "code",
   "execution_count": 55,
   "metadata": {},
   "outputs": [],
   "source": [
    "y=X['label']"
   ]
  },
  {
   "cell_type": "code",
   "execution_count": 56,
   "metadata": {},
   "outputs": [],
   "source": [
    "cat_df =Xt.select_dtypes(include=['object']).copy()"
   ]
  },
  {
   "cell_type": "code",
   "execution_count": 57,
   "metadata": {},
   "outputs": [
    {
     "data": {
      "text/html": [
       "<div>\n",
       "<style scoped>\n",
       "    .dataframe tbody tr th:only-of-type {\n",
       "        vertical-align: middle;\n",
       "    }\n",
       "\n",
       "    .dataframe tbody tr th {\n",
       "        vertical-align: top;\n",
       "    }\n",
       "\n",
       "    .dataframe thead th {\n",
       "        text-align: right;\n",
       "    }\n",
       "</style>\n",
       "<table border=\"1\" class=\"dataframe\">\n",
       "  <thead>\n",
       "    <tr style=\"text-align: right;\">\n",
       "      <th></th>\n",
       "      <th>proto</th>\n",
       "      <th>service</th>\n",
       "      <th>conn_state</th>\n",
       "    </tr>\n",
       "  </thead>\n",
       "  <tbody>\n",
       "    <tr>\n",
       "      <th>0</th>\n",
       "      <td>tcp</td>\n",
       "      <td>0</td>\n",
       "      <td>S0</td>\n",
       "    </tr>\n",
       "    <tr>\n",
       "      <th>1</th>\n",
       "      <td>tcp</td>\n",
       "      <td>0</td>\n",
       "      <td>S0</td>\n",
       "    </tr>\n",
       "    <tr>\n",
       "      <th>2</th>\n",
       "      <td>tcp</td>\n",
       "      <td>0</td>\n",
       "      <td>S0</td>\n",
       "    </tr>\n",
       "    <tr>\n",
       "      <th>3</th>\n",
       "      <td>tcp</td>\n",
       "      <td>0</td>\n",
       "      <td>S0</td>\n",
       "    </tr>\n",
       "    <tr>\n",
       "      <th>4</th>\n",
       "      <td>tcp</td>\n",
       "      <td>0</td>\n",
       "      <td>S0</td>\n",
       "    </tr>\n",
       "    <tr>\n",
       "      <th>...</th>\n",
       "      <td>...</td>\n",
       "      <td>...</td>\n",
       "      <td>...</td>\n",
       "    </tr>\n",
       "    <tr>\n",
       "      <th>2803565</th>\n",
       "      <td>udp</td>\n",
       "      <td>dhcp</td>\n",
       "      <td>S0</td>\n",
       "    </tr>\n",
       "    <tr>\n",
       "      <th>2803566</th>\n",
       "      <td>icmp</td>\n",
       "      <td>0</td>\n",
       "      <td>OTH</td>\n",
       "    </tr>\n",
       "    <tr>\n",
       "      <th>2803567</th>\n",
       "      <td>icmp</td>\n",
       "      <td>0</td>\n",
       "      <td>OTH</td>\n",
       "    </tr>\n",
       "    <tr>\n",
       "      <th>2803568</th>\n",
       "      <td>icmp</td>\n",
       "      <td>0</td>\n",
       "      <td>OTH</td>\n",
       "    </tr>\n",
       "    <tr>\n",
       "      <th>2803569</th>\n",
       "      <td>icmp</td>\n",
       "      <td>0</td>\n",
       "      <td>OTH</td>\n",
       "    </tr>\n",
       "  </tbody>\n",
       "</table>\n",
       "<p>2803570 rows × 3 columns</p>\n",
       "</div>"
      ],
      "text/plain": [
       "        proto service conn_state\n",
       "0         tcp       0         S0\n",
       "1         tcp       0         S0\n",
       "2         tcp       0         S0\n",
       "3         tcp       0         S0\n",
       "4         tcp       0         S0\n",
       "...       ...     ...        ...\n",
       "2803565   udp    dhcp         S0\n",
       "2803566  icmp       0        OTH\n",
       "2803567  icmp       0        OTH\n",
       "2803568  icmp       0        OTH\n",
       "2803569  icmp       0        OTH\n",
       "\n",
       "[2803570 rows x 3 columns]"
      ]
     },
     "execution_count": 57,
     "metadata": {},
     "output_type": "execute_result"
    }
   ],
   "source": [
    "cat_df"
   ]
  },
  {
   "cell_type": "code",
   "execution_count": 58,
   "metadata": {},
   "outputs": [],
   "source": [
    "cat_new= pd.get_dummies(cat_df, columns=['proto','service','conn_state'])"
   ]
  },
  {
   "cell_type": "code",
   "execution_count": 45,
   "metadata": {},
   "outputs": [
    {
     "data": {
      "text/html": [
       "<div>\n",
       "<style scoped>\n",
       "    .dataframe tbody tr th:only-of-type {\n",
       "        vertical-align: middle;\n",
       "    }\n",
       "\n",
       "    .dataframe tbody tr th {\n",
       "        vertical-align: top;\n",
       "    }\n",
       "\n",
       "    .dataframe thead th {\n",
       "        text-align: right;\n",
       "    }\n",
       "</style>\n",
       "<table border=\"1\" class=\"dataframe\">\n",
       "  <thead>\n",
       "    <tr style=\"text-align: right;\">\n",
       "      <th></th>\n",
       "      <th>history</th>\n",
       "      <th>proto_icmp</th>\n",
       "      <th>proto_tcp</th>\n",
       "      <th>proto_udp</th>\n",
       "      <th>service_0</th>\n",
       "      <th>service_dhcp</th>\n",
       "      <th>service_dns</th>\n",
       "      <th>service_http</th>\n",
       "      <th>service_irc</th>\n",
       "      <th>service_ssh</th>\n",
       "      <th>...</th>\n",
       "      <th>conn_state_RSTOS0</th>\n",
       "      <th>conn_state_RSTR</th>\n",
       "      <th>conn_state_RSTRH</th>\n",
       "      <th>conn_state_S0</th>\n",
       "      <th>conn_state_S1</th>\n",
       "      <th>conn_state_S2</th>\n",
       "      <th>conn_state_S3</th>\n",
       "      <th>conn_state_SF</th>\n",
       "      <th>conn_state_SH</th>\n",
       "      <th>conn_state_SHR</th>\n",
       "    </tr>\n",
       "  </thead>\n",
       "  <tbody>\n",
       "    <tr>\n",
       "      <th>0</th>\n",
       "      <td>S</td>\n",
       "      <td>0</td>\n",
       "      <td>1</td>\n",
       "      <td>0</td>\n",
       "      <td>1</td>\n",
       "      <td>0</td>\n",
       "      <td>0</td>\n",
       "      <td>0</td>\n",
       "      <td>0</td>\n",
       "      <td>0</td>\n",
       "      <td>...</td>\n",
       "      <td>0</td>\n",
       "      <td>0</td>\n",
       "      <td>0</td>\n",
       "      <td>1</td>\n",
       "      <td>0</td>\n",
       "      <td>0</td>\n",
       "      <td>0</td>\n",
       "      <td>0</td>\n",
       "      <td>0</td>\n",
       "      <td>0</td>\n",
       "    </tr>\n",
       "    <tr>\n",
       "      <th>1</th>\n",
       "      <td>S</td>\n",
       "      <td>0</td>\n",
       "      <td>1</td>\n",
       "      <td>0</td>\n",
       "      <td>1</td>\n",
       "      <td>0</td>\n",
       "      <td>0</td>\n",
       "      <td>0</td>\n",
       "      <td>0</td>\n",
       "      <td>0</td>\n",
       "      <td>...</td>\n",
       "      <td>0</td>\n",
       "      <td>0</td>\n",
       "      <td>0</td>\n",
       "      <td>1</td>\n",
       "      <td>0</td>\n",
       "      <td>0</td>\n",
       "      <td>0</td>\n",
       "      <td>0</td>\n",
       "      <td>0</td>\n",
       "      <td>0</td>\n",
       "    </tr>\n",
       "    <tr>\n",
       "      <th>2</th>\n",
       "      <td>S</td>\n",
       "      <td>0</td>\n",
       "      <td>1</td>\n",
       "      <td>0</td>\n",
       "      <td>1</td>\n",
       "      <td>0</td>\n",
       "      <td>0</td>\n",
       "      <td>0</td>\n",
       "      <td>0</td>\n",
       "      <td>0</td>\n",
       "      <td>...</td>\n",
       "      <td>0</td>\n",
       "      <td>0</td>\n",
       "      <td>0</td>\n",
       "      <td>1</td>\n",
       "      <td>0</td>\n",
       "      <td>0</td>\n",
       "      <td>0</td>\n",
       "      <td>0</td>\n",
       "      <td>0</td>\n",
       "      <td>0</td>\n",
       "    </tr>\n",
       "    <tr>\n",
       "      <th>3</th>\n",
       "      <td>S</td>\n",
       "      <td>0</td>\n",
       "      <td>1</td>\n",
       "      <td>0</td>\n",
       "      <td>1</td>\n",
       "      <td>0</td>\n",
       "      <td>0</td>\n",
       "      <td>0</td>\n",
       "      <td>0</td>\n",
       "      <td>0</td>\n",
       "      <td>...</td>\n",
       "      <td>0</td>\n",
       "      <td>0</td>\n",
       "      <td>0</td>\n",
       "      <td>1</td>\n",
       "      <td>0</td>\n",
       "      <td>0</td>\n",
       "      <td>0</td>\n",
       "      <td>0</td>\n",
       "      <td>0</td>\n",
       "      <td>0</td>\n",
       "    </tr>\n",
       "    <tr>\n",
       "      <th>4</th>\n",
       "      <td>S</td>\n",
       "      <td>0</td>\n",
       "      <td>1</td>\n",
       "      <td>0</td>\n",
       "      <td>1</td>\n",
       "      <td>0</td>\n",
       "      <td>0</td>\n",
       "      <td>0</td>\n",
       "      <td>0</td>\n",
       "      <td>0</td>\n",
       "      <td>...</td>\n",
       "      <td>0</td>\n",
       "      <td>0</td>\n",
       "      <td>0</td>\n",
       "      <td>1</td>\n",
       "      <td>0</td>\n",
       "      <td>0</td>\n",
       "      <td>0</td>\n",
       "      <td>0</td>\n",
       "      <td>0</td>\n",
       "      <td>0</td>\n",
       "    </tr>\n",
       "    <tr>\n",
       "      <th>...</th>\n",
       "      <td>...</td>\n",
       "      <td>...</td>\n",
       "      <td>...</td>\n",
       "      <td>...</td>\n",
       "      <td>...</td>\n",
       "      <td>...</td>\n",
       "      <td>...</td>\n",
       "      <td>...</td>\n",
       "      <td>...</td>\n",
       "      <td>...</td>\n",
       "      <td>...</td>\n",
       "      <td>...</td>\n",
       "      <td>...</td>\n",
       "      <td>...</td>\n",
       "      <td>...</td>\n",
       "      <td>...</td>\n",
       "      <td>...</td>\n",
       "      <td>...</td>\n",
       "      <td>...</td>\n",
       "      <td>...</td>\n",
       "      <td>...</td>\n",
       "    </tr>\n",
       "    <tr>\n",
       "      <th>2803565</th>\n",
       "      <td>D</td>\n",
       "      <td>0</td>\n",
       "      <td>0</td>\n",
       "      <td>1</td>\n",
       "      <td>0</td>\n",
       "      <td>1</td>\n",
       "      <td>0</td>\n",
       "      <td>0</td>\n",
       "      <td>0</td>\n",
       "      <td>0</td>\n",
       "      <td>...</td>\n",
       "      <td>0</td>\n",
       "      <td>0</td>\n",
       "      <td>0</td>\n",
       "      <td>1</td>\n",
       "      <td>0</td>\n",
       "      <td>0</td>\n",
       "      <td>0</td>\n",
       "      <td>0</td>\n",
       "      <td>0</td>\n",
       "      <td>0</td>\n",
       "    </tr>\n",
       "    <tr>\n",
       "      <th>2803566</th>\n",
       "      <td>0</td>\n",
       "      <td>1</td>\n",
       "      <td>0</td>\n",
       "      <td>0</td>\n",
       "      <td>1</td>\n",
       "      <td>0</td>\n",
       "      <td>0</td>\n",
       "      <td>0</td>\n",
       "      <td>0</td>\n",
       "      <td>0</td>\n",
       "      <td>...</td>\n",
       "      <td>0</td>\n",
       "      <td>0</td>\n",
       "      <td>0</td>\n",
       "      <td>0</td>\n",
       "      <td>0</td>\n",
       "      <td>0</td>\n",
       "      <td>0</td>\n",
       "      <td>0</td>\n",
       "      <td>0</td>\n",
       "      <td>0</td>\n",
       "    </tr>\n",
       "    <tr>\n",
       "      <th>2803567</th>\n",
       "      <td>0</td>\n",
       "      <td>1</td>\n",
       "      <td>0</td>\n",
       "      <td>0</td>\n",
       "      <td>1</td>\n",
       "      <td>0</td>\n",
       "      <td>0</td>\n",
       "      <td>0</td>\n",
       "      <td>0</td>\n",
       "      <td>0</td>\n",
       "      <td>...</td>\n",
       "      <td>0</td>\n",
       "      <td>0</td>\n",
       "      <td>0</td>\n",
       "      <td>0</td>\n",
       "      <td>0</td>\n",
       "      <td>0</td>\n",
       "      <td>0</td>\n",
       "      <td>0</td>\n",
       "      <td>0</td>\n",
       "      <td>0</td>\n",
       "    </tr>\n",
       "    <tr>\n",
       "      <th>2803568</th>\n",
       "      <td>0</td>\n",
       "      <td>1</td>\n",
       "      <td>0</td>\n",
       "      <td>0</td>\n",
       "      <td>1</td>\n",
       "      <td>0</td>\n",
       "      <td>0</td>\n",
       "      <td>0</td>\n",
       "      <td>0</td>\n",
       "      <td>0</td>\n",
       "      <td>...</td>\n",
       "      <td>0</td>\n",
       "      <td>0</td>\n",
       "      <td>0</td>\n",
       "      <td>0</td>\n",
       "      <td>0</td>\n",
       "      <td>0</td>\n",
       "      <td>0</td>\n",
       "      <td>0</td>\n",
       "      <td>0</td>\n",
       "      <td>0</td>\n",
       "    </tr>\n",
       "    <tr>\n",
       "      <th>2803569</th>\n",
       "      <td>0</td>\n",
       "      <td>1</td>\n",
       "      <td>0</td>\n",
       "      <td>0</td>\n",
       "      <td>1</td>\n",
       "      <td>0</td>\n",
       "      <td>0</td>\n",
       "      <td>0</td>\n",
       "      <td>0</td>\n",
       "      <td>0</td>\n",
       "      <td>...</td>\n",
       "      <td>0</td>\n",
       "      <td>0</td>\n",
       "      <td>0</td>\n",
       "      <td>0</td>\n",
       "      <td>0</td>\n",
       "      <td>0</td>\n",
       "      <td>0</td>\n",
       "      <td>0</td>\n",
       "      <td>0</td>\n",
       "      <td>0</td>\n",
       "    </tr>\n",
       "  </tbody>\n",
       "</table>\n",
       "<p>2803570 rows × 24 columns</p>\n",
       "</div>"
      ],
      "text/plain": [
       "        history  proto_icmp  proto_tcp  proto_udp  service_0  service_dhcp  \\\n",
       "0             S           0          1          0          1             0   \n",
       "1             S           0          1          0          1             0   \n",
       "2             S           0          1          0          1             0   \n",
       "3             S           0          1          0          1             0   \n",
       "4             S           0          1          0          1             0   \n",
       "...         ...         ...        ...        ...        ...           ...   \n",
       "2803565       D           0          0          1          0             1   \n",
       "2803566       0           1          0          0          1             0   \n",
       "2803567       0           1          0          0          1             0   \n",
       "2803568       0           1          0          0          1             0   \n",
       "2803569       0           1          0          0          1             0   \n",
       "\n",
       "         service_dns  service_http  service_irc  service_ssh  ...  \\\n",
       "0                  0             0            0            0  ...   \n",
       "1                  0             0            0            0  ...   \n",
       "2                  0             0            0            0  ...   \n",
       "3                  0             0            0            0  ...   \n",
       "4                  0             0            0            0  ...   \n",
       "...              ...           ...          ...          ...  ...   \n",
       "2803565            0             0            0            0  ...   \n",
       "2803566            0             0            0            0  ...   \n",
       "2803567            0             0            0            0  ...   \n",
       "2803568            0             0            0            0  ...   \n",
       "2803569            0             0            0            0  ...   \n",
       "\n",
       "         conn_state_RSTOS0  conn_state_RSTR  conn_state_RSTRH  conn_state_S0  \\\n",
       "0                        0                0                 0              1   \n",
       "1                        0                0                 0              1   \n",
       "2                        0                0                 0              1   \n",
       "3                        0                0                 0              1   \n",
       "4                        0                0                 0              1   \n",
       "...                    ...              ...               ...            ...   \n",
       "2803565                  0                0                 0              1   \n",
       "2803566                  0                0                 0              0   \n",
       "2803567                  0                0                 0              0   \n",
       "2803568                  0                0                 0              0   \n",
       "2803569                  0                0                 0              0   \n",
       "\n",
       "         conn_state_S1  conn_state_S2  conn_state_S3  conn_state_SF  \\\n",
       "0                    0              0              0              0   \n",
       "1                    0              0              0              0   \n",
       "2                    0              0              0              0   \n",
       "3                    0              0              0              0   \n",
       "4                    0              0              0              0   \n",
       "...                ...            ...            ...            ...   \n",
       "2803565              0              0              0              0   \n",
       "2803566              0              0              0              0   \n",
       "2803567              0              0              0              0   \n",
       "2803568              0              0              0              0   \n",
       "2803569              0              0              0              0   \n",
       "\n",
       "         conn_state_SH  conn_state_SHR  \n",
       "0                    0               0  \n",
       "1                    0               0  \n",
       "2                    0               0  \n",
       "3                    0               0  \n",
       "4                    0               0  \n",
       "...                ...             ...  \n",
       "2803565              0               0  \n",
       "2803566              0               0  \n",
       "2803567              0               0  \n",
       "2803568              0               0  \n",
       "2803569              0               0  \n",
       "\n",
       "[2803570 rows x 24 columns]"
      ]
     },
     "execution_count": 45,
     "metadata": {},
     "output_type": "execute_result"
    }
   ],
   "source": [
    "cat_new"
   ]
  },
  {
   "cell_type": "code",
   "execution_count": 59,
   "metadata": {},
   "outputs": [],
   "source": [
    "num_df =X.select_dtypes(exclude=['object']).copy()"
   ]
  },
  {
   "cell_type": "code",
   "execution_count": 60,
   "metadata": {},
   "outputs": [],
   "source": [
    "Xe = pd.concat([num_df,cat_new], axis=1)"
   ]
  },
  {
   "cell_type": "code",
   "execution_count": 61,
   "metadata": {},
   "outputs": [
    {
     "data": {
      "text/html": [
       "<div>\n",
       "<style scoped>\n",
       "    .dataframe tbody tr th:only-of-type {\n",
       "        vertical-align: middle;\n",
       "    }\n",
       "\n",
       "    .dataframe tbody tr th {\n",
       "        vertical-align: top;\n",
       "    }\n",
       "\n",
       "    .dataframe thead th {\n",
       "        text-align: right;\n",
       "    }\n",
       "</style>\n",
       "<table border=\"1\" class=\"dataframe\">\n",
       "  <thead>\n",
       "    <tr style=\"text-align: right;\">\n",
       "      <th></th>\n",
       "      <th>duration</th>\n",
       "      <th>orig_bytes</th>\n",
       "      <th>resp_bytes</th>\n",
       "      <th>missed_bytes</th>\n",
       "      <th>orig_pkts</th>\n",
       "      <th>orig_ip_bytes</th>\n",
       "      <th>resp_pkts</th>\n",
       "      <th>resp_ip_bytes</th>\n",
       "      <th>proto_icmp</th>\n",
       "      <th>proto_tcp</th>\n",
       "      <th>...</th>\n",
       "      <th>conn_state_RSTOS0</th>\n",
       "      <th>conn_state_RSTR</th>\n",
       "      <th>conn_state_RSTRH</th>\n",
       "      <th>conn_state_S0</th>\n",
       "      <th>conn_state_S1</th>\n",
       "      <th>conn_state_S2</th>\n",
       "      <th>conn_state_S3</th>\n",
       "      <th>conn_state_SF</th>\n",
       "      <th>conn_state_SH</th>\n",
       "      <th>conn_state_SHR</th>\n",
       "    </tr>\n",
       "  </thead>\n",
       "  <tbody>\n",
       "    <tr>\n",
       "      <th>0</th>\n",
       "      <td>0.000003</td>\n",
       "      <td>0.0</td>\n",
       "      <td>0.0</td>\n",
       "      <td>0.0</td>\n",
       "      <td>2.0</td>\n",
       "      <td>80.0</td>\n",
       "      <td>0.0</td>\n",
       "      <td>0.0</td>\n",
       "      <td>0</td>\n",
       "      <td>1</td>\n",
       "      <td>...</td>\n",
       "      <td>0</td>\n",
       "      <td>0</td>\n",
       "      <td>0</td>\n",
       "      <td>1</td>\n",
       "      <td>0</td>\n",
       "      <td>0</td>\n",
       "      <td>0</td>\n",
       "      <td>0</td>\n",
       "      <td>0</td>\n",
       "      <td>0</td>\n",
       "    </tr>\n",
       "    <tr>\n",
       "      <th>1</th>\n",
       "      <td>0.000002</td>\n",
       "      <td>0.0</td>\n",
       "      <td>0.0</td>\n",
       "      <td>0.0</td>\n",
       "      <td>2.0</td>\n",
       "      <td>80.0</td>\n",
       "      <td>0.0</td>\n",
       "      <td>0.0</td>\n",
       "      <td>0</td>\n",
       "      <td>1</td>\n",
       "      <td>...</td>\n",
       "      <td>0</td>\n",
       "      <td>0</td>\n",
       "      <td>0</td>\n",
       "      <td>1</td>\n",
       "      <td>0</td>\n",
       "      <td>0</td>\n",
       "      <td>0</td>\n",
       "      <td>0</td>\n",
       "      <td>0</td>\n",
       "      <td>0</td>\n",
       "    </tr>\n",
       "    <tr>\n",
       "      <th>2</th>\n",
       "      <td>0.000002</td>\n",
       "      <td>0.0</td>\n",
       "      <td>0.0</td>\n",
       "      <td>0.0</td>\n",
       "      <td>2.0</td>\n",
       "      <td>80.0</td>\n",
       "      <td>0.0</td>\n",
       "      <td>0.0</td>\n",
       "      <td>0</td>\n",
       "      <td>1</td>\n",
       "      <td>...</td>\n",
       "      <td>0</td>\n",
       "      <td>0</td>\n",
       "      <td>0</td>\n",
       "      <td>1</td>\n",
       "      <td>0</td>\n",
       "      <td>0</td>\n",
       "      <td>0</td>\n",
       "      <td>0</td>\n",
       "      <td>0</td>\n",
       "      <td>0</td>\n",
       "    </tr>\n",
       "    <tr>\n",
       "      <th>3</th>\n",
       "      <td>0.000002</td>\n",
       "      <td>0.0</td>\n",
       "      <td>0.0</td>\n",
       "      <td>0.0</td>\n",
       "      <td>2.0</td>\n",
       "      <td>80.0</td>\n",
       "      <td>0.0</td>\n",
       "      <td>0.0</td>\n",
       "      <td>0</td>\n",
       "      <td>1</td>\n",
       "      <td>...</td>\n",
       "      <td>0</td>\n",
       "      <td>0</td>\n",
       "      <td>0</td>\n",
       "      <td>1</td>\n",
       "      <td>0</td>\n",
       "      <td>0</td>\n",
       "      <td>0</td>\n",
       "      <td>0</td>\n",
       "      <td>0</td>\n",
       "      <td>0</td>\n",
       "    </tr>\n",
       "    <tr>\n",
       "      <th>4</th>\n",
       "      <td>0.000002</td>\n",
       "      <td>0.0</td>\n",
       "      <td>0.0</td>\n",
       "      <td>0.0</td>\n",
       "      <td>2.0</td>\n",
       "      <td>80.0</td>\n",
       "      <td>0.0</td>\n",
       "      <td>0.0</td>\n",
       "      <td>0</td>\n",
       "      <td>1</td>\n",
       "      <td>...</td>\n",
       "      <td>0</td>\n",
       "      <td>0</td>\n",
       "      <td>0</td>\n",
       "      <td>1</td>\n",
       "      <td>0</td>\n",
       "      <td>0</td>\n",
       "      <td>0</td>\n",
       "      <td>0</td>\n",
       "      <td>0</td>\n",
       "      <td>0</td>\n",
       "    </tr>\n",
       "  </tbody>\n",
       "</table>\n",
       "<p>5 rows × 31 columns</p>\n",
       "</div>"
      ],
      "text/plain": [
       "   duration  orig_bytes  resp_bytes  missed_bytes  orig_pkts  orig_ip_bytes  \\\n",
       "0  0.000003         0.0         0.0           0.0        2.0           80.0   \n",
       "1  0.000002         0.0         0.0           0.0        2.0           80.0   \n",
       "2  0.000002         0.0         0.0           0.0        2.0           80.0   \n",
       "3  0.000002         0.0         0.0           0.0        2.0           80.0   \n",
       "4  0.000002         0.0         0.0           0.0        2.0           80.0   \n",
       "\n",
       "   resp_pkts  resp_ip_bytes  proto_icmp  proto_tcp  ...  conn_state_RSTOS0  \\\n",
       "0        0.0            0.0           0          1  ...                  0   \n",
       "1        0.0            0.0           0          1  ...                  0   \n",
       "2        0.0            0.0           0          1  ...                  0   \n",
       "3        0.0            0.0           0          1  ...                  0   \n",
       "4        0.0            0.0           0          1  ...                  0   \n",
       "\n",
       "   conn_state_RSTR  conn_state_RSTRH  conn_state_S0  conn_state_S1  \\\n",
       "0                0                 0              1              0   \n",
       "1                0                 0              1              0   \n",
       "2                0                 0              1              0   \n",
       "3                0                 0              1              0   \n",
       "4                0                 0              1              0   \n",
       "\n",
       "   conn_state_S2  conn_state_S3  conn_state_SF  conn_state_SH  conn_state_SHR  \n",
       "0              0              0              0              0               0  \n",
       "1              0              0              0              0               0  \n",
       "2              0              0              0              0               0  \n",
       "3              0              0              0              0               0  \n",
       "4              0              0              0              0               0  \n",
       "\n",
       "[5 rows x 31 columns]"
      ]
     },
     "execution_count": 61,
     "metadata": {},
     "output_type": "execute_result"
    }
   ],
   "source": [
    "Xe.head()"
   ]
  },
  {
   "cell_type": "code",
   "execution_count": 62,
   "metadata": {},
   "outputs": [
    {
     "name": "stdout",
     "output_type": "stream",
     "text": [
      "<class 'pandas.core.frame.DataFrame'>\n",
      "RangeIndex: 2803570 entries, 0 to 2803569\n",
      "Data columns (total 31 columns):\n",
      " #   Column             Dtype  \n",
      "---  ------             -----  \n",
      " 0   duration           float64\n",
      " 1   orig_bytes         float64\n",
      " 2   resp_bytes         float64\n",
      " 3   missed_bytes       float64\n",
      " 4   orig_pkts          float64\n",
      " 5   orig_ip_bytes      float64\n",
      " 6   resp_pkts          float64\n",
      " 7   resp_ip_bytes      float64\n",
      " 8   proto_icmp         uint8  \n",
      " 9   proto_tcp          uint8  \n",
      " 10  proto_udp          uint8  \n",
      " 11  service_0          uint8  \n",
      " 12  service_dhcp       uint8  \n",
      " 13  service_dns        uint8  \n",
      " 14  service_http       uint8  \n",
      " 15  service_irc        uint8  \n",
      " 16  service_ssh        uint8  \n",
      " 17  service_ssl        uint8  \n",
      " 18  conn_state_OTH     uint8  \n",
      " 19  conn_state_REJ     uint8  \n",
      " 20  conn_state_RSTO    uint8  \n",
      " 21  conn_state_RSTOS0  uint8  \n",
      " 22  conn_state_RSTR    uint8  \n",
      " 23  conn_state_RSTRH   uint8  \n",
      " 24  conn_state_S0      uint8  \n",
      " 25  conn_state_S1      uint8  \n",
      " 26  conn_state_S2      uint8  \n",
      " 27  conn_state_S3      uint8  \n",
      " 28  conn_state_SF      uint8  \n",
      " 29  conn_state_SH      uint8  \n",
      " 30  conn_state_SHR     uint8  \n",
      "dtypes: float64(8), uint8(23)\n",
      "memory usage: 232.6 MB\n"
     ]
    }
   ],
   "source": [
    "Xe.info()"
   ]
  },
  {
   "cell_type": "code",
   "execution_count": 64,
   "metadata": {},
   "outputs": [],
   "source": [
    "Xe = np.asarray(Xe).astype(np.float32)"
   ]
  },
  {
   "cell_type": "code",
   "execution_count": null,
   "metadata": {},
   "outputs": [],
   "source": []
  },
  {
   "cell_type": "markdown",
   "metadata": {},
   "source": [
    "Let us encode the dummy encode the variables "
   ]
  },
  {
   "cell_type": "code",
   "execution_count": 65,
   "metadata": {},
   "outputs": [],
   "source": [
    "Y = pd.get_dummies(y).values"
   ]
  },
  {
   "cell_type": "code",
   "execution_count": 66,
   "metadata": {},
   "outputs": [
    {
     "data": {
      "text/plain": [
       "(2803570, 8)"
      ]
     },
     "execution_count": 66,
     "metadata": {},
     "output_type": "execute_result"
    }
   ],
   "source": [
    "Y.shape"
   ]
  },
  {
   "cell_type": "code",
   "execution_count": 67,
   "metadata": {},
   "outputs": [],
   "source": [
    "x_scaler=MinMaxScaler()"
   ]
  },
  {
   "cell_type": "code",
   "execution_count": 68,
   "metadata": {},
   "outputs": [
    {
     "data": {
      "text/plain": [
       "MinMaxScaler()"
      ]
     },
     "execution_count": 68,
     "metadata": {},
     "output_type": "execute_result"
    }
   ],
   "source": [
    "x_scaler.fit(Xe)"
   ]
  },
  {
   "cell_type": "code",
   "execution_count": 70,
   "metadata": {},
   "outputs": [],
   "source": [
    "Normalized_x=x_scaler.transform(Xe)"
   ]
  },
  {
   "cell_type": "code",
   "execution_count": 71,
   "metadata": {},
   "outputs": [
    {
     "data": {
      "text/plain": [
       "array([[3.8051593e-11, 0.0000000e+00, 0.0000000e+00, ..., 0.0000000e+00,\n",
       "        0.0000000e+00, 0.0000000e+00],\n",
       "       [2.5367729e-11, 0.0000000e+00, 0.0000000e+00, ..., 0.0000000e+00,\n",
       "        0.0000000e+00, 0.0000000e+00],\n",
       "       [2.5367729e-11, 0.0000000e+00, 0.0000000e+00, ..., 0.0000000e+00,\n",
       "        0.0000000e+00, 0.0000000e+00],\n",
       "       ...,\n",
       "       [1.1393158e-03, 7.4817073e-08, 0.0000000e+00, ..., 0.0000000e+00,\n",
       "        0.0000000e+00, 0.0000000e+00],\n",
       "       [5.7351252e-04, 2.0782520e-07, 0.0000000e+00, ..., 0.0000000e+00,\n",
       "        0.0000000e+00, 0.0000000e+00],\n",
       "       [5.6116231e-04, 0.0000000e+00, 0.0000000e+00, ..., 0.0000000e+00,\n",
       "        0.0000000e+00, 0.0000000e+00]], dtype=float32)"
      ]
     },
     "execution_count": 71,
     "metadata": {},
     "output_type": "execute_result"
    }
   ],
   "source": [
    "Normalized_x"
   ]
  },
  {
   "cell_type": "code",
   "execution_count": 72,
   "metadata": {},
   "outputs": [
    {
     "data": {
      "text/plain": [
       "(2803570, 31)"
      ]
     },
     "execution_count": 72,
     "metadata": {},
     "output_type": "execute_result"
    }
   ],
   "source": [
    "Normalized_x.shape"
   ]
  },
  {
   "cell_type": "code",
   "execution_count": 73,
   "metadata": {},
   "outputs": [
    {
     "data": {
      "text/plain": [
       "MinMaxScaler()"
      ]
     },
     "execution_count": 73,
     "metadata": {},
     "output_type": "execute_result"
    }
   ],
   "source": [
    "x_scaler.fit(Y)"
   ]
  },
  {
   "cell_type": "code",
   "execution_count": 74,
   "metadata": {},
   "outputs": [],
   "source": [
    "normalized_y = x_scaler.transform(Y)"
   ]
  },
  {
   "cell_type": "code",
   "execution_count": 75,
   "metadata": {},
   "outputs": [
    {
     "data": {
      "text/plain": [
       "array([[0., 0., 0., ..., 0., 0., 1.],\n",
       "       [0., 0., 0., ..., 0., 0., 1.],\n",
       "       [0., 0., 0., ..., 0., 0., 1.],\n",
       "       ...,\n",
       "       [1., 0., 0., ..., 0., 0., 0.],\n",
       "       [1., 0., 0., ..., 0., 0., 0.],\n",
       "       [1., 0., 0., ..., 0., 0., 0.]])"
      ]
     },
     "execution_count": 75,
     "metadata": {},
     "output_type": "execute_result"
    }
   ],
   "source": [
    "normalized_y"
   ]
  },
  {
   "cell_type": "markdown",
   "metadata": {},
   "source": [
    "We are first developing a feed forward network for binary classification"
   ]
  },
  {
   "cell_type": "code",
   "execution_count": 76,
   "metadata": {},
   "outputs": [],
   "source": [
    "from tensorflow.keras.optimizers import Adam\n",
    "from keras.layers import Dense,Conv1D,LSTM,Flatten\n",
    "from keras.utils.np_utils import to_categorical\n",
    "from sklearn.model_selection import train_test_split\n",
    "from sklearn.preprocessing import MinMaxScaler, LabelEncoder\n",
    "from keras.callbacks import EarlyStopping"
   ]
  },
  {
   "cell_type": "code",
   "execution_count": 77,
   "metadata": {},
   "outputs": [],
   "source": [
    "from keras import Sequential"
   ]
  },
  {
   "cell_type": "code",
   "execution_count": 79,
   "metadata": {},
   "outputs": [],
   "source": [
    "X_train, X_test, y_train, y_test = train_test_split(Normalized_x, normalized_y, test_size=0.2, random_state=10)"
   ]
  },
  {
   "cell_type": "code",
   "execution_count": 80,
   "metadata": {},
   "outputs": [
    {
     "data": {
      "text/plain": [
       "(2242856, 31)"
      ]
     },
     "execution_count": 80,
     "metadata": {},
     "output_type": "execute_result"
    }
   ],
   "source": [
    "X_train.shape"
   ]
  },
  {
   "cell_type": "code",
   "execution_count": 81,
   "metadata": {},
   "outputs": [
    {
     "data": {
      "text/plain": [
       "(2242856, 8)"
      ]
     },
     "execution_count": 81,
     "metadata": {},
     "output_type": "execute_result"
    }
   ],
   "source": [
    "y_train.shape"
   ]
  },
  {
   "cell_type": "markdown",
   "metadata": {},
   "source": [
    "# Model Creation"
   ]
  },
  {
   "cell_type": "code",
   "execution_count": 80,
   "metadata": {},
   "outputs": [],
   "source": [
    "model = Sequential()"
   ]
  },
  {
   "cell_type": "code",
   "execution_count": 85,
   "metadata": {},
   "outputs": [],
   "source": [
    "model.add(Dense(78, activation='relu',input_dim=219))\n",
    "model.add(Dense(38, activation='relu'))\n",
    "model.add(Dense(8, activation='softmax'))\n",
    "opt=Adam(learning_rate=0.001)\n",
    "\n",
    "model.compile(loss='categorical_crossentropy',optimizer=opt, metrics=['accuracy'])\n"
   ]
  },
  {
   "cell_type": "code",
   "execution_count": 86,
   "metadata": {},
   "outputs": [
    {
     "name": "stdout",
     "output_type": "stream",
     "text": [
      "Model: \"sequential\"\n",
      "_________________________________________________________________\n",
      " Layer (type)                Output Shape              Param #   \n",
      "=================================================================\n",
      " dense (Dense)               (None, 78)                17160     \n",
      "                                                                 \n",
      " dense_1 (Dense)             (None, 38)                3002      \n",
      "                                                                 \n",
      " dense_2 (Dense)             (None, 8)                 312       \n",
      "                                                                 \n",
      "=================================================================\n",
      "Total params: 20,474\n",
      "Trainable params: 20,474\n",
      "Non-trainable params: 0\n",
      "_________________________________________________________________\n"
     ]
    }
   ],
   "source": [
    "model.summary()"
   ]
  },
  {
   "cell_type": "code",
   "execution_count": 85,
   "metadata": {},
   "outputs": [],
   "source": [
    "import time"
   ]
  },
  {
   "cell_type": "code",
   "execution_count": 88,
   "metadata": {},
   "outputs": [
    {
     "name": "stdout",
     "output_type": "stream",
     "text": [
      "program start...\n",
      "\n",
      "Epoch 1/20\n",
      "17523/17523 [==============================] - 49s 3ms/step - loss: 0.4565 - accuracy: 0.7649 - val_loss: 0.4326 - val_accuracy: 0.7684\n",
      "Epoch 2/20\n",
      "17523/17523 [==============================] - 50s 3ms/step - loss: 0.4333 - accuracy: 0.7684 - val_loss: 0.4319 - val_accuracy: 0.7684\n",
      "Epoch 3/20\n",
      "17523/17523 [==============================] - 46s 3ms/step - loss: 0.4325 - accuracy: 0.7685 - val_loss: 0.4320 - val_accuracy: 0.7685\n",
      "Epoch 4/20\n",
      "17523/17523 [==============================] - 47s 3ms/step - loss: 0.4323 - accuracy: 0.7685 - val_loss: 0.4325 - val_accuracy: 0.7685\n",
      "Epoch 5/20\n",
      "17523/17523 [==============================] - 47s 3ms/step - loss: 0.4320 - accuracy: 0.7685 - val_loss: 0.4315 - val_accuracy: 0.7685\n",
      "Epoch 6/20\n",
      "17523/17523 [==============================] - 47s 3ms/step - loss: 0.4319 - accuracy: 0.7685 - val_loss: 0.4328 - val_accuracy: 0.7685\n",
      "Epoch 7/20\n",
      "17523/17523 [==============================] - 47s 3ms/step - loss: 0.4318 - accuracy: 0.7685 - val_loss: 0.4329 - val_accuracy: 0.7685\n",
      "Epoch 8/20\n",
      "17523/17523 [==============================] - 49s 3ms/step - loss: 0.4319 - accuracy: 0.7685 - val_loss: 0.4324 - val_accuracy: 0.7685\n",
      "Epoch 9/20\n",
      "17523/17523 [==============================] - 49s 3ms/step - loss: 0.4319 - accuracy: 0.7685 - val_loss: 0.4336 - val_accuracy: 0.7685\n",
      "Epoch 10/20\n",
      "17523/17523 [==============================] - 48s 3ms/step - loss: 0.4318 - accuracy: 0.7685 - val_loss: 0.4328 - val_accuracy: 0.7686\n",
      "Epoch 11/20\n",
      "17523/17523 [==============================] - 49s 3ms/step - loss: 0.4321 - accuracy: 0.7685 - val_loss: 0.4327 - val_accuracy: 0.7685\n",
      "Epoch 12/20\n",
      "17523/17523 [==============================] - 55s 3ms/step - loss: 0.4320 - accuracy: 0.7685 - val_loss: 0.4333 - val_accuracy: 0.7685\n",
      "Epoch 13/20\n",
      "17523/17523 [==============================] - 48s 3ms/step - loss: 0.4319 - accuracy: 0.7685 - val_loss: 0.4328 - val_accuracy: 0.7685\n",
      "Epoch 14/20\n",
      "17523/17523 [==============================] - 47s 3ms/step - loss: 0.4319 - accuracy: 0.7685 - val_loss: 0.4335 - val_accuracy: 0.7685\n",
      "Epoch 15/20\n",
      "17523/17523 [==============================] - 45s 3ms/step - loss: 0.4318 - accuracy: 0.7685 - val_loss: 0.4344 - val_accuracy: 0.7685\n",
      "Epoch 16/20\n",
      "17523/17523 [==============================] - 45s 3ms/step - loss: 0.4320 - accuracy: 0.7685 - val_loss: 0.4349 - val_accuracy: 0.7684\n",
      "Epoch 17/20\n",
      "17523/17523 [==============================] - 46s 3ms/step - loss: 0.4319 - accuracy: 0.7685 - val_loss: 0.4342 - val_accuracy: 0.7686\n",
      "Epoch 18/20\n",
      "17523/17523 [==============================] - 48s 3ms/step - loss: 0.4317 - accuracy: 0.7685 - val_loss: 0.4362 - val_accuracy: 0.7686\n",
      "Epoch 19/20\n",
      "17523/17523 [==============================] - 49s 3ms/step - loss: 0.4319 - accuracy: 0.7685 - val_loss: 0.4349 - val_accuracy: 0.7685\n",
      "Epoch 20/20\n",
      "17523/17523 [==============================] - 47s 3ms/step - loss: 0.4318 - accuracy: 0.7685 - val_loss: 0.4323 - val_accuracy: 0.7685\n",
      "\n",
      "program end...\n",
      "\n",
      "time cost: \n",
      "958.8854639530182 seconds\n"
     ]
    }
   ],
   "source": [
    "start = time.time()\n",
    "print('program start...')\n",
    "print()\n",
    "\n",
    "history = model.fit(X_train, y_train, batch_size=128,epochs =20,  validation_data=(X_test,y_test),verbose=1)\n",
    "\n",
    "print()\n",
    "end = time.time()\n",
    "print('program end...')\n",
    "print()\n",
    "print('time cost: ')\n",
    "print(end - start, 'seconds')"
   ]
  },
  {
   "cell_type": "markdown",
   "metadata": {},
   "source": [
    "<<<<<=====the reason for huge loss value here is the learning rate and complexity of the model....======>>"
   ]
  },
  {
   "cell_type": "code",
   "execution_count": 86,
   "metadata": {},
   "outputs": [],
   "source": [
    "import matplotlib.pyplot as plt"
   ]
  },
  {
   "cell_type": "code",
   "execution_count": 91,
   "metadata": {},
   "outputs": [
    {
     "name": "stdout",
     "output_type": "stream",
     "text": [
      "17523/17523 [==============================] - 27s 2ms/step - loss: 0.4323 - accuracy: 0.7685\n",
      "Accuracy = 76.846843957901 %\n"
     ]
    }
   ],
   "source": [
    "_, acc= model.evaluate(X_test, y_test)\n",
    "print(\"Accuracy =\", (acc* 100.0), \"%\")"
   ]
  },
  {
   "cell_type": "code",
   "execution_count": 92,
   "metadata": {},
   "outputs": [],
   "source": [
    "loss_train = history.history['loss']\n",
    "loss_val = history.history['val_loss']\n",
    "epochs=range(1, len(loss_train) +1)"
   ]
  },
  {
   "cell_type": "code",
   "execution_count": 93,
   "metadata": {},
   "outputs": [
    {
     "data": {
      "image/png": "[encoded data removed]",
      "text/plain": [
       "<Figure size 432x288 with 1 Axes>"
      ]
     },
     "metadata": {
      "needs_background": "light"
     },
     "output_type": "display_data"
    }
   ],
   "source": [
    "plt.plot(epochs, loss_train, 'g', label='Training_loss')\n",
    "plt.plot(epochs, loss_val, 'b', label='Validation_loss')\n",
    "plt.title('Training and Validation Loss')\n",
    "plt.xlabel('Epochs')\n",
    "plt.ylabel('Loss')\n",
    "plt.legend()\n",
    "plt.savefig(r'C:\\Users\\DELL\\Pictures\\TonIoT Images\\Nueral Network IoT23\\first_3M_model.tiff', bbox_inches='tight', dpi=500)\n",
    "plt.show()"
   ]
  },
  {
   "cell_type": "code",
   "execution_count": 94,
   "metadata": {},
   "outputs": [
    {
     "data": {
      "image/png": "[encoded data removed]",
      "text/plain": [
       "<Figure size 432x288 with 1 Axes>"
      ]
     },
     "metadata": {
      "needs_background": "light"
     },
     "output_type": "display_data"
    }
   ],
   "source": [
    "acc = history.history['accuracy']\n",
    "val_acc = history.history['val_accuracy']\n",
    "plt.plot(epochs, acc, 'b', label='Training_accuracy')\n",
    "plt.plot(epochs, val_acc, 'r', label='Validation_accuracy')\n",
    "plt.title('Training and Validation Accuracy')\n",
    "plt.xlabel('Epochs')\n",
    "plt.ylabel('Accuracy')\n",
    "plt.legend()\n",
    "plt.savefig(r'C:\\Users\\DELL\\Pictures\\TonIoT Images\\Nueral Network IoT23\\first_3Ms_model_acc.tiff', bbox_inches='tight', dpi=500)\n",
    "plt.show()"
   ]
  },
  {
   "cell_type": "code",
   "execution_count": null,
   "metadata": {},
   "outputs": [],
   "source": []
  },
  {
   "cell_type": "markdown",
   "metadata": {},
   "source": [
    "New model with normalized data and with no history attributes"
   ]
  },
  {
   "cell_type": "code",
   "execution_count": 82,
   "metadata": {},
   "outputs": [],
   "source": [
    "model_a = Sequential()"
   ]
  },
  {
   "cell_type": "code",
   "execution_count": 83,
   "metadata": {},
   "outputs": [],
   "source": [
    "model_a.add(Dense(78, activation='relu',input_dim=31))\n",
    "model_a.add(Dense(38, activation='relu'))\n",
    "model_a.add(Dense(8, activation='softmax'))\n",
    "opt=Adam(learning_rate=0.001)\n",
    "\n",
    "model_a.compile(loss='categorical_crossentropy',optimizer=opt, metrics=['accuracy'])\n"
   ]
  },
  {
   "cell_type": "code",
   "execution_count": 87,
   "metadata": {},
   "outputs": [
    {
     "name": "stdout",
     "output_type": "stream",
     "text": [
      "program start...\n",
      "\n",
      "Epoch 1/20\n",
      "8762/8762 [==============================] - 16s 2ms/step - loss: 0.5912 - accuracy: 0.7664 - val_loss: 0.5809 - val_accuracy: 0.7675\n",
      "Epoch 2/20\n",
      "8762/8762 [==============================] - 16s 2ms/step - loss: 0.5821 - accuracy: 0.7675 - val_loss: 0.5808 - val_accuracy: 0.7675\n",
      "Epoch 3/20\n",
      "8762/8762 [==============================] - 15s 2ms/step - loss: 0.5820 - accuracy: 0.7675 - val_loss: 0.5808 - val_accuracy: 0.7675\n",
      "Epoch 4/20\n",
      "8762/8762 [==============================] - 15s 2ms/step - loss: 0.5819 - accuracy: 0.7675 - val_loss: 0.5809 - val_accuracy: 0.7675\n",
      "Epoch 5/20\n",
      "8762/8762 [==============================] - 16s 2ms/step - loss: 0.5819 - accuracy: 0.7675 - val_loss: 0.5806 - val_accuracy: 0.7675\n",
      "Epoch 6/20\n",
      "8762/8762 [==============================] - 17s 2ms/step - loss: 0.5818 - accuracy: 0.7675 - val_loss: 0.5807 - val_accuracy: 0.7675\n",
      "Epoch 7/20\n",
      "8762/8762 [==============================] - 17s 2ms/step - loss: 0.5818 - accuracy: 0.7675 - val_loss: 0.5807 - val_accuracy: 0.7675\n",
      "Epoch 8/20\n",
      "8762/8762 [==============================] - 16s 2ms/step - loss: 0.5817 - accuracy: 0.7675 - val_loss: 0.5808 - val_accuracy: 0.7675\n",
      "Epoch 9/20\n",
      "8762/8762 [==============================] - 16s 2ms/step - loss: 0.5817 - accuracy: 0.7675 - val_loss: 0.5807 - val_accuracy: 0.7675\n",
      "Epoch 10/20\n",
      "8762/8762 [==============================] - 16s 2ms/step - loss: 0.5817 - accuracy: 0.7675 - val_loss: 0.5806 - val_accuracy: 0.7675\n",
      "Epoch 11/20\n",
      "8762/8762 [==============================] - 15s 2ms/step - loss: 0.5817 - accuracy: 0.7675 - val_loss: 0.5806 - val_accuracy: 0.7675\n",
      "Epoch 12/20\n",
      "8762/8762 [==============================] - 16s 2ms/step - loss: 0.5817 - accuracy: 0.7675 - val_loss: 0.5809 - val_accuracy: 0.7675\n",
      "Epoch 13/20\n",
      "8762/8762 [==============================] - 15s 2ms/step - loss: 0.5817 - accuracy: 0.7675 - val_loss: 0.5805 - val_accuracy: 0.7675\n",
      "Epoch 14/20\n",
      "8762/8762 [==============================] - 15s 2ms/step - loss: 0.5817 - accuracy: 0.7675 - val_loss: 0.5806 - val_accuracy: 0.7675\n",
      "Epoch 15/20\n",
      "8762/8762 [==============================] - 15s 2ms/step - loss: 0.5817 - accuracy: 0.7675 - val_loss: 0.5805 - val_accuracy: 0.7675\n",
      "Epoch 16/20\n",
      "8762/8762 [==============================] - 15s 2ms/step - loss: 0.5816 - accuracy: 0.7675 - val_loss: 0.5808 - val_accuracy: 0.7675\n",
      "Epoch 17/20\n",
      "8762/8762 [==============================] - 15s 2ms/step - loss: 0.5816 - accuracy: 0.7675 - val_loss: 0.5806 - val_accuracy: 0.7675\n",
      "Epoch 18/20\n",
      "8762/8762 [==============================] - 15s 2ms/step - loss: 0.5816 - accuracy: 0.7675 - val_loss: 0.5806 - val_accuracy: 0.7675\n",
      "Epoch 19/20\n",
      "8762/8762 [==============================] - 15s 2ms/step - loss: 0.5816 - accuracy: 0.7675 - val_loss: 0.5805 - val_accuracy: 0.7675\n",
      "Epoch 20/20\n",
      "8762/8762 [==============================] - 15s 2ms/step - loss: 0.5816 - accuracy: 0.7675 - val_loss: 0.5806 - val_accuracy: 0.7675\n",
      "\n",
      "program end...\n",
      "\n",
      "time cost: \n",
      "314.12002658843994 seconds\n"
     ]
    }
   ],
   "source": [
    "start = time.time()\n",
    "print('program start...')\n",
    "print()\n",
    "\n",
    "history = model_a.fit(X_train, y_train, batch_size=256,epochs =20,  validation_data=(X_test,y_test),verbose=1)\n",
    "\n",
    "print()\n",
    "end = time.time()\n",
    "print('program end...')\n",
    "print()\n",
    "print('time cost: ')\n",
    "print(end - start, 'seconds')"
   ]
  },
  {
   "cell_type": "code",
   "execution_count": 88,
   "metadata": {},
   "outputs": [],
   "source": [
    "loss_train = history.history['loss']\n",
    "loss_val = history.history['val_loss']\n",
    "epochs=range(1, len(loss_train) +1)"
   ]
  },
  {
   "cell_type": "code",
   "execution_count": 89,
   "metadata": {},
   "outputs": [
    {
     "data": {
      "image/png": "[encoded data removed]",
      "text/plain": [
       "<Figure size 432x288 with 1 Axes>"
      ]
     },
     "metadata": {
      "needs_background": "light"
     },
     "output_type": "display_data"
    }
   ],
   "source": [
    "plt.plot(epochs, loss_train, 'g', label='Training_loss')\n",
    "plt.plot(epochs, loss_val, 'b', label='Validation_loss')\n",
    "plt.title('Training and Validation Loss')\n",
    "plt.xlabel('Epochs')\n",
    "plt.ylabel('Loss')\n",
    "plt.legend()\n",
    "plt.savefig(r'C:\\Users\\DELL\\Pictures\\TonIoT Images\\Nueral Network IoT23\\sec_3M_model.tiff', bbox_inches='tight', dpi=500)\n",
    "plt.show()"
   ]
  },
  {
   "cell_type": "code",
   "execution_count": 90,
   "metadata": {},
   "outputs": [
    {
     "data": {
      "image/png": "[encoded data removed]",
      "text/plain": [
       "<Figure size 432x288 with 1 Axes>"
      ]
     },
     "metadata": {
      "needs_background": "light"
     },
     "output_type": "display_data"
    }
   ],
   "source": [
    "acc = history.history['accuracy']\n",
    "val_acc = history.history['val_accuracy']\n",
    "plt.plot(epochs, acc, 'b', label='Training_accuracy')\n",
    "plt.plot(epochs, val_acc, 'r', label='Validation_accuracy')\n",
    "plt.title('Training and Validation Accuracy')\n",
    "plt.xlabel('Epochs')\n",
    "plt.ylabel('Accuracy')\n",
    "plt.legend()\n",
    "plt.savefig(r'C:\\Users\\DELL\\Pictures\\TonIoT Images\\Nueral Network IoT23\\sec_3Ms_model_acc.tiff', bbox_inches='tight', dpi=500)\n",
    "plt.show()"
   ]
  },
  {
   "cell_type": "code",
   "execution_count": 92,
   "metadata": {},
   "outputs": [
    {
     "name": "stdout",
     "output_type": "stream",
     "text": [
      "INFO:tensorflow:Assets written to: file_name\\assets\n"
     ]
    }
   ],
   "source": [
    "file_name = 'FFNN-ModA_IoT23_3M_model'\n",
    "model_a.save('file_name')"
   ]
  },
  {
   "cell_type": "markdown",
   "metadata": {},
   "source": [
    "Model B"
   ]
  },
  {
   "cell_type": "code",
   "execution_count": 93,
   "metadata": {},
   "outputs": [],
   "source": [
    "model_b = Sequential()"
   ]
  },
  {
   "cell_type": "code",
   "execution_count": 94,
   "metadata": {},
   "outputs": [],
   "source": [
    "model_b.add(Dense(512, activation='relu',input_dim=31))\n",
    "model_b.add(Dense(256, activation='relu'))\n",
    "model_b.add(Dense(128, activation='relu'))\n",
    "model_b.add(Dense(8, activation='softmax'))\n",
    "opt=Adam(learning_rate=0.0001)\n",
    "\n",
    "model_b.compile(loss='categorical_crossentropy',optimizer=opt, metrics=['accuracy'])\n"
   ]
  },
  {
   "cell_type": "code",
   "execution_count": 95,
   "metadata": {},
   "outputs": [
    {
     "name": "stdout",
     "output_type": "stream",
     "text": [
      "Model: \"sequential_1\"\n",
      "_________________________________________________________________\n",
      " Layer (type)                Output Shape              Param #   \n",
      "=================================================================\n",
      " dense_3 (Dense)             (None, 512)               16384     \n",
      "                                                                 \n",
      " dense_4 (Dense)             (None, 256)               131328    \n",
      "                                                                 \n",
      " dense_5 (Dense)             (None, 128)               32896     \n",
      "                                                                 \n",
      " dense_6 (Dense)             (None, 8)                 1032      \n",
      "                                                                 \n",
      "=================================================================\n",
      "Total params: 181,640\n",
      "Trainable params: 181,640\n",
      "Non-trainable params: 0\n",
      "_________________________________________________________________\n"
     ]
    }
   ],
   "source": [
    "model_b.summary()"
   ]
  },
  {
   "cell_type": "code",
   "execution_count": 96,
   "metadata": {},
   "outputs": [
    {
     "name": "stdout",
     "output_type": "stream",
     "text": [
      "program start...\n",
      "\n",
      "Epoch 1/30\n",
      "8762/8762 [==============================] - 38s 4ms/step - loss: 0.5946 - accuracy: 0.7668 - val_loss: 0.5811 - val_accuracy: 0.7675\n",
      "Epoch 2/30\n",
      "8762/8762 [==============================] - 41s 5ms/step - loss: 0.5822 - accuracy: 0.7675 - val_loss: 0.5808 - val_accuracy: 0.7675\n",
      "Epoch 3/30\n",
      "8762/8762 [==============================] - 41s 5ms/step - loss: 0.5820 - accuracy: 0.7675 - val_loss: 0.5812 - val_accuracy: 0.7675\n",
      "Epoch 4/30\n",
      "8762/8762 [==============================] - 42s 5ms/step - loss: 0.5819 - accuracy: 0.7675 - val_loss: 0.5809 - val_accuracy: 0.7675\n",
      "Epoch 5/30\n",
      "8762/8762 [==============================] - 41s 5ms/step - loss: 0.5818 - accuracy: 0.7675 - val_loss: 0.5806 - val_accuracy: 0.7675\n",
      "Epoch 6/30\n",
      "8762/8762 [==============================] - 43s 5ms/step - loss: 0.5818 - accuracy: 0.7675 - val_loss: 0.5806 - val_accuracy: 0.7675\n",
      "Epoch 7/30\n",
      "8762/8762 [==============================] - 44s 5ms/step - loss: 0.5818 - accuracy: 0.7675 - val_loss: 0.5806 - val_accuracy: 0.7675\n",
      "Epoch 8/30\n",
      "8762/8762 [==============================] - 42s 5ms/step - loss: 0.5817 - accuracy: 0.7675 - val_loss: 0.5808 - val_accuracy: 0.7675\n",
      "Epoch 9/30\n",
      "8762/8762 [==============================] - 42s 5ms/step - loss: 0.5817 - accuracy: 0.7675 - val_loss: 0.5806 - val_accuracy: 0.7675\n",
      "Epoch 10/30\n",
      "8762/8762 [==============================] - 42s 5ms/step - loss: 0.5817 - accuracy: 0.7675 - val_loss: 0.5806 - val_accuracy: 0.7675\n",
      "Epoch 11/30\n",
      "8762/8762 [==============================] - 42s 5ms/step - loss: 0.5817 - accuracy: 0.7675 - val_loss: 0.5806 - val_accuracy: 0.7675\n",
      "Epoch 12/30\n",
      "8762/8762 [==============================] - 42s 5ms/step - loss: 0.5817 - accuracy: 0.7675 - val_loss: 0.5809 - val_accuracy: 0.7675\n",
      "Epoch 13/30\n",
      "8762/8762 [==============================] - 42s 5ms/step - loss: 0.5817 - accuracy: 0.7675 - val_loss: 0.5805 - val_accuracy: 0.7675\n",
      "Epoch 14/30\n",
      "8762/8762 [==============================] - 42s 5ms/step - loss: 0.5817 - accuracy: 0.7675 - val_loss: 0.5806 - val_accuracy: 0.7675\n",
      "Epoch 15/30\n",
      "8762/8762 [==============================] - 43s 5ms/step - loss: 0.5817 - accuracy: 0.7675 - val_loss: 0.5805 - val_accuracy: 0.7675\n",
      "Epoch 16/30\n",
      "8762/8762 [==============================] - 45s 5ms/step - loss: 0.5817 - accuracy: 0.7675 - val_loss: 0.5805 - val_accuracy: 0.7675\n",
      "Epoch 17/30\n",
      "8762/8762 [==============================] - 46s 5ms/step - loss: 0.5817 - accuracy: 0.7675 - val_loss: 0.5805 - val_accuracy: 0.7675\n",
      "Epoch 18/30\n",
      "8762/8762 [==============================] - 46s 5ms/step - loss: 0.5817 - accuracy: 0.7675 - val_loss: 0.5807 - val_accuracy: 0.7675\n",
      "Epoch 19/30\n",
      "8762/8762 [==============================] - 49s 6ms/step - loss: 0.5816 - accuracy: 0.7675 - val_loss: 0.5808 - val_accuracy: 0.7675\n",
      "Epoch 20/30\n",
      "8762/8762 [==============================] - 51s 6ms/step - loss: 0.5816 - accuracy: 0.7675 - val_loss: 0.5805 - val_accuracy: 0.7675\n",
      "Epoch 21/30\n",
      "8762/8762 [==============================] - 47s 5ms/step - loss: 0.5816 - accuracy: 0.7675 - val_loss: 0.5805 - val_accuracy: 0.7675\n",
      "Epoch 22/30\n",
      "8762/8762 [==============================] - 47s 5ms/step - loss: 0.5816 - accuracy: 0.7675 - val_loss: 0.5807 - val_accuracy: 0.7675\n",
      "Epoch 23/30\n",
      "8762/8762 [==============================] - 46s 5ms/step - loss: 0.5816 - accuracy: 0.7675 - val_loss: 0.5807 - val_accuracy: 0.7675\n",
      "Epoch 24/30\n",
      "8762/8762 [==============================] - 47s 5ms/step - loss: 0.5816 - accuracy: 0.7675 - val_loss: 0.5807 - val_accuracy: 0.7675\n",
      "Epoch 25/30\n",
      "8762/8762 [==============================] - 47s 5ms/step - loss: 0.5816 - accuracy: 0.7675 - val_loss: 0.5810 - val_accuracy: 0.7675\n",
      "Epoch 26/30\n",
      "8762/8762 [==============================] - 49s 6ms/step - loss: 0.5816 - accuracy: 0.7675 - val_loss: 0.5806 - val_accuracy: 0.7675\n",
      "Epoch 27/30\n",
      "8762/8762 [==============================] - 49s 6ms/step - loss: 0.5816 - accuracy: 0.7675 - val_loss: 0.5806 - val_accuracy: 0.7675\n",
      "Epoch 28/30\n",
      "8762/8762 [==============================] - 50s 6ms/step - loss: 0.5816 - accuracy: 0.7675 - val_loss: 0.5805 - val_accuracy: 0.7675\n",
      "Epoch 29/30\n",
      "8762/8762 [==============================] - 49s 6ms/step - loss: 0.5816 - accuracy: 0.7675 - val_loss: 0.5805 - val_accuracy: 0.7675\n",
      "Epoch 30/30\n",
      "8762/8762 [==============================] - 50s 6ms/step - loss: 0.5816 - accuracy: 0.7675 - val_loss: 0.5805 - val_accuracy: 0.7675\n",
      "\n",
      "program end...\n",
      "\n",
      "time cost: \n",
      "1346.953668832779 seconds\n"
     ]
    }
   ],
   "source": [
    "start = time.time()\n",
    "print('program start...')\n",
    "print()\n",
    "\n",
    "history = model_b.fit(X_train, y_train, batch_size=256,epochs =30,  validation_data=(X_test,y_test),verbose=1)\n",
    "\n",
    "print()\n",
    "end = time.time()\n",
    "print('program end...')\n",
    "print()\n",
    "print('time cost: ')\n",
    "print(end - start, 'seconds')"
   ]
  },
  {
   "cell_type": "code",
   "execution_count": null,
   "metadata": {},
   "outputs": [],
   "source": [
    " "
   ]
  }
 ],
 "metadata": {
  "kernelspec": {
   "display_name": "Python 3",
   "language": "python",
   "name": "python3"
  },
  "language_info": {
   "codemirror_mode": {
    "name": "ipython",
    "version": 3
   },
   "file_extension": ".py",
   "mimetype": "text/x-python",
   "name": "python",
   "nbconvert_exporter": "python",
   "pygments_lexer": "ipython3",
   "version": "3.8.5"
  }
 },
 "nbformat": 4,
 "nbformat_minor": 5
}
