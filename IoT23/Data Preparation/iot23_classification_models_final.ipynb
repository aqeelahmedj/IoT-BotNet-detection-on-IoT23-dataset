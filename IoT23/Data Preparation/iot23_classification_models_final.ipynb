{
 "cells": [
  {
   "cell_type": "markdown",
   "metadata": {},
   "source": [
    "# Data Preparation and EDA for IoT23 dataset"
   ]
  },
  {
   "cell_type": "code",
   "execution_count": 4,
   "metadata": {},
   "outputs": [],
   "source": [
    "import os \n",
    "import pandas as pd\n",
    "import numpy as np \n",
    "import seaborn as sns\n",
    "import matplotlib.pyplot as plt\n",
    "from collections import defaultdict\n",
    "import csv\n",
    "from numpy import array\n",
    "from numpy import argmax\n",
    "from sklearn import preprocessing\n",
    "from sklearn.preprocessing import StandardScaler,LabelEncoder"
   ]
  },
  {
   "cell_type": "code",
   "execution_count": 5,
   "metadata": {},
   "outputs": [],
   "source": [
    "data= pd.read_csv('preprocessed_iot23.csv', low_memory=False)"
   ]
  },
  {
   "cell_type": "code",
   "execution_count": 6,
   "metadata": {},
   "outputs": [
    {
     "data": {
      "text/html": [
       "<div>\n",
       "<style scoped>\n",
       "    .dataframe tbody tr th:only-of-type {\n",
       "        vertical-align: middle;\n",
       "    }\n",
       "\n",
       "    .dataframe tbody tr th {\n",
       "        vertical-align: top;\n",
       "    }\n",
       "\n",
       "    .dataframe thead th {\n",
       "        text-align: right;\n",
       "    }\n",
       "</style>\n",
       "<table border=\"1\" class=\"dataframe\">\n",
       "  <thead>\n",
       "    <tr style=\"text-align: right;\">\n",
       "      <th></th>\n",
       "      <th>Unnamed: 0</th>\n",
       "      <th>ts</th>\n",
       "      <th>id.orig_p</th>\n",
       "      <th>id.resp_p</th>\n",
       "      <th>duration</th>\n",
       "      <th>orig_bytes</th>\n",
       "      <th>resp_bytes</th>\n",
       "      <th>local_orig</th>\n",
       "      <th>local_resp</th>\n",
       "      <th>missed_bytes</th>\n",
       "      <th>...</th>\n",
       "      <th>conn_state_RSTR</th>\n",
       "      <th>conn_state_RSTRH</th>\n",
       "      <th>conn_state_S0</th>\n",
       "      <th>conn_state_S1</th>\n",
       "      <th>conn_state_S2</th>\n",
       "      <th>conn_state_S3</th>\n",
       "      <th>conn_state_SF</th>\n",
       "      <th>conn_state_SH</th>\n",
       "      <th>conn_state_SHR</th>\n",
       "      <th>label</th>\n",
       "    </tr>\n",
       "  </thead>\n",
       "  <tbody>\n",
       "    <tr>\n",
       "      <th>0</th>\n",
       "      <td>0</td>\n",
       "      <td>1.536227e+09</td>\n",
       "      <td>17576.0</td>\n",
       "      <td>8081.0</td>\n",
       "      <td>0.000003</td>\n",
       "      <td>0.0</td>\n",
       "      <td>0.0</td>\n",
       "      <td>0</td>\n",
       "      <td>0</td>\n",
       "      <td>0.0</td>\n",
       "      <td>...</td>\n",
       "      <td>0</td>\n",
       "      <td>0</td>\n",
       "      <td>1</td>\n",
       "      <td>0</td>\n",
       "      <td>0</td>\n",
       "      <td>0</td>\n",
       "      <td>0</td>\n",
       "      <td>0</td>\n",
       "      <td>0</td>\n",
       "      <td>POHScan</td>\n",
       "    </tr>\n",
       "    <tr>\n",
       "      <th>1</th>\n",
       "      <td>1</td>\n",
       "      <td>1.536227e+09</td>\n",
       "      <td>17576.0</td>\n",
       "      <td>8081.0</td>\n",
       "      <td>0.000002</td>\n",
       "      <td>0.0</td>\n",
       "      <td>0.0</td>\n",
       "      <td>0</td>\n",
       "      <td>0</td>\n",
       "      <td>0.0</td>\n",
       "      <td>...</td>\n",
       "      <td>0</td>\n",
       "      <td>0</td>\n",
       "      <td>1</td>\n",
       "      <td>0</td>\n",
       "      <td>0</td>\n",
       "      <td>0</td>\n",
       "      <td>0</td>\n",
       "      <td>0</td>\n",
       "      <td>0</td>\n",
       "      <td>POHScan</td>\n",
       "    </tr>\n",
       "    <tr>\n",
       "      <th>2</th>\n",
       "      <td>2</td>\n",
       "      <td>1.536227e+09</td>\n",
       "      <td>17576.0</td>\n",
       "      <td>8081.0</td>\n",
       "      <td>0.000002</td>\n",
       "      <td>0.0</td>\n",
       "      <td>0.0</td>\n",
       "      <td>0</td>\n",
       "      <td>0</td>\n",
       "      <td>0.0</td>\n",
       "      <td>...</td>\n",
       "      <td>0</td>\n",
       "      <td>0</td>\n",
       "      <td>1</td>\n",
       "      <td>0</td>\n",
       "      <td>0</td>\n",
       "      <td>0</td>\n",
       "      <td>0</td>\n",
       "      <td>0</td>\n",
       "      <td>0</td>\n",
       "      <td>POHScan</td>\n",
       "    </tr>\n",
       "    <tr>\n",
       "      <th>3</th>\n",
       "      <td>3</td>\n",
       "      <td>1.536227e+09</td>\n",
       "      <td>17576.0</td>\n",
       "      <td>8081.0</td>\n",
       "      <td>0.000002</td>\n",
       "      <td>0.0</td>\n",
       "      <td>0.0</td>\n",
       "      <td>0</td>\n",
       "      <td>0</td>\n",
       "      <td>0.0</td>\n",
       "      <td>...</td>\n",
       "      <td>0</td>\n",
       "      <td>0</td>\n",
       "      <td>1</td>\n",
       "      <td>0</td>\n",
       "      <td>0</td>\n",
       "      <td>0</td>\n",
       "      <td>0</td>\n",
       "      <td>0</td>\n",
       "      <td>0</td>\n",
       "      <td>POHScan</td>\n",
       "    </tr>\n",
       "    <tr>\n",
       "      <th>4</th>\n",
       "      <td>4</td>\n",
       "      <td>1.536227e+09</td>\n",
       "      <td>17576.0</td>\n",
       "      <td>8081.0</td>\n",
       "      <td>0.000002</td>\n",
       "      <td>0.0</td>\n",
       "      <td>0.0</td>\n",
       "      <td>0</td>\n",
       "      <td>0</td>\n",
       "      <td>0.0</td>\n",
       "      <td>...</td>\n",
       "      <td>0</td>\n",
       "      <td>0</td>\n",
       "      <td>1</td>\n",
       "      <td>0</td>\n",
       "      <td>0</td>\n",
       "      <td>0</td>\n",
       "      <td>0</td>\n",
       "      <td>0</td>\n",
       "      <td>0</td>\n",
       "      <td>POHScan</td>\n",
       "    </tr>\n",
       "  </tbody>\n",
       "</table>\n",
       "<p>5 rows × 31 columns</p>\n",
       "</div>"
      ],
      "text/plain": [
       "   Unnamed: 0            ts  id.orig_p  id.resp_p  duration  orig_bytes  \\\n",
       "0           0  1.536227e+09    17576.0     8081.0  0.000003         0.0   \n",
       "1           1  1.536227e+09    17576.0     8081.0  0.000002         0.0   \n",
       "2           2  1.536227e+09    17576.0     8081.0  0.000002         0.0   \n",
       "3           3  1.536227e+09    17576.0     8081.0  0.000002         0.0   \n",
       "4           4  1.536227e+09    17576.0     8081.0  0.000002         0.0   \n",
       "\n",
       "   resp_bytes  local_orig  local_resp  missed_bytes  ...  conn_state_RSTR  \\\n",
       "0         0.0           0           0           0.0  ...                0   \n",
       "1         0.0           0           0           0.0  ...                0   \n",
       "2         0.0           0           0           0.0  ...                0   \n",
       "3         0.0           0           0           0.0  ...                0   \n",
       "4         0.0           0           0           0.0  ...                0   \n",
       "\n",
       "   conn_state_RSTRH  conn_state_S0  conn_state_S1  conn_state_S2  \\\n",
       "0                 0              1              0              0   \n",
       "1                 0              1              0              0   \n",
       "2                 0              1              0              0   \n",
       "3                 0              1              0              0   \n",
       "4                 0              1              0              0   \n",
       "\n",
       "   conn_state_S3  conn_state_SF  conn_state_SH  conn_state_SHR    label  \n",
       "0              0              0              0               0  POHScan  \n",
       "1              0              0              0               0  POHScan  \n",
       "2              0              0              0               0  POHScan  \n",
       "3              0              0              0               0  POHScan  \n",
       "4              0              0              0               0  POHScan  \n",
       "\n",
       "[5 rows x 31 columns]"
      ]
     },
     "execution_count": 6,
     "metadata": {},
     "output_type": "execute_result"
    }
   ],
   "source": [
    "data.head()  "
   ]
  },
  {
   "cell_type": "code",
   "execution_count": 7,
   "metadata": {},
   "outputs": [],
   "source": [
    "del data['Unnamed: 0']"
   ]
  },
  {
   "cell_type": "code",
   "execution_count": 8,
   "metadata": {},
   "outputs": [
    {
     "data": {
      "text/html": [
       "<div>\n",
       "<style scoped>\n",
       "    .dataframe tbody tr th:only-of-type {\n",
       "        vertical-align: middle;\n",
       "    }\n",
       "\n",
       "    .dataframe tbody tr th {\n",
       "        vertical-align: top;\n",
       "    }\n",
       "\n",
       "    .dataframe thead th {\n",
       "        text-align: right;\n",
       "    }\n",
       "</style>\n",
       "<table border=\"1\" class=\"dataframe\">\n",
       "  <thead>\n",
       "    <tr style=\"text-align: right;\">\n",
       "      <th></th>\n",
       "      <th>ts</th>\n",
       "      <th>id.orig_p</th>\n",
       "      <th>id.resp_p</th>\n",
       "      <th>duration</th>\n",
       "      <th>orig_bytes</th>\n",
       "      <th>resp_bytes</th>\n",
       "      <th>local_orig</th>\n",
       "      <th>local_resp</th>\n",
       "      <th>missed_bytes</th>\n",
       "      <th>orig_pkts</th>\n",
       "      <th>...</th>\n",
       "      <th>conn_state_RSTR</th>\n",
       "      <th>conn_state_RSTRH</th>\n",
       "      <th>conn_state_S0</th>\n",
       "      <th>conn_state_S1</th>\n",
       "      <th>conn_state_S2</th>\n",
       "      <th>conn_state_S3</th>\n",
       "      <th>conn_state_SF</th>\n",
       "      <th>conn_state_SH</th>\n",
       "      <th>conn_state_SHR</th>\n",
       "      <th>label</th>\n",
       "    </tr>\n",
       "  </thead>\n",
       "  <tbody>\n",
       "    <tr>\n",
       "      <th>2802750</th>\n",
       "      <td>1.562165e+09</td>\n",
       "      <td>68.0</td>\n",
       "      <td>67.0</td>\n",
       "      <td>90.034713</td>\n",
       "      <td>3300.0</td>\n",
       "      <td>0.0</td>\n",
       "      <td>0</td>\n",
       "      <td>0</td>\n",
       "      <td>0.0</td>\n",
       "      <td>11.0</td>\n",
       "      <td>...</td>\n",
       "      <td>0</td>\n",
       "      <td>0</td>\n",
       "      <td>1</td>\n",
       "      <td>0</td>\n",
       "      <td>0</td>\n",
       "      <td>0</td>\n",
       "      <td>0</td>\n",
       "      <td>0</td>\n",
       "      <td>0</td>\n",
       "      <td>Benign</td>\n",
       "    </tr>\n",
       "    <tr>\n",
       "      <th>2802751</th>\n",
       "      <td>1.562165e+09</td>\n",
       "      <td>143.0</td>\n",
       "      <td>0.0</td>\n",
       "      <td>90.399970</td>\n",
       "      <td>340.0</td>\n",
       "      <td>0.0</td>\n",
       "      <td>0</td>\n",
       "      <td>0</td>\n",
       "      <td>0.0</td>\n",
       "      <td>9.0</td>\n",
       "      <td>...</td>\n",
       "      <td>0</td>\n",
       "      <td>0</td>\n",
       "      <td>0</td>\n",
       "      <td>0</td>\n",
       "      <td>0</td>\n",
       "      <td>0</td>\n",
       "      <td>0</td>\n",
       "      <td>0</td>\n",
       "      <td>0</td>\n",
       "      <td>Benign</td>\n",
       "    </tr>\n",
       "    <tr>\n",
       "      <th>2802752</th>\n",
       "      <td>1.562165e+09</td>\n",
       "      <td>135.0</td>\n",
       "      <td>136.0</td>\n",
       "      <td>89.824030</td>\n",
       "      <td>72.0</td>\n",
       "      <td>0.0</td>\n",
       "      <td>0</td>\n",
       "      <td>0</td>\n",
       "      <td>0.0</td>\n",
       "      <td>3.0</td>\n",
       "      <td>...</td>\n",
       "      <td>0</td>\n",
       "      <td>0</td>\n",
       "      <td>0</td>\n",
       "      <td>0</td>\n",
       "      <td>0</td>\n",
       "      <td>0</td>\n",
       "      <td>0</td>\n",
       "      <td>0</td>\n",
       "      <td>0</td>\n",
       "      <td>Benign</td>\n",
       "    </tr>\n",
       "    <tr>\n",
       "      <th>2802753</th>\n",
       "      <td>1.562165e+09</td>\n",
       "      <td>143.0</td>\n",
       "      <td>0.0</td>\n",
       "      <td>45.215915</td>\n",
       "      <td>200.0</td>\n",
       "      <td>0.0</td>\n",
       "      <td>0</td>\n",
       "      <td>0</td>\n",
       "      <td>0.0</td>\n",
       "      <td>8.0</td>\n",
       "      <td>...</td>\n",
       "      <td>0</td>\n",
       "      <td>0</td>\n",
       "      <td>0</td>\n",
       "      <td>0</td>\n",
       "      <td>0</td>\n",
       "      <td>0</td>\n",
       "      <td>0</td>\n",
       "      <td>0</td>\n",
       "      <td>0</td>\n",
       "      <td>Benign</td>\n",
       "    </tr>\n",
       "    <tr>\n",
       "      <th>2802754</th>\n",
       "      <td>1.562165e+09</td>\n",
       "      <td>133.0</td>\n",
       "      <td>134.0</td>\n",
       "      <td>44.242223</td>\n",
       "      <td>0.0</td>\n",
       "      <td>0.0</td>\n",
       "      <td>0</td>\n",
       "      <td>0</td>\n",
       "      <td>0.0</td>\n",
       "      <td>2.0</td>\n",
       "      <td>...</td>\n",
       "      <td>0</td>\n",
       "      <td>0</td>\n",
       "      <td>0</td>\n",
       "      <td>0</td>\n",
       "      <td>0</td>\n",
       "      <td>0</td>\n",
       "      <td>0</td>\n",
       "      <td>0</td>\n",
       "      <td>0</td>\n",
       "      <td>Benign</td>\n",
       "    </tr>\n",
       "  </tbody>\n",
       "</table>\n",
       "<p>5 rows × 30 columns</p>\n",
       "</div>"
      ],
      "text/plain": [
       "                   ts  id.orig_p  id.resp_p   duration  orig_bytes  \\\n",
       "2802750  1.562165e+09       68.0       67.0  90.034713      3300.0   \n",
       "2802751  1.562165e+09      143.0        0.0  90.399970       340.0   \n",
       "2802752  1.562165e+09      135.0      136.0  89.824030        72.0   \n",
       "2802753  1.562165e+09      143.0        0.0  45.215915       200.0   \n",
       "2802754  1.562165e+09      133.0      134.0  44.242223         0.0   \n",
       "\n",
       "         resp_bytes  local_orig  local_resp  missed_bytes  orig_pkts  ...  \\\n",
       "2802750         0.0           0           0           0.0       11.0  ...   \n",
       "2802751         0.0           0           0           0.0        9.0  ...   \n",
       "2802752         0.0           0           0           0.0        3.0  ...   \n",
       "2802753         0.0           0           0           0.0        8.0  ...   \n",
       "2802754         0.0           0           0           0.0        2.0  ...   \n",
       "\n",
       "         conn_state_RSTR  conn_state_RSTRH  conn_state_S0  conn_state_S1  \\\n",
       "2802750                0                 0              1              0   \n",
       "2802751                0                 0              0              0   \n",
       "2802752                0                 0              0              0   \n",
       "2802753                0                 0              0              0   \n",
       "2802754                0                 0              0              0   \n",
       "\n",
       "         conn_state_S2  conn_state_S3  conn_state_SF  conn_state_SH  \\\n",
       "2802750              0              0              0              0   \n",
       "2802751              0              0              0              0   \n",
       "2802752              0              0              0              0   \n",
       "2802753              0              0              0              0   \n",
       "2802754              0              0              0              0   \n",
       "\n",
       "         conn_state_SHR   label  \n",
       "2802750               0  Benign  \n",
       "2802751               0  Benign  \n",
       "2802752               0  Benign  \n",
       "2802753               0  Benign  \n",
       "2802754               0  Benign  \n",
       "\n",
       "[5 rows x 30 columns]"
      ]
     },
     "execution_count": 8,
     "metadata": {},
     "output_type": "execute_result"
    }
   ],
   "source": [
    "data.tail()"
   ]
  },
  {
   "cell_type": "code",
   "execution_count": 9,
   "metadata": {},
   "outputs": [
    {
     "data": {
      "text/plain": [
       "(2802755, 30)"
      ]
     },
     "execution_count": 9,
     "metadata": {},
     "output_type": "execute_result"
    }
   ],
   "source": [
    "data.shape"
   ]
  },
  {
   "cell_type": "code",
   "execution_count": 10,
   "metadata": {},
   "outputs": [
    {
     "name": "stdout",
     "output_type": "stream",
     "text": [
      "Index(['ts', 'id.orig_p', 'id.resp_p', 'duration', 'orig_bytes', 'resp_bytes',\n",
      "       'local_orig', 'local_resp', 'missed_bytes', 'orig_pkts',\n",
      "       'orig_ip_bytes', 'resp_pkts', 'resp_ip_bytes', 'proto_icmp',\n",
      "       'proto_tcp', 'proto_udp', 'conn_state_OTH', 'conn_state_REJ',\n",
      "       'conn_state_RSTO', 'conn_state_RSTOS0', 'conn_state_RSTR',\n",
      "       'conn_state_RSTRH', 'conn_state_S0', 'conn_state_S1', 'conn_state_S2',\n",
      "       'conn_state_S3', 'conn_state_SF', 'conn_state_SH', 'conn_state_SHR',\n",
      "       'label'],\n",
      "      dtype='object')\n"
     ]
    }
   ],
   "source": [
    "print(data.columns)"
   ]
  },
  {
   "cell_type": "code",
   "execution_count": 11,
   "metadata": {},
   "outputs": [],
   "source": [
    "#separate the X variables\n",
    "X=data.iloc[:,:-1]"
   ]
  },
  {
   "cell_type": "code",
   "execution_count": 12,
   "metadata": {},
   "outputs": [],
   "source": [
    "#separate labels (y)\n",
    "y=data['label']"
   ]
  },
  {
   "cell_type": "code",
   "execution_count": 13,
   "metadata": {},
   "outputs": [
    {
     "data": {
      "text/html": [
       "<div>\n",
       "<style scoped>\n",
       "    .dataframe tbody tr th:only-of-type {\n",
       "        vertical-align: middle;\n",
       "    }\n",
       "\n",
       "    .dataframe tbody tr th {\n",
       "        vertical-align: top;\n",
       "    }\n",
       "\n",
       "    .dataframe thead th {\n",
       "        text-align: right;\n",
       "    }\n",
       "</style>\n",
       "<table border=\"1\" class=\"dataframe\">\n",
       "  <thead>\n",
       "    <tr style=\"text-align: right;\">\n",
       "      <th></th>\n",
       "      <th>ts</th>\n",
       "      <th>id.orig_p</th>\n",
       "      <th>id.resp_p</th>\n",
       "      <th>duration</th>\n",
       "      <th>orig_bytes</th>\n",
       "      <th>resp_bytes</th>\n",
       "      <th>local_orig</th>\n",
       "      <th>local_resp</th>\n",
       "      <th>missed_bytes</th>\n",
       "      <th>orig_pkts</th>\n",
       "      <th>...</th>\n",
       "      <th>conn_state_RSTOS0</th>\n",
       "      <th>conn_state_RSTR</th>\n",
       "      <th>conn_state_RSTRH</th>\n",
       "      <th>conn_state_S0</th>\n",
       "      <th>conn_state_S1</th>\n",
       "      <th>conn_state_S2</th>\n",
       "      <th>conn_state_S3</th>\n",
       "      <th>conn_state_SF</th>\n",
       "      <th>conn_state_SH</th>\n",
       "      <th>conn_state_SHR</th>\n",
       "    </tr>\n",
       "  </thead>\n",
       "  <tbody>\n",
       "    <tr>\n",
       "      <th>count</th>\n",
       "      <td>2.802755e+06</td>\n",
       "      <td>2.802755e+06</td>\n",
       "      <td>2.802755e+06</td>\n",
       "      <td>2.802755e+06</td>\n",
       "      <td>2.802755e+06</td>\n",
       "      <td>2.802755e+06</td>\n",
       "      <td>2802755.0</td>\n",
       "      <td>2802755.0</td>\n",
       "      <td>2.802755e+06</td>\n",
       "      <td>2.802755e+06</td>\n",
       "      <td>...</td>\n",
       "      <td>2.802755e+06</td>\n",
       "      <td>2.802755e+06</td>\n",
       "      <td>2.802755e+06</td>\n",
       "      <td>2.802755e+06</td>\n",
       "      <td>2.802755e+06</td>\n",
       "      <td>2.802755e+06</td>\n",
       "      <td>2.802755e+06</td>\n",
       "      <td>2.802755e+06</td>\n",
       "      <td>2.802755e+06</td>\n",
       "      <td>2.802755e+06</td>\n",
       "    </tr>\n",
       "    <tr>\n",
       "      <th>mean</th>\n",
       "      <td>1.539080e+09</td>\n",
       "      <td>3.733966e+04</td>\n",
       "      <td>2.294199e+04</td>\n",
       "      <td>3.764077e-01</td>\n",
       "      <td>1.509650e+03</td>\n",
       "      <td>1.283293e+02</td>\n",
       "      <td>0.0</td>\n",
       "      <td>0.0</td>\n",
       "      <td>1.349422e-02</td>\n",
       "      <td>1.819718e+02</td>\n",
       "      <td>...</td>\n",
       "      <td>7.028798e-05</td>\n",
       "      <td>5.444643e-04</td>\n",
       "      <td>2.426184e-05</td>\n",
       "      <td>8.410621e-01</td>\n",
       "      <td>1.213092e-05</td>\n",
       "      <td>1.462846e-05</td>\n",
       "      <td>9.633379e-06</td>\n",
       "      <td>7.802323e-03</td>\n",
       "      <td>4.781010e-05</td>\n",
       "      <td>4.638293e-06</td>\n",
       "    </tr>\n",
       "    <tr>\n",
       "      <th>std</th>\n",
       "      <td>1.440108e+07</td>\n",
       "      <td>1.465224e+04</td>\n",
       "      <td>2.397775e+04</td>\n",
       "      <td>6.546523e+01</td>\n",
       "      <td>9.245166e+05</td>\n",
       "      <td>2.011450e+05</td>\n",
       "      <td>0.0</td>\n",
       "      <td>0.0</td>\n",
       "      <td>6.924522e+00</td>\n",
       "      <td>7.340439e+04</td>\n",
       "      <td>...</td>\n",
       "      <td>8.383500e-03</td>\n",
       "      <td>2.332741e-02</td>\n",
       "      <td>4.925572e-03</td>\n",
       "      <td>3.656182e-01</td>\n",
       "      <td>3.482927e-03</td>\n",
       "      <td>3.824690e-03</td>\n",
       "      <td>3.103754e-03</td>\n",
       "      <td>8.798551e-02</td>\n",
       "      <td>6.914321e-03</td>\n",
       "      <td>2.153665e-03</td>\n",
       "    </tr>\n",
       "    <tr>\n",
       "      <th>min</th>\n",
       "      <td>1.525880e+09</td>\n",
       "      <td>0.000000e+00</td>\n",
       "      <td>0.000000e+00</td>\n",
       "      <td>0.000000e+00</td>\n",
       "      <td>0.000000e+00</td>\n",
       "      <td>0.000000e+00</td>\n",
       "      <td>0.0</td>\n",
       "      <td>0.0</td>\n",
       "      <td>0.000000e+00</td>\n",
       "      <td>0.000000e+00</td>\n",
       "      <td>...</td>\n",
       "      <td>0.000000e+00</td>\n",
       "      <td>0.000000e+00</td>\n",
       "      <td>0.000000e+00</td>\n",
       "      <td>0.000000e+00</td>\n",
       "      <td>0.000000e+00</td>\n",
       "      <td>0.000000e+00</td>\n",
       "      <td>0.000000e+00</td>\n",
       "      <td>0.000000e+00</td>\n",
       "      <td>0.000000e+00</td>\n",
       "      <td>0.000000e+00</td>\n",
       "    </tr>\n",
       "    <tr>\n",
       "      <th>25%</th>\n",
       "      <td>1.526150e+09</td>\n",
       "      <td>3.314600e+04</td>\n",
       "      <td>2.300000e+01</td>\n",
       "      <td>0.000000e+00</td>\n",
       "      <td>0.000000e+00</td>\n",
       "      <td>0.000000e+00</td>\n",
       "      <td>0.0</td>\n",
       "      <td>0.0</td>\n",
       "      <td>0.000000e+00</td>\n",
       "      <td>1.000000e+00</td>\n",
       "      <td>...</td>\n",
       "      <td>0.000000e+00</td>\n",
       "      <td>0.000000e+00</td>\n",
       "      <td>0.000000e+00</td>\n",
       "      <td>1.000000e+00</td>\n",
       "      <td>0.000000e+00</td>\n",
       "      <td>0.000000e+00</td>\n",
       "      <td>0.000000e+00</td>\n",
       "      <td>0.000000e+00</td>\n",
       "      <td>0.000000e+00</td>\n",
       "      <td>0.000000e+00</td>\n",
       "    </tr>\n",
       "    <tr>\n",
       "      <th>50%</th>\n",
       "      <td>1.532529e+09</td>\n",
       "      <td>3.795300e+04</td>\n",
       "      <td>9.527000e+03</td>\n",
       "      <td>0.000000e+00</td>\n",
       "      <td>0.000000e+00</td>\n",
       "      <td>0.000000e+00</td>\n",
       "      <td>0.0</td>\n",
       "      <td>0.0</td>\n",
       "      <td>0.000000e+00</td>\n",
       "      <td>1.000000e+00</td>\n",
       "      <td>...</td>\n",
       "      <td>0.000000e+00</td>\n",
       "      <td>0.000000e+00</td>\n",
       "      <td>0.000000e+00</td>\n",
       "      <td>1.000000e+00</td>\n",
       "      <td>0.000000e+00</td>\n",
       "      <td>0.000000e+00</td>\n",
       "      <td>0.000000e+00</td>\n",
       "      <td>0.000000e+00</td>\n",
       "      <td>0.000000e+00</td>\n",
       "      <td>0.000000e+00</td>\n",
       "    </tr>\n",
       "    <tr>\n",
       "      <th>75%</th>\n",
       "      <td>1.545398e+09</td>\n",
       "      <td>4.549700e+04</td>\n",
       "      <td>3.721500e+04</td>\n",
       "      <td>0.000000e+00</td>\n",
       "      <td>0.000000e+00</td>\n",
       "      <td>0.000000e+00</td>\n",
       "      <td>0.0</td>\n",
       "      <td>0.0</td>\n",
       "      <td>0.000000e+00</td>\n",
       "      <td>1.000000e+00</td>\n",
       "      <td>...</td>\n",
       "      <td>0.000000e+00</td>\n",
       "      <td>0.000000e+00</td>\n",
       "      <td>0.000000e+00</td>\n",
       "      <td>1.000000e+00</td>\n",
       "      <td>0.000000e+00</td>\n",
       "      <td>0.000000e+00</td>\n",
       "      <td>0.000000e+00</td>\n",
       "      <td>0.000000e+00</td>\n",
       "      <td>0.000000e+00</td>\n",
       "      <td>0.000000e+00</td>\n",
       "    </tr>\n",
       "    <tr>\n",
       "      <th>max</th>\n",
       "      <td>1.569018e+09</td>\n",
       "      <td>6.553500e+04</td>\n",
       "      <td>6.553500e+04</td>\n",
       "      <td>7.884033e+04</td>\n",
       "      <td>9.623472e+08</td>\n",
       "      <td>3.365164e+08</td>\n",
       "      <td>0.0</td>\n",
       "      <td>0.0</td>\n",
       "      <td>7.363000e+03</td>\n",
       "      <td>6.602735e+07</td>\n",
       "      <td>...</td>\n",
       "      <td>1.000000e+00</td>\n",
       "      <td>1.000000e+00</td>\n",
       "      <td>1.000000e+00</td>\n",
       "      <td>1.000000e+00</td>\n",
       "      <td>1.000000e+00</td>\n",
       "      <td>1.000000e+00</td>\n",
       "      <td>1.000000e+00</td>\n",
       "      <td>1.000000e+00</td>\n",
       "      <td>1.000000e+00</td>\n",
       "      <td>1.000000e+00</td>\n",
       "    </tr>\n",
       "  </tbody>\n",
       "</table>\n",
       "<p>8 rows × 29 columns</p>\n",
       "</div>"
      ],
      "text/plain": [
       "                 ts     id.orig_p     id.resp_p      duration    orig_bytes  \\\n",
       "count  2.802755e+06  2.802755e+06  2.802755e+06  2.802755e+06  2.802755e+06   \n",
       "mean   1.539080e+09  3.733966e+04  2.294199e+04  3.764077e-01  1.509650e+03   \n",
       "std    1.440108e+07  1.465224e+04  2.397775e+04  6.546523e+01  9.245166e+05   \n",
       "min    1.525880e+09  0.000000e+00  0.000000e+00  0.000000e+00  0.000000e+00   \n",
       "25%    1.526150e+09  3.314600e+04  2.300000e+01  0.000000e+00  0.000000e+00   \n",
       "50%    1.532529e+09  3.795300e+04  9.527000e+03  0.000000e+00  0.000000e+00   \n",
       "75%    1.545398e+09  4.549700e+04  3.721500e+04  0.000000e+00  0.000000e+00   \n",
       "max    1.569018e+09  6.553500e+04  6.553500e+04  7.884033e+04  9.623472e+08   \n",
       "\n",
       "         resp_bytes  local_orig  local_resp  missed_bytes     orig_pkts  ...  \\\n",
       "count  2.802755e+06   2802755.0   2802755.0  2.802755e+06  2.802755e+06  ...   \n",
       "mean   1.283293e+02         0.0         0.0  1.349422e-02  1.819718e+02  ...   \n",
       "std    2.011450e+05         0.0         0.0  6.924522e+00  7.340439e+04  ...   \n",
       "min    0.000000e+00         0.0         0.0  0.000000e+00  0.000000e+00  ...   \n",
       "25%    0.000000e+00         0.0         0.0  0.000000e+00  1.000000e+00  ...   \n",
       "50%    0.000000e+00         0.0         0.0  0.000000e+00  1.000000e+00  ...   \n",
       "75%    0.000000e+00         0.0         0.0  0.000000e+00  1.000000e+00  ...   \n",
       "max    3.365164e+08         0.0         0.0  7.363000e+03  6.602735e+07  ...   \n",
       "\n",
       "       conn_state_RSTOS0  conn_state_RSTR  conn_state_RSTRH  conn_state_S0  \\\n",
       "count       2.802755e+06     2.802755e+06      2.802755e+06   2.802755e+06   \n",
       "mean        7.028798e-05     5.444643e-04      2.426184e-05   8.410621e-01   \n",
       "std         8.383500e-03     2.332741e-02      4.925572e-03   3.656182e-01   \n",
       "min         0.000000e+00     0.000000e+00      0.000000e+00   0.000000e+00   \n",
       "25%         0.000000e+00     0.000000e+00      0.000000e+00   1.000000e+00   \n",
       "50%         0.000000e+00     0.000000e+00      0.000000e+00   1.000000e+00   \n",
       "75%         0.000000e+00     0.000000e+00      0.000000e+00   1.000000e+00   \n",
       "max         1.000000e+00     1.000000e+00      1.000000e+00   1.000000e+00   \n",
       "\n",
       "       conn_state_S1  conn_state_S2  conn_state_S3  conn_state_SF  \\\n",
       "count   2.802755e+06   2.802755e+06   2.802755e+06   2.802755e+06   \n",
       "mean    1.213092e-05   1.462846e-05   9.633379e-06   7.802323e-03   \n",
       "std     3.482927e-03   3.824690e-03   3.103754e-03   8.798551e-02   \n",
       "min     0.000000e+00   0.000000e+00   0.000000e+00   0.000000e+00   \n",
       "25%     0.000000e+00   0.000000e+00   0.000000e+00   0.000000e+00   \n",
       "50%     0.000000e+00   0.000000e+00   0.000000e+00   0.000000e+00   \n",
       "75%     0.000000e+00   0.000000e+00   0.000000e+00   0.000000e+00   \n",
       "max     1.000000e+00   1.000000e+00   1.000000e+00   1.000000e+00   \n",
       "\n",
       "       conn_state_SH  conn_state_SHR  \n",
       "count   2.802755e+06    2.802755e+06  \n",
       "mean    4.781010e-05    4.638293e-06  \n",
       "std     6.914321e-03    2.153665e-03  \n",
       "min     0.000000e+00    0.000000e+00  \n",
       "25%     0.000000e+00    0.000000e+00  \n",
       "50%     0.000000e+00    0.000000e+00  \n",
       "75%     0.000000e+00    0.000000e+00  \n",
       "max     1.000000e+00    1.000000e+00  \n",
       "\n",
       "[8 rows x 29 columns]"
      ]
     },
     "execution_count": 13,
     "metadata": {},
     "output_type": "execute_result"
    }
   ],
   "source": [
    "X.describe()"
   ]
  },
  {
   "cell_type": "code",
   "execution_count": 14,
   "metadata": {},
   "outputs": [
    {
     "data": {
      "text/plain": [
       "ts                   0\n",
       "id.orig_p            0\n",
       "id.resp_p            0\n",
       "duration             0\n",
       "orig_bytes           0\n",
       "resp_bytes           0\n",
       "local_orig           0\n",
       "local_resp           0\n",
       "missed_bytes         0\n",
       "orig_pkts            0\n",
       "orig_ip_bytes        0\n",
       "resp_pkts            0\n",
       "resp_ip_bytes        0\n",
       "proto_icmp           0\n",
       "proto_tcp            0\n",
       "proto_udp            0\n",
       "conn_state_OTH       0\n",
       "conn_state_REJ       0\n",
       "conn_state_RSTO      0\n",
       "conn_state_RSTOS0    0\n",
       "conn_state_RSTR      0\n",
       "conn_state_RSTRH     0\n",
       "conn_state_S0        0\n",
       "conn_state_S1        0\n",
       "conn_state_S2        0\n",
       "conn_state_S3        0\n",
       "conn_state_SF        0\n",
       "conn_state_SH        0\n",
       "conn_state_SHR       0\n",
       "dtype: int64"
      ]
     },
     "execution_count": 14,
     "metadata": {},
     "output_type": "execute_result"
    }
   ],
   "source": [
    "X.isnull().sum()"
   ]
  },
  {
   "cell_type": "code",
   "execution_count": 15,
   "metadata": {},
   "outputs": [],
   "source": [
    "X = np.asarray(X).astype(np.float32)"
   ]
  },
  {
   "cell_type": "code",
   "execution_count": 16,
   "metadata": {},
   "outputs": [
    {
     "data": {
      "text/plain": [
       "0          POHScan\n",
       "1          POHScan\n",
       "2          POHScan\n",
       "3          POHScan\n",
       "4          POHScan\n",
       "            ...   \n",
       "2802750     Benign\n",
       "2802751     Benign\n",
       "2802752     Benign\n",
       "2802753     Benign\n",
       "2802754     Benign\n",
       "Name: label, Length: 2802755, dtype: object"
      ]
     },
     "execution_count": 16,
     "metadata": {},
     "output_type": "execute_result"
    }
   ],
   "source": [
    "y"
   ]
  },
  {
   "cell_type": "code",
   "execution_count": 17,
   "metadata": {},
   "outputs": [
    {
     "data": {
      "text/plain": [
       "POHScan    1324265\n",
       "Okiru       549228\n",
       "Benign      472319\n",
       "DDoS        448703\n",
       "C&C           8240\n",
       "Name: label, dtype: int64"
      ]
     },
     "execution_count": 17,
     "metadata": {},
     "output_type": "execute_result"
    }
   ],
   "source": [
    "y.value_counts()"
   ]
  },
  {
   "cell_type": "code",
   "execution_count": 18,
   "metadata": {},
   "outputs": [],
   "source": [
    "le=LabelEncoder()"
   ]
  },
  {
   "cell_type": "code",
   "execution_count": 19,
   "metadata": {},
   "outputs": [],
   "source": [
    "y=le.fit_transform(y)"
   ]
  },
  {
   "cell_type": "code",
   "execution_count": 20,
   "metadata": {},
   "outputs": [
    {
     "data": {
      "text/plain": [
       "array([4, 4, 4, ..., 0, 0, 0])"
      ]
     },
     "execution_count": 20,
     "metadata": {},
     "output_type": "execute_result"
    }
   ],
   "source": [
    "y"
   ]
  },
  {
   "cell_type": "code",
   "execution_count": 21,
   "metadata": {},
   "outputs": [],
   "source": [
    "#the labels are encoded in alphabetic order\n",
    "#0---->Benign\n",
    "#1---->Cnc\n",
    "#2---->DDoS\n",
    "#3---->Okiru\n",
    "#4---->POHScan\n"
   ]
  },
  {
   "cell_type": "code",
   "execution_count": 22,
   "metadata": {},
   "outputs": [
    {
     "data": {
      "text/plain": [
       "array(['POHScan', 'POHScan', 'POHScan', ..., 'Benign', 'Benign', 'Benign'],\n",
       "      dtype=object)"
      ]
     },
     "execution_count": 22,
     "metadata": {},
     "output_type": "execute_result"
    }
   ],
   "source": [
    "le.inverse_transform(y)"
   ]
  },
  {
   "cell_type": "code",
   "execution_count": 23,
   "metadata": {},
   "outputs": [
    {
     "data": {
      "text/plain": [
       "(2802755,)"
      ]
     },
     "execution_count": 23,
     "metadata": {},
     "output_type": "execute_result"
    }
   ],
   "source": [
    "y.shape"
   ]
  },
  {
   "cell_type": "code",
   "execution_count": 24,
   "metadata": {},
   "outputs": [],
   "source": [
    "sc=StandardScaler()"
   ]
  },
  {
   "cell_type": "code",
   "execution_count": 25,
   "metadata": {},
   "outputs": [],
   "source": [
    "Xs=sc.fit_transform(X)"
   ]
  },
  {
   "cell_type": "code",
   "execution_count": null,
   "metadata": {},
   "outputs": [],
   "source": []
  },
  {
   "cell_type": "markdown",
   "metadata": {},
   "source": [
    "======================================================================="
   ]
  },
  {
   "cell_type": "code",
   "execution_count": null,
   "metadata": {},
   "outputs": [],
   "source": []
  },
  {
   "cell_type": "code",
   "execution_count": 26,
   "metadata": {},
   "outputs": [],
   "source": [
    "from sklearn.tree import DecisionTreeClassifier\n",
    "from sklearn.metrics import accuracy_score\n",
    "from sklearn.linear_model import LogisticRegression\n",
    "from sklearn.naive_bayes import GaussianNB\n",
    "from sklearn.ensemble import RandomForestClassifier\n",
    "from xgboost import XGBClassifier\n",
    "from sklearn import neighbors\n",
    "from sklearn.tree import DecisionTreeClassifier\n",
    "from sklearn import tree\n",
    "from sklearn.metrics import roc_auc_score\n",
    "from sklearn.svm import SVC\n",
    "from sklearn.model_selection import GridSearchCV\n",
    "from sklearn.metrics import classification_report, confusion_matrix\n",
    "from sklearn.metrics import auc,roc_auc_score,roc_curve,precision_score,recall_score,f1_score\n",
    "from sklearn.model_selection import train_test_split\n",
    "import time as timer"
   ]
  },
  {
   "cell_type": "code",
   "execution_count": 27,
   "metadata": {},
   "outputs": [],
   "source": [
    "X_train, X_test, Y_train, Y_test = train_test_split(Xs, y, random_state=124, test_size=0.30, shuffle=True)"
   ]
  },
  {
   "cell_type": "markdown",
   "metadata": {},
   "source": [
    "# Gussian Naive Bayes "
   ]
  },
  {
   "cell_type": "code",
   "execution_count": 61,
   "metadata": {},
   "outputs": [],
   "source": [
    "GaussianNB?"
   ]
  },
  {
   "cell_type": "code",
   "execution_count": 56,
   "metadata": {},
   "outputs": [
    {
     "name": "stdout",
     "output_type": "stream",
     "text": [
      "Finished training within 0.59 seconds\n"
     ]
    }
   ],
   "source": [
    "start = timer.time()\n",
    "gnb_model = GaussianNB()\n",
    "gnb_model.fit(X_train, Y_train)\n",
    "end = timer.time()\n",
    "print(\"Finished training within {:.2f} seconds\".format(end-start))"
   ]
  },
  {
   "cell_type": "code",
   "execution_count": 57,
   "metadata": {},
   "outputs": [],
   "source": [
    "# Predicting the results on train set\n",
    "y_gnbr = gnb_model.predict(X_train)"
   ]
  },
  {
   "cell_type": "code",
   "execution_count": 58,
   "metadata": {},
   "outputs": [
    {
     "name": "stdout",
     "output_type": "stream",
     "text": [
      "Accuracy score for GNB: 0.6957\n"
     ]
    }
   ],
   "source": [
    "print(\"Accuracy score for GNB: {:.4f}\".format(accuracy_score(Y_train,y_gnbr)))"
   ]
  },
  {
   "cell_type": "code",
   "execution_count": 59,
   "metadata": {},
   "outputs": [],
   "source": [
    "# Predicting the test set results\n",
    "y_gnb = gnb_model.predict(X_test)\n",
    "y_gnb_prob = gnb_model.predict_proba(X_test)"
   ]
  },
  {
   "cell_type": "code",
   "execution_count": 60,
   "metadata": {},
   "outputs": [
    {
     "name": "stdout",
     "output_type": "stream",
     "text": [
      "Accuracy score for GNB: 0.6957\n"
     ]
    }
   ],
   "source": [
    "print(\"Accuracy score for GNB: {:.4f}\".format(accuracy_score(Y_train,y_gnbr)))"
   ]
  },
  {
   "cell_type": "code",
   "execution_count": 65,
   "metadata": {},
   "outputs": [
    {
     "name": "stdout",
     "output_type": "stream",
     "text": [
      "Classification report for GNB: \n",
      "              precision    recall  f1-score   support\n",
      "\n",
      "           0       0.98      0.91      0.94    236110\n",
      "           1       0.01      1.00      0.02      4123\n",
      "           2       0.95      1.00      0.97    224498\n",
      "           3       1.00      1.00      1.00    274797\n",
      "           4       0.97      0.39      0.56    661850\n",
      "\n",
      "    accuracy                           0.70   1401378\n",
      "   macro avg       0.78      0.86      0.70   1401378\n",
      "weighted avg       0.97      0.70      0.77   1401378\n",
      "\n",
      "Confusion matrix for GNB: \n",
      "[[214569    465  12034    134   8908]\n",
      " [     6   4116      0      0      1]\n",
      " [     2      0 224486      0     10]\n",
      " [     2      0      2 274734     59]\n",
      " [  3709 399881      0      0 258260]]\n",
      "Accuracy score for GNB: 0.70\n",
      "Precision score for GNB: 0.97\n",
      "Recall score for GNB: 0.70\n",
      "F1 score for GNB: 0.77\n"
     ]
    }
   ],
   "source": [
    "print(\"Classification report for GNB: \\n{}\".format(classification_report(Y_test,y_gnb)))\n",
    "print(\"Confusion matrix for GNB: \\n{}\".format(confusion_matrix(Y_test,y_gnb)))\n",
    "print(\"Accuracy score for GNB: {:.2f}\".format(accuracy_score(Y_test,y_gnb)))\n",
    "# calculate precision, recall, and f1 scores\n",
    "prec_gnb = precision_score(Y_test,y_gnb,average='weighted')\n",
    "rec_gnb = recall_score(Y_test,y_gnb,average='weighted')\n",
    "f1_gnb = f1_score(Y_test,y_gnb,average='weighted')\n",
    "print(\"Precision score for GNB: {:.2f}\".format(prec_gnb))\n",
    "print(\"Recall score for GNB: {:.2f}\".format(rec_gnb))\n",
    "print(\"F1 score for GNB: {:.2f}\".format(f1_gnb))"
   ]
  },
  {
   "cell_type": "markdown",
   "metadata": {},
   "source": [
    "# Logistic Regression "
   ]
  },
  {
   "cell_type": "code",
   "execution_count": 205,
   "metadata": {},
   "outputs": [],
   "source": [
    "LogisticRegression?"
   ]
  },
  {
   "cell_type": "code",
   "execution_count": 66,
   "metadata": {},
   "outputs": [
    {
     "name": "stdout",
     "output_type": "stream",
     "text": [
      "Finished training within 77.93 seconds\n"
     ]
    }
   ],
   "source": [
    "start = timer.time()\n",
    "logit_model = LogisticRegression(solver='sag', max_iter=300, multi_class='multinomial')\n",
    "logit_model.fit(X_train, Y_train)\n",
    "end = timer.time()\n",
    "print(\"Finished training within {:.2f} seconds\".format(end-start))"
   ]
  },
  {
   "cell_type": "code",
   "execution_count": 67,
   "metadata": {},
   "outputs": [],
   "source": [
    "# Predicting the train set results\n",
    "y_logitr = logit_model.predict(X_train)"
   ]
  },
  {
   "cell_type": "code",
   "execution_count": 71,
   "metadata": {},
   "outputs": [
    {
     "name": "stdout",
     "output_type": "stream",
     "text": [
      "Accuracy score for LR: 0.9636\n"
     ]
    }
   ],
   "source": [
    "print(\"Accuracy score for LR: {:.4f}\".format(accuracy_score(Y_train,y_logitr)))"
   ]
  },
  {
   "cell_type": "code",
   "execution_count": 69,
   "metadata": {},
   "outputs": [],
   "source": [
    "# Predicting the test set results\n",
    "y_logit = logit_model.predict(X_test)\n",
    "y_logit_prob = logit_model.predict_proba(X_test)"
   ]
  },
  {
   "cell_type": "code",
   "execution_count": 72,
   "metadata": {},
   "outputs": [
    {
     "name": "stderr",
     "output_type": "stream",
     "text": [
      "C:\\Users\\DELL\\anaconda3\\lib\\site-packages\\sklearn\\metrics\\_classification.py:1318: UndefinedMetricWarning: Precision and F-score are ill-defined and being set to 0.0 in labels with no predicted samples. Use `zero_division` parameter to control this behavior.\n",
      "  _warn_prf(average, modifier, msg_start, len(result))\n",
      "C:\\Users\\DELL\\anaconda3\\lib\\site-packages\\sklearn\\metrics\\_classification.py:1318: UndefinedMetricWarning: Precision and F-score are ill-defined and being set to 0.0 in labels with no predicted samples. Use `zero_division` parameter to control this behavior.\n",
      "  _warn_prf(average, modifier, msg_start, len(result))\n",
      "C:\\Users\\DELL\\anaconda3\\lib\\site-packages\\sklearn\\metrics\\_classification.py:1318: UndefinedMetricWarning: Precision and F-score are ill-defined and being set to 0.0 in labels with no predicted samples. Use `zero_division` parameter to control this behavior.\n",
      "  _warn_prf(average, modifier, msg_start, len(result))\n"
     ]
    },
    {
     "name": "stdout",
     "output_type": "stream",
     "text": [
      "Classification report for LR: \n",
      "              precision    recall  f1-score   support\n",
      "\n",
      "           0       1.00      0.91      0.95    236110\n",
      "           1       0.00      0.00      0.00      4123\n",
      "           2       1.00      0.89      0.94    224498\n",
      "           3       0.90      1.00      0.94    274797\n",
      "           4       0.97      1.00      0.99    661850\n",
      "\n",
      "    accuracy                           0.96   1401378\n",
      "   macro avg       0.77      0.76      0.76   1401378\n",
      "weighted avg       0.96      0.96      0.96   1401378\n",
      "\n",
      "Confusion matrix for LR: \n",
      "[[214420      0    139   7082  14469]\n",
      " [     4      0      0      0   4119]\n",
      " [     7      0 199495  24996      0]\n",
      " [     1      0     59 274736      1]\n",
      " [    24      0      0      0 661826]]\n",
      "Accuracy score for LR: 0.9637\n"
     ]
    },
    {
     "name": "stderr",
     "output_type": "stream",
     "text": [
      "C:\\Users\\DELL\\anaconda3\\lib\\site-packages\\sklearn\\metrics\\_classification.py:1318: UndefinedMetricWarning: Precision is ill-defined and being set to 0.0 in labels with no predicted samples. Use `zero_division` parameter to control this behavior.\n",
      "  _warn_prf(average, modifier, msg_start, len(result))\n"
     ]
    },
    {
     "name": "stdout",
     "output_type": "stream",
     "text": [
      "Precision score for LR: 0.9635\n",
      "Recall score for LR: 0.9637\n",
      "F1 score for LR: 0.9620\n"
     ]
    }
   ],
   "source": [
    "print(\"Classification report for LR: \\n{}\".format(classification_report(Y_test,y_logit)))\n",
    "print(\"Confusion matrix for LR: \\n{}\".format(confusion_matrix(Y_test,y_logit)))\n",
    "print(\"Accuracy score for LR: {:.4f}\".format(accuracy_score(Y_test,y_logit)))\n",
    "# calculate precision, recall, and f1 scores\n",
    "prec_logit = precision_score(Y_test,y_logit,average='weighted')\n",
    "rec_logit = recall_score(Y_test,y_logit,average='weighted')\n",
    "f1_logit = f1_score(Y_test,y_logit,average='weighted')\n",
    "print(\"Precision score for LR: {:.4f}\".format(prec_logit))\n",
    "print(\"Recall score for LR: {:.4f}\".format(rec_logit))\n",
    "print(\"F1 score for LR: {:.4f}\".format(f1_logit))\n"
   ]
  },
  {
   "cell_type": "markdown",
   "metadata": {},
   "source": [
    "# RandomForestClassifier"
   ]
  },
  {
   "cell_type": "code",
   "execution_count": 73,
   "metadata": {},
   "outputs": [
    {
     "name": "stdout",
     "output_type": "stream",
     "text": [
      "Finished training within 24.6085 seconds\n"
     ]
    }
   ],
   "source": [
    "start = timer.time()\n",
    "Rf_clf=RandomForestClassifier(n_estimators =10, criterion = 'entropy', random_state = 124)\n",
    "Rf_clf.fit(X_train, Y_train)\n",
    "end = timer.time()\n",
    "print(\"Finished training within {:.4f} seconds\".format(end-start))"
   ]
  },
  {
   "cell_type": "code",
   "execution_count": 75,
   "metadata": {},
   "outputs": [],
   "source": [
    "#checking train accuracy\n",
    "y_RF_train = Rf_clf.predict(X_train)"
   ]
  },
  {
   "cell_type": "code",
   "execution_count": 76,
   "metadata": {},
   "outputs": [
    {
     "name": "stdout",
     "output_type": "stream",
     "text": [
      "Accuracy score for RF: 1.0000\n"
     ]
    }
   ],
   "source": [
    "print(\"Accuracy score for RF: {:.4f}\".format(accuracy_score(Y_train,y_RF_train)))"
   ]
  },
  {
   "cell_type": "code",
   "execution_count": null,
   "metadata": {},
   "outputs": [],
   "source": []
  },
  {
   "cell_type": "code",
   "execution_count": 77,
   "metadata": {},
   "outputs": [],
   "source": [
    "y_RF = Rf_clf.predict(X_test)\n",
    "y_RF_prob = Rf_clf.predict_proba(X_test)"
   ]
  },
  {
   "cell_type": "code",
   "execution_count": 78,
   "metadata": {},
   "outputs": [
    {
     "name": "stdout",
     "output_type": "stream",
     "text": [
      "Classification report for RF: \n",
      "              precision    recall  f1-score   support\n",
      "\n",
      "           0       1.00      1.00      1.00    236110\n",
      "           1       1.00      1.00      1.00      4123\n",
      "           2       1.00      1.00      1.00    224498\n",
      "           3       1.00      1.00      1.00    274797\n",
      "           4       1.00      1.00      1.00    661850\n",
      "\n",
      "    accuracy                           1.00   1401378\n",
      "   macro avg       1.00      1.00      1.00   1401378\n",
      "weighted avg       1.00      1.00      1.00   1401378\n",
      "\n",
      "Confusion matrix for RF: \n",
      "[[235973      0      0      0    137]\n",
      " [     5   4118      0      0      0]\n",
      " [     0      0 224498      0      0]\n",
      " [     0      0      0 274797      0]\n",
      " [     7      0      0      0 661843]]\n",
      "Accuracy score for RF: 0.9999\n"
     ]
    }
   ],
   "source": [
    "print(\"Classification report for RF: \\n{}\".format(classification_report(Y_test,y_RF)))\n",
    "print(\"Confusion matrix for RF: \\n{}\".format(confusion_matrix(Y_test,y_RF)))\n",
    "print(\"Accuracy score for RF: {:.4f}\".format(accuracy_score(Y_test,y_RF)))\n",
    "# calculate precision, recall, and f1 scores\n",
    "prec_rf = precision_score(Y_test,y_RF, average='weighted')\n",
    "rec_rf = recall_score(Y_test,y_RF,average='weighted')\n",
    "f1_rf = f1_score(Y_test,y_RF,average='weighted')"
   ]
  },
  {
   "cell_type": "markdown",
   "metadata": {},
   "source": [
    "# Decision Trees"
   ]
  },
  {
   "cell_type": "code",
   "execution_count": 82,
   "metadata": {},
   "outputs": [
    {
     "name": "stdout",
     "output_type": "stream",
     "text": [
      "Finished training within 14.35 seconds\n"
     ]
    }
   ],
   "source": [
    "start = timer.time()\n",
    "DT_clf= DecisionTreeClassifier()\n",
    "DT_clf.fit(X_train,Y_train)\n",
    "end = timer.time()\n",
    "print(\"Finished training within {:.2f} seconds\".format(end-start))"
   ]
  },
  {
   "cell_type": "code",
   "execution_count": 83,
   "metadata": {},
   "outputs": [],
   "source": [
    "#checking train accuracy\n",
    "y_DT_train = DT_clf.predict(X_train)"
   ]
  },
  {
   "cell_type": "code",
   "execution_count": 85,
   "metadata": {},
   "outputs": [],
   "source": [
    "#test accuracy\n",
    "y_DT = DT_clf.predict(X_test)\n",
    "y_DT_prob = DT_clf.predict_proba(X_test)"
   ]
  },
  {
   "cell_type": "code",
   "execution_count": 86,
   "metadata": {},
   "outputs": [
    {
     "name": "stdout",
     "output_type": "stream",
     "text": [
      "Classification report for DT: \n",
      "              precision    recall  f1-score   support\n",
      "\n",
      "           0       1.00      1.00      1.00    141721\n",
      "           1       1.00      1.00      1.00      2445\n",
      "           2       1.00      1.00      1.00    134804\n",
      "           3       1.00      1.00      1.00    165272\n",
      "           4       1.00      1.00      1.00    396585\n",
      "\n",
      "    accuracy                           1.00    840827\n",
      "   macro avg       1.00      1.00      1.00    840827\n",
      "weighted avg       1.00      1.00      1.00    840827\n",
      "\n",
      "Confusion matrix for DT: \n",
      "[[141718      0      0      0      3]\n",
      " [     0   2445      0      0      0]\n",
      " [     0      0 134804      0      0]\n",
      " [     0      0      0 165272      0]\n",
      " [     1      0      0      0 396584]]\n",
      "Accuracy score for DT: 1.0000\n",
      "Precision score for DT: 1.0000\n",
      "Recall score for DT: 1.0000\n",
      "F1 score for DF: 1.0000\n"
     ]
    }
   ],
   "source": [
    "print(\"Classification report for DT: \\n{}\".format(classification_report(Y_test,y_DT)))\n",
    "print(\"Confusion matrix for DT: \\n{}\".format(confusion_matrix(Y_test,y_DT)))\n",
    "print(\"Accuracy score for DT: {:.4f}\".format(accuracy_score(Y_test,y_DT)))\n",
    "# calculate precision, recall, and f1 scores\n",
    "prec_dt = precision_score(Y_test,y_DT, average='micro')\n",
    "rec_dt = recall_score(Y_test,y_DT, average='micro')\n",
    "f1_dt = f1_score(Y_test,y_DT, average='micro')\n",
    "print(\"Precision score for DT: {:.4f}\".format(prec_dt))\n",
    "print(\"Recall score for DT: {:.4f}\".format(rec_dt))\n",
    "print(\"F1 score for DF: {:.4f}\".format(f1_dt))\n"
   ]
  },
  {
   "cell_type": "markdown",
   "metadata": {},
   "source": [
    "# KNN "
   ]
  },
  {
   "cell_type": "code",
   "execution_count": 29,
   "metadata": {},
   "outputs": [
    {
     "name": "stdout",
     "output_type": "stream",
     "text": [
      "Finished training within 1.97 seconds\n"
     ]
    }
   ],
   "source": [
    "start = timer.time()\n",
    "knn_model = neighbors.KNeighborsClassifier()\n",
    "knn_model.fit(X_train, Y_train)\n",
    "end = timer.time()\n",
    "print(\"Finished training within {:.2f} seconds\".format(end-start))"
   ]
  },
  {
   "cell_type": "code",
   "execution_count": 30,
   "metadata": {},
   "outputs": [
    {
     "ename": "MemoryError",
     "evalue": "Unable to allocate 1018. MiB for an array with shape (68, 1961928) and data type float64",
     "output_type": "error",
     "traceback": [
      "\u001b[1;31m---------------------------------------------------------------------------\u001b[0m",
      "\u001b[1;31mMemoryError\u001b[0m                               Traceback (most recent call last)",
      "\u001b[1;32m<ipython-input-30-33cb44db3bba>\u001b[0m in \u001b[0;36m<module>\u001b[1;34m\u001b[0m\n\u001b[0;32m      1\u001b[0m \u001b[0mstart\u001b[0m \u001b[1;33m=\u001b[0m \u001b[0mtimer\u001b[0m\u001b[1;33m.\u001b[0m\u001b[0mtime\u001b[0m\u001b[1;33m(\u001b[0m\u001b[1;33m)\u001b[0m\u001b[1;33m\u001b[0m\u001b[1;33m\u001b[0m\u001b[0m\n\u001b[1;32m----> 2\u001b[1;33m \u001b[0my_KNN\u001b[0m \u001b[1;33m=\u001b[0m \u001b[0mknn_model\u001b[0m\u001b[1;33m.\u001b[0m\u001b[0mpredict\u001b[0m\u001b[1;33m(\u001b[0m\u001b[0mX_test\u001b[0m\u001b[1;33m)\u001b[0m\u001b[1;33m\u001b[0m\u001b[1;33m\u001b[0m\u001b[0m\n\u001b[0m\u001b[0;32m      3\u001b[0m \u001b[0my_KNN_prob\u001b[0m \u001b[1;33m=\u001b[0m \u001b[0mknn_model\u001b[0m\u001b[1;33m.\u001b[0m\u001b[0mpredict_proba\u001b[0m\u001b[1;33m(\u001b[0m\u001b[0mX_test\u001b[0m\u001b[1;33m)\u001b[0m\u001b[1;33m\u001b[0m\u001b[1;33m\u001b[0m\u001b[0m\n\u001b[0;32m      4\u001b[0m \u001b[0mend\u001b[0m \u001b[1;33m=\u001b[0m \u001b[0mtimer\u001b[0m\u001b[1;33m.\u001b[0m\u001b[0mtime\u001b[0m\u001b[1;33m(\u001b[0m\u001b[1;33m)\u001b[0m\u001b[1;33m\u001b[0m\u001b[1;33m\u001b[0m\u001b[0m\n\u001b[0;32m      5\u001b[0m \u001b[0mprint\u001b[0m\u001b[1;33m(\u001b[0m\u001b[1;34m\"Finished training within {:.2f} seconds\"\u001b[0m\u001b[1;33m.\u001b[0m\u001b[0mformat\u001b[0m\u001b[1;33m(\u001b[0m\u001b[0mend\u001b[0m\u001b[1;33m-\u001b[0m\u001b[0mstart\u001b[0m\u001b[1;33m)\u001b[0m\u001b[1;33m)\u001b[0m\u001b[1;33m\u001b[0m\u001b[1;33m\u001b[0m\u001b[0m\n",
      "\u001b[1;32m~\\anaconda3\\lib\\site-packages\\sklearn\\neighbors\\_classification.py\u001b[0m in \u001b[0;36mpredict\u001b[1;34m(self, X)\u001b[0m\n\u001b[0;32m    212\u001b[0m             \u001b[0mClass\u001b[0m \u001b[0mlabels\u001b[0m \u001b[1;32mfor\u001b[0m \u001b[0meach\u001b[0m \u001b[0mdata\u001b[0m \u001b[0msample\u001b[0m\u001b[1;33m.\u001b[0m\u001b[1;33m\u001b[0m\u001b[1;33m\u001b[0m\u001b[0m\n\u001b[0;32m    213\u001b[0m         \"\"\"\n\u001b[1;32m--> 214\u001b[1;33m         \u001b[0mneigh_dist\u001b[0m\u001b[1;33m,\u001b[0m \u001b[0mneigh_ind\u001b[0m \u001b[1;33m=\u001b[0m \u001b[0mself\u001b[0m\u001b[1;33m.\u001b[0m\u001b[0mkneighbors\u001b[0m\u001b[1;33m(\u001b[0m\u001b[0mX\u001b[0m\u001b[1;33m)\u001b[0m\u001b[1;33m\u001b[0m\u001b[1;33m\u001b[0m\u001b[0m\n\u001b[0m\u001b[0;32m    215\u001b[0m         \u001b[0mclasses_\u001b[0m \u001b[1;33m=\u001b[0m \u001b[0mself\u001b[0m\u001b[1;33m.\u001b[0m\u001b[0mclasses_\u001b[0m\u001b[1;33m\u001b[0m\u001b[1;33m\u001b[0m\u001b[0m\n\u001b[0;32m    216\u001b[0m         \u001b[0m_y\u001b[0m \u001b[1;33m=\u001b[0m \u001b[0mself\u001b[0m\u001b[1;33m.\u001b[0m\u001b[0m_y\u001b[0m\u001b[1;33m\u001b[0m\u001b[1;33m\u001b[0m\u001b[0m\n",
      "\u001b[1;32m~\\anaconda3\\lib\\site-packages\\sklearn\\neighbors\\_base.py\u001b[0m in \u001b[0;36mkneighbors\u001b[1;34m(self, X, n_neighbors, return_distance)\u001b[0m\n\u001b[0;32m    750\u001b[0m                 \u001b[0mkwds\u001b[0m \u001b[1;33m=\u001b[0m \u001b[0mself\u001b[0m\u001b[1;33m.\u001b[0m\u001b[0meffective_metric_params_\u001b[0m\u001b[1;33m\u001b[0m\u001b[1;33m\u001b[0m\u001b[0m\n\u001b[0;32m    751\u001b[0m \u001b[1;33m\u001b[0m\u001b[0m\n\u001b[1;32m--> 752\u001b[1;33m             chunked_results = list(\n\u001b[0m\u001b[0;32m    753\u001b[0m                 pairwise_distances_chunked(\n\u001b[0;32m    754\u001b[0m                     \u001b[0mX\u001b[0m\u001b[1;33m,\u001b[0m\u001b[1;33m\u001b[0m\u001b[1;33m\u001b[0m\u001b[0m\n",
      "\u001b[1;32m~\\anaconda3\\lib\\site-packages\\sklearn\\metrics\\pairwise.py\u001b[0m in \u001b[0;36mpairwise_distances_chunked\u001b[1;34m(X, Y, reduce_func, metric, n_jobs, working_memory, **kwds)\u001b[0m\n\u001b[0;32m   1715\u001b[0m         \u001b[1;32melse\u001b[0m\u001b[1;33m:\u001b[0m\u001b[1;33m\u001b[0m\u001b[1;33m\u001b[0m\u001b[0m\n\u001b[0;32m   1716\u001b[0m             \u001b[0mX_chunk\u001b[0m \u001b[1;33m=\u001b[0m \u001b[0mX\u001b[0m\u001b[1;33m[\u001b[0m\u001b[0msl\u001b[0m\u001b[1;33m]\u001b[0m\u001b[1;33m\u001b[0m\u001b[1;33m\u001b[0m\u001b[0m\n\u001b[1;32m-> 1717\u001b[1;33m         \u001b[0mD_chunk\u001b[0m \u001b[1;33m=\u001b[0m \u001b[0mpairwise_distances\u001b[0m\u001b[1;33m(\u001b[0m\u001b[0mX_chunk\u001b[0m\u001b[1;33m,\u001b[0m \u001b[0mY\u001b[0m\u001b[1;33m,\u001b[0m \u001b[0mmetric\u001b[0m\u001b[1;33m=\u001b[0m\u001b[0mmetric\u001b[0m\u001b[1;33m,\u001b[0m \u001b[0mn_jobs\u001b[0m\u001b[1;33m=\u001b[0m\u001b[0mn_jobs\u001b[0m\u001b[1;33m,\u001b[0m \u001b[1;33m**\u001b[0m\u001b[0mkwds\u001b[0m\u001b[1;33m)\u001b[0m\u001b[1;33m\u001b[0m\u001b[1;33m\u001b[0m\u001b[0m\n\u001b[0m\u001b[0;32m   1718\u001b[0m         if (X is Y or Y is None) and PAIRWISE_DISTANCE_FUNCTIONS.get(\n\u001b[0;32m   1719\u001b[0m             \u001b[0mmetric\u001b[0m\u001b[1;33m,\u001b[0m \u001b[1;32mNone\u001b[0m\u001b[1;33m\u001b[0m\u001b[1;33m\u001b[0m\u001b[0m\n",
      "\u001b[1;32m~\\anaconda3\\lib\\site-packages\\sklearn\\metrics\\pairwise.py\u001b[0m in \u001b[0;36mpairwise_distances\u001b[1;34m(X, Y, metric, n_jobs, force_all_finite, **kwds)\u001b[0m\n\u001b[0;32m   1887\u001b[0m         \u001b[0mfunc\u001b[0m \u001b[1;33m=\u001b[0m \u001b[0mpartial\u001b[0m\u001b[1;33m(\u001b[0m\u001b[0mdistance\u001b[0m\u001b[1;33m.\u001b[0m\u001b[0mcdist\u001b[0m\u001b[1;33m,\u001b[0m \u001b[0mmetric\u001b[0m\u001b[1;33m=\u001b[0m\u001b[0mmetric\u001b[0m\u001b[1;33m,\u001b[0m \u001b[1;33m**\u001b[0m\u001b[0mkwds\u001b[0m\u001b[1;33m)\u001b[0m\u001b[1;33m\u001b[0m\u001b[1;33m\u001b[0m\u001b[0m\n\u001b[0;32m   1888\u001b[0m \u001b[1;33m\u001b[0m\u001b[0m\n\u001b[1;32m-> 1889\u001b[1;33m     \u001b[1;32mreturn\u001b[0m \u001b[0m_parallel_pairwise\u001b[0m\u001b[1;33m(\u001b[0m\u001b[0mX\u001b[0m\u001b[1;33m,\u001b[0m \u001b[0mY\u001b[0m\u001b[1;33m,\u001b[0m \u001b[0mfunc\u001b[0m\u001b[1;33m,\u001b[0m \u001b[0mn_jobs\u001b[0m\u001b[1;33m,\u001b[0m \u001b[1;33m**\u001b[0m\u001b[0mkwds\u001b[0m\u001b[1;33m)\u001b[0m\u001b[1;33m\u001b[0m\u001b[1;33m\u001b[0m\u001b[0m\n\u001b[0m\u001b[0;32m   1890\u001b[0m \u001b[1;33m\u001b[0m\u001b[0m\n\u001b[0;32m   1891\u001b[0m \u001b[1;33m\u001b[0m\u001b[0m\n",
      "\u001b[1;32m~\\anaconda3\\lib\\site-packages\\sklearn\\metrics\\pairwise.py\u001b[0m in \u001b[0;36m_parallel_pairwise\u001b[1;34m(X, Y, func, n_jobs, **kwds)\u001b[0m\n\u001b[0;32m   1428\u001b[0m \u001b[1;33m\u001b[0m\u001b[0m\n\u001b[0;32m   1429\u001b[0m     \u001b[1;32mif\u001b[0m \u001b[0meffective_n_jobs\u001b[0m\u001b[1;33m(\u001b[0m\u001b[0mn_jobs\u001b[0m\u001b[1;33m)\u001b[0m \u001b[1;33m==\u001b[0m \u001b[1;36m1\u001b[0m\u001b[1;33m:\u001b[0m\u001b[1;33m\u001b[0m\u001b[1;33m\u001b[0m\u001b[0m\n\u001b[1;32m-> 1430\u001b[1;33m         \u001b[1;32mreturn\u001b[0m \u001b[0mfunc\u001b[0m\u001b[1;33m(\u001b[0m\u001b[0mX\u001b[0m\u001b[1;33m,\u001b[0m \u001b[0mY\u001b[0m\u001b[1;33m,\u001b[0m \u001b[1;33m**\u001b[0m\u001b[0mkwds\u001b[0m\u001b[1;33m)\u001b[0m\u001b[1;33m\u001b[0m\u001b[1;33m\u001b[0m\u001b[0m\n\u001b[0m\u001b[0;32m   1431\u001b[0m \u001b[1;33m\u001b[0m\u001b[0m\n\u001b[0;32m   1432\u001b[0m     \u001b[1;31m# enforce a threading backend to prevent data communication overhead\u001b[0m\u001b[1;33m\u001b[0m\u001b[1;33m\u001b[0m\u001b[1;33m\u001b[0m\u001b[0m\n",
      "\u001b[1;32m~\\anaconda3\\lib\\site-packages\\sklearn\\metrics\\pairwise.py\u001b[0m in \u001b[0;36meuclidean_distances\u001b[1;34m(X, Y, Y_norm_squared, squared, X_norm_squared)\u001b[0m\n\u001b[0;32m    328\u001b[0m             )\n\u001b[0;32m    329\u001b[0m \u001b[1;33m\u001b[0m\u001b[0m\n\u001b[1;32m--> 330\u001b[1;33m     \u001b[1;32mreturn\u001b[0m \u001b[0m_euclidean_distances\u001b[0m\u001b[1;33m(\u001b[0m\u001b[0mX\u001b[0m\u001b[1;33m,\u001b[0m \u001b[0mY\u001b[0m\u001b[1;33m,\u001b[0m \u001b[0mX_norm_squared\u001b[0m\u001b[1;33m,\u001b[0m \u001b[0mY_norm_squared\u001b[0m\u001b[1;33m,\u001b[0m \u001b[0msquared\u001b[0m\u001b[1;33m)\u001b[0m\u001b[1;33m\u001b[0m\u001b[1;33m\u001b[0m\u001b[0m\n\u001b[0m\u001b[0;32m    331\u001b[0m \u001b[1;33m\u001b[0m\u001b[0m\n\u001b[0;32m    332\u001b[0m \u001b[1;33m\u001b[0m\u001b[0m\n",
      "\u001b[1;32m~\\anaconda3\\lib\\site-packages\\sklearn\\metrics\\pairwise.py\u001b[0m in \u001b[0;36m_euclidean_distances\u001b[1;34m(X, Y, X_norm_squared, Y_norm_squared, squared)\u001b[0m\n\u001b[0;32m    369\u001b[0m     \u001b[1;32melse\u001b[0m\u001b[1;33m:\u001b[0m\u001b[1;33m\u001b[0m\u001b[1;33m\u001b[0m\u001b[0m\n\u001b[0;32m    370\u001b[0m         \u001b[1;31m# if dtype is already float64, no need to chunk and upcast\u001b[0m\u001b[1;33m\u001b[0m\u001b[1;33m\u001b[0m\u001b[1;33m\u001b[0m\u001b[0m\n\u001b[1;32m--> 371\u001b[1;33m         \u001b[0mdistances\u001b[0m \u001b[1;33m=\u001b[0m \u001b[1;33m-\u001b[0m\u001b[1;36m2\u001b[0m \u001b[1;33m*\u001b[0m \u001b[0msafe_sparse_dot\u001b[0m\u001b[1;33m(\u001b[0m\u001b[0mX\u001b[0m\u001b[1;33m,\u001b[0m \u001b[0mY\u001b[0m\u001b[1;33m.\u001b[0m\u001b[0mT\u001b[0m\u001b[1;33m,\u001b[0m \u001b[0mdense_output\u001b[0m\u001b[1;33m=\u001b[0m\u001b[1;32mTrue\u001b[0m\u001b[1;33m)\u001b[0m\u001b[1;33m\u001b[0m\u001b[1;33m\u001b[0m\u001b[0m\n\u001b[0m\u001b[0;32m    372\u001b[0m         \u001b[0mdistances\u001b[0m \u001b[1;33m+=\u001b[0m \u001b[0mXX\u001b[0m\u001b[1;33m\u001b[0m\u001b[1;33m\u001b[0m\u001b[0m\n\u001b[0;32m    373\u001b[0m         \u001b[0mdistances\u001b[0m \u001b[1;33m+=\u001b[0m \u001b[0mYY\u001b[0m\u001b[1;33m\u001b[0m\u001b[1;33m\u001b[0m\u001b[0m\n",
      "\u001b[1;31mMemoryError\u001b[0m: Unable to allocate 1018. MiB for an array with shape (68, 1961928) and data type float64"
     ]
    }
   ],
   "source": [
    "start = timer.time()\n",
    "y_KNN = knn_model.predict(X_test)\n",
    "y_KNN_prob = knn_model.predict_proba(X_test)\n",
    "end = timer.time()\n",
    "print(\"Finished training within {:.2f} seconds\".format(end-start))"
   ]
  },
  {
   "cell_type": "code",
   "execution_count": 2,
   "metadata": {},
   "outputs": [],
   "source": [
    "import time as timer"
   ]
  },
  {
   "cell_type": "code",
   "execution_count": 28,
   "metadata": {},
   "outputs": [
    {
     "name": "stdout",
     "output_type": "stream",
     "text": [
      "[21:38:05] WARNING: ..\\src\\learner.cc:1115: Starting in XGBoost 1.3.0, the default evaluation metric used with the objective 'multi:softprob' was changed from 'merror' to 'mlogloss'. Explicitly set eval_metric if you'd like to restore the old behavior.\n",
      "Finished training within 476.36 seconds\n"
     ]
    }
   ],
   "source": [
    "start = timer.time()\n",
    "xg_clf=XGBClassifier(use_label_encoder=False)\n",
    "xg_clf.fit(X_train, Y_train)\n",
    "end = timer.time()\n",
    "print(\"Finished training within {:.2f} seconds\".format(end-start))"
   ]
  },
  {
   "cell_type": "code",
   "execution_count": 29,
   "metadata": {},
   "outputs": [
    {
     "name": "stdout",
     "output_type": "stream",
     "text": [
      "Accuracy score for DT: 1.0000\n"
     ]
    }
   ],
   "source": [
    "#checking train accuracy\n",
    "y_xg_train = xg_clf.predict(X_train)\n",
    "print(\"Accuracy score for DT: {:.4f}\".format(accuracy_score(Y_train,y_xg_train)))"
   ]
  },
  {
   "cell_type": "code",
   "execution_count": 30,
   "metadata": {},
   "outputs": [
    {
     "name": "stdout",
     "output_type": "stream",
     "text": [
      "Finished training within 3.46 seconds\n"
     ]
    }
   ],
   "source": [
    "start = timer.time()\n",
    "y_xg = xg_clf.predict(X_test)\n",
    "y_xg_prob = xg_clf.predict_proba(X_test)\n",
    "end = timer.time()\n",
    "print(\"Finished training within {:.2f} seconds\".format(end-start))"
   ]
  },
  {
   "cell_type": "code",
   "execution_count": 31,
   "metadata": {},
   "outputs": [
    {
     "name": "stdout",
     "output_type": "stream",
     "text": [
      "Classification report for XGBoost: \n",
      "              precision    recall  f1-score   support\n",
      "\n",
      "           0       1.00      1.00      1.00    141721\n",
      "           1       1.00      1.00      1.00      2445\n",
      "           2       1.00      1.00      1.00    134804\n",
      "           3       1.00      1.00      1.00    165272\n",
      "           4       1.00      1.00      1.00    396585\n",
      "\n",
      "    accuracy                           1.00    840827\n",
      "   macro avg       1.00      1.00      1.00    840827\n",
      "weighted avg       1.00      1.00      1.00    840827\n",
      "\n",
      "Confusion matrix for XGBoost: \n",
      "[[141721      0      0      0      0]\n",
      " [     0   2445      0      0      0]\n",
      " [     0      0 134804      0      0]\n",
      " [     0      0      0 165272      0]\n",
      " [     0      0      0      0 396585]]\n",
      "Accuracy score for XGBoost: 1.0000\n",
      "Precision score for XGBoost: 1.0000\n",
      "Recall score for XGBoost: 1.0000\n",
      "F1 score for XGBoost: 1.0000\n"
     ]
    }
   ],
   "source": [
    "print(\"Classification report for XGBoost: \\n{}\".format(classification_report(Y_test,y_xg)))\n",
    "print(\"Confusion matrix for XGBoost: \\n{}\".format(confusion_matrix(Y_test,y_xg)))\n",
    "print(\"Accuracy score for XGBoost: {:.4f}\".format(accuracy_score(Y_test,y_xg)))\n",
    "# calculate precision, recall, and f1 scores\n",
    "prec_knn = precision_score(Y_test,y_xg,average='weighted')\n",
    "rec_knn = recall_score(Y_test,y_xg,average='weighted')\n",
    "f1_knn = f1_score(Y_test,y_xg,average='weighted')\n",
    "print(\"Precision score for XGBoost: {:.4f}\".format(prec_knn))\n",
    "print(\"Recall score for XGBoost: {:.4f}\".format(rec_knn))\n",
    "print(\"F1 score for XGBoost: {:.4f}\".format(f1_knn))"
   ]
  },
  {
   "cell_type": "code",
   "execution_count": null,
   "metadata": {},
   "outputs": [],
   "source": []
  }
 ],
 "metadata": {
  "kernelspec": {
   "display_name": "Python 3",
   "language": "python",
   "name": "python3"
  },
  "language_info": {
   "codemirror_mode": {
    "name": "ipython",
    "version": 3
   },
   "file_extension": ".py",
   "mimetype": "text/x-python",
   "name": "python",
   "nbconvert_exporter": "python",
   "pygments_lexer": "ipython3",
   "version": "3.8.5"
  }
 },
 "nbformat": 4,
 "nbformat_minor": 4
}
