{
 "cells": [
  {
   "cell_type": "markdown",
   "metadata": {},
   "source": [
    "# Data Preparation and EDA for IoT23 dataset"
   ]
  },
  {
   "cell_type": "code",
   "execution_count": 1,
   "metadata": {},
   "outputs": [],
   "source": [
    "import os \n",
    "import pandas as pd\n",
    "import numpy as np \n",
    "import seaborn as sns\n",
    "import matplotlib.pyplot as plt\n",
    "from collections import defaultdict\n",
    "import csv\n",
    "from numpy import array\n",
    "from numpy import argmax\n",
    "from sklearn import preprocessing\n",
    "from sklearn.preprocessing import LabelEncoder\n",
    "from sklearn.preprocessing import OneHotEncoder"
   ]
  },
  {
   "cell_type": "code",
   "execution_count": 6,
   "metadata": {},
   "outputs": [],
   "source": [
    "data= pd.read_csv('D:\\\\JupyterNotebook\\\\GitHub\\\\IoT-BotNet-detection-on-IoT23-dataset\\\\IoT23\\\\Data Preparation\\\\iot23_combined_new_2lac.csv')"
   ]
  },
  {
   "cell_type": "code",
   "execution_count": 7,
   "metadata": {},
   "outputs": [
    {
     "data": {
      "text/html": [
       "<div>\n",
       "<style scoped>\n",
       "    .dataframe tbody tr th:only-of-type {\n",
       "        vertical-align: middle;\n",
       "    }\n",
       "\n",
       "    .dataframe tbody tr th {\n",
       "        vertical-align: top;\n",
       "    }\n",
       "\n",
       "    .dataframe thead th {\n",
       "        text-align: right;\n",
       "    }\n",
       "</style>\n",
       "<table border=\"1\" class=\"dataframe\">\n",
       "  <thead>\n",
       "    <tr style=\"text-align: right;\">\n",
       "      <th></th>\n",
       "      <th>Unnamed: 0</th>\n",
       "      <th>ts</th>\n",
       "      <th>uid</th>\n",
       "      <th>id.orig_h</th>\n",
       "      <th>id.orig_p</th>\n",
       "      <th>id.resp_h</th>\n",
       "      <th>id.resp_p</th>\n",
       "      <th>proto</th>\n",
       "      <th>service</th>\n",
       "      <th>duration</th>\n",
       "      <th>...</th>\n",
       "      <th>local_orig</th>\n",
       "      <th>local_resp</th>\n",
       "      <th>missed_bytes</th>\n",
       "      <th>history</th>\n",
       "      <th>orig_pkts</th>\n",
       "      <th>orig_ip_bytes</th>\n",
       "      <th>resp_pkts</th>\n",
       "      <th>resp_ip_bytes</th>\n",
       "      <th>label</th>\n",
       "      <th>tunnel_parents</th>\n",
       "    </tr>\n",
       "  </thead>\n",
       "  <tbody>\n",
       "    <tr>\n",
       "      <th>0</th>\n",
       "      <td>0</td>\n",
       "      <td>1.525880e+09</td>\n",
       "      <td>CgeVK21nm6PyVgJ4ah</td>\n",
       "      <td>192.168.100.103</td>\n",
       "      <td>40973.0</td>\n",
       "      <td>62.239.193.205</td>\n",
       "      <td>8080.0</td>\n",
       "      <td>tcp</td>\n",
       "      <td>-</td>\n",
       "      <td>-</td>\n",
       "      <td>...</td>\n",
       "      <td>-</td>\n",
       "      <td>-</td>\n",
       "      <td>0.0</td>\n",
       "      <td>S</td>\n",
       "      <td>1.0</td>\n",
       "      <td>60.0</td>\n",
       "      <td>0.0</td>\n",
       "      <td>0.0</td>\n",
       "      <td>POHScan</td>\n",
       "      <td>NaN</td>\n",
       "    </tr>\n",
       "    <tr>\n",
       "      <th>1</th>\n",
       "      <td>1</td>\n",
       "      <td>1.525880e+09</td>\n",
       "      <td>CFXxTW19F3sluNEkJk</td>\n",
       "      <td>192.168.100.103</td>\n",
       "      <td>52259.0</td>\n",
       "      <td>193.189.106.178</td>\n",
       "      <td>23.0</td>\n",
       "      <td>tcp</td>\n",
       "      <td>-</td>\n",
       "      <td>2.9993</td>\n",
       "      <td>...</td>\n",
       "      <td>-</td>\n",
       "      <td>-</td>\n",
       "      <td>0.0</td>\n",
       "      <td>S</td>\n",
       "      <td>3.0</td>\n",
       "      <td>180.0</td>\n",
       "      <td>0.0</td>\n",
       "      <td>0.0</td>\n",
       "      <td>POHScan</td>\n",
       "      <td>NaN</td>\n",
       "    </tr>\n",
       "    <tr>\n",
       "      <th>2</th>\n",
       "      <td>2</td>\n",
       "      <td>1.525880e+09</td>\n",
       "      <td>CRRl9U39PzvL3OiS61</td>\n",
       "      <td>192.168.100.103</td>\n",
       "      <td>42207.0</td>\n",
       "      <td>10.169.219.98</td>\n",
       "      <td>8080.0</td>\n",
       "      <td>tcp</td>\n",
       "      <td>-</td>\n",
       "      <td>2.993548</td>\n",
       "      <td>...</td>\n",
       "      <td>-</td>\n",
       "      <td>-</td>\n",
       "      <td>0.0</td>\n",
       "      <td>S</td>\n",
       "      <td>3.0</td>\n",
       "      <td>180.0</td>\n",
       "      <td>0.0</td>\n",
       "      <td>0.0</td>\n",
       "      <td>POHScan</td>\n",
       "      <td>NaN</td>\n",
       "    </tr>\n",
       "    <tr>\n",
       "      <th>3</th>\n",
       "      <td>3</td>\n",
       "      <td>1.525880e+09</td>\n",
       "      <td>C9hk4p2z9Y6AvlzLff</td>\n",
       "      <td>192.168.100.103</td>\n",
       "      <td>51524.0</td>\n",
       "      <td>65.127.233.163</td>\n",
       "      <td>23.0</td>\n",
       "      <td>tcp</td>\n",
       "      <td>-</td>\n",
       "      <td>-</td>\n",
       "      <td>...</td>\n",
       "      <td>-</td>\n",
       "      <td>-</td>\n",
       "      <td>0.0</td>\n",
       "      <td>S</td>\n",
       "      <td>1.0</td>\n",
       "      <td>60.0</td>\n",
       "      <td>0.0</td>\n",
       "      <td>0.0</td>\n",
       "      <td>POHScan</td>\n",
       "      <td>NaN</td>\n",
       "    </tr>\n",
       "    <tr>\n",
       "      <th>4</th>\n",
       "      <td>4</td>\n",
       "      <td>1.525880e+09</td>\n",
       "      <td>Cx7t1f1wqRES8kiTq6</td>\n",
       "      <td>192.168.100.103</td>\n",
       "      <td>40459.0</td>\n",
       "      <td>212.110.180.188</td>\n",
       "      <td>23.0</td>\n",
       "      <td>tcp</td>\n",
       "      <td>-</td>\n",
       "      <td>2.998807</td>\n",
       "      <td>...</td>\n",
       "      <td>-</td>\n",
       "      <td>-</td>\n",
       "      <td>0.0</td>\n",
       "      <td>S</td>\n",
       "      <td>3.0</td>\n",
       "      <td>180.0</td>\n",
       "      <td>0.0</td>\n",
       "      <td>0.0</td>\n",
       "      <td>POHScan</td>\n",
       "      <td>NaN</td>\n",
       "    </tr>\n",
       "  </tbody>\n",
       "</table>\n",
       "<p>5 rows × 23 columns</p>\n",
       "</div>"
      ],
      "text/plain": [
       "   Unnamed: 0            ts                 uid        id.orig_h  id.orig_p  \\\n",
       "0           0  1.525880e+09  CgeVK21nm6PyVgJ4ah  192.168.100.103    40973.0   \n",
       "1           1  1.525880e+09  CFXxTW19F3sluNEkJk  192.168.100.103    52259.0   \n",
       "2           2  1.525880e+09  CRRl9U39PzvL3OiS61  192.168.100.103    42207.0   \n",
       "3           3  1.525880e+09  C9hk4p2z9Y6AvlzLff  192.168.100.103    51524.0   \n",
       "4           4  1.525880e+09  Cx7t1f1wqRES8kiTq6  192.168.100.103    40459.0   \n",
       "\n",
       "         id.resp_h  id.resp_p proto service  duration  ... local_orig  \\\n",
       "0   62.239.193.205     8080.0   tcp       -         -  ...          -   \n",
       "1  193.189.106.178       23.0   tcp       -    2.9993  ...          -   \n",
       "2    10.169.219.98     8080.0   tcp       -  2.993548  ...          -   \n",
       "3   65.127.233.163       23.0   tcp       -         -  ...          -   \n",
       "4  212.110.180.188       23.0   tcp       -  2.998807  ...          -   \n",
       "\n",
       "  local_resp missed_bytes history orig_pkts  orig_ip_bytes resp_pkts  \\\n",
       "0          -          0.0       S       1.0           60.0       0.0   \n",
       "1          -          0.0       S       3.0          180.0       0.0   \n",
       "2          -          0.0       S       3.0          180.0       0.0   \n",
       "3          -          0.0       S       1.0           60.0       0.0   \n",
       "4          -          0.0       S       3.0          180.0       0.0   \n",
       "\n",
       "   resp_ip_bytes    label  tunnel_parents  \n",
       "0            0.0  POHScan             NaN  \n",
       "1            0.0  POHScan             NaN  \n",
       "2            0.0  POHScan             NaN  \n",
       "3            0.0  POHScan             NaN  \n",
       "4            0.0  POHScan             NaN  \n",
       "\n",
       "[5 rows x 23 columns]"
      ]
     },
     "execution_count": 7,
     "metadata": {},
     "output_type": "execute_result"
    }
   ],
   "source": [
    "data.head()  "
   ]
  },
  {
   "cell_type": "code",
   "execution_count": 8,
   "metadata": {},
   "outputs": [],
   "source": [
    "del data['Unnamed: 0']"
   ]
  },
  {
   "cell_type": "markdown",
   "metadata": {},
   "source": [
    "# Cleaning Process start! "
   ]
  },
  {
   "cell_type": "markdown",
   "metadata": {},
   "source": [
    "# dropping unncessary attributes ! "
   ]
  },
  {
   "cell_type": "code",
   "execution_count": 16,
   "metadata": {},
   "outputs": [],
   "source": [
    "df= data.drop(columns=['resp_ip_bytes','tunnel_parents','ts','uid','id.orig_h','id.orig_p','id.resp_h','id.resp_p','local_orig','local_resp'])"
   ]
  },
  {
   "cell_type": "code",
   "execution_count": 17,
   "metadata": {},
   "outputs": [
    {
     "data": {
      "text/html": [
       "<div>\n",
       "<style scoped>\n",
       "    .dataframe tbody tr th:only-of-type {\n",
       "        vertical-align: middle;\n",
       "    }\n",
       "\n",
       "    .dataframe tbody tr th {\n",
       "        vertical-align: top;\n",
       "    }\n",
       "\n",
       "    .dataframe thead th {\n",
       "        text-align: right;\n",
       "    }\n",
       "</style>\n",
       "<table border=\"1\" class=\"dataframe\">\n",
       "  <thead>\n",
       "    <tr style=\"text-align: right;\">\n",
       "      <th></th>\n",
       "      <th>proto</th>\n",
       "      <th>service</th>\n",
       "      <th>duration</th>\n",
       "      <th>orig_bytes</th>\n",
       "      <th>resp_bytes</th>\n",
       "      <th>conn_state</th>\n",
       "      <th>missed_bytes</th>\n",
       "      <th>history</th>\n",
       "      <th>orig_pkts</th>\n",
       "      <th>orig_ip_bytes</th>\n",
       "      <th>resp_pkts</th>\n",
       "      <th>label</th>\n",
       "    </tr>\n",
       "  </thead>\n",
       "  <tbody>\n",
       "    <tr>\n",
       "      <th>0</th>\n",
       "      <td>tcp</td>\n",
       "      <td>-</td>\n",
       "      <td>-</td>\n",
       "      <td>-</td>\n",
       "      <td>-</td>\n",
       "      <td>S0</td>\n",
       "      <td>0.0</td>\n",
       "      <td>S</td>\n",
       "      <td>1.0</td>\n",
       "      <td>60.0</td>\n",
       "      <td>0.0</td>\n",
       "      <td>POHScan</td>\n",
       "    </tr>\n",
       "    <tr>\n",
       "      <th>1</th>\n",
       "      <td>tcp</td>\n",
       "      <td>-</td>\n",
       "      <td>2.9993</td>\n",
       "      <td>0</td>\n",
       "      <td>0</td>\n",
       "      <td>S0</td>\n",
       "      <td>0.0</td>\n",
       "      <td>S</td>\n",
       "      <td>3.0</td>\n",
       "      <td>180.0</td>\n",
       "      <td>0.0</td>\n",
       "      <td>POHScan</td>\n",
       "    </tr>\n",
       "    <tr>\n",
       "      <th>2</th>\n",
       "      <td>tcp</td>\n",
       "      <td>-</td>\n",
       "      <td>2.993548</td>\n",
       "      <td>0</td>\n",
       "      <td>0</td>\n",
       "      <td>S0</td>\n",
       "      <td>0.0</td>\n",
       "      <td>S</td>\n",
       "      <td>3.0</td>\n",
       "      <td>180.0</td>\n",
       "      <td>0.0</td>\n",
       "      <td>POHScan</td>\n",
       "    </tr>\n",
       "    <tr>\n",
       "      <th>3</th>\n",
       "      <td>tcp</td>\n",
       "      <td>-</td>\n",
       "      <td>-</td>\n",
       "      <td>-</td>\n",
       "      <td>-</td>\n",
       "      <td>S0</td>\n",
       "      <td>0.0</td>\n",
       "      <td>S</td>\n",
       "      <td>1.0</td>\n",
       "      <td>60.0</td>\n",
       "      <td>0.0</td>\n",
       "      <td>POHScan</td>\n",
       "    </tr>\n",
       "    <tr>\n",
       "      <th>4</th>\n",
       "      <td>tcp</td>\n",
       "      <td>-</td>\n",
       "      <td>2.998807</td>\n",
       "      <td>0</td>\n",
       "      <td>0</td>\n",
       "      <td>S0</td>\n",
       "      <td>0.0</td>\n",
       "      <td>S</td>\n",
       "      <td>3.0</td>\n",
       "      <td>180.0</td>\n",
       "      <td>0.0</td>\n",
       "      <td>POHScan</td>\n",
       "    </tr>\n",
       "  </tbody>\n",
       "</table>\n",
       "</div>"
      ],
      "text/plain": [
       "  proto service  duration orig_bytes resp_bytes conn_state  missed_bytes  \\\n",
       "0   tcp       -         -          -          -         S0           0.0   \n",
       "1   tcp       -    2.9993          0          0         S0           0.0   \n",
       "2   tcp       -  2.993548          0          0         S0           0.0   \n",
       "3   tcp       -         -          -          -         S0           0.0   \n",
       "4   tcp       -  2.998807          0          0         S0           0.0   \n",
       "\n",
       "  history  orig_pkts  orig_ip_bytes  resp_pkts    label  \n",
       "0       S        1.0           60.0        0.0  POHScan  \n",
       "1       S        3.0          180.0        0.0  POHScan  \n",
       "2       S        3.0          180.0        0.0  POHScan  \n",
       "3       S        1.0           60.0        0.0  POHScan  \n",
       "4       S        3.0          180.0        0.0  POHScan  "
      ]
     },
     "execution_count": 17,
     "metadata": {},
     "output_type": "execute_result"
    }
   ],
   "source": [
    "df.head()"
   ]
  },
  {
   "cell_type": "code",
   "execution_count": 18,
   "metadata": {},
   "outputs": [
    {
     "data": {
      "text/plain": [
       "proto            0\n",
       "service          0\n",
       "duration         0\n",
       "orig_bytes       0\n",
       "resp_bytes       0\n",
       "conn_state       0\n",
       "missed_bytes     0\n",
       "history          0\n",
       "orig_pkts        0\n",
       "orig_ip_bytes    0\n",
       "resp_pkts        0\n",
       "label            0\n",
       "dtype: int64"
      ]
     },
     "execution_count": 18,
     "metadata": {},
     "output_type": "execute_result"
    }
   ],
   "source": [
    "df.isnull().sum()"
   ]
  },
  {
   "cell_type": "code",
   "execution_count": null,
   "metadata": {},
   "outputs": [],
   "source": []
  },
  {
   "cell_type": "markdown",
   "metadata": {},
   "source": [
    "We drop the target variables with very few data samples "
   ]
  },
  {
   "cell_type": "code",
   "execution_count": 19,
   "metadata": {},
   "outputs": [],
   "source": [
    "data1=df['label']"
   ]
  },
  {
   "cell_type": "code",
   "execution_count": 20,
   "metadata": {},
   "outputs": [
    {
     "data": {
      "text/plain": [
       "<seaborn.axisgrid.FacetGrid at 0x1f4d4cdc880>"
      ]
     },
     "execution_count": 20,
     "metadata": {},
     "output_type": "execute_result"
    },
    {
     "data": {
      "image/png": "[encoded data removed]",
      "text/plain": [
       "<Figure size 360x360 with 1 Axes>"
      ]
     },
     "metadata": {
      "needs_background": "light"
     },
     "output_type": "display_data"
    }
   ],
   "source": [
    "sns.displot(data1)"
   ]
  },
  {
   "cell_type": "code",
   "execution_count": 21,
   "metadata": {},
   "outputs": [],
   "source": [
    "df.drop(df[df['label'] == 'C&C-HeartBeat' ].index, inplace = True)"
   ]
  },
  {
   "cell_type": "code",
   "execution_count": 22,
   "metadata": {},
   "outputs": [
    {
     "name": "stdout",
     "output_type": "stream",
     "text": [
      "<class 'pandas.core.frame.DataFrame'>\n",
      "Int64Index: 224973 entries, 0 to 225086\n",
      "Data columns (total 12 columns):\n",
      " #   Column         Non-Null Count   Dtype  \n",
      "---  ------         --------------   -----  \n",
      " 0   proto          224973 non-null  object \n",
      " 1   service        224973 non-null  object \n",
      " 2   duration       224973 non-null  object \n",
      " 3   orig_bytes     224973 non-null  object \n",
      " 4   resp_bytes     224973 non-null  object \n",
      " 5   conn_state     224973 non-null  object \n",
      " 6   missed_bytes   224973 non-null  float64\n",
      " 7   history        224973 non-null  object \n",
      " 8   orig_pkts      224973 non-null  float64\n",
      " 9   orig_ip_bytes  224973 non-null  float64\n",
      " 10  resp_pkts      224973 non-null  float64\n",
      " 11  label          224973 non-null  object \n",
      "dtypes: float64(4), object(8)\n",
      "memory usage: 22.3+ MB\n"
     ]
    }
   ],
   "source": [
    "df.info()"
   ]
  },
  {
   "cell_type": "code",
   "execution_count": 23,
   "metadata": {},
   "outputs": [],
   "source": [
    "df['orig_bytes'] = df['orig_bytes'].replace('-',0)\n",
    "df['resp_bytes'] = df['resp_bytes'].replace('-',0)\n",
    "df['duration'] = df['duration'].replace('-',0)"
   ]
  },
  {
   "cell_type": "code",
   "execution_count": 25,
   "metadata": {},
   "outputs": [
    {
     "data": {
      "text/plain": [
       "(224973, 12)"
      ]
     },
     "execution_count": 25,
     "metadata": {},
     "output_type": "execute_result"
    }
   ],
   "source": [
    "df.shape"
   ]
  },
  {
   "cell_type": "markdown",
   "metadata": {},
   "source": [
    "ok so now we have only clean data with few targets! "
   ]
  },
  {
   "cell_type": "code",
   "execution_count": 72,
   "metadata": {},
   "outputs": [
    {
     "data": {
      "text/plain": [
       "(884137, 14)"
      ]
     },
     "execution_count": 72,
     "metadata": {},
     "output_type": "execute_result"
    }
   ],
   "source": [
    "df.shape"
   ]
  },
  {
   "cell_type": "code",
   "execution_count": 27,
   "metadata": {},
   "outputs": [
    {
     "data": {
      "text/html": [
       "<div>\n",
       "<style scoped>\n",
       "    .dataframe tbody tr th:only-of-type {\n",
       "        vertical-align: middle;\n",
       "    }\n",
       "\n",
       "    .dataframe tbody tr th {\n",
       "        vertical-align: top;\n",
       "    }\n",
       "\n",
       "    .dataframe thead th {\n",
       "        text-align: right;\n",
       "    }\n",
       "</style>\n",
       "<table border=\"1\" class=\"dataframe\">\n",
       "  <thead>\n",
       "    <tr style=\"text-align: right;\">\n",
       "      <th></th>\n",
       "      <th>proto</th>\n",
       "      <th>service</th>\n",
       "      <th>duration</th>\n",
       "      <th>orig_bytes</th>\n",
       "      <th>resp_bytes</th>\n",
       "      <th>conn_state</th>\n",
       "      <th>missed_bytes</th>\n",
       "      <th>history</th>\n",
       "      <th>orig_pkts</th>\n",
       "      <th>orig_ip_bytes</th>\n",
       "      <th>resp_pkts</th>\n",
       "      <th>label</th>\n",
       "    </tr>\n",
       "  </thead>\n",
       "  <tbody>\n",
       "    <tr>\n",
       "      <th>0</th>\n",
       "      <td>tcp</td>\n",
       "      <td>-</td>\n",
       "      <td>0</td>\n",
       "      <td>0</td>\n",
       "      <td>0</td>\n",
       "      <td>S0</td>\n",
       "      <td>0.0</td>\n",
       "      <td>S</td>\n",
       "      <td>1.0</td>\n",
       "      <td>60.0</td>\n",
       "      <td>0.0</td>\n",
       "      <td>POHScan</td>\n",
       "    </tr>\n",
       "    <tr>\n",
       "      <th>1</th>\n",
       "      <td>tcp</td>\n",
       "      <td>-</td>\n",
       "      <td>2.9993</td>\n",
       "      <td>0</td>\n",
       "      <td>0</td>\n",
       "      <td>S0</td>\n",
       "      <td>0.0</td>\n",
       "      <td>S</td>\n",
       "      <td>3.0</td>\n",
       "      <td>180.0</td>\n",
       "      <td>0.0</td>\n",
       "      <td>POHScan</td>\n",
       "    </tr>\n",
       "    <tr>\n",
       "      <th>2</th>\n",
       "      <td>tcp</td>\n",
       "      <td>-</td>\n",
       "      <td>2.993548</td>\n",
       "      <td>0</td>\n",
       "      <td>0</td>\n",
       "      <td>S0</td>\n",
       "      <td>0.0</td>\n",
       "      <td>S</td>\n",
       "      <td>3.0</td>\n",
       "      <td>180.0</td>\n",
       "      <td>0.0</td>\n",
       "      <td>POHScan</td>\n",
       "    </tr>\n",
       "    <tr>\n",
       "      <th>3</th>\n",
       "      <td>tcp</td>\n",
       "      <td>-</td>\n",
       "      <td>0</td>\n",
       "      <td>0</td>\n",
       "      <td>0</td>\n",
       "      <td>S0</td>\n",
       "      <td>0.0</td>\n",
       "      <td>S</td>\n",
       "      <td>1.0</td>\n",
       "      <td>60.0</td>\n",
       "      <td>0.0</td>\n",
       "      <td>POHScan</td>\n",
       "    </tr>\n",
       "    <tr>\n",
       "      <th>4</th>\n",
       "      <td>tcp</td>\n",
       "      <td>-</td>\n",
       "      <td>2.998807</td>\n",
       "      <td>0</td>\n",
       "      <td>0</td>\n",
       "      <td>S0</td>\n",
       "      <td>0.0</td>\n",
       "      <td>S</td>\n",
       "      <td>3.0</td>\n",
       "      <td>180.0</td>\n",
       "      <td>0.0</td>\n",
       "      <td>POHScan</td>\n",
       "    </tr>\n",
       "  </tbody>\n",
       "</table>\n",
       "</div>"
      ],
      "text/plain": [
       "  proto service  duration orig_bytes resp_bytes conn_state  missed_bytes  \\\n",
       "0   tcp       -         0          0          0         S0           0.0   \n",
       "1   tcp       -    2.9993          0          0         S0           0.0   \n",
       "2   tcp       -  2.993548          0          0         S0           0.0   \n",
       "3   tcp       -         0          0          0         S0           0.0   \n",
       "4   tcp       -  2.998807          0          0         S0           0.0   \n",
       "\n",
       "  history  orig_pkts  orig_ip_bytes  resp_pkts    label  \n",
       "0       S        1.0           60.0        0.0  POHScan  \n",
       "1       S        3.0          180.0        0.0  POHScan  \n",
       "2       S        3.0          180.0        0.0  POHScan  \n",
       "3       S        1.0           60.0        0.0  POHScan  \n",
       "4       S        3.0          180.0        0.0  POHScan  "
      ]
     },
     "execution_count": 27,
     "metadata": {},
     "output_type": "execute_result"
    }
   ],
   "source": [
    "df.head()"
   ]
  },
  {
   "cell_type": "markdown",
   "metadata": {},
   "source": [
    "Separating dependent and independent variables"
   ]
  },
  {
   "cell_type": "code",
   "execution_count": 28,
   "metadata": {},
   "outputs": [],
   "source": [
    "X= df.iloc[:,:-1]"
   ]
  },
  {
   "cell_type": "code",
   "execution_count": 29,
   "metadata": {},
   "outputs": [],
   "source": [
    "y=df['label']"
   ]
  },
  {
   "cell_type": "code",
   "execution_count": 30,
   "metadata": {},
   "outputs": [
    {
     "data": {
      "text/plain": [
       "Okiru      99864\n",
       "POHScan    55163\n",
       "Benign     48846\n",
       "DDoS       14394\n",
       "C&C         6706\n",
       "Name: label, dtype: int64"
      ]
     },
     "execution_count": 30,
     "metadata": {},
     "output_type": "execute_result"
    }
   ],
   "source": [
    "y.value_counts()"
   ]
  },
  {
   "cell_type": "code",
   "execution_count": 31,
   "metadata": {},
   "outputs": [
    {
     "data": {
      "text/plain": [
       "(224973, 11)"
      ]
     },
     "execution_count": 31,
     "metadata": {},
     "output_type": "execute_result"
    }
   ],
   "source": [
    "X.shape"
   ]
  },
  {
   "cell_type": "code",
   "execution_count": 32,
   "metadata": {},
   "outputs": [
    {
     "data": {
      "text/plain": [
       "array(['POHScan', 'Benign', 'C&C', 'DDoS', 'Okiru'], dtype=object)"
      ]
     },
     "execution_count": 32,
     "metadata": {},
     "output_type": "execute_result"
    }
   ],
   "source": [
    "y.unique()"
   ]
  },
  {
   "cell_type": "markdown",
   "metadata": {},
   "source": [
    "so we only remain with 6 classes "
   ]
  },
  {
   "cell_type": "code",
   "execution_count": 33,
   "metadata": {},
   "outputs": [
    {
     "name": "stdout",
     "output_type": "stream",
     "text": [
      "<class 'pandas.core.frame.DataFrame'>\n",
      "Int64Index: 224973 entries, 0 to 225086\n",
      "Data columns (total 11 columns):\n",
      " #   Column         Non-Null Count   Dtype  \n",
      "---  ------         --------------   -----  \n",
      " 0   proto          224973 non-null  object \n",
      " 1   service        224973 non-null  object \n",
      " 2   duration       224973 non-null  object \n",
      " 3   orig_bytes     224973 non-null  object \n",
      " 4   resp_bytes     224973 non-null  object \n",
      " 5   conn_state     224973 non-null  object \n",
      " 6   missed_bytes   224973 non-null  float64\n",
      " 7   history        224973 non-null  object \n",
      " 8   orig_pkts      224973 non-null  float64\n",
      " 9   orig_ip_bytes  224973 non-null  float64\n",
      " 10  resp_pkts      224973 non-null  float64\n",
      "dtypes: float64(4), object(7)\n",
      "memory usage: 20.6+ MB\n"
     ]
    }
   ],
   "source": [
    "X.info()"
   ]
  },
  {
   "cell_type": "markdown",
   "metadata": {},
   "source": [
    "so there are some variables which are  not strings or categorical values. Since all of those are numbers we need to convert those variables into numerical variable"
   ]
  },
  {
   "cell_type": "code",
   "execution_count": 34,
   "metadata": {},
   "outputs": [],
   "source": [
    "X['orig_bytes']=X['orig_bytes'].astype(float)"
   ]
  },
  {
   "cell_type": "code",
   "execution_count": 35,
   "metadata": {},
   "outputs": [],
   "source": [
    "X['duration']=X['duration'].astype(float)"
   ]
  },
  {
   "cell_type": "code",
   "execution_count": 36,
   "metadata": {},
   "outputs": [],
   "source": [
    "X['resp_bytes']=X['resp_bytes'].astype(float)"
   ]
  },
  {
   "cell_type": "code",
   "execution_count": 37,
   "metadata": {},
   "outputs": [
    {
     "name": "stdout",
     "output_type": "stream",
     "text": [
      "<class 'pandas.core.frame.DataFrame'>\n",
      "Int64Index: 224973 entries, 0 to 225086\n",
      "Data columns (total 11 columns):\n",
      " #   Column         Non-Null Count   Dtype  \n",
      "---  ------         --------------   -----  \n",
      " 0   proto          224973 non-null  object \n",
      " 1   service        224973 non-null  object \n",
      " 2   duration       224973 non-null  float64\n",
      " 3   orig_bytes     224973 non-null  float64\n",
      " 4   resp_bytes     224973 non-null  float64\n",
      " 5   conn_state     224973 non-null  object \n",
      " 6   missed_bytes   224973 non-null  float64\n",
      " 7   history        224973 non-null  object \n",
      " 8   orig_pkts      224973 non-null  float64\n",
      " 9   orig_ip_bytes  224973 non-null  float64\n",
      " 10  resp_pkts      224973 non-null  float64\n",
      "dtypes: float64(7), object(4)\n",
      "memory usage: 20.6+ MB\n"
     ]
    }
   ],
   "source": [
    "X.info()"
   ]
  },
  {
   "cell_type": "code",
   "execution_count": 45,
   "metadata": {},
   "outputs": [],
   "source": [
    "#to check the count of each target variable\n",
    "Yn=y.value_counts()"
   ]
  },
  {
   "cell_type": "code",
   "execution_count": 46,
   "metadata": {},
   "outputs": [],
   "source": [
    "Yarray=np.array(Yn)"
   ]
  },
  {
   "cell_type": "code",
   "execution_count": 47,
   "metadata": {},
   "outputs": [
    {
     "data": {
      "text/plain": [
       "array([99864, 55163, 48846, 14394,  6706], dtype=int64)"
      ]
     },
     "execution_count": 47,
     "metadata": {},
     "output_type": "execute_result"
    }
   ],
   "source": [
    "Yarray"
   ]
  },
  {
   "cell_type": "markdown",
   "metadata": {},
   "source": [
    "still C&C attack has very few samples in the data. I think it would be better drop that variable as well. "
   ]
  },
  {
   "cell_type": "markdown",
   "metadata": {},
   "source": [
    "but let us first go with it and then we decide! "
   ]
  },
  {
   "cell_type": "markdown",
   "metadata": {},
   "source": [
    "let us plot the distribution of each target variable"
   ]
  },
  {
   "cell_type": "markdown",
   "metadata": {},
   "source": [
    "yn =Yarray\n",
    "mylabels = [\"Okiru\",\"POHScan\",\"Benign\",\"DDoS\",\"C&C\"]\n",
    "myexplode = [0,0,0.1,0,0]\n",
    "plt.figure(figsize=(6,6))\n",
    "plt.pie(y, labels = mylabels, explode=myexplode)\n",
    "plt.show() "
   ]
  },
  {
   "cell_type": "code",
   "execution_count": 49,
   "metadata": {},
   "outputs": [],
   "source": [
    "import seaborn as sns"
   ]
  },
  {
   "cell_type": "code",
   "execution_count": 50,
   "metadata": {},
   "outputs": [
    {
     "data": {
      "text/plain": [
       "<seaborn.axisgrid.FacetGrid at 0x1f4d89cf070>"
      ]
     },
     "execution_count": 50,
     "metadata": {},
     "output_type": "execute_result"
    },
    {
     "data": {
      "image/png": "[encoded data removed]",
      "text/plain": [
       "<Figure size 360x360 with 1 Axes>"
      ]
     },
     "metadata": {
      "needs_background": "light"
     },
     "output_type": "display_data"
    }
   ],
   "source": [
    "data = df['label']\n",
    "sns.displot(data)"
   ]
  },
  {
   "cell_type": "code",
   "execution_count": 51,
   "metadata": {},
   "outputs": [],
   "source": [
    "cat_df =X.select_dtypes(include=['object']).copy()"
   ]
  },
  {
   "cell_type": "code",
   "execution_count": 52,
   "metadata": {},
   "outputs": [
    {
     "data": {
      "text/html": [
       "<div>\n",
       "<style scoped>\n",
       "    .dataframe tbody tr th:only-of-type {\n",
       "        vertical-align: middle;\n",
       "    }\n",
       "\n",
       "    .dataframe tbody tr th {\n",
       "        vertical-align: top;\n",
       "    }\n",
       "\n",
       "    .dataframe thead th {\n",
       "        text-align: right;\n",
       "    }\n",
       "</style>\n",
       "<table border=\"1\" class=\"dataframe\">\n",
       "  <thead>\n",
       "    <tr style=\"text-align: right;\">\n",
       "      <th></th>\n",
       "      <th>proto</th>\n",
       "      <th>service</th>\n",
       "      <th>conn_state</th>\n",
       "      <th>history</th>\n",
       "    </tr>\n",
       "  </thead>\n",
       "  <tbody>\n",
       "    <tr>\n",
       "      <th>0</th>\n",
       "      <td>tcp</td>\n",
       "      <td>-</td>\n",
       "      <td>S0</td>\n",
       "      <td>S</td>\n",
       "    </tr>\n",
       "    <tr>\n",
       "      <th>1</th>\n",
       "      <td>tcp</td>\n",
       "      <td>-</td>\n",
       "      <td>S0</td>\n",
       "      <td>S</td>\n",
       "    </tr>\n",
       "    <tr>\n",
       "      <th>2</th>\n",
       "      <td>tcp</td>\n",
       "      <td>-</td>\n",
       "      <td>S0</td>\n",
       "      <td>S</td>\n",
       "    </tr>\n",
       "    <tr>\n",
       "      <th>3</th>\n",
       "      <td>tcp</td>\n",
       "      <td>-</td>\n",
       "      <td>S0</td>\n",
       "      <td>S</td>\n",
       "    </tr>\n",
       "    <tr>\n",
       "      <th>4</th>\n",
       "      <td>tcp</td>\n",
       "      <td>-</td>\n",
       "      <td>S0</td>\n",
       "      <td>S</td>\n",
       "    </tr>\n",
       "  </tbody>\n",
       "</table>\n",
       "</div>"
      ],
      "text/plain": [
       "  proto service conn_state history\n",
       "0   tcp       -         S0       S\n",
       "1   tcp       -         S0       S\n",
       "2   tcp       -         S0       S\n",
       "3   tcp       -         S0       S\n",
       "4   tcp       -         S0       S"
      ]
     },
     "execution_count": 52,
     "metadata": {},
     "output_type": "execute_result"
    }
   ],
   "source": [
    "cat_df.head()"
   ]
  },
  {
   "cell_type": "code",
   "execution_count": 53,
   "metadata": {},
   "outputs": [
    {
     "data": {
      "text/plain": [
       "array(['-', 'http', 'irc', 'dns', 'dhcp', 'ssl'], dtype=object)"
      ]
     },
     "execution_count": 53,
     "metadata": {},
     "output_type": "execute_result"
    }
   ],
   "source": [
    "cat_df['service'].unique()"
   ]
  },
  {
   "cell_type": "code",
   "execution_count": 54,
   "metadata": {},
   "outputs": [],
   "source": [
    "cat_df['service'] = cat_df['service'].str.replace('-','0')"
   ]
  },
  {
   "cell_type": "code",
   "execution_count": 55,
   "metadata": {},
   "outputs": [
    {
     "data": {
      "text/html": [
       "<div>\n",
       "<style scoped>\n",
       "    .dataframe tbody tr th:only-of-type {\n",
       "        vertical-align: middle;\n",
       "    }\n",
       "\n",
       "    .dataframe tbody tr th {\n",
       "        vertical-align: top;\n",
       "    }\n",
       "\n",
       "    .dataframe thead th {\n",
       "        text-align: right;\n",
       "    }\n",
       "</style>\n",
       "<table border=\"1\" class=\"dataframe\">\n",
       "  <thead>\n",
       "    <tr style=\"text-align: right;\">\n",
       "      <th></th>\n",
       "      <th>proto</th>\n",
       "      <th>service</th>\n",
       "      <th>conn_state</th>\n",
       "      <th>history</th>\n",
       "    </tr>\n",
       "  </thead>\n",
       "  <tbody>\n",
       "    <tr>\n",
       "      <th>0</th>\n",
       "      <td>tcp</td>\n",
       "      <td>0</td>\n",
       "      <td>S0</td>\n",
       "      <td>S</td>\n",
       "    </tr>\n",
       "    <tr>\n",
       "      <th>1</th>\n",
       "      <td>tcp</td>\n",
       "      <td>0</td>\n",
       "      <td>S0</td>\n",
       "      <td>S</td>\n",
       "    </tr>\n",
       "    <tr>\n",
       "      <th>2</th>\n",
       "      <td>tcp</td>\n",
       "      <td>0</td>\n",
       "      <td>S0</td>\n",
       "      <td>S</td>\n",
       "    </tr>\n",
       "    <tr>\n",
       "      <th>3</th>\n",
       "      <td>tcp</td>\n",
       "      <td>0</td>\n",
       "      <td>S0</td>\n",
       "      <td>S</td>\n",
       "    </tr>\n",
       "    <tr>\n",
       "      <th>4</th>\n",
       "      <td>tcp</td>\n",
       "      <td>0</td>\n",
       "      <td>S0</td>\n",
       "      <td>S</td>\n",
       "    </tr>\n",
       "  </tbody>\n",
       "</table>\n",
       "</div>"
      ],
      "text/plain": [
       "  proto service conn_state history\n",
       "0   tcp       0         S0       S\n",
       "1   tcp       0         S0       S\n",
       "2   tcp       0         S0       S\n",
       "3   tcp       0         S0       S\n",
       "4   tcp       0         S0       S"
      ]
     },
     "execution_count": 55,
     "metadata": {},
     "output_type": "execute_result"
    }
   ],
   "source": [
    "cat_df.head()"
   ]
  },
  {
   "cell_type": "code",
   "execution_count": 56,
   "metadata": {},
   "outputs": [],
   "source": [
    "num_df =X.select_dtypes(exclude=['object']).copy()"
   ]
  },
  {
   "cell_type": "code",
   "execution_count": 57,
   "metadata": {},
   "outputs": [],
   "source": [
    "encode_all_cat =cat_df.apply(LabelEncoder().fit_transform)"
   ]
  },
  {
   "cell_type": "code",
   "execution_count": 58,
   "metadata": {},
   "outputs": [
    {
     "data": {
      "text/html": [
       "<div>\n",
       "<style scoped>\n",
       "    .dataframe tbody tr th:only-of-type {\n",
       "        vertical-align: middle;\n",
       "    }\n",
       "\n",
       "    .dataframe tbody tr th {\n",
       "        vertical-align: top;\n",
       "    }\n",
       "\n",
       "    .dataframe thead th {\n",
       "        text-align: right;\n",
       "    }\n",
       "</style>\n",
       "<table border=\"1\" class=\"dataframe\">\n",
       "  <thead>\n",
       "    <tr style=\"text-align: right;\">\n",
       "      <th></th>\n",
       "      <th>proto</th>\n",
       "      <th>service</th>\n",
       "      <th>conn_state</th>\n",
       "      <th>history</th>\n",
       "    </tr>\n",
       "  </thead>\n",
       "  <tbody>\n",
       "    <tr>\n",
       "      <th>0</th>\n",
       "      <td>1</td>\n",
       "      <td>0</td>\n",
       "      <td>6</td>\n",
       "      <td>15</td>\n",
       "    </tr>\n",
       "    <tr>\n",
       "      <th>1</th>\n",
       "      <td>1</td>\n",
       "      <td>0</td>\n",
       "      <td>6</td>\n",
       "      <td>15</td>\n",
       "    </tr>\n",
       "    <tr>\n",
       "      <th>2</th>\n",
       "      <td>1</td>\n",
       "      <td>0</td>\n",
       "      <td>6</td>\n",
       "      <td>15</td>\n",
       "    </tr>\n",
       "    <tr>\n",
       "      <th>3</th>\n",
       "      <td>1</td>\n",
       "      <td>0</td>\n",
       "      <td>6</td>\n",
       "      <td>15</td>\n",
       "    </tr>\n",
       "    <tr>\n",
       "      <th>4</th>\n",
       "      <td>1</td>\n",
       "      <td>0</td>\n",
       "      <td>6</td>\n",
       "      <td>15</td>\n",
       "    </tr>\n",
       "  </tbody>\n",
       "</table>\n",
       "</div>"
      ],
      "text/plain": [
       "   proto  service  conn_state  history\n",
       "0      1        0           6       15\n",
       "1      1        0           6       15\n",
       "2      1        0           6       15\n",
       "3      1        0           6       15\n",
       "4      1        0           6       15"
      ]
     },
     "execution_count": 58,
     "metadata": {},
     "output_type": "execute_result"
    }
   ],
   "source": [
    "encode_all_cat.head()"
   ]
  },
  {
   "cell_type": "code",
   "execution_count": 59,
   "metadata": {},
   "outputs": [],
   "source": [
    "encoded_data =pd.concat([num_df,encode_all_cat], axis=1)"
   ]
  },
  {
   "cell_type": "code",
   "execution_count": 60,
   "metadata": {},
   "outputs": [
    {
     "data": {
      "text/html": [
       "<div>\n",
       "<style scoped>\n",
       "    .dataframe tbody tr th:only-of-type {\n",
       "        vertical-align: middle;\n",
       "    }\n",
       "\n",
       "    .dataframe tbody tr th {\n",
       "        vertical-align: top;\n",
       "    }\n",
       "\n",
       "    .dataframe thead th {\n",
       "        text-align: right;\n",
       "    }\n",
       "</style>\n",
       "<table border=\"1\" class=\"dataframe\">\n",
       "  <thead>\n",
       "    <tr style=\"text-align: right;\">\n",
       "      <th></th>\n",
       "      <th>duration</th>\n",
       "      <th>orig_bytes</th>\n",
       "      <th>resp_bytes</th>\n",
       "      <th>missed_bytes</th>\n",
       "      <th>orig_pkts</th>\n",
       "      <th>orig_ip_bytes</th>\n",
       "      <th>resp_pkts</th>\n",
       "      <th>proto</th>\n",
       "      <th>service</th>\n",
       "      <th>conn_state</th>\n",
       "      <th>history</th>\n",
       "    </tr>\n",
       "  </thead>\n",
       "  <tbody>\n",
       "    <tr>\n",
       "      <th>0</th>\n",
       "      <td>0.000000</td>\n",
       "      <td>0.0</td>\n",
       "      <td>0.0</td>\n",
       "      <td>0.0</td>\n",
       "      <td>1.0</td>\n",
       "      <td>60.0</td>\n",
       "      <td>0.0</td>\n",
       "      <td>1</td>\n",
       "      <td>0</td>\n",
       "      <td>6</td>\n",
       "      <td>15</td>\n",
       "    </tr>\n",
       "    <tr>\n",
       "      <th>1</th>\n",
       "      <td>2.999300</td>\n",
       "      <td>0.0</td>\n",
       "      <td>0.0</td>\n",
       "      <td>0.0</td>\n",
       "      <td>3.0</td>\n",
       "      <td>180.0</td>\n",
       "      <td>0.0</td>\n",
       "      <td>1</td>\n",
       "      <td>0</td>\n",
       "      <td>6</td>\n",
       "      <td>15</td>\n",
       "    </tr>\n",
       "    <tr>\n",
       "      <th>2</th>\n",
       "      <td>2.993548</td>\n",
       "      <td>0.0</td>\n",
       "      <td>0.0</td>\n",
       "      <td>0.0</td>\n",
       "      <td>3.0</td>\n",
       "      <td>180.0</td>\n",
       "      <td>0.0</td>\n",
       "      <td>1</td>\n",
       "      <td>0</td>\n",
       "      <td>6</td>\n",
       "      <td>15</td>\n",
       "    </tr>\n",
       "    <tr>\n",
       "      <th>3</th>\n",
       "      <td>0.000000</td>\n",
       "      <td>0.0</td>\n",
       "      <td>0.0</td>\n",
       "      <td>0.0</td>\n",
       "      <td>1.0</td>\n",
       "      <td>60.0</td>\n",
       "      <td>0.0</td>\n",
       "      <td>1</td>\n",
       "      <td>0</td>\n",
       "      <td>6</td>\n",
       "      <td>15</td>\n",
       "    </tr>\n",
       "    <tr>\n",
       "      <th>4</th>\n",
       "      <td>2.998807</td>\n",
       "      <td>0.0</td>\n",
       "      <td>0.0</td>\n",
       "      <td>0.0</td>\n",
       "      <td>3.0</td>\n",
       "      <td>180.0</td>\n",
       "      <td>0.0</td>\n",
       "      <td>1</td>\n",
       "      <td>0</td>\n",
       "      <td>6</td>\n",
       "      <td>15</td>\n",
       "    </tr>\n",
       "  </tbody>\n",
       "</table>\n",
       "</div>"
      ],
      "text/plain": [
       "   duration  orig_bytes  resp_bytes  missed_bytes  orig_pkts  orig_ip_bytes  \\\n",
       "0  0.000000         0.0         0.0           0.0        1.0           60.0   \n",
       "1  2.999300         0.0         0.0           0.0        3.0          180.0   \n",
       "2  2.993548         0.0         0.0           0.0        3.0          180.0   \n",
       "3  0.000000         0.0         0.0           0.0        1.0           60.0   \n",
       "4  2.998807         0.0         0.0           0.0        3.0          180.0   \n",
       "\n",
       "   resp_pkts  proto  service  conn_state  history  \n",
       "0        0.0      1        0           6       15  \n",
       "1        0.0      1        0           6       15  \n",
       "2        0.0      1        0           6       15  \n",
       "3        0.0      1        0           6       15  \n",
       "4        0.0      1        0           6       15  "
      ]
     },
     "execution_count": 60,
     "metadata": {},
     "output_type": "execute_result"
    }
   ],
   "source": [
    "encoded_data.head()"
   ]
  },
  {
   "cell_type": "code",
   "execution_count": 61,
   "metadata": {},
   "outputs": [
    {
     "data": {
      "text/plain": [
       "(224973, 11)"
      ]
     },
     "execution_count": 61,
     "metadata": {},
     "output_type": "execute_result"
    }
   ],
   "source": [
    "encoded_data.shape"
   ]
  },
  {
   "cell_type": "code",
   "execution_count": 62,
   "metadata": {},
   "outputs": [],
   "source": [
    "Xe=encoded_data"
   ]
  },
  {
   "cell_type": "code",
   "execution_count": 63,
   "metadata": {},
   "outputs": [
    {
     "data": {
      "text/plain": [
       "(224973, 11)"
      ]
     },
     "execution_count": 63,
     "metadata": {},
     "output_type": "execute_result"
    }
   ],
   "source": [
    "Xe.shape"
   ]
  },
  {
   "cell_type": "code",
   "execution_count": 64,
   "metadata": {},
   "outputs": [
    {
     "data": {
      "text/plain": [
       "0         POHScan\n",
       "1         POHScan\n",
       "2         POHScan\n",
       "3         POHScan\n",
       "4         POHScan\n",
       "           ...   \n",
       "225082     Benign\n",
       "225083     Benign\n",
       "225084     Benign\n",
       "225085     Benign\n",
       "225086     Benign\n",
       "Name: label, Length: 224973, dtype: object"
      ]
     },
     "execution_count": 64,
     "metadata": {},
     "output_type": "execute_result"
    }
   ],
   "source": [
    "y"
   ]
  },
  {
   "cell_type": "code",
   "execution_count": 114,
   "metadata": {},
   "outputs": [
    {
     "name": "stdout",
     "output_type": "stream",
     "text": [
      "[4 4 4 ... 0 0 0]\n"
     ]
    }
   ],
   "source": [
    "le=LabelEncoder()\n",
    "Ye=le.fit_transform(y)\n",
    "print(Ye)"
   ]
  },
  {
   "cell_type": "markdown",
   "metadata": {},
   "source": [
    " Standarad scaling "
   ]
  },
  {
   "cell_type": "code",
   "execution_count": 66,
   "metadata": {},
   "outputs": [],
   "source": [
    "from sklearn.preprocessing import StandardScaler"
   ]
  },
  {
   "cell_type": "code",
   "execution_count": 149,
   "metadata": {},
   "outputs": [],
   "source": [
    "scaling=StandardScaler()"
   ]
  },
  {
   "cell_type": "code",
   "execution_count": 150,
   "metadata": {},
   "outputs": [],
   "source": [
    "X_sc=scaling.fit_transform(X_sc)"
   ]
  },
  {
   "cell_type": "code",
   "execution_count": 151,
   "metadata": {},
   "outputs": [],
   "source": [
    "X_train, X_test, Y_train, Y_test = train_test_split(X_sc, Ye, random_state=124, test_size=0.20, shuffle=True)"
   ]
  },
  {
   "cell_type": "code",
   "execution_count": null,
   "metadata": {},
   "outputs": [],
   "source": []
  },
  {
   "cell_type": "code",
   "execution_count": 152,
   "metadata": {},
   "outputs": [],
   "source": [
    "from sklearn.tree import DecisionTreeClassifier\n",
    "from sklearn.metrics import accuracy_score\n",
    "from sklearn.linear_model import LogisticRegression\n",
    "from sklearn.naive_bayes import GaussianNB\n",
    "from sklearn.ensemble import RandomForestClassifier\n",
    "from xgboost import XGBClassifier\n",
    "from sklearn import neighbors\n",
    "from sklearn.tree import DecisionTreeClassifier\n",
    "from sklearn import tree\n",
    "from sklearn.metrics import roc_auc_score\n",
    "from sklearn.svm import SVC\n",
    "from sklearn.model_selection import GridSearchCV\n",
    "from sklearn.metrics import classification_report, confusion_matrix\n",
    "from sklearn.metrics import auc,roc_auc_score,roc_curve,precision_score,recall_score,f1_score\n",
    "from sklearn.model_selection import train_test_split\n",
    "import time as timer"
   ]
  },
  {
   "cell_type": "markdown",
   "metadata": {},
   "source": [
    "# Gussian Naive Bayes "
   ]
  },
  {
   "cell_type": "code",
   "execution_count": 153,
   "metadata": {},
   "outputs": [
    {
     "name": "stdout",
     "output_type": "stream",
     "text": [
      "Finished training within 0.07 seconds\n"
     ]
    }
   ],
   "source": [
    "start = timer.time()\n",
    "gnb_model = GaussianNB()\n",
    "gnb_model.fit(X_train, Y_train)\n",
    "end = timer.time()\n",
    "print(\"Finished training within {:.2f} seconds\".format(end-start))"
   ]
  },
  {
   "cell_type": "code",
   "execution_count": 154,
   "metadata": {},
   "outputs": [],
   "source": [
    "# Predicting the test set results\n",
    "y_gnb = gnb_model.predict(X_test)\n",
    "y_gnb_prob = gnb_model.predict_proba(X_test)"
   ]
  },
  {
   "cell_type": "code",
   "execution_count": 155,
   "metadata": {},
   "outputs": [
    {
     "name": "stdout",
     "output_type": "stream",
     "text": [
      "Classification report for GNB: \n",
      "              precision    recall  f1-score   support\n",
      "\n",
      "           0       1.00      0.90      0.94      9668\n",
      "           1       0.37      0.25      0.30      1318\n",
      "           2       1.00      0.99      0.99      2953\n",
      "           3       0.71      1.00      0.83     20137\n",
      "           4       0.81      0.32      0.46     10919\n",
      "\n",
      "    accuracy                           0.79     44995\n",
      "   macro avg       0.78      0.69      0.71     44995\n",
      "weighted avg       0.81      0.79      0.76     44995\n",
      "\n",
      "Confusion matrix for GNB: \n",
      "[[ 8662   140     0   583   283]\n",
      " [    0   334     0   465   519]\n",
      " [    2     0  2924    26     1]\n",
      " [    0     5     0 20132     0]\n",
      " [    1   412     1  7035  3470]]\n",
      "Accuracy score for GNB: 0.79\n",
      "Precision score for GNB: 0.81\n",
      "Recall score for GNB: 0.79\n",
      "F1 score for GNB: 0.76\n"
     ]
    }
   ],
   "source": [
    "print(\"Classification report for GNB: \\n{}\".format(classification_report(Y_test,y_gnb)))\n",
    "print(\"Confusion matrix for GNB: \\n{}\".format(confusion_matrix(Y_test,y_gnb)))\n",
    "print(\"Accuracy score for GNB: {:.2f}\".format(accuracy_score(Y_test,y_gnb)))\n",
    "# calculate precision, recall, and f1 scores\n",
    "prec_gnb = precision_score(Y_test,y_gnb,average='weighted')\n",
    "rec_gnb = recall_score(Y_test,y_gnb,average='weighted')\n",
    "f1_gnb = f1_score(Y_test,y_gnb,average='weighted')\n",
    "print(\"Precision score for GNB: {:.2f}\".format(prec_gnb))\n",
    "print(\"Recall score for GNB: {:.2f}\".format(rec_gnb))\n",
    "print(\"F1 score for GNB: {:.2f}\".format(f1_gnb))"
   ]
  },
  {
   "cell_type": "markdown",
   "metadata": {},
   "source": [
    "# Logistic Regression "
   ]
  },
  {
   "cell_type": "code",
   "execution_count": 205,
   "metadata": {},
   "outputs": [],
   "source": [
    "LogisticRegression?"
   ]
  },
  {
   "cell_type": "code",
   "execution_count": 77,
   "metadata": {},
   "outputs": [
    {
     "name": "stdout",
     "output_type": "stream",
     "text": [
      "Finished training within 19.81 seconds\n"
     ]
    },
    {
     "name": "stderr",
     "output_type": "stream",
     "text": [
      "C:\\Users\\DELL\\anaconda3\\lib\\site-packages\\sklearn\\linear_model\\_logistic.py:814: ConvergenceWarning: lbfgs failed to converge (status=1):\n",
      "STOP: TOTAL NO. of ITERATIONS REACHED LIMIT.\n",
      "\n",
      "Increase the number of iterations (max_iter) or scale the data as shown in:\n",
      "    https://scikit-learn.org/stable/modules/preprocessing.html\n",
      "Please also refer to the documentation for alternative solver options:\n",
      "    https://scikit-learn.org/stable/modules/linear_model.html#logistic-regression\n",
      "  n_iter_i = _check_optimize_result(\n"
     ]
    }
   ],
   "source": [
    "start = timer.time()\n",
    "logit_model = LogisticRegression(solver='lbfgs', max_iter=300, multi_class='multinomial')\n",
    "logit_model.fit(X_train, Y_train)\n",
    "end = timer.time()\n",
    "print(\"Finished training within {:.2f} seconds\".format(end-start))"
   ]
  },
  {
   "cell_type": "code",
   "execution_count": 157,
   "metadata": {},
   "outputs": [],
   "source": [
    "y_logitr = logit_model.predict(X_train)"
   ]
  },
  {
   "cell_type": "code",
   "execution_count": 158,
   "metadata": {},
   "outputs": [
    {
     "name": "stdout",
     "output_type": "stream",
     "text": [
      "Accuracy score for LR: 0.80\n"
     ]
    }
   ],
   "source": [
    "print(\"Accuracy score for LR: {:.2f}\".format(accuracy_score(Y_train,y_logitr)))"
   ]
  },
  {
   "cell_type": "code",
   "execution_count": null,
   "metadata": {},
   "outputs": [],
   "source": []
  },
  {
   "cell_type": "code",
   "execution_count": 78,
   "metadata": {},
   "outputs": [],
   "source": [
    "# Predicting the test set results\n",
    "y_logit = logit_model.predict(X_test)\n",
    "y_logit_prob = logit_model.predict_proba(X_test)"
   ]
  },
  {
   "cell_type": "code",
   "execution_count": 79,
   "metadata": {},
   "outputs": [
    {
     "name": "stdout",
     "output_type": "stream",
     "text": [
      "Classification report for LR: \n",
      "              precision    recall  f1-score   support\n",
      "\n",
      "           0       1.00      0.90      0.95      9668\n",
      "           1       0.83      0.25      0.39      1318\n",
      "           2       1.00      0.99      0.99      2953\n",
      "           3       0.71      1.00      0.83     20137\n",
      "           4       0.81      0.35      0.49     10919\n",
      "\n",
      "    accuracy                           0.80     44995\n",
      "   macro avg       0.87      0.70      0.73     44995\n",
      "weighted avg       0.82      0.80      0.77     44995\n",
      "\n",
      "Confusion matrix for LR: \n",
      "[[ 8695    19     4   607   343]\n",
      " [    2   332     0   465   519]\n",
      " [    0     0  2925    26     2]\n",
      " [    0     0     0 20132     5]\n",
      " [   29    50     1  7057  3782]]\n",
      "Accuracy score for LR: 0.80\n",
      "Precision score for LR: 0.82\n",
      "Recall score for LR: 0.80\n",
      "F1 score for LR: 0.77\n"
     ]
    }
   ],
   "source": [
    "print(\"Classification report for LR: \\n{}\".format(classification_report(Y_test,y_logit)))\n",
    "print(\"Confusion matrix for LR: \\n{}\".format(confusion_matrix(Y_test,y_logit)))\n",
    "print(\"Accuracy score for LR: {:.2f}\".format(accuracy_score(Y_test,y_logit)))\n",
    "# calculate precision, recall, and f1 scores\n",
    "prec_logit = precision_score(Y_test,y_logit,average='weighted')\n",
    "rec_logit = recall_score(Y_test,y_logit,average='weighted')\n",
    "f1_logit = f1_score(Y_test,y_logit,average='weighted')\n",
    "print(\"Precision score for LR: {:.2f}\".format(prec_logit))\n",
    "print(\"Recall score for LR: {:.2f}\".format(rec_logit))\n",
    "print(\"F1 score for LR: {:.2f}\".format(f1_logit))\n"
   ]
  },
  {
   "cell_type": "code",
   "execution_count": 170,
   "metadata": {},
   "outputs": [],
   "source": [
    "cf=confusion_matrix(Y_test,y_logit)"
   ]
  },
  {
   "cell_type": "code",
   "execution_count": 171,
   "metadata": {},
   "outputs": [],
   "source": [
    " from sklearn.metrics import plot_confusion_matrix"
   ]
  },
  {
   "cell_type": "code",
   "execution_count": 172,
   "metadata": {},
   "outputs": [
    {
     "name": "stderr",
     "output_type": "stream",
     "text": [
      "C:\\Users\\DELL\\anaconda3\\lib\\site-packages\\sklearn\\utils\\deprecation.py:87: FutureWarning: Function plot_confusion_matrix is deprecated; Function `plot_confusion_matrix` is deprecated in 1.0 and will be removed in 1.2. Use one of the class methods: ConfusionMatrixDisplay.from_predictions or ConfusionMatrixDisplay.from_estimator.\n",
      "  warnings.warn(msg, category=FutureWarning)\n"
     ]
    },
    {
     "data": {
      "image/png": "[encoded data removed]",
      "text/plain": [
       "<Figure size 576x576 with 2 Axes>"
      ]
     },
     "metadata": {},
     "output_type": "display_data"
    }
   ],
   "source": [
    "fig, ax = plt.subplots(figsize=(8,8))\n",
    "plot_confusion_matrix(logit_model, X_test, Y_test,cmap=plt.cm.Blues, ax=ax)\n",
    "plt.show()"
   ]
  },
  {
   "cell_type": "code",
   "execution_count": 219,
   "metadata": {},
   "outputs": [],
   "source": [
    "RandomForestClassifier?"
   ]
  },
  {
   "cell_type": "code",
   "execution_count": 111,
   "metadata": {},
   "outputs": [
    {
     "name": "stdout",
     "output_type": "stream",
     "text": [
      "Finished training within 0.6357 seconds\n"
     ]
    }
   ],
   "source": [
    "start = timer.time()\n",
    "Rf_clf=RandomForestClassifier(n_estimators =10, criterion = 'gini', random_state = 124)\n",
    "Rf_clf.fit(X_train, Y_train)\n",
    "end = timer.time()\n",
    "print(\"Finished training within {:.4f} seconds\".format(end-start))"
   ]
  },
  {
   "cell_type": "code",
   "execution_count": 112,
   "metadata": {},
   "outputs": [],
   "source": [
    "y_RF = Rf_clf.predict(X_test)\n",
    "y_RF_prob = Rf_clf.predict_proba(X_test)"
   ]
  },
  {
   "cell_type": "code",
   "execution_count": 113,
   "metadata": {},
   "outputs": [
    {
     "name": "stdout",
     "output_type": "stream",
     "text": [
      "Classification report for RF: \n",
      "              precision    recall  f1-score   support\n",
      "\n",
      "           0       0.98      0.86      0.92     14442\n",
      "           1       0.18      0.64      0.29      2000\n",
      "           2       0.87      0.99      0.93      4361\n",
      "           3       0.71      1.00      0.83     30129\n",
      "           4       0.98      0.02      0.04     16560\n",
      "\n",
      "    accuracy                           0.72     67492\n",
      "   macro avg       0.74      0.70      0.60     67492\n",
      "weighted avg       0.83      0.72      0.64     67492\n",
      "\n",
      "Confusion matrix for RF: \n",
      "[[12482   425   659   870     6]\n",
      " [    2  1278     0   720     0]\n",
      " [    3     0  4320    37     1]\n",
      " [    6     0     0 30123     0]\n",
      " [  294  5262     0 10665   339]]\n",
      "Accuracy score for RF: 0.7192\n"
     ]
    }
   ],
   "source": [
    "print(\"Classification report for RF: \\n{}\".format(classification_report(Y_test,y_RF)))\n",
    "print(\"Confusion matrix for RF: \\n{}\".format(confusion_matrix(Y_test,y_RF)))\n",
    "print(\"Accuracy score for RF: {:.4f}\".format(accuracy_score(Y_test,y_RF)))\n",
    "# calculate precision, recall, and f1 scores\n",
    "prec_rf = precision_score(Y_test,y_RF, average='weighted')\n",
    "rec_rf = recall_score(Y_test,y_RF,average='weighted')\n",
    "f1_rf = f1_score(Y_test,y_RF,average='weighted')"
   ]
  },
  {
   "cell_type": "code",
   "execution_count": 221,
   "metadata": {},
   "outputs": [],
   "source": [
    "cf=confusion_matrix(Y_test,y_RF)"
   ]
  },
  {
   "cell_type": "code",
   "execution_count": 222,
   "metadata": {},
   "outputs": [
    {
     "name": "stderr",
     "output_type": "stream",
     "text": [
      "C:\\Users\\DELL\\anaconda3\\lib\\site-packages\\sklearn\\utils\\deprecation.py:87: FutureWarning: Function plot_confusion_matrix is deprecated; Function `plot_confusion_matrix` is deprecated in 1.0 and will be removed in 1.2. Use one of the class methods: ConfusionMatrixDisplay.from_predictions or ConfusionMatrixDisplay.from_estimator.\n",
      "  warnings.warn(msg, category=FutureWarning)\n"
     ]
    },
    {
     "data": {
      "image/png": "[encoded data removed]",
      "text/plain": [
       "<Figure size 576x576 with 2 Axes>"
      ]
     },
     "metadata": {},
     "output_type": "display_data"
    }
   ],
   "source": [
    "fig, ax = plt.subplots(figsize=(8,8))\n",
    "plot_confusion_matrix(Rf_clf, X_test, Y_test,cmap=plt.cm.Blues, ax=ax)\n",
    "plt.show()"
   ]
  },
  {
   "cell_type": "code",
   "execution_count": 83,
   "metadata": {},
   "outputs": [
    {
     "name": "stdout",
     "output_type": "stream",
     "text": [
      "Finished training within 0.18 seconds\n"
     ]
    }
   ],
   "source": [
    "start = timer.time()\n",
    "DT_clf= DecisionTreeClassifier()\n",
    "DT_clf.fit(X_train,Y_train)\n",
    "end = timer.time()\n",
    "print(\"Finished training within {:.2f} seconds\".format(end-start))"
   ]
  },
  {
   "cell_type": "code",
   "execution_count": 84,
   "metadata": {},
   "outputs": [],
   "source": [
    "y_DT = DT_clf.predict(X_test)\n",
    "y_DT_prob = DT_clf.predict_proba(X_test)"
   ]
  },
  {
   "cell_type": "code",
   "execution_count": 85,
   "metadata": {},
   "outputs": [
    {
     "name": "stdout",
     "output_type": "stream",
     "text": [
      "Classification report for DT: \n",
      "              precision    recall  f1-score   support\n",
      "\n",
      "           0       1.00      0.91      0.95      9668\n",
      "           1       0.99      0.65      0.78      1318\n",
      "           2       1.00      0.99      1.00      2953\n",
      "           3       1.00      1.00      1.00     20137\n",
      "           4       0.89      1.00      0.94     10919\n",
      "\n",
      "    accuracy                           0.97     44995\n",
      "   macro avg       0.98      0.91      0.93     44995\n",
      "weighted avg       0.97      0.97      0.97     44995\n",
      "\n",
      "Confusion matrix for DT: \n",
      "[[ 8792     4     0    10   862]\n",
      " [    0   851     0     0   467]\n",
      " [    1     0  2926    26     0]\n",
      " [    0     0     0 20137     0]\n",
      " [   25     1     0    23 10870]]\n",
      "Accuracy score for DT: 0.9685\n",
      "Precision score for DT: 0.9685\n",
      "Recall score for DT: 0.9685\n",
      "F1 score for DF: 0.9685\n"
     ]
    }
   ],
   "source": [
    "print(\"Classification report for DT: \\n{}\".format(classification_report(Y_test,y_DT)))\n",
    "print(\"Confusion matrix for DT: \\n{}\".format(confusion_matrix(Y_test,y_DT)))\n",
    "print(\"Accuracy score for DT: {:.4f}\".format(accuracy_score(Y_test,y_DT)))\n",
    "\n",
    "# calculate precision, recall, and f1 scores\n",
    "prec_dt = precision_score(Y_test,y_DT, average='micro')\n",
    "rec_dt = recall_score(Y_test,y_DT, average='micro')\n",
    "f1_dt = f1_score(Y_test,y_DT, average='micro')\n",
    "print(\"Precision score for DT: {:.4f}\".format(prec_dt))\n",
    "print(\"Recall score for DT: {:.4f}\".format(rec_dt))\n",
    "print(\"F1 score for DF: {:.4f}\".format(f1_dt))\n"
   ]
  },
  {
   "cell_type": "code",
   "execution_count": 93,
   "metadata": {},
   "outputs": [],
   "source": [
    "from sklearn.metrics import classification_report, confusion_matrix\n",
    "from sklearn.metrics import auc,roc_auc_score,roc_curve,precision_score,recall_score,f1_score\n",
    "from sklearn.model_selection import train_test_split\n",
    "from sklearn.model_selection import KFold\n",
    "from sklearn.model_selection import cross_val_score\n",
    "from sklearn.model_selection import cross_validate"
   ]
  },
  {
   "cell_type": "code",
   "execution_count": 94,
   "metadata": {},
   "outputs": [],
   "source": [
    "gnb_model = GaussianNB()"
   ]
  },
  {
   "cell_type": "code",
   "execution_count": 96,
   "metadata": {},
   "outputs": [
    {
     "name": "stdout",
     "output_type": "stream",
     "text": [
      "Finished training within 2.55 seconds\n"
     ]
    }
   ],
   "source": [
    "start = timer.time()\n",
    "score = ['precision_macro', 'recall_macro','accuracy','f1_macro']\n",
    "scores = cross_validate(gnb_model, X_sc, Ye, scoring=score, cv=10, n_jobs=-1)\n",
    "end = timer.time()\n",
    "print(\"Finished training within {:.2f} seconds\".format(end-start))"
   ]
  },
  {
   "cell_type": "code",
   "execution_count": 97,
   "metadata": {},
   "outputs": [
    {
     "data": {
      "text/plain": [
       "['fit_time',\n",
       " 'score_time',\n",
       " 'test_accuracy',\n",
       " 'test_f1_macro',\n",
       " 'test_precision_macro',\n",
       " 'test_recall_macro']"
      ]
     },
     "execution_count": 97,
     "metadata": {},
     "output_type": "execute_result"
    }
   ],
   "source": [
    "sorted(scores.keys())"
   ]
  },
  {
   "cell_type": "code",
   "execution_count": 98,
   "metadata": {},
   "outputs": [
    {
     "name": "stdout",
     "output_type": "stream",
     "text": [
      "0.7223311356420206\n"
     ]
    }
   ],
   "source": [
    "print(np.mean(scores['test_accuracy']))"
   ]
  },
  {
   "cell_type": "code",
   "execution_count": null,
   "metadata": {},
   "outputs": [],
   "source": []
  }
 ],
 "metadata": {
  "kernelspec": {
   "display_name": "Python 3",
   "language": "python",
   "name": "python3"
  },
  "language_info": {
   "codemirror_mode": {
    "name": "ipython",
    "version": 3
   },
   "file_extension": ".py",
   "mimetype": "text/x-python",
   "name": "python",
   "nbconvert_exporter": "python",
   "pygments_lexer": "ipython3",
   "version": "3.8.5"
  }
 },
 "nbformat": 4,
 "nbformat_minor": 4
}
