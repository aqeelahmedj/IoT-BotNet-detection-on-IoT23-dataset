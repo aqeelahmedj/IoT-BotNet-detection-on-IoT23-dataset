{
 "cells": [
  {
   "cell_type": "markdown",
   "metadata": {},
   "source": [
    "# Data Preparation and EDA for IoT23 dataset"
   ]
  },
  {
   "cell_type": "code",
   "execution_count": 1,
   "metadata": {},
   "outputs": [],
   "source": [
    "import os \n",
    "import pandas as pd\n",
    "import numpy as np \n",
    "import seaborn as sns\n",
    "import matplotlib.pyplot as plt\n",
    "from collections import defaultdict\n",
    "import csv\n",
    "from numpy import array\n",
    "from numpy import argmax\n",
    "from sklearn import preprocessing\n",
    "from sklearn.preprocessing import StandardScaler\n",
    "from sklearn.preprocessing import LabelEncoder\n",
    "from sklearn.preprocessing import OneHotEncoder\n",
    "import time as timer"
   ]
  },
  {
   "cell_type": "code",
   "execution_count": 3,
   "metadata": {},
   "outputs": [],
   "source": [
    "#import data\n",
    "data= pd.read_csv('D:\\JupyterNotebook\\GitHub\\IoT-BotNet-detection-on-IoT23-dataset\\IoT23\\Data files\\iot23_combined_1M.csv', low_memory=False)"
   ]
  },
  {
   "cell_type": "code",
   "execution_count": 4,
   "metadata": {},
   "outputs": [
    {
     "data": {
      "text/html": [
       "<div>\n",
       "<style scoped>\n",
       "    .dataframe tbody tr th:only-of-type {\n",
       "        vertical-align: middle;\n",
       "    }\n",
       "\n",
       "    .dataframe tbody tr th {\n",
       "        vertical-align: top;\n",
       "    }\n",
       "\n",
       "    .dataframe thead th {\n",
       "        text-align: right;\n",
       "    }\n",
       "</style>\n",
       "<table border=\"1\" class=\"dataframe\">\n",
       "  <thead>\n",
       "    <tr style=\"text-align: right;\">\n",
       "      <th></th>\n",
       "      <th>Unnamed: 0</th>\n",
       "      <th>ts</th>\n",
       "      <th>uid</th>\n",
       "      <th>id.orig_h</th>\n",
       "      <th>id.orig_p</th>\n",
       "      <th>id.resp_h</th>\n",
       "      <th>id.resp_p</th>\n",
       "      <th>proto</th>\n",
       "      <th>service</th>\n",
       "      <th>duration</th>\n",
       "      <th>...</th>\n",
       "      <th>conn_state</th>\n",
       "      <th>local_orig</th>\n",
       "      <th>local_resp</th>\n",
       "      <th>missed_bytes</th>\n",
       "      <th>history</th>\n",
       "      <th>orig_pkts</th>\n",
       "      <th>orig_ip_bytes</th>\n",
       "      <th>resp_pkts</th>\n",
       "      <th>resp_ip_bytes</th>\n",
       "      <th>label</th>\n",
       "    </tr>\n",
       "  </thead>\n",
       "  <tbody>\n",
       "    <tr>\n",
       "      <th>0</th>\n",
       "      <td>0</td>\n",
       "      <td>1.536227e+09</td>\n",
       "      <td>CeqqKl3hyLQmO8LK98</td>\n",
       "      <td>192.168.100.111</td>\n",
       "      <td>17576.0</td>\n",
       "      <td>78.1.220.212</td>\n",
       "      <td>8081.0</td>\n",
       "      <td>tcp</td>\n",
       "      <td>-</td>\n",
       "      <td>3e-06</td>\n",
       "      <td>...</td>\n",
       "      <td>S0</td>\n",
       "      <td>-</td>\n",
       "      <td>-</td>\n",
       "      <td>0.0</td>\n",
       "      <td>S</td>\n",
       "      <td>2.0</td>\n",
       "      <td>80.0</td>\n",
       "      <td>0.0</td>\n",
       "      <td>0.0</td>\n",
       "      <td>POHS</td>\n",
       "    </tr>\n",
       "    <tr>\n",
       "      <th>1</th>\n",
       "      <td>1</td>\n",
       "      <td>1.536227e+09</td>\n",
       "      <td>C2oHQWo1EFGH8D9x7</td>\n",
       "      <td>192.168.100.111</td>\n",
       "      <td>17576.0</td>\n",
       "      <td>152.84.7.111</td>\n",
       "      <td>8081.0</td>\n",
       "      <td>tcp</td>\n",
       "      <td>-</td>\n",
       "      <td>2e-06</td>\n",
       "      <td>...</td>\n",
       "      <td>S0</td>\n",
       "      <td>-</td>\n",
       "      <td>-</td>\n",
       "      <td>0.0</td>\n",
       "      <td>S</td>\n",
       "      <td>2.0</td>\n",
       "      <td>80.0</td>\n",
       "      <td>0.0</td>\n",
       "      <td>0.0</td>\n",
       "      <td>POHS</td>\n",
       "    </tr>\n",
       "    <tr>\n",
       "      <th>2</th>\n",
       "      <td>2</td>\n",
       "      <td>1.536227e+09</td>\n",
       "      <td>CJLVjs4BByG04mczXc</td>\n",
       "      <td>192.168.100.111</td>\n",
       "      <td>17576.0</td>\n",
       "      <td>173.36.41.67</td>\n",
       "      <td>8081.0</td>\n",
       "      <td>tcp</td>\n",
       "      <td>-</td>\n",
       "      <td>2e-06</td>\n",
       "      <td>...</td>\n",
       "      <td>S0</td>\n",
       "      <td>-</td>\n",
       "      <td>-</td>\n",
       "      <td>0.0</td>\n",
       "      <td>S</td>\n",
       "      <td>2.0</td>\n",
       "      <td>80.0</td>\n",
       "      <td>0.0</td>\n",
       "      <td>0.0</td>\n",
       "      <td>POHS</td>\n",
       "    </tr>\n",
       "    <tr>\n",
       "      <th>3</th>\n",
       "      <td>3</td>\n",
       "      <td>1.536227e+09</td>\n",
       "      <td>C0z4uS9AWHDH2s4S7</td>\n",
       "      <td>192.168.100.111</td>\n",
       "      <td>17576.0</td>\n",
       "      <td>87.13.21.104</td>\n",
       "      <td>8081.0</td>\n",
       "      <td>tcp</td>\n",
       "      <td>-</td>\n",
       "      <td>2e-06</td>\n",
       "      <td>...</td>\n",
       "      <td>S0</td>\n",
       "      <td>-</td>\n",
       "      <td>-</td>\n",
       "      <td>0.0</td>\n",
       "      <td>S</td>\n",
       "      <td>2.0</td>\n",
       "      <td>80.0</td>\n",
       "      <td>0.0</td>\n",
       "      <td>0.0</td>\n",
       "      <td>POHS</td>\n",
       "    </tr>\n",
       "    <tr>\n",
       "      <th>4</th>\n",
       "      <td>4</td>\n",
       "      <td>1.536227e+09</td>\n",
       "      <td>CxbNVk3liFNUIlqSPi</td>\n",
       "      <td>192.168.100.111</td>\n",
       "      <td>17576.0</td>\n",
       "      <td>99.110.163.140</td>\n",
       "      <td>8081.0</td>\n",
       "      <td>tcp</td>\n",
       "      <td>-</td>\n",
       "      <td>2e-06</td>\n",
       "      <td>...</td>\n",
       "      <td>S0</td>\n",
       "      <td>-</td>\n",
       "      <td>-</td>\n",
       "      <td>0.0</td>\n",
       "      <td>S</td>\n",
       "      <td>2.0</td>\n",
       "      <td>80.0</td>\n",
       "      <td>0.0</td>\n",
       "      <td>0.0</td>\n",
       "      <td>POHS</td>\n",
       "    </tr>\n",
       "  </tbody>\n",
       "</table>\n",
       "<p>5 rows × 22 columns</p>\n",
       "</div>"
      ],
      "text/plain": [
       "   Unnamed: 0            ts                 uid        id.orig_h  id.orig_p  \\\n",
       "0           0  1.536227e+09  CeqqKl3hyLQmO8LK98  192.168.100.111    17576.0   \n",
       "1           1  1.536227e+09   C2oHQWo1EFGH8D9x7  192.168.100.111    17576.0   \n",
       "2           2  1.536227e+09  CJLVjs4BByG04mczXc  192.168.100.111    17576.0   \n",
       "3           3  1.536227e+09   C0z4uS9AWHDH2s4S7  192.168.100.111    17576.0   \n",
       "4           4  1.536227e+09  CxbNVk3liFNUIlqSPi  192.168.100.111    17576.0   \n",
       "\n",
       "        id.resp_h  id.resp_p proto service duration  ... conn_state  \\\n",
       "0    78.1.220.212     8081.0   tcp       -    3e-06  ...         S0   \n",
       "1    152.84.7.111     8081.0   tcp       -    2e-06  ...         S0   \n",
       "2    173.36.41.67     8081.0   tcp       -    2e-06  ...         S0   \n",
       "3    87.13.21.104     8081.0   tcp       -    2e-06  ...         S0   \n",
       "4  99.110.163.140     8081.0   tcp       -    2e-06  ...         S0   \n",
       "\n",
       "  local_orig local_resp missed_bytes history  orig_pkts orig_ip_bytes  \\\n",
       "0          -          -          0.0       S        2.0          80.0   \n",
       "1          -          -          0.0       S        2.0          80.0   \n",
       "2          -          -          0.0       S        2.0          80.0   \n",
       "3          -          -          0.0       S        2.0          80.0   \n",
       "4          -          -          0.0       S        2.0          80.0   \n",
       "\n",
       "   resp_pkts  resp_ip_bytes  label  \n",
       "0        0.0            0.0   POHS  \n",
       "1        0.0            0.0   POHS  \n",
       "2        0.0            0.0   POHS  \n",
       "3        0.0            0.0   POHS  \n",
       "4        0.0            0.0   POHS  \n",
       "\n",
       "[5 rows x 22 columns]"
      ]
     },
     "execution_count": 4,
     "metadata": {},
     "output_type": "execute_result"
    }
   ],
   "source": [
    "data.head()  "
   ]
  },
  {
   "cell_type": "code",
   "execution_count": 5,
   "metadata": {},
   "outputs": [],
   "source": [
    "#remove unncessary column\n",
    "del data['Unnamed: 0']"
   ]
  },
  {
   "cell_type": "code",
   "execution_count": 6,
   "metadata": {},
   "outputs": [
    {
     "data": {
      "text/html": [
       "<div>\n",
       "<style scoped>\n",
       "    .dataframe tbody tr th:only-of-type {\n",
       "        vertical-align: middle;\n",
       "    }\n",
       "\n",
       "    .dataframe tbody tr th {\n",
       "        vertical-align: top;\n",
       "    }\n",
       "\n",
       "    .dataframe thead th {\n",
       "        text-align: right;\n",
       "    }\n",
       "</style>\n",
       "<table border=\"1\" class=\"dataframe\">\n",
       "  <thead>\n",
       "    <tr style=\"text-align: right;\">\n",
       "      <th></th>\n",
       "      <th>ts</th>\n",
       "      <th>uid</th>\n",
       "      <th>id.orig_h</th>\n",
       "      <th>id.orig_p</th>\n",
       "      <th>id.resp_h</th>\n",
       "      <th>id.resp_p</th>\n",
       "      <th>proto</th>\n",
       "      <th>service</th>\n",
       "      <th>duration</th>\n",
       "      <th>orig_bytes</th>\n",
       "      <th>...</th>\n",
       "      <th>conn_state</th>\n",
       "      <th>local_orig</th>\n",
       "      <th>local_resp</th>\n",
       "      <th>missed_bytes</th>\n",
       "      <th>history</th>\n",
       "      <th>orig_pkts</th>\n",
       "      <th>orig_ip_bytes</th>\n",
       "      <th>resp_pkts</th>\n",
       "      <th>resp_ip_bytes</th>\n",
       "      <th>label</th>\n",
       "    </tr>\n",
       "  </thead>\n",
       "  <tbody>\n",
       "    <tr>\n",
       "      <th>1244671</th>\n",
       "      <td>1.532526e+09</td>\n",
       "      <td>CMeH6R2aua5c5Dd65a</td>\n",
       "      <td>192.168.100.111</td>\n",
       "      <td>41762.0</td>\n",
       "      <td>221.182.209.127</td>\n",
       "      <td>23.0</td>\n",
       "      <td>tcp</td>\n",
       "      <td>-</td>\n",
       "      <td>-</td>\n",
       "      <td>-</td>\n",
       "      <td>...</td>\n",
       "      <td>S0</td>\n",
       "      <td>-</td>\n",
       "      <td>-</td>\n",
       "      <td>0.0</td>\n",
       "      <td>S</td>\n",
       "      <td>1.0</td>\n",
       "      <td>40.0</td>\n",
       "      <td>0.0</td>\n",
       "      <td>0.0</td>\n",
       "      <td>POHS</td>\n",
       "    </tr>\n",
       "    <tr>\n",
       "      <th>1244672</th>\n",
       "      <td>1.532526e+09</td>\n",
       "      <td>CvqGx33hsXDpDVXa1i</td>\n",
       "      <td>192.168.100.111</td>\n",
       "      <td>58758.0</td>\n",
       "      <td>208.50.139.48</td>\n",
       "      <td>23.0</td>\n",
       "      <td>tcp</td>\n",
       "      <td>-</td>\n",
       "      <td>-</td>\n",
       "      <td>-</td>\n",
       "      <td>...</td>\n",
       "      <td>S0</td>\n",
       "      <td>-</td>\n",
       "      <td>-</td>\n",
       "      <td>0.0</td>\n",
       "      <td>S</td>\n",
       "      <td>1.0</td>\n",
       "      <td>40.0</td>\n",
       "      <td>0.0</td>\n",
       "      <td>0.0</td>\n",
       "      <td>POHS</td>\n",
       "    </tr>\n",
       "    <tr>\n",
       "      <th>1244673</th>\n",
       "      <td>1.532526e+09</td>\n",
       "      <td>CC83RoUd9RLFuTL81</td>\n",
       "      <td>192.168.100.111</td>\n",
       "      <td>40400.0</td>\n",
       "      <td>40.95.136.51</td>\n",
       "      <td>23.0</td>\n",
       "      <td>tcp</td>\n",
       "      <td>-</td>\n",
       "      <td>-</td>\n",
       "      <td>-</td>\n",
       "      <td>...</td>\n",
       "      <td>S0</td>\n",
       "      <td>-</td>\n",
       "      <td>-</td>\n",
       "      <td>0.0</td>\n",
       "      <td>S</td>\n",
       "      <td>1.0</td>\n",
       "      <td>40.0</td>\n",
       "      <td>0.0</td>\n",
       "      <td>0.0</td>\n",
       "      <td>POHS</td>\n",
       "    </tr>\n",
       "    <tr>\n",
       "      <th>1244674</th>\n",
       "      <td>1.532526e+09</td>\n",
       "      <td>C4ISld2cuSukEEuQtk</td>\n",
       "      <td>192.168.100.111</td>\n",
       "      <td>27117.0</td>\n",
       "      <td>122.37.183.236</td>\n",
       "      <td>23.0</td>\n",
       "      <td>tcp</td>\n",
       "      <td>-</td>\n",
       "      <td>-</td>\n",
       "      <td>-</td>\n",
       "      <td>...</td>\n",
       "      <td>S0</td>\n",
       "      <td>-</td>\n",
       "      <td>-</td>\n",
       "      <td>0.0</td>\n",
       "      <td>S</td>\n",
       "      <td>1.0</td>\n",
       "      <td>40.0</td>\n",
       "      <td>0.0</td>\n",
       "      <td>0.0</td>\n",
       "      <td>POHS</td>\n",
       "    </tr>\n",
       "    <tr>\n",
       "      <th>1244675</th>\n",
       "      <td>1.532526e+09</td>\n",
       "      <td>C4U1azYmDx32faVY7</td>\n",
       "      <td>192.168.100.111</td>\n",
       "      <td>23227.0</td>\n",
       "      <td>189.62.234.179</td>\n",
       "      <td>23.0</td>\n",
       "      <td>tcp</td>\n",
       "      <td>-</td>\n",
       "      <td>-</td>\n",
       "      <td>-</td>\n",
       "      <td>...</td>\n",
       "      <td>S0</td>\n",
       "      <td>-</td>\n",
       "      <td>-</td>\n",
       "      <td>0.0</td>\n",
       "      <td>S</td>\n",
       "      <td>1.0</td>\n",
       "      <td>40.0</td>\n",
       "      <td>0.0</td>\n",
       "      <td>0.0</td>\n",
       "      <td>POHS</td>\n",
       "    </tr>\n",
       "  </tbody>\n",
       "</table>\n",
       "<p>5 rows × 21 columns</p>\n",
       "</div>"
      ],
      "text/plain": [
       "                   ts                 uid        id.orig_h  id.orig_p  \\\n",
       "1244671  1.532526e+09  CMeH6R2aua5c5Dd65a  192.168.100.111    41762.0   \n",
       "1244672  1.532526e+09  CvqGx33hsXDpDVXa1i  192.168.100.111    58758.0   \n",
       "1244673  1.532526e+09   CC83RoUd9RLFuTL81  192.168.100.111    40400.0   \n",
       "1244674  1.532526e+09  C4ISld2cuSukEEuQtk  192.168.100.111    27117.0   \n",
       "1244675  1.532526e+09   C4U1azYmDx32faVY7  192.168.100.111    23227.0   \n",
       "\n",
       "               id.resp_h  id.resp_p proto service duration orig_bytes  ...  \\\n",
       "1244671  221.182.209.127       23.0   tcp       -        -          -  ...   \n",
       "1244672    208.50.139.48       23.0   tcp       -        -          -  ...   \n",
       "1244673     40.95.136.51       23.0   tcp       -        -          -  ...   \n",
       "1244674   122.37.183.236       23.0   tcp       -        -          -  ...   \n",
       "1244675   189.62.234.179       23.0   tcp       -        -          -  ...   \n",
       "\n",
       "        conn_state local_orig local_resp missed_bytes  history orig_pkts  \\\n",
       "1244671         S0          -          -          0.0        S       1.0   \n",
       "1244672         S0          -          -          0.0        S       1.0   \n",
       "1244673         S0          -          -          0.0        S       1.0   \n",
       "1244674         S0          -          -          0.0        S       1.0   \n",
       "1244675         S0          -          -          0.0        S       1.0   \n",
       "\n",
       "         orig_ip_bytes  resp_pkts  resp_ip_bytes  label  \n",
       "1244671           40.0        0.0            0.0   POHS  \n",
       "1244672           40.0        0.0            0.0   POHS  \n",
       "1244673           40.0        0.0            0.0   POHS  \n",
       "1244674           40.0        0.0            0.0   POHS  \n",
       "1244675           40.0        0.0            0.0   POHS  \n",
       "\n",
       "[5 rows x 21 columns]"
      ]
     },
     "execution_count": 6,
     "metadata": {},
     "output_type": "execute_result"
    }
   ],
   "source": [
    "data.tail()"
   ]
  },
  {
   "cell_type": "code",
   "execution_count": 7,
   "metadata": {},
   "outputs": [
    {
     "data": {
      "text/plain": [
       "(1244676, 21)"
      ]
     },
     "execution_count": 7,
     "metadata": {},
     "output_type": "execute_result"
    }
   ],
   "source": [
    "data.shape"
   ]
  },
  {
   "cell_type": "markdown",
   "metadata": {},
   "source": [
    "# Cleaning Process start! "
   ]
  },
  {
   "cell_type": "code",
   "execution_count": 8,
   "metadata": {},
   "outputs": [],
   "source": [
    "df= data.drop(columns=['uid','id.orig_h','id.resp_h','service','history'])"
   ]
  },
  {
   "cell_type": "code",
   "execution_count": 9,
   "metadata": {},
   "outputs": [],
   "source": [
    "#we drop these values becuase these are unncessary and some of them are completely emply."
   ]
  },
  {
   "cell_type": "code",
   "execution_count": 10,
   "metadata": {},
   "outputs": [
    {
     "data": {
      "text/html": [
       "<div>\n",
       "<style scoped>\n",
       "    .dataframe tbody tr th:only-of-type {\n",
       "        vertical-align: middle;\n",
       "    }\n",
       "\n",
       "    .dataframe tbody tr th {\n",
       "        vertical-align: top;\n",
       "    }\n",
       "\n",
       "    .dataframe thead th {\n",
       "        text-align: right;\n",
       "    }\n",
       "</style>\n",
       "<table border=\"1\" class=\"dataframe\">\n",
       "  <thead>\n",
       "    <tr style=\"text-align: right;\">\n",
       "      <th></th>\n",
       "      <th>ts</th>\n",
       "      <th>id.orig_p</th>\n",
       "      <th>id.resp_p</th>\n",
       "      <th>proto</th>\n",
       "      <th>duration</th>\n",
       "      <th>orig_bytes</th>\n",
       "      <th>resp_bytes</th>\n",
       "      <th>conn_state</th>\n",
       "      <th>local_orig</th>\n",
       "      <th>local_resp</th>\n",
       "      <th>missed_bytes</th>\n",
       "      <th>orig_pkts</th>\n",
       "      <th>orig_ip_bytes</th>\n",
       "      <th>resp_pkts</th>\n",
       "      <th>resp_ip_bytes</th>\n",
       "      <th>label</th>\n",
       "    </tr>\n",
       "  </thead>\n",
       "  <tbody>\n",
       "    <tr>\n",
       "      <th>0</th>\n",
       "      <td>1.536227e+09</td>\n",
       "      <td>17576.0</td>\n",
       "      <td>8081.0</td>\n",
       "      <td>tcp</td>\n",
       "      <td>3e-06</td>\n",
       "      <td>0</td>\n",
       "      <td>0</td>\n",
       "      <td>S0</td>\n",
       "      <td>-</td>\n",
       "      <td>-</td>\n",
       "      <td>0.0</td>\n",
       "      <td>2.0</td>\n",
       "      <td>80.0</td>\n",
       "      <td>0.0</td>\n",
       "      <td>0.0</td>\n",
       "      <td>POHS</td>\n",
       "    </tr>\n",
       "    <tr>\n",
       "      <th>1</th>\n",
       "      <td>1.536227e+09</td>\n",
       "      <td>17576.0</td>\n",
       "      <td>8081.0</td>\n",
       "      <td>tcp</td>\n",
       "      <td>2e-06</td>\n",
       "      <td>0</td>\n",
       "      <td>0</td>\n",
       "      <td>S0</td>\n",
       "      <td>-</td>\n",
       "      <td>-</td>\n",
       "      <td>0.0</td>\n",
       "      <td>2.0</td>\n",
       "      <td>80.0</td>\n",
       "      <td>0.0</td>\n",
       "      <td>0.0</td>\n",
       "      <td>POHS</td>\n",
       "    </tr>\n",
       "    <tr>\n",
       "      <th>2</th>\n",
       "      <td>1.536227e+09</td>\n",
       "      <td>17576.0</td>\n",
       "      <td>8081.0</td>\n",
       "      <td>tcp</td>\n",
       "      <td>2e-06</td>\n",
       "      <td>0</td>\n",
       "      <td>0</td>\n",
       "      <td>S0</td>\n",
       "      <td>-</td>\n",
       "      <td>-</td>\n",
       "      <td>0.0</td>\n",
       "      <td>2.0</td>\n",
       "      <td>80.0</td>\n",
       "      <td>0.0</td>\n",
       "      <td>0.0</td>\n",
       "      <td>POHS</td>\n",
       "    </tr>\n",
       "    <tr>\n",
       "      <th>3</th>\n",
       "      <td>1.536227e+09</td>\n",
       "      <td>17576.0</td>\n",
       "      <td>8081.0</td>\n",
       "      <td>tcp</td>\n",
       "      <td>2e-06</td>\n",
       "      <td>0</td>\n",
       "      <td>0</td>\n",
       "      <td>S0</td>\n",
       "      <td>-</td>\n",
       "      <td>-</td>\n",
       "      <td>0.0</td>\n",
       "      <td>2.0</td>\n",
       "      <td>80.0</td>\n",
       "      <td>0.0</td>\n",
       "      <td>0.0</td>\n",
       "      <td>POHS</td>\n",
       "    </tr>\n",
       "    <tr>\n",
       "      <th>4</th>\n",
       "      <td>1.536227e+09</td>\n",
       "      <td>17576.0</td>\n",
       "      <td>8081.0</td>\n",
       "      <td>tcp</td>\n",
       "      <td>2e-06</td>\n",
       "      <td>0</td>\n",
       "      <td>0</td>\n",
       "      <td>S0</td>\n",
       "      <td>-</td>\n",
       "      <td>-</td>\n",
       "      <td>0.0</td>\n",
       "      <td>2.0</td>\n",
       "      <td>80.0</td>\n",
       "      <td>0.0</td>\n",
       "      <td>0.0</td>\n",
       "      <td>POHS</td>\n",
       "    </tr>\n",
       "  </tbody>\n",
       "</table>\n",
       "</div>"
      ],
      "text/plain": [
       "             ts  id.orig_p  id.resp_p proto duration orig_bytes resp_bytes  \\\n",
       "0  1.536227e+09    17576.0     8081.0   tcp    3e-06          0          0   \n",
       "1  1.536227e+09    17576.0     8081.0   tcp    2e-06          0          0   \n",
       "2  1.536227e+09    17576.0     8081.0   tcp    2e-06          0          0   \n",
       "3  1.536227e+09    17576.0     8081.0   tcp    2e-06          0          0   \n",
       "4  1.536227e+09    17576.0     8081.0   tcp    2e-06          0          0   \n",
       "\n",
       "  conn_state local_orig local_resp  missed_bytes  orig_pkts  orig_ip_bytes  \\\n",
       "0         S0          -          -           0.0        2.0           80.0   \n",
       "1         S0          -          -           0.0        2.0           80.0   \n",
       "2         S0          -          -           0.0        2.0           80.0   \n",
       "3         S0          -          -           0.0        2.0           80.0   \n",
       "4         S0          -          -           0.0        2.0           80.0   \n",
       "\n",
       "   resp_pkts  resp_ip_bytes label  \n",
       "0        0.0            0.0  POHS  \n",
       "1        0.0            0.0  POHS  \n",
       "2        0.0            0.0  POHS  \n",
       "3        0.0            0.0  POHS  \n",
       "4        0.0            0.0  POHS  "
      ]
     },
     "execution_count": 10,
     "metadata": {},
     "output_type": "execute_result"
    }
   ],
   "source": [
    "df.head()"
   ]
  },
  {
   "cell_type": "markdown",
   "metadata": {},
   "source": [
    "separte the dependent and independent variables"
   ]
  },
  {
   "cell_type": "code",
   "execution_count": 11,
   "metadata": {},
   "outputs": [],
   "source": [
    "y=df['label']"
   ]
  },
  {
   "cell_type": "code",
   "execution_count": 12,
   "metadata": {},
   "outputs": [
    {
     "data": {
      "text/plain": [
       "POHS                          677827\n",
       "Okiru                         262690\n",
       "Benign                        149744\n",
       "DDoS                          138777\n",
       "C&C                            15093\n",
       "C&C-HeartBeat                    349\n",
       "Attack                           101\n",
       "C&C-FileDownload                  43\n",
       "C&C-Torii                         30\n",
       "FileDownload                      13\n",
       "C&C-HeartBeat-FileDownload         8\n",
       "C&C-Mirai                          1\n",
       "Name: label, dtype: int64"
      ]
     },
     "execution_count": 12,
     "metadata": {},
     "output_type": "execute_result"
    }
   ],
   "source": [
    "y.value_counts()"
   ]
  },
  {
   "cell_type": "code",
   "execution_count": 18,
   "metadata": {},
   "outputs": [],
   "source": [
    "#let us drop some labels which are very rare.."
   ]
  },
  {
   "cell_type": "code",
   "execution_count": 13,
   "metadata": {},
   "outputs": [],
   "source": [
    "X=df"
   ]
  },
  {
   "cell_type": "markdown",
   "metadata": {},
   "source": [
    "Removing some attack lables as they are very rare .. hence it is better to remove these attacks "
   ]
  },
  {
   "cell_type": "code",
   "execution_count": 41,
   "metadata": {},
   "outputs": [],
   "source": [
    "X.drop(X[X['label'] == 'FileDownload' ].index, inplace = True)"
   ]
  },
  {
   "cell_type": "code",
   "execution_count": 42,
   "metadata": {},
   "outputs": [],
   "source": [
    "X.drop(X[X['label'] == 'C&C-FileDownload' ].index, inplace = True)"
   ]
  },
  {
   "cell_type": "code",
   "execution_count": 43,
   "metadata": {},
   "outputs": [],
   "source": [
    "X.drop(X[X['label'] == 'Attack' ].index, inplace = True)"
   ]
  },
  {
   "cell_type": "code",
   "execution_count": 44,
   "metadata": {},
   "outputs": [],
   "source": [
    "X.drop(X[X['label'] == 'C&C-HeartBeat-FileDownload' ].index, inplace = True)"
   ]
  },
  {
   "cell_type": "code",
   "execution_count": 45,
   "metadata": {},
   "outputs": [],
   "source": [
    "X.drop(X[X['label'] == 'C&C-Mirai' ].index, inplace = True)"
   ]
  },
  {
   "cell_type": "code",
   "execution_count": 46,
   "metadata": {},
   "outputs": [],
   "source": [
    "X.drop(X[X['label'] == 'C&C-HeartBeat' ].index, inplace = True)"
   ]
  },
  {
   "cell_type": "code",
   "execution_count": 47,
   "metadata": {},
   "outputs": [],
   "source": [
    "X.drop(X[X['label'] == 'C&C-Torii' ].index, inplace = True)"
   ]
  },
  {
   "cell_type": "code",
   "execution_count": 48,
   "metadata": {},
   "outputs": [],
   "source": [
    "X.drop(X[X['label'] == 'Okiru-Attack' ].index, inplace = True)"
   ]
  },
  {
   "cell_type": "markdown",
   "metadata": {},
   "source": [
    "Separating dependent and independent variables"
   ]
  },
  {
   "cell_type": "code",
   "execution_count": 49,
   "metadata": {},
   "outputs": [],
   "source": [
    "X_=X.iloc[:,:-1]"
   ]
  },
  {
   "cell_type": "code",
   "execution_count": 50,
   "metadata": {},
   "outputs": [
    {
     "data": {
      "text/html": [
       "<div>\n",
       "<style scoped>\n",
       "    .dataframe tbody tr th:only-of-type {\n",
       "        vertical-align: middle;\n",
       "    }\n",
       "\n",
       "    .dataframe tbody tr th {\n",
       "        vertical-align: top;\n",
       "    }\n",
       "\n",
       "    .dataframe thead th {\n",
       "        text-align: right;\n",
       "    }\n",
       "</style>\n",
       "<table border=\"1\" class=\"dataframe\">\n",
       "  <thead>\n",
       "    <tr style=\"text-align: right;\">\n",
       "      <th></th>\n",
       "      <th>ts</th>\n",
       "      <th>id.orig_p</th>\n",
       "      <th>id.resp_p</th>\n",
       "      <th>proto</th>\n",
       "      <th>duration</th>\n",
       "      <th>orig_bytes</th>\n",
       "      <th>resp_bytes</th>\n",
       "      <th>conn_state</th>\n",
       "      <th>local_orig</th>\n",
       "      <th>local_resp</th>\n",
       "      <th>missed_bytes</th>\n",
       "      <th>orig_pkts</th>\n",
       "      <th>orig_ip_bytes</th>\n",
       "      <th>resp_pkts</th>\n",
       "      <th>resp_ip_bytes</th>\n",
       "    </tr>\n",
       "  </thead>\n",
       "  <tbody>\n",
       "    <tr>\n",
       "      <th>0</th>\n",
       "      <td>1.536227e+09</td>\n",
       "      <td>17576.0</td>\n",
       "      <td>8081.0</td>\n",
       "      <td>tcp</td>\n",
       "      <td>3e-06</td>\n",
       "      <td>0</td>\n",
       "      <td>0</td>\n",
       "      <td>S0</td>\n",
       "      <td>-</td>\n",
       "      <td>-</td>\n",
       "      <td>0.0</td>\n",
       "      <td>2.0</td>\n",
       "      <td>80.0</td>\n",
       "      <td>0.0</td>\n",
       "      <td>0.0</td>\n",
       "    </tr>\n",
       "    <tr>\n",
       "      <th>1</th>\n",
       "      <td>1.536227e+09</td>\n",
       "      <td>17576.0</td>\n",
       "      <td>8081.0</td>\n",
       "      <td>tcp</td>\n",
       "      <td>2e-06</td>\n",
       "      <td>0</td>\n",
       "      <td>0</td>\n",
       "      <td>S0</td>\n",
       "      <td>-</td>\n",
       "      <td>-</td>\n",
       "      <td>0.0</td>\n",
       "      <td>2.0</td>\n",
       "      <td>80.0</td>\n",
       "      <td>0.0</td>\n",
       "      <td>0.0</td>\n",
       "    </tr>\n",
       "    <tr>\n",
       "      <th>2</th>\n",
       "      <td>1.536227e+09</td>\n",
       "      <td>17576.0</td>\n",
       "      <td>8081.0</td>\n",
       "      <td>tcp</td>\n",
       "      <td>2e-06</td>\n",
       "      <td>0</td>\n",
       "      <td>0</td>\n",
       "      <td>S0</td>\n",
       "      <td>-</td>\n",
       "      <td>-</td>\n",
       "      <td>0.0</td>\n",
       "      <td>2.0</td>\n",
       "      <td>80.0</td>\n",
       "      <td>0.0</td>\n",
       "      <td>0.0</td>\n",
       "    </tr>\n",
       "    <tr>\n",
       "      <th>3</th>\n",
       "      <td>1.536227e+09</td>\n",
       "      <td>17576.0</td>\n",
       "      <td>8081.0</td>\n",
       "      <td>tcp</td>\n",
       "      <td>2e-06</td>\n",
       "      <td>0</td>\n",
       "      <td>0</td>\n",
       "      <td>S0</td>\n",
       "      <td>-</td>\n",
       "      <td>-</td>\n",
       "      <td>0.0</td>\n",
       "      <td>2.0</td>\n",
       "      <td>80.0</td>\n",
       "      <td>0.0</td>\n",
       "      <td>0.0</td>\n",
       "    </tr>\n",
       "    <tr>\n",
       "      <th>4</th>\n",
       "      <td>1.536227e+09</td>\n",
       "      <td>17576.0</td>\n",
       "      <td>8081.0</td>\n",
       "      <td>tcp</td>\n",
       "      <td>2e-06</td>\n",
       "      <td>0</td>\n",
       "      <td>0</td>\n",
       "      <td>S0</td>\n",
       "      <td>-</td>\n",
       "      <td>-</td>\n",
       "      <td>0.0</td>\n",
       "      <td>2.0</td>\n",
       "      <td>80.0</td>\n",
       "      <td>0.0</td>\n",
       "      <td>0.0</td>\n",
       "    </tr>\n",
       "  </tbody>\n",
       "</table>\n",
       "</div>"
      ],
      "text/plain": [
       "             ts  id.orig_p  id.resp_p proto duration orig_bytes resp_bytes  \\\n",
       "0  1.536227e+09    17576.0     8081.0   tcp    3e-06          0          0   \n",
       "1  1.536227e+09    17576.0     8081.0   tcp    2e-06          0          0   \n",
       "2  1.536227e+09    17576.0     8081.0   tcp    2e-06          0          0   \n",
       "3  1.536227e+09    17576.0     8081.0   tcp    2e-06          0          0   \n",
       "4  1.536227e+09    17576.0     8081.0   tcp    2e-06          0          0   \n",
       "\n",
       "  conn_state local_orig local_resp  missed_bytes  orig_pkts  orig_ip_bytes  \\\n",
       "0         S0          -          -           0.0        2.0           80.0   \n",
       "1         S0          -          -           0.0        2.0           80.0   \n",
       "2         S0          -          -           0.0        2.0           80.0   \n",
       "3         S0          -          -           0.0        2.0           80.0   \n",
       "4         S0          -          -           0.0        2.0           80.0   \n",
       "\n",
       "   resp_pkts  resp_ip_bytes  \n",
       "0        0.0            0.0  \n",
       "1        0.0            0.0  \n",
       "2        0.0            0.0  \n",
       "3        0.0            0.0  \n",
       "4        0.0            0.0  "
      ]
     },
     "execution_count": 50,
     "metadata": {},
     "output_type": "execute_result"
    }
   ],
   "source": [
    "X_.head()"
   ]
  },
  {
   "cell_type": "code",
   "execution_count": 51,
   "metadata": {},
   "outputs": [],
   "source": [
    "y=X['label']"
   ]
  },
  {
   "cell_type": "code",
   "execution_count": 52,
   "metadata": {},
   "outputs": [
    {
     "data": {
      "text/plain": [
       "0    POHS\n",
       "1    POHS\n",
       "2    POHS\n",
       "3    POHS\n",
       "4    POHS\n",
       "Name: label, dtype: object"
      ]
     },
     "execution_count": 52,
     "metadata": {},
     "output_type": "execute_result"
    }
   ],
   "source": [
    "y.head()"
   ]
  },
  {
   "cell_type": "code",
   "execution_count": 53,
   "metadata": {},
   "outputs": [
    {
     "data": {
      "text/plain": [
       "POHS      677827\n",
       "Okiru     262690\n",
       "Benign    149744\n",
       "DDoS      138777\n",
       "C&C        15093\n",
       "Name: label, dtype: int64"
      ]
     },
     "execution_count": 53,
     "metadata": {},
     "output_type": "execute_result"
    }
   ],
   "source": [
    "y.value_counts()"
   ]
  },
  {
   "cell_type": "code",
   "execution_count": 54,
   "metadata": {},
   "outputs": [],
   "source": [
    "#ok so we dropped some labels..."
   ]
  },
  {
   "cell_type": "code",
   "execution_count": 55,
   "metadata": {},
   "outputs": [
    {
     "name": "stdout",
     "output_type": "stream",
     "text": [
      "<class 'pandas.core.frame.DataFrame'>\n",
      "Int64Index: 1244131 entries, 0 to 1244675\n",
      "Data columns (total 15 columns):\n",
      " #   Column         Non-Null Count    Dtype  \n",
      "---  ------         --------------    -----  \n",
      " 0   ts             1244131 non-null  float64\n",
      " 1   id.orig_p      1244131 non-null  float64\n",
      " 2   id.resp_p      1244131 non-null  float64\n",
      " 3   proto          1244131 non-null  object \n",
      " 4   duration       1244131 non-null  object \n",
      " 5   orig_bytes     1244131 non-null  object \n",
      " 6   resp_bytes     1244131 non-null  object \n",
      " 7   conn_state     1244131 non-null  object \n",
      " 8   local_orig     1244131 non-null  object \n",
      " 9   local_resp     1244131 non-null  object \n",
      " 10  missed_bytes   1244131 non-null  float64\n",
      " 11  orig_pkts      1244131 non-null  float64\n",
      " 12  orig_ip_bytes  1244131 non-null  float64\n",
      " 13  resp_pkts      1244131 non-null  float64\n",
      " 14  resp_ip_bytes  1244131 non-null  float64\n",
      "dtypes: float64(8), object(7)\n",
      "memory usage: 191.9+ MB\n"
     ]
    }
   ],
   "source": [
    "X_.info()"
   ]
  },
  {
   "cell_type": "code",
   "execution_count": 56,
   "metadata": {},
   "outputs": [],
   "source": [
    "X=X_.replace('-',0)"
   ]
  },
  {
   "cell_type": "code",
   "execution_count": 57,
   "metadata": {},
   "outputs": [],
   "source": [
    "#we need to convert some variables which are float in nature but here they look categorical"
   ]
  },
  {
   "cell_type": "code",
   "execution_count": 58,
   "metadata": {},
   "outputs": [],
   "source": [
    "X['orig_bytes']=X['orig_bytes'].astype(float)"
   ]
  },
  {
   "cell_type": "code",
   "execution_count": 59,
   "metadata": {},
   "outputs": [],
   "source": [
    "X['duration']=X['duration'].astype(float)"
   ]
  },
  {
   "cell_type": "code",
   "execution_count": 60,
   "metadata": {},
   "outputs": [],
   "source": [
    "X['resp_bytes']=X['resp_bytes'].astype(float)"
   ]
  },
  {
   "cell_type": "code",
   "execution_count": 61,
   "metadata": {},
   "outputs": [],
   "source": [
    "#separate categorical variables\n",
    "cat_df =X.select_dtypes(include=['object']).copy()"
   ]
  },
  {
   "cell_type": "code",
   "execution_count": 44,
   "metadata": {},
   "outputs": [
    {
     "data": {
      "text/html": [
       "<div>\n",
       "<style scoped>\n",
       "    .dataframe tbody tr th:only-of-type {\n",
       "        vertical-align: middle;\n",
       "    }\n",
       "\n",
       "    .dataframe tbody tr th {\n",
       "        vertical-align: top;\n",
       "    }\n",
       "\n",
       "    .dataframe thead th {\n",
       "        text-align: right;\n",
       "    }\n",
       "</style>\n",
       "<table border=\"1\" class=\"dataframe\">\n",
       "  <thead>\n",
       "    <tr style=\"text-align: right;\">\n",
       "      <th></th>\n",
       "      <th>proto</th>\n",
       "      <th>conn_state</th>\n",
       "    </tr>\n",
       "  </thead>\n",
       "  <tbody>\n",
       "    <tr>\n",
       "      <th>0</th>\n",
       "      <td>tcp</td>\n",
       "      <td>S0</td>\n",
       "    </tr>\n",
       "    <tr>\n",
       "      <th>1</th>\n",
       "      <td>tcp</td>\n",
       "      <td>S0</td>\n",
       "    </tr>\n",
       "    <tr>\n",
       "      <th>2</th>\n",
       "      <td>tcp</td>\n",
       "      <td>S0</td>\n",
       "    </tr>\n",
       "    <tr>\n",
       "      <th>3</th>\n",
       "      <td>tcp</td>\n",
       "      <td>S0</td>\n",
       "    </tr>\n",
       "    <tr>\n",
       "      <th>4</th>\n",
       "      <td>tcp</td>\n",
       "      <td>S0</td>\n",
       "    </tr>\n",
       "    <tr>\n",
       "      <th>...</th>\n",
       "      <td>...</td>\n",
       "      <td>...</td>\n",
       "    </tr>\n",
       "    <tr>\n",
       "      <th>2803565</th>\n",
       "      <td>udp</td>\n",
       "      <td>S0</td>\n",
       "    </tr>\n",
       "    <tr>\n",
       "      <th>2803566</th>\n",
       "      <td>icmp</td>\n",
       "      <td>OTH</td>\n",
       "    </tr>\n",
       "    <tr>\n",
       "      <th>2803567</th>\n",
       "      <td>icmp</td>\n",
       "      <td>OTH</td>\n",
       "    </tr>\n",
       "    <tr>\n",
       "      <th>2803568</th>\n",
       "      <td>icmp</td>\n",
       "      <td>OTH</td>\n",
       "    </tr>\n",
       "    <tr>\n",
       "      <th>2803569</th>\n",
       "      <td>icmp</td>\n",
       "      <td>OTH</td>\n",
       "    </tr>\n",
       "  </tbody>\n",
       "</table>\n",
       "<p>2802755 rows × 2 columns</p>\n",
       "</div>"
      ],
      "text/plain": [
       "        proto conn_state\n",
       "0         tcp         S0\n",
       "1         tcp         S0\n",
       "2         tcp         S0\n",
       "3         tcp         S0\n",
       "4         tcp         S0\n",
       "...       ...        ...\n",
       "2803565   udp         S0\n",
       "2803566  icmp        OTH\n",
       "2803567  icmp        OTH\n",
       "2803568  icmp        OTH\n",
       "2803569  icmp        OTH\n",
       "\n",
       "[2802755 rows x 2 columns]"
      ]
     },
     "execution_count": 44,
     "metadata": {},
     "output_type": "execute_result"
    }
   ],
   "source": [
    "cat_df"
   ]
  },
  {
   "cell_type": "code",
   "execution_count": 87,
   "metadata": {},
   "outputs": [],
   "source": [
    "Le=LabelEncoder()"
   ]
  },
  {
   "cell_type": "code",
   "execution_count": 88,
   "metadata": {},
   "outputs": [],
   "source": [
    "cat_features=cat_df.apply(LabelEncoder().fit_transform)"
   ]
  },
  {
   "cell_type": "code",
   "execution_count": 63,
   "metadata": {},
   "outputs": [
    {
     "data": {
      "text/plain": [
       "proto          3\n",
       "conn_state    12\n",
       "dtype: int64"
      ]
     },
     "execution_count": 63,
     "metadata": {},
     "output_type": "execute_result"
    }
   ],
   "source": [
    "#let us how many categories each column has\n",
    "cat_df.nunique()"
   ]
  },
  {
   "cell_type": "code",
   "execution_count": 64,
   "metadata": {},
   "outputs": [
    {
     "data": {
      "text/plain": [
       "array(['tcp', 'udp', 'icmp'], dtype=object)"
      ]
     },
     "execution_count": 64,
     "metadata": {},
     "output_type": "execute_result"
    }
   ],
   "source": [
    "cat_df[\"proto\"].unique()"
   ]
  },
  {
   "cell_type": "code",
   "execution_count": 65,
   "metadata": {},
   "outputs": [
    {
     "data": {
      "text/plain": [
       "tcp     1228800\n",
       "udp       15045\n",
       "icmp        286\n",
       "Name: proto, dtype: int64"
      ]
     },
     "execution_count": 65,
     "metadata": {},
     "output_type": "execute_result"
    }
   ],
   "source": [
    "cat_df[\"proto\"].value_counts()"
   ]
  },
  {
   "cell_type": "code",
   "execution_count": 92,
   "metadata": {},
   "outputs": [],
   "source": [
    "#most packets are TCP protocol"
   ]
  },
  {
   "cell_type": "code",
   "execution_count": 67,
   "metadata": {},
   "outputs": [
    {
     "name": "stdout",
     "output_type": "stream",
     "text": [
      "Normal Packets: 138777\n",
      "Scanning Attacks:  677827\n",
      "DDos Attacks:  149744\n",
      "Okiru:  262690\n",
      "CnC:  15093\n"
     ]
    },
    {
     "data": {
      "image/png": "[encoded data removed]",
      "text/plain": [
       "<Figure size 720x360 with 1 Axes>"
      ]
     },
     "metadata": {
      "needs_background": "light"
     },
     "output_type": "display_data"
    }
   ],
   "source": [
    "fig=plt.figure(figsize=(10,5))\n",
    "sns.countplot(data=data, x =y)\n",
    "POHS, Okiru, DDoS, Benign, CnC =y.value_counts()\n",
    "print(\"Normal Packets:\", Benign)\n",
    "print(\"Scanning Attacks: \", POHS)\n",
    "print(\"DDos Attacks: \", DDoS)\n",
    "print(\"Okiru: \", Okiru)\n",
    "print(\"CnC: \", CnC)\n",
    "plt.show()\n",
    "#fig.savefig('traffic_distribution.png')"
   ]
  },
  {
   "cell_type": "code",
   "execution_count": 94,
   "metadata": {},
   "outputs": [],
   "source": [
    "#most of the packets are POHScan "
   ]
  },
  {
   "cell_type": "code",
   "execution_count": 68,
   "metadata": {},
   "outputs": [],
   "source": [
    "attacks_data =y.value_counts()"
   ]
  },
  {
   "cell_type": "code",
   "execution_count": 69,
   "metadata": {},
   "outputs": [],
   "source": [
    "yn=attacks_data"
   ]
  },
  {
   "cell_type": "code",
   "execution_count": 96,
   "metadata": {},
   "outputs": [
    {
     "data": {
      "image/png": "[encoded data removed]",
      "text/plain": [
       "<Figure size 720x720 with 1 Axes>"
      ]
     },
     "metadata": {},
     "output_type": "display_data"
    }
   ],
   "source": [
    "mlabels=['POHS', 'Okiru', 'DDoS', 'Benign', 'CnC']\n",
    "plt.figure(figsize=(10,10))\n",
    "explodes=[0,0,0,0,0]\n",
    "plt.pie(yn, labels = mlabels , explode=explodes, autopct='%.2f%%', textprops={'color':'k', 'fontsize':10, 'weight':'bold'})\n",
    "plt.title('Attack type distribution in IoT23 dataset')\n",
    "plt.savefig(r'C:\\Users\\DELL\\Pictures\\TonIoT Images\\Data Preparation\\iot2022_attacks.tiff', bbox_inches='tight', dpi=300)\n",
    "plt.show()"
   ]
  },
  {
   "cell_type": "code",
   "execution_count": 71,
   "metadata": {},
   "outputs": [
    {
     "data": {
      "text/plain": [
       "array(['tcp', 'udp', 'icmp'], dtype=object)"
      ]
     },
     "execution_count": 71,
     "metadata": {},
     "output_type": "execute_result"
    }
   ],
   "source": [
    "cat_df[\"proto\"].unique()"
   ]
  },
  {
   "cell_type": "code",
   "execution_count": 72,
   "metadata": {},
   "outputs": [
    {
     "name": "stdout",
     "output_type": "stream",
     "text": [
      "TCP packets: 1229345\n",
      "UDP packets:  15045\n",
      "ICMP packets:  286\n"
     ]
    },
    {
     "data": {
      "image/png": "[encoded data removed]",
      "text/plain": [
       "<Figure size 720x360 with 1 Axes>"
      ]
     },
     "metadata": {
      "needs_background": "light"
     },
     "output_type": "display_data"
    }
   ],
   "source": [
    "plt.figure(figsize=(10,5))\n",
    "sns.countplot(data=data, x =\"proto\")\n",
    "tcp, udp, icmp=data[\"proto\"].value_counts()\n",
    "print(\"TCP packets:\", tcp)\n",
    "print(\"UDP packets: \", udp)\n",
    "print(\"ICMP packets: \", icmp)\n",
    "plt.show()"
   ]
  },
  {
   "cell_type": "code",
   "execution_count": 73,
   "metadata": {},
   "outputs": [
    {
     "data": {
      "text/plain": [
       "array(['S0', 'REJ', 'RSTO', 'SF', 'OTH', 'S3', 'RSTR', 'S1', 'SH',\n",
       "       'RSTOS0', 'SHR', 'S2'], dtype=object)"
      ]
     },
     "execution_count": 73,
     "metadata": {},
     "output_type": "execute_result"
    }
   ],
   "source": [
    "cat_df[\"conn_state\"].unique()"
   ]
  },
  {
   "cell_type": "code",
   "execution_count": 75,
   "metadata": {},
   "outputs": [
    {
     "data": {
      "image/png": "[encoded data removed]",
      "text/plain": [
       "<Figure size 720x360 with 1 Axes>"
      ]
     },
     "metadata": {
      "needs_background": "light"
     },
     "output_type": "display_data"
    }
   ],
   "source": [
    "plt.figure(figsize=(10,5))\n",
    "sns.countplot(data=cat_df, x =\"conn_state\")\n",
    "OTH, S0, SHR, RSTRH, SH, RSTOS0, RSTR, RSTO, SF, S1, S3, S2 =data[\"conn_state\"].value_counts()\n",
    "plt.show()"
   ]
  },
  {
   "cell_type": "code",
   "execution_count": 76,
   "metadata": {},
   "outputs": [],
   "source": [
    "#separating numerical variables\n",
    "num_df =X.select_dtypes(exclude=['object']).copy()"
   ]
  },
  {
   "cell_type": "code",
   "execution_count": 77,
   "metadata": {},
   "outputs": [
    {
     "data": {
      "text/html": [
       "<div>\n",
       "<style scoped>\n",
       "    .dataframe tbody tr th:only-of-type {\n",
       "        vertical-align: middle;\n",
       "    }\n",
       "\n",
       "    .dataframe tbody tr th {\n",
       "        vertical-align: top;\n",
       "    }\n",
       "\n",
       "    .dataframe thead th {\n",
       "        text-align: right;\n",
       "    }\n",
       "</style>\n",
       "<table border=\"1\" class=\"dataframe\">\n",
       "  <thead>\n",
       "    <tr style=\"text-align: right;\">\n",
       "      <th></th>\n",
       "      <th>ts</th>\n",
       "      <th>id.orig_p</th>\n",
       "      <th>id.resp_p</th>\n",
       "      <th>duration</th>\n",
       "      <th>orig_bytes</th>\n",
       "      <th>resp_bytes</th>\n",
       "      <th>local_orig</th>\n",
       "      <th>local_resp</th>\n",
       "      <th>missed_bytes</th>\n",
       "      <th>orig_pkts</th>\n",
       "      <th>orig_ip_bytes</th>\n",
       "      <th>resp_pkts</th>\n",
       "      <th>resp_ip_bytes</th>\n",
       "    </tr>\n",
       "  </thead>\n",
       "  <tbody>\n",
       "    <tr>\n",
       "      <th>0</th>\n",
       "      <td>1.536227e+09</td>\n",
       "      <td>17576.0</td>\n",
       "      <td>8081.0</td>\n",
       "      <td>0.000003</td>\n",
       "      <td>0.0</td>\n",
       "      <td>0.0</td>\n",
       "      <td>0</td>\n",
       "      <td>0</td>\n",
       "      <td>0.0</td>\n",
       "      <td>2.0</td>\n",
       "      <td>80.0</td>\n",
       "      <td>0.0</td>\n",
       "      <td>0.0</td>\n",
       "    </tr>\n",
       "    <tr>\n",
       "      <th>1</th>\n",
       "      <td>1.536227e+09</td>\n",
       "      <td>17576.0</td>\n",
       "      <td>8081.0</td>\n",
       "      <td>0.000002</td>\n",
       "      <td>0.0</td>\n",
       "      <td>0.0</td>\n",
       "      <td>0</td>\n",
       "      <td>0</td>\n",
       "      <td>0.0</td>\n",
       "      <td>2.0</td>\n",
       "      <td>80.0</td>\n",
       "      <td>0.0</td>\n",
       "      <td>0.0</td>\n",
       "    </tr>\n",
       "    <tr>\n",
       "      <th>2</th>\n",
       "      <td>1.536227e+09</td>\n",
       "      <td>17576.0</td>\n",
       "      <td>8081.0</td>\n",
       "      <td>0.000002</td>\n",
       "      <td>0.0</td>\n",
       "      <td>0.0</td>\n",
       "      <td>0</td>\n",
       "      <td>0</td>\n",
       "      <td>0.0</td>\n",
       "      <td>2.0</td>\n",
       "      <td>80.0</td>\n",
       "      <td>0.0</td>\n",
       "      <td>0.0</td>\n",
       "    </tr>\n",
       "    <tr>\n",
       "      <th>3</th>\n",
       "      <td>1.536227e+09</td>\n",
       "      <td>17576.0</td>\n",
       "      <td>8081.0</td>\n",
       "      <td>0.000002</td>\n",
       "      <td>0.0</td>\n",
       "      <td>0.0</td>\n",
       "      <td>0</td>\n",
       "      <td>0</td>\n",
       "      <td>0.0</td>\n",
       "      <td>2.0</td>\n",
       "      <td>80.0</td>\n",
       "      <td>0.0</td>\n",
       "      <td>0.0</td>\n",
       "    </tr>\n",
       "    <tr>\n",
       "      <th>4</th>\n",
       "      <td>1.536227e+09</td>\n",
       "      <td>17576.0</td>\n",
       "      <td>8081.0</td>\n",
       "      <td>0.000002</td>\n",
       "      <td>0.0</td>\n",
       "      <td>0.0</td>\n",
       "      <td>0</td>\n",
       "      <td>0</td>\n",
       "      <td>0.0</td>\n",
       "      <td>2.0</td>\n",
       "      <td>80.0</td>\n",
       "      <td>0.0</td>\n",
       "      <td>0.0</td>\n",
       "    </tr>\n",
       "  </tbody>\n",
       "</table>\n",
       "</div>"
      ],
      "text/plain": [
       "             ts  id.orig_p  id.resp_p  duration  orig_bytes  resp_bytes  \\\n",
       "0  1.536227e+09    17576.0     8081.0  0.000003         0.0         0.0   \n",
       "1  1.536227e+09    17576.0     8081.0  0.000002         0.0         0.0   \n",
       "2  1.536227e+09    17576.0     8081.0  0.000002         0.0         0.0   \n",
       "3  1.536227e+09    17576.0     8081.0  0.000002         0.0         0.0   \n",
       "4  1.536227e+09    17576.0     8081.0  0.000002         0.0         0.0   \n",
       "\n",
       "   local_orig  local_resp  missed_bytes  orig_pkts  orig_ip_bytes  resp_pkts  \\\n",
       "0           0           0           0.0        2.0           80.0        0.0   \n",
       "1           0           0           0.0        2.0           80.0        0.0   \n",
       "2           0           0           0.0        2.0           80.0        0.0   \n",
       "3           0           0           0.0        2.0           80.0        0.0   \n",
       "4           0           0           0.0        2.0           80.0        0.0   \n",
       "\n",
       "   resp_ip_bytes  \n",
       "0            0.0  \n",
       "1            0.0  \n",
       "2            0.0  \n",
       "3            0.0  \n",
       "4            0.0  "
      ]
     },
     "execution_count": 77,
     "metadata": {},
     "output_type": "execute_result"
    }
   ],
   "source": [
    "num_df.head()"
   ]
  },
  {
   "cell_type": "markdown",
   "metadata": {},
   "source": [
    "ok so there are only three categorical variables..."
   ]
  },
  {
   "cell_type": "code",
   "execution_count": 89,
   "metadata": {},
   "outputs": [],
   "source": [
    "Xe=pd.concat([num_df,cat_features], axis=1)"
   ]
  },
  {
   "cell_type": "code",
   "execution_count": 90,
   "metadata": {},
   "outputs": [
    {
     "data": {
      "text/html": [
       "<div>\n",
       "<style scoped>\n",
       "    .dataframe tbody tr th:only-of-type {\n",
       "        vertical-align: middle;\n",
       "    }\n",
       "\n",
       "    .dataframe tbody tr th {\n",
       "        vertical-align: top;\n",
       "    }\n",
       "\n",
       "    .dataframe thead th {\n",
       "        text-align: right;\n",
       "    }\n",
       "</style>\n",
       "<table border=\"1\" class=\"dataframe\">\n",
       "  <thead>\n",
       "    <tr style=\"text-align: right;\">\n",
       "      <th></th>\n",
       "      <th>ts</th>\n",
       "      <th>id.orig_p</th>\n",
       "      <th>id.resp_p</th>\n",
       "      <th>duration</th>\n",
       "      <th>orig_bytes</th>\n",
       "      <th>resp_bytes</th>\n",
       "      <th>local_orig</th>\n",
       "      <th>local_resp</th>\n",
       "      <th>missed_bytes</th>\n",
       "      <th>orig_pkts</th>\n",
       "      <th>orig_ip_bytes</th>\n",
       "      <th>resp_pkts</th>\n",
       "      <th>resp_ip_bytes</th>\n",
       "      <th>proto</th>\n",
       "      <th>conn_state</th>\n",
       "    </tr>\n",
       "  </thead>\n",
       "  <tbody>\n",
       "    <tr>\n",
       "      <th>0</th>\n",
       "      <td>1.536227e+09</td>\n",
       "      <td>17576.0</td>\n",
       "      <td>8081.0</td>\n",
       "      <td>0.000003</td>\n",
       "      <td>0.0</td>\n",
       "      <td>0.0</td>\n",
       "      <td>0</td>\n",
       "      <td>0</td>\n",
       "      <td>0.0</td>\n",
       "      <td>2.0</td>\n",
       "      <td>80.0</td>\n",
       "      <td>0.0</td>\n",
       "      <td>0.0</td>\n",
       "      <td>1</td>\n",
       "      <td>5</td>\n",
       "    </tr>\n",
       "    <tr>\n",
       "      <th>1</th>\n",
       "      <td>1.536227e+09</td>\n",
       "      <td>17576.0</td>\n",
       "      <td>8081.0</td>\n",
       "      <td>0.000002</td>\n",
       "      <td>0.0</td>\n",
       "      <td>0.0</td>\n",
       "      <td>0</td>\n",
       "      <td>0</td>\n",
       "      <td>0.0</td>\n",
       "      <td>2.0</td>\n",
       "      <td>80.0</td>\n",
       "      <td>0.0</td>\n",
       "      <td>0.0</td>\n",
       "      <td>1</td>\n",
       "      <td>5</td>\n",
       "    </tr>\n",
       "    <tr>\n",
       "      <th>2</th>\n",
       "      <td>1.536227e+09</td>\n",
       "      <td>17576.0</td>\n",
       "      <td>8081.0</td>\n",
       "      <td>0.000002</td>\n",
       "      <td>0.0</td>\n",
       "      <td>0.0</td>\n",
       "      <td>0</td>\n",
       "      <td>0</td>\n",
       "      <td>0.0</td>\n",
       "      <td>2.0</td>\n",
       "      <td>80.0</td>\n",
       "      <td>0.0</td>\n",
       "      <td>0.0</td>\n",
       "      <td>1</td>\n",
       "      <td>5</td>\n",
       "    </tr>\n",
       "    <tr>\n",
       "      <th>3</th>\n",
       "      <td>1.536227e+09</td>\n",
       "      <td>17576.0</td>\n",
       "      <td>8081.0</td>\n",
       "      <td>0.000002</td>\n",
       "      <td>0.0</td>\n",
       "      <td>0.0</td>\n",
       "      <td>0</td>\n",
       "      <td>0</td>\n",
       "      <td>0.0</td>\n",
       "      <td>2.0</td>\n",
       "      <td>80.0</td>\n",
       "      <td>0.0</td>\n",
       "      <td>0.0</td>\n",
       "      <td>1</td>\n",
       "      <td>5</td>\n",
       "    </tr>\n",
       "    <tr>\n",
       "      <th>4</th>\n",
       "      <td>1.536227e+09</td>\n",
       "      <td>17576.0</td>\n",
       "      <td>8081.0</td>\n",
       "      <td>0.000002</td>\n",
       "      <td>0.0</td>\n",
       "      <td>0.0</td>\n",
       "      <td>0</td>\n",
       "      <td>0</td>\n",
       "      <td>0.0</td>\n",
       "      <td>2.0</td>\n",
       "      <td>80.0</td>\n",
       "      <td>0.0</td>\n",
       "      <td>0.0</td>\n",
       "      <td>1</td>\n",
       "      <td>5</td>\n",
       "    </tr>\n",
       "  </tbody>\n",
       "</table>\n",
       "</div>"
      ],
      "text/plain": [
       "             ts  id.orig_p  id.resp_p  duration  orig_bytes  resp_bytes  \\\n",
       "0  1.536227e+09    17576.0     8081.0  0.000003         0.0         0.0   \n",
       "1  1.536227e+09    17576.0     8081.0  0.000002         0.0         0.0   \n",
       "2  1.536227e+09    17576.0     8081.0  0.000002         0.0         0.0   \n",
       "3  1.536227e+09    17576.0     8081.0  0.000002         0.0         0.0   \n",
       "4  1.536227e+09    17576.0     8081.0  0.000002         0.0         0.0   \n",
       "\n",
       "   local_orig  local_resp  missed_bytes  orig_pkts  orig_ip_bytes  resp_pkts  \\\n",
       "0           0           0           0.0        2.0           80.0        0.0   \n",
       "1           0           0           0.0        2.0           80.0        0.0   \n",
       "2           0           0           0.0        2.0           80.0        0.0   \n",
       "3           0           0           0.0        2.0           80.0        0.0   \n",
       "4           0           0           0.0        2.0           80.0        0.0   \n",
       "\n",
       "   resp_ip_bytes  proto  conn_state  \n",
       "0            0.0      1           5  \n",
       "1            0.0      1           5  \n",
       "2            0.0      1           5  \n",
       "3            0.0      1           5  \n",
       "4            0.0      1           5  "
      ]
     },
     "execution_count": 90,
     "metadata": {},
     "output_type": "execute_result"
    }
   ],
   "source": [
    "Xe.head()"
   ]
  },
  {
   "cell_type": "code",
   "execution_count": null,
   "metadata": {},
   "outputs": [],
   "source": [
    "#we combine all our data frames together to create a new preporcessed dataset. "
   ]
  },
  {
   "cell_type": "code",
   "execution_count": 91,
   "metadata": {},
   "outputs": [],
   "source": [
    "pre_processed_data=pd.concat([Xe,y], axis=1)"
   ]
  },
  {
   "cell_type": "code",
   "execution_count": 92,
   "metadata": {},
   "outputs": [
    {
     "data": {
      "text/html": [
       "<div>\n",
       "<style scoped>\n",
       "    .dataframe tbody tr th:only-of-type {\n",
       "        vertical-align: middle;\n",
       "    }\n",
       "\n",
       "    .dataframe tbody tr th {\n",
       "        vertical-align: top;\n",
       "    }\n",
       "\n",
       "    .dataframe thead th {\n",
       "        text-align: right;\n",
       "    }\n",
       "</style>\n",
       "<table border=\"1\" class=\"dataframe\">\n",
       "  <thead>\n",
       "    <tr style=\"text-align: right;\">\n",
       "      <th></th>\n",
       "      <th>ts</th>\n",
       "      <th>id.orig_p</th>\n",
       "      <th>id.resp_p</th>\n",
       "      <th>duration</th>\n",
       "      <th>orig_bytes</th>\n",
       "      <th>resp_bytes</th>\n",
       "      <th>local_orig</th>\n",
       "      <th>local_resp</th>\n",
       "      <th>missed_bytes</th>\n",
       "      <th>orig_pkts</th>\n",
       "      <th>orig_ip_bytes</th>\n",
       "      <th>resp_pkts</th>\n",
       "      <th>resp_ip_bytes</th>\n",
       "      <th>proto</th>\n",
       "      <th>conn_state</th>\n",
       "      <th>label</th>\n",
       "    </tr>\n",
       "  </thead>\n",
       "  <tbody>\n",
       "    <tr>\n",
       "      <th>0</th>\n",
       "      <td>1.536227e+09</td>\n",
       "      <td>17576.0</td>\n",
       "      <td>8081.0</td>\n",
       "      <td>0.000003</td>\n",
       "      <td>0.0</td>\n",
       "      <td>0.0</td>\n",
       "      <td>0</td>\n",
       "      <td>0</td>\n",
       "      <td>0.0</td>\n",
       "      <td>2.0</td>\n",
       "      <td>80.0</td>\n",
       "      <td>0.0</td>\n",
       "      <td>0.0</td>\n",
       "      <td>1</td>\n",
       "      <td>5</td>\n",
       "      <td>POHS</td>\n",
       "    </tr>\n",
       "    <tr>\n",
       "      <th>1</th>\n",
       "      <td>1.536227e+09</td>\n",
       "      <td>17576.0</td>\n",
       "      <td>8081.0</td>\n",
       "      <td>0.000002</td>\n",
       "      <td>0.0</td>\n",
       "      <td>0.0</td>\n",
       "      <td>0</td>\n",
       "      <td>0</td>\n",
       "      <td>0.0</td>\n",
       "      <td>2.0</td>\n",
       "      <td>80.0</td>\n",
       "      <td>0.0</td>\n",
       "      <td>0.0</td>\n",
       "      <td>1</td>\n",
       "      <td>5</td>\n",
       "      <td>POHS</td>\n",
       "    </tr>\n",
       "    <tr>\n",
       "      <th>2</th>\n",
       "      <td>1.536227e+09</td>\n",
       "      <td>17576.0</td>\n",
       "      <td>8081.0</td>\n",
       "      <td>0.000002</td>\n",
       "      <td>0.0</td>\n",
       "      <td>0.0</td>\n",
       "      <td>0</td>\n",
       "      <td>0</td>\n",
       "      <td>0.0</td>\n",
       "      <td>2.0</td>\n",
       "      <td>80.0</td>\n",
       "      <td>0.0</td>\n",
       "      <td>0.0</td>\n",
       "      <td>1</td>\n",
       "      <td>5</td>\n",
       "      <td>POHS</td>\n",
       "    </tr>\n",
       "    <tr>\n",
       "      <th>3</th>\n",
       "      <td>1.536227e+09</td>\n",
       "      <td>17576.0</td>\n",
       "      <td>8081.0</td>\n",
       "      <td>0.000002</td>\n",
       "      <td>0.0</td>\n",
       "      <td>0.0</td>\n",
       "      <td>0</td>\n",
       "      <td>0</td>\n",
       "      <td>0.0</td>\n",
       "      <td>2.0</td>\n",
       "      <td>80.0</td>\n",
       "      <td>0.0</td>\n",
       "      <td>0.0</td>\n",
       "      <td>1</td>\n",
       "      <td>5</td>\n",
       "      <td>POHS</td>\n",
       "    </tr>\n",
       "    <tr>\n",
       "      <th>4</th>\n",
       "      <td>1.536227e+09</td>\n",
       "      <td>17576.0</td>\n",
       "      <td>8081.0</td>\n",
       "      <td>0.000002</td>\n",
       "      <td>0.0</td>\n",
       "      <td>0.0</td>\n",
       "      <td>0</td>\n",
       "      <td>0</td>\n",
       "      <td>0.0</td>\n",
       "      <td>2.0</td>\n",
       "      <td>80.0</td>\n",
       "      <td>0.0</td>\n",
       "      <td>0.0</td>\n",
       "      <td>1</td>\n",
       "      <td>5</td>\n",
       "      <td>POHS</td>\n",
       "    </tr>\n",
       "  </tbody>\n",
       "</table>\n",
       "</div>"
      ],
      "text/plain": [
       "             ts  id.orig_p  id.resp_p  duration  orig_bytes  resp_bytes  \\\n",
       "0  1.536227e+09    17576.0     8081.0  0.000003         0.0         0.0   \n",
       "1  1.536227e+09    17576.0     8081.0  0.000002         0.0         0.0   \n",
       "2  1.536227e+09    17576.0     8081.0  0.000002         0.0         0.0   \n",
       "3  1.536227e+09    17576.0     8081.0  0.000002         0.0         0.0   \n",
       "4  1.536227e+09    17576.0     8081.0  0.000002         0.0         0.0   \n",
       "\n",
       "   local_orig  local_resp  missed_bytes  orig_pkts  orig_ip_bytes  resp_pkts  \\\n",
       "0           0           0           0.0        2.0           80.0        0.0   \n",
       "1           0           0           0.0        2.0           80.0        0.0   \n",
       "2           0           0           0.0        2.0           80.0        0.0   \n",
       "3           0           0           0.0        2.0           80.0        0.0   \n",
       "4           0           0           0.0        2.0           80.0        0.0   \n",
       "\n",
       "   resp_ip_bytes  proto  conn_state label  \n",
       "0            0.0      1           5  POHS  \n",
       "1            0.0      1           5  POHS  \n",
       "2            0.0      1           5  POHS  \n",
       "3            0.0      1           5  POHS  \n",
       "4            0.0      1           5  POHS  "
      ]
     },
     "execution_count": 92,
     "metadata": {},
     "output_type": "execute_result"
    }
   ],
   "source": [
    "pre_processed_data.head()"
   ]
  },
  {
   "cell_type": "code",
   "execution_count": 93,
   "metadata": {},
   "outputs": [
    {
     "data": {
      "text/plain": [
       "(1244131, 16)"
      ]
     },
     "execution_count": 93,
     "metadata": {},
     "output_type": "execute_result"
    }
   ],
   "source": [
    "pre_processed_data.shape"
   ]
  },
  {
   "cell_type": "code",
   "execution_count": null,
   "metadata": {},
   "outputs": [],
   "source": [
    "#let us convert our data into csv"
   ]
  },
  {
   "cell_type": "code",
   "execution_count": 94,
   "metadata": {},
   "outputs": [],
   "source": [
    "pre_processed_data.to_csv('preprocessed_iot23_1M_samples.csv')"
   ]
  },
  {
   "cell_type": "code",
   "execution_count": null,
   "metadata": {},
   "outputs": [],
   "source": [
    "#now our data is ready for the use..! "
   ]
  }
 ],
 "metadata": {
  "kernelspec": {
   "display_name": "Python 3",
   "language": "python",
   "name": "python3"
  },
  "language_info": {
   "codemirror_mode": {
    "name": "ipython",
    "version": 3
   },
   "file_extension": ".py",
   "mimetype": "text/x-python",
   "name": "python",
   "nbconvert_exporter": "python",
   "pygments_lexer": "ipython3",
   "version": "3.8.5"
  }
 },
 "nbformat": 4,
 "nbformat_minor": 4
}
