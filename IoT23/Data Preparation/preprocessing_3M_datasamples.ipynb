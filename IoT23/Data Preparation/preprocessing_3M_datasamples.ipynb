{
 "cells": [
  {
   "cell_type": "markdown",
   "metadata": {},
   "source": [
    "# Data Preparation and EDA for IoT23 dataset"
   ]
  },
  {
   "cell_type": "code",
   "execution_count": 1,
   "metadata": {},
   "outputs": [],
   "source": [
    "import os \n",
    "import pandas as pd\n",
    "import numpy as np \n",
    "import seaborn as sns\n",
    "import matplotlib.pyplot as plt\n",
    "from collections import defaultdict\n",
    "import csv\n",
    "from numpy import array\n",
    "from numpy import argmax\n",
    "from sklearn import preprocessing\n",
    "from sklearn.preprocessing import StandardScaler\n",
    "from sklearn.preprocessing import LabelEncoder\n",
    "from sklearn.preprocessing import OneHotEncoder\n",
    "import time as timer"
   ]
  },
  {
   "cell_type": "code",
   "execution_count": 4,
   "metadata": {},
   "outputs": [],
   "source": [
    "data= pd.read_csv('iot23_combined_new_3M.csv', low_memory=False)"
   ]
  },
  {
   "cell_type": "code",
   "execution_count": 5,
   "metadata": {},
   "outputs": [
    {
     "data": {
      "text/html": [
       "<div>\n",
       "<style scoped>\n",
       "    .dataframe tbody tr th:only-of-type {\n",
       "        vertical-align: middle;\n",
       "    }\n",
       "\n",
       "    .dataframe tbody tr th {\n",
       "        vertical-align: top;\n",
       "    }\n",
       "\n",
       "    .dataframe thead th {\n",
       "        text-align: right;\n",
       "    }\n",
       "</style>\n",
       "<table border=\"1\" class=\"dataframe\">\n",
       "  <thead>\n",
       "    <tr style=\"text-align: right;\">\n",
       "      <th></th>\n",
       "      <th>Unnamed: 0</th>\n",
       "      <th>ts</th>\n",
       "      <th>uid</th>\n",
       "      <th>id.orig_h</th>\n",
       "      <th>id.orig_p</th>\n",
       "      <th>id.resp_h</th>\n",
       "      <th>id.resp_p</th>\n",
       "      <th>proto</th>\n",
       "      <th>service</th>\n",
       "      <th>duration</th>\n",
       "      <th>...</th>\n",
       "      <th>local_orig</th>\n",
       "      <th>local_resp</th>\n",
       "      <th>missed_bytes</th>\n",
       "      <th>history</th>\n",
       "      <th>orig_pkts</th>\n",
       "      <th>orig_ip_bytes</th>\n",
       "      <th>resp_pkts</th>\n",
       "      <th>resp_ip_bytes</th>\n",
       "      <th>label</th>\n",
       "      <th>detailed_label</th>\n",
       "    </tr>\n",
       "  </thead>\n",
       "  <tbody>\n",
       "    <tr>\n",
       "      <th>0</th>\n",
       "      <td>0</td>\n",
       "      <td>1.536227e+09</td>\n",
       "      <td>CeqqKl3hyLQmO8LK98</td>\n",
       "      <td>192.168.100.111</td>\n",
       "      <td>17576.0</td>\n",
       "      <td>78.1.220.212</td>\n",
       "      <td>8081.0</td>\n",
       "      <td>tcp</td>\n",
       "      <td>-</td>\n",
       "      <td>3e-06</td>\n",
       "      <td>...</td>\n",
       "      <td>-</td>\n",
       "      <td>-</td>\n",
       "      <td>0.0</td>\n",
       "      <td>S</td>\n",
       "      <td>2.0</td>\n",
       "      <td>80.0</td>\n",
       "      <td>0.0</td>\n",
       "      <td>0.0</td>\n",
       "      <td>POHScan</td>\n",
       "      <td>NaN</td>\n",
       "    </tr>\n",
       "    <tr>\n",
       "      <th>1</th>\n",
       "      <td>1</td>\n",
       "      <td>1.536227e+09</td>\n",
       "      <td>C2oHQWo1EFGH8D9x7</td>\n",
       "      <td>192.168.100.111</td>\n",
       "      <td>17576.0</td>\n",
       "      <td>152.84.7.111</td>\n",
       "      <td>8081.0</td>\n",
       "      <td>tcp</td>\n",
       "      <td>-</td>\n",
       "      <td>2e-06</td>\n",
       "      <td>...</td>\n",
       "      <td>-</td>\n",
       "      <td>-</td>\n",
       "      <td>0.0</td>\n",
       "      <td>S</td>\n",
       "      <td>2.0</td>\n",
       "      <td>80.0</td>\n",
       "      <td>0.0</td>\n",
       "      <td>0.0</td>\n",
       "      <td>POHScan</td>\n",
       "      <td>NaN</td>\n",
       "    </tr>\n",
       "    <tr>\n",
       "      <th>2</th>\n",
       "      <td>2</td>\n",
       "      <td>1.536227e+09</td>\n",
       "      <td>CJLVjs4BByG04mczXc</td>\n",
       "      <td>192.168.100.111</td>\n",
       "      <td>17576.0</td>\n",
       "      <td>173.36.41.67</td>\n",
       "      <td>8081.0</td>\n",
       "      <td>tcp</td>\n",
       "      <td>-</td>\n",
       "      <td>2e-06</td>\n",
       "      <td>...</td>\n",
       "      <td>-</td>\n",
       "      <td>-</td>\n",
       "      <td>0.0</td>\n",
       "      <td>S</td>\n",
       "      <td>2.0</td>\n",
       "      <td>80.0</td>\n",
       "      <td>0.0</td>\n",
       "      <td>0.0</td>\n",
       "      <td>POHScan</td>\n",
       "      <td>NaN</td>\n",
       "    </tr>\n",
       "    <tr>\n",
       "      <th>3</th>\n",
       "      <td>3</td>\n",
       "      <td>1.536227e+09</td>\n",
       "      <td>C0z4uS9AWHDH2s4S7</td>\n",
       "      <td>192.168.100.111</td>\n",
       "      <td>17576.0</td>\n",
       "      <td>87.13.21.104</td>\n",
       "      <td>8081.0</td>\n",
       "      <td>tcp</td>\n",
       "      <td>-</td>\n",
       "      <td>2e-06</td>\n",
       "      <td>...</td>\n",
       "      <td>-</td>\n",
       "      <td>-</td>\n",
       "      <td>0.0</td>\n",
       "      <td>S</td>\n",
       "      <td>2.0</td>\n",
       "      <td>80.0</td>\n",
       "      <td>0.0</td>\n",
       "      <td>0.0</td>\n",
       "      <td>POHScan</td>\n",
       "      <td>NaN</td>\n",
       "    </tr>\n",
       "    <tr>\n",
       "      <th>4</th>\n",
       "      <td>4</td>\n",
       "      <td>1.536227e+09</td>\n",
       "      <td>CxbNVk3liFNUIlqSPi</td>\n",
       "      <td>192.168.100.111</td>\n",
       "      <td>17576.0</td>\n",
       "      <td>99.110.163.140</td>\n",
       "      <td>8081.0</td>\n",
       "      <td>tcp</td>\n",
       "      <td>-</td>\n",
       "      <td>2e-06</td>\n",
       "      <td>...</td>\n",
       "      <td>-</td>\n",
       "      <td>-</td>\n",
       "      <td>0.0</td>\n",
       "      <td>S</td>\n",
       "      <td>2.0</td>\n",
       "      <td>80.0</td>\n",
       "      <td>0.0</td>\n",
       "      <td>0.0</td>\n",
       "      <td>POHScan</td>\n",
       "      <td>NaN</td>\n",
       "    </tr>\n",
       "  </tbody>\n",
       "</table>\n",
       "<p>5 rows × 23 columns</p>\n",
       "</div>"
      ],
      "text/plain": [
       "   Unnamed: 0            ts                 uid        id.orig_h  id.orig_p  \\\n",
       "0           0  1.536227e+09  CeqqKl3hyLQmO8LK98  192.168.100.111    17576.0   \n",
       "1           1  1.536227e+09   C2oHQWo1EFGH8D9x7  192.168.100.111    17576.0   \n",
       "2           2  1.536227e+09  CJLVjs4BByG04mczXc  192.168.100.111    17576.0   \n",
       "3           3  1.536227e+09   C0z4uS9AWHDH2s4S7  192.168.100.111    17576.0   \n",
       "4           4  1.536227e+09  CxbNVk3liFNUIlqSPi  192.168.100.111    17576.0   \n",
       "\n",
       "        id.resp_h  id.resp_p proto service duration  ... local_orig  \\\n",
       "0    78.1.220.212     8081.0   tcp       -    3e-06  ...          -   \n",
       "1    152.84.7.111     8081.0   tcp       -    2e-06  ...          -   \n",
       "2    173.36.41.67     8081.0   tcp       -    2e-06  ...          -   \n",
       "3    87.13.21.104     8081.0   tcp       -    2e-06  ...          -   \n",
       "4  99.110.163.140     8081.0   tcp       -    2e-06  ...          -   \n",
       "\n",
       "  local_resp missed_bytes history orig_pkts  orig_ip_bytes resp_pkts  \\\n",
       "0          -          0.0       S       2.0           80.0       0.0   \n",
       "1          -          0.0       S       2.0           80.0       0.0   \n",
       "2          -          0.0       S       2.0           80.0       0.0   \n",
       "3          -          0.0       S       2.0           80.0       0.0   \n",
       "4          -          0.0       S       2.0           80.0       0.0   \n",
       "\n",
       "   resp_ip_bytes    label  detailed_label  \n",
       "0            0.0  POHScan             NaN  \n",
       "1            0.0  POHScan             NaN  \n",
       "2            0.0  POHScan             NaN  \n",
       "3            0.0  POHScan             NaN  \n",
       "4            0.0  POHScan             NaN  \n",
       "\n",
       "[5 rows x 23 columns]"
      ]
     },
     "execution_count": 5,
     "metadata": {},
     "output_type": "execute_result"
    }
   ],
   "source": [
    "data.head()  "
   ]
  },
  {
   "cell_type": "code",
   "execution_count": 6,
   "metadata": {},
   "outputs": [],
   "source": [
    "del data['Unnamed: 0']"
   ]
  },
  {
   "cell_type": "code",
   "execution_count": 8,
   "metadata": {},
   "outputs": [
    {
     "data": {
      "text/html": [
       "<div>\n",
       "<style scoped>\n",
       "    .dataframe tbody tr th:only-of-type {\n",
       "        vertical-align: middle;\n",
       "    }\n",
       "\n",
       "    .dataframe tbody tr th {\n",
       "        vertical-align: top;\n",
       "    }\n",
       "\n",
       "    .dataframe thead th {\n",
       "        text-align: right;\n",
       "    }\n",
       "</style>\n",
       "<table border=\"1\" class=\"dataframe\">\n",
       "  <thead>\n",
       "    <tr style=\"text-align: right;\">\n",
       "      <th></th>\n",
       "      <th>ts</th>\n",
       "      <th>uid</th>\n",
       "      <th>id.orig_h</th>\n",
       "      <th>id.orig_p</th>\n",
       "      <th>id.resp_h</th>\n",
       "      <th>id.resp_p</th>\n",
       "      <th>proto</th>\n",
       "      <th>service</th>\n",
       "      <th>duration</th>\n",
       "      <th>orig_bytes</th>\n",
       "      <th>...</th>\n",
       "      <th>local_orig</th>\n",
       "      <th>local_resp</th>\n",
       "      <th>missed_bytes</th>\n",
       "      <th>history</th>\n",
       "      <th>orig_pkts</th>\n",
       "      <th>orig_ip_bytes</th>\n",
       "      <th>resp_pkts</th>\n",
       "      <th>resp_ip_bytes</th>\n",
       "      <th>label</th>\n",
       "      <th>detailed_label</th>\n",
       "    </tr>\n",
       "  </thead>\n",
       "  <tbody>\n",
       "    <tr>\n",
       "      <th>2803565</th>\n",
       "      <td>1.562165e+09</td>\n",
       "      <td>CbiAr234EfpzQInxbg</td>\n",
       "      <td>0.0.0.0</td>\n",
       "      <td>68.0</td>\n",
       "      <td>255.255.255.255</td>\n",
       "      <td>67.0</td>\n",
       "      <td>udp</td>\n",
       "      <td>dhcp</td>\n",
       "      <td>90.034713</td>\n",
       "      <td>3300.0</td>\n",
       "      <td>...</td>\n",
       "      <td>-</td>\n",
       "      <td>-</td>\n",
       "      <td>0.0</td>\n",
       "      <td>D</td>\n",
       "      <td>11.0</td>\n",
       "      <td>3608.0</td>\n",
       "      <td>0.0</td>\n",
       "      <td>0.0</td>\n",
       "      <td>Benign</td>\n",
       "      <td>NaN</td>\n",
       "    </tr>\n",
       "    <tr>\n",
       "      <th>2803566</th>\n",
       "      <td>1.562165e+09</td>\n",
       "      <td>CqEhZf1lYmVokqECn3</td>\n",
       "      <td>::</td>\n",
       "      <td>143.0</td>\n",
       "      <td>ff02::16</td>\n",
       "      <td>0.0</td>\n",
       "      <td>icmp</td>\n",
       "      <td>-</td>\n",
       "      <td>90.39997</td>\n",
       "      <td>340.0</td>\n",
       "      <td>...</td>\n",
       "      <td>-</td>\n",
       "      <td>-</td>\n",
       "      <td>0.0</td>\n",
       "      <td>-</td>\n",
       "      <td>9.0</td>\n",
       "      <td>844.0</td>\n",
       "      <td>0.0</td>\n",
       "      <td>0.0</td>\n",
       "      <td>Benign</td>\n",
       "      <td>NaN</td>\n",
       "    </tr>\n",
       "    <tr>\n",
       "      <th>2803567</th>\n",
       "      <td>1.562165e+09</td>\n",
       "      <td>Cr5vKO1CGfMQwFp22c</td>\n",
       "      <td>::</td>\n",
       "      <td>135.0</td>\n",
       "      <td>ff02::1:ffd5:cdf</td>\n",
       "      <td>136.0</td>\n",
       "      <td>icmp</td>\n",
       "      <td>-</td>\n",
       "      <td>89.82403000000001</td>\n",
       "      <td>72.0</td>\n",
       "      <td>...</td>\n",
       "      <td>-</td>\n",
       "      <td>-</td>\n",
       "      <td>0.0</td>\n",
       "      <td>-</td>\n",
       "      <td>3.0</td>\n",
       "      <td>216.0</td>\n",
       "      <td>0.0</td>\n",
       "      <td>0.0</td>\n",
       "      <td>Benign</td>\n",
       "      <td>NaN</td>\n",
       "    </tr>\n",
       "    <tr>\n",
       "      <th>2803568</th>\n",
       "      <td>1.562165e+09</td>\n",
       "      <td>CQ5cJ21U9NUbUWIznd</td>\n",
       "      <td>fe80::5bcc:698e:39d5:cdf</td>\n",
       "      <td>143.0</td>\n",
       "      <td>ff02::16</td>\n",
       "      <td>0.0</td>\n",
       "      <td>icmp</td>\n",
       "      <td>-</td>\n",
       "      <td>45.215915</td>\n",
       "      <td>200.0</td>\n",
       "      <td>...</td>\n",
       "      <td>-</td>\n",
       "      <td>-</td>\n",
       "      <td>0.0</td>\n",
       "      <td>-</td>\n",
       "      <td>8.0</td>\n",
       "      <td>648.0</td>\n",
       "      <td>0.0</td>\n",
       "      <td>0.0</td>\n",
       "      <td>Benign</td>\n",
       "      <td>NaN</td>\n",
       "    </tr>\n",
       "    <tr>\n",
       "      <th>2803569</th>\n",
       "      <td>1.562165e+09</td>\n",
       "      <td>CjD5ve2qwxfFtvd4zl</td>\n",
       "      <td>fe80::5bcc:698e:39d5:cdf</td>\n",
       "      <td>133.0</td>\n",
       "      <td>ff02::2</td>\n",
       "      <td>134.0</td>\n",
       "      <td>icmp</td>\n",
       "      <td>-</td>\n",
       "      <td>44.242222999999996</td>\n",
       "      <td>0.0</td>\n",
       "      <td>...</td>\n",
       "      <td>-</td>\n",
       "      <td>-</td>\n",
       "      <td>0.0</td>\n",
       "      <td>-</td>\n",
       "      <td>2.0</td>\n",
       "      <td>96.0</td>\n",
       "      <td>0.0</td>\n",
       "      <td>0.0</td>\n",
       "      <td>Benign</td>\n",
       "      <td>NaN</td>\n",
       "    </tr>\n",
       "  </tbody>\n",
       "</table>\n",
       "<p>5 rows × 22 columns</p>\n",
       "</div>"
      ],
      "text/plain": [
       "                   ts                 uid                 id.orig_h  \\\n",
       "2803565  1.562165e+09  CbiAr234EfpzQInxbg                   0.0.0.0   \n",
       "2803566  1.562165e+09  CqEhZf1lYmVokqECn3                        ::   \n",
       "2803567  1.562165e+09  Cr5vKO1CGfMQwFp22c                        ::   \n",
       "2803568  1.562165e+09  CQ5cJ21U9NUbUWIznd  fe80::5bcc:698e:39d5:cdf   \n",
       "2803569  1.562165e+09  CjD5ve2qwxfFtvd4zl  fe80::5bcc:698e:39d5:cdf   \n",
       "\n",
       "         id.orig_p         id.resp_h  id.resp_p proto service  \\\n",
       "2803565       68.0   255.255.255.255       67.0   udp    dhcp   \n",
       "2803566      143.0          ff02::16        0.0  icmp       -   \n",
       "2803567      135.0  ff02::1:ffd5:cdf      136.0  icmp       -   \n",
       "2803568      143.0          ff02::16        0.0  icmp       -   \n",
       "2803569      133.0           ff02::2      134.0  icmp       -   \n",
       "\n",
       "                   duration orig_bytes  ... local_orig local_resp  \\\n",
       "2803565           90.034713     3300.0  ...          -          -   \n",
       "2803566            90.39997      340.0  ...          -          -   \n",
       "2803567   89.82403000000001       72.0  ...          -          -   \n",
       "2803568           45.215915      200.0  ...          -          -   \n",
       "2803569  44.242222999999996        0.0  ...          -          -   \n",
       "\n",
       "        missed_bytes history  orig_pkts orig_ip_bytes  resp_pkts  \\\n",
       "2803565          0.0       D       11.0        3608.0        0.0   \n",
       "2803566          0.0       -        9.0         844.0        0.0   \n",
       "2803567          0.0       -        3.0         216.0        0.0   \n",
       "2803568          0.0       -        8.0         648.0        0.0   \n",
       "2803569          0.0       -        2.0          96.0        0.0   \n",
       "\n",
       "         resp_ip_bytes   label  detailed_label  \n",
       "2803565            0.0  Benign             NaN  \n",
       "2803566            0.0  Benign             NaN  \n",
       "2803567            0.0  Benign             NaN  \n",
       "2803568            0.0  Benign             NaN  \n",
       "2803569            0.0  Benign             NaN  \n",
       "\n",
       "[5 rows x 22 columns]"
      ]
     },
     "execution_count": 8,
     "metadata": {},
     "output_type": "execute_result"
    }
   ],
   "source": [
    "data.tail()"
   ]
  },
  {
   "cell_type": "markdown",
   "metadata": {},
   "source": [
    "# Cleaning Process start! "
   ]
  },
  {
   "cell_type": "markdown",
   "metadata": {},
   "source": [
    "# dropping unncessary attributes ! "
   ]
  },
  {
   "cell_type": "code",
   "execution_count": 9,
   "metadata": {},
   "outputs": [],
   "source": [
    "df= data.drop(columns=['uid','id.orig_h','id.resp_h','local_orig','local_resp','detailed_label'])"
   ]
  },
  {
   "cell_type": "code",
   "execution_count": 10,
   "metadata": {},
   "outputs": [
    {
     "data": {
      "text/html": [
       "<div>\n",
       "<style scoped>\n",
       "    .dataframe tbody tr th:only-of-type {\n",
       "        vertical-align: middle;\n",
       "    }\n",
       "\n",
       "    .dataframe tbody tr th {\n",
       "        vertical-align: top;\n",
       "    }\n",
       "\n",
       "    .dataframe thead th {\n",
       "        text-align: right;\n",
       "    }\n",
       "</style>\n",
       "<table border=\"1\" class=\"dataframe\">\n",
       "  <thead>\n",
       "    <tr style=\"text-align: right;\">\n",
       "      <th></th>\n",
       "      <th>ts</th>\n",
       "      <th>id.orig_p</th>\n",
       "      <th>id.resp_p</th>\n",
       "      <th>proto</th>\n",
       "      <th>service</th>\n",
       "      <th>duration</th>\n",
       "      <th>orig_bytes</th>\n",
       "      <th>resp_bytes</th>\n",
       "      <th>conn_state</th>\n",
       "      <th>missed_bytes</th>\n",
       "      <th>history</th>\n",
       "      <th>orig_pkts</th>\n",
       "      <th>orig_ip_bytes</th>\n",
       "      <th>resp_pkts</th>\n",
       "      <th>resp_ip_bytes</th>\n",
       "      <th>label</th>\n",
       "    </tr>\n",
       "  </thead>\n",
       "  <tbody>\n",
       "    <tr>\n",
       "      <th>0</th>\n",
       "      <td>1.536227e+09</td>\n",
       "      <td>17576.0</td>\n",
       "      <td>8081.0</td>\n",
       "      <td>tcp</td>\n",
       "      <td>-</td>\n",
       "      <td>3e-06</td>\n",
       "      <td>0</td>\n",
       "      <td>0</td>\n",
       "      <td>S0</td>\n",
       "      <td>0.0</td>\n",
       "      <td>S</td>\n",
       "      <td>2.0</td>\n",
       "      <td>80.0</td>\n",
       "      <td>0.0</td>\n",
       "      <td>0.0</td>\n",
       "      <td>POHScan</td>\n",
       "    </tr>\n",
       "    <tr>\n",
       "      <th>1</th>\n",
       "      <td>1.536227e+09</td>\n",
       "      <td>17576.0</td>\n",
       "      <td>8081.0</td>\n",
       "      <td>tcp</td>\n",
       "      <td>-</td>\n",
       "      <td>2e-06</td>\n",
       "      <td>0</td>\n",
       "      <td>0</td>\n",
       "      <td>S0</td>\n",
       "      <td>0.0</td>\n",
       "      <td>S</td>\n",
       "      <td>2.0</td>\n",
       "      <td>80.0</td>\n",
       "      <td>0.0</td>\n",
       "      <td>0.0</td>\n",
       "      <td>POHScan</td>\n",
       "    </tr>\n",
       "    <tr>\n",
       "      <th>2</th>\n",
       "      <td>1.536227e+09</td>\n",
       "      <td>17576.0</td>\n",
       "      <td>8081.0</td>\n",
       "      <td>tcp</td>\n",
       "      <td>-</td>\n",
       "      <td>2e-06</td>\n",
       "      <td>0</td>\n",
       "      <td>0</td>\n",
       "      <td>S0</td>\n",
       "      <td>0.0</td>\n",
       "      <td>S</td>\n",
       "      <td>2.0</td>\n",
       "      <td>80.0</td>\n",
       "      <td>0.0</td>\n",
       "      <td>0.0</td>\n",
       "      <td>POHScan</td>\n",
       "    </tr>\n",
       "    <tr>\n",
       "      <th>3</th>\n",
       "      <td>1.536227e+09</td>\n",
       "      <td>17576.0</td>\n",
       "      <td>8081.0</td>\n",
       "      <td>tcp</td>\n",
       "      <td>-</td>\n",
       "      <td>2e-06</td>\n",
       "      <td>0</td>\n",
       "      <td>0</td>\n",
       "      <td>S0</td>\n",
       "      <td>0.0</td>\n",
       "      <td>S</td>\n",
       "      <td>2.0</td>\n",
       "      <td>80.0</td>\n",
       "      <td>0.0</td>\n",
       "      <td>0.0</td>\n",
       "      <td>POHScan</td>\n",
       "    </tr>\n",
       "    <tr>\n",
       "      <th>4</th>\n",
       "      <td>1.536227e+09</td>\n",
       "      <td>17576.0</td>\n",
       "      <td>8081.0</td>\n",
       "      <td>tcp</td>\n",
       "      <td>-</td>\n",
       "      <td>2e-06</td>\n",
       "      <td>0</td>\n",
       "      <td>0</td>\n",
       "      <td>S0</td>\n",
       "      <td>0.0</td>\n",
       "      <td>S</td>\n",
       "      <td>2.0</td>\n",
       "      <td>80.0</td>\n",
       "      <td>0.0</td>\n",
       "      <td>0.0</td>\n",
       "      <td>POHScan</td>\n",
       "    </tr>\n",
       "  </tbody>\n",
       "</table>\n",
       "</div>"
      ],
      "text/plain": [
       "             ts  id.orig_p  id.resp_p proto service duration orig_bytes  \\\n",
       "0  1.536227e+09    17576.0     8081.0   tcp       -    3e-06          0   \n",
       "1  1.536227e+09    17576.0     8081.0   tcp       -    2e-06          0   \n",
       "2  1.536227e+09    17576.0     8081.0   tcp       -    2e-06          0   \n",
       "3  1.536227e+09    17576.0     8081.0   tcp       -    2e-06          0   \n",
       "4  1.536227e+09    17576.0     8081.0   tcp       -    2e-06          0   \n",
       "\n",
       "  resp_bytes conn_state  missed_bytes history  orig_pkts  orig_ip_bytes  \\\n",
       "0          0         S0           0.0       S        2.0           80.0   \n",
       "1          0         S0           0.0       S        2.0           80.0   \n",
       "2          0         S0           0.0       S        2.0           80.0   \n",
       "3          0         S0           0.0       S        2.0           80.0   \n",
       "4          0         S0           0.0       S        2.0           80.0   \n",
       "\n",
       "   resp_pkts  resp_ip_bytes    label  \n",
       "0        0.0            0.0  POHScan  \n",
       "1        0.0            0.0  POHScan  \n",
       "2        0.0            0.0  POHScan  \n",
       "3        0.0            0.0  POHScan  \n",
       "4        0.0            0.0  POHScan  "
      ]
     },
     "execution_count": 10,
     "metadata": {},
     "output_type": "execute_result"
    }
   ],
   "source": [
    "df.head()"
   ]
  },
  {
   "cell_type": "code",
   "execution_count": 15,
   "metadata": {},
   "outputs": [],
   "source": [
    "df['orig_bytes'] = df['orig_bytes'].str.replace('-','0')\n",
    "df['resp_bytes'] = df['resp_bytes'].str.replace('-','0')\n",
    "df['duration'] = df['duration'].str.replace('-','0')"
   ]
  },
  {
   "cell_type": "code",
   "execution_count": 16,
   "metadata": {},
   "outputs": [
    {
     "data": {
      "text/plain": [
       "ts               0\n",
       "id.orig_p        0\n",
       "id.resp_p        0\n",
       "proto            0\n",
       "service          0\n",
       "duration         0\n",
       "orig_bytes       0\n",
       "resp_bytes       0\n",
       "conn_state       0\n",
       "missed_bytes     0\n",
       "history          0\n",
       "orig_pkts        0\n",
       "orig_ip_bytes    0\n",
       "resp_pkts        0\n",
       "resp_ip_bytes    0\n",
       "label            0\n",
       "dtype: int64"
      ]
     },
     "execution_count": 16,
     "metadata": {},
     "output_type": "execute_result"
    }
   ],
   "source": [
    "df.isnull().sum()"
   ]
  },
  {
   "cell_type": "markdown",
   "metadata": {},
   "source": [
    "Let us separate the target and independent variables "
   ]
  },
  {
   "cell_type": "markdown",
   "metadata": {},
   "source": [
    "okkkk... so there are 7 target variables with very few samples.. we would like to remove all those "
   ]
  },
  {
   "cell_type": "code",
   "execution_count": 17,
   "metadata": {},
   "outputs": [],
   "source": [
    "df=df.dropna()"
   ]
  },
  {
   "cell_type": "code",
   "execution_count": 18,
   "metadata": {},
   "outputs": [],
   "source": [
    "X=df"
   ]
  },
  {
   "cell_type": "code",
   "execution_count": 19,
   "metadata": {},
   "outputs": [
    {
     "name": "stdout",
     "output_type": "stream",
     "text": [
      "<class 'pandas.core.frame.DataFrame'>\n",
      "Int64Index: 2803570 entries, 0 to 2803569\n",
      "Data columns (total 16 columns):\n",
      " #   Column         Dtype  \n",
      "---  ------         -----  \n",
      " 0   ts             float64\n",
      " 1   id.orig_p      float64\n",
      " 2   id.resp_p      float64\n",
      " 3   proto          object \n",
      " 4   service        object \n",
      " 5   duration       object \n",
      " 6   orig_bytes     object \n",
      " 7   resp_bytes     object \n",
      " 8   conn_state     object \n",
      " 9   missed_bytes   float64\n",
      " 10  history        object \n",
      " 11  orig_pkts      float64\n",
      " 12  orig_ip_bytes  float64\n",
      " 13  resp_pkts      float64\n",
      " 14  resp_ip_bytes  float64\n",
      " 15  label          object \n",
      "dtypes: float64(8), object(8)\n",
      "memory usage: 363.6+ MB\n"
     ]
    }
   ],
   "source": [
    "X.info()"
   ]
  },
  {
   "cell_type": "code",
   "execution_count": 20,
   "metadata": {},
   "outputs": [],
   "source": [
    "X['orig_bytes']=X['orig_bytes'].astype(float)"
   ]
  },
  {
   "cell_type": "code",
   "execution_count": 21,
   "metadata": {},
   "outputs": [],
   "source": [
    "X['duration']=X['duration'].astype(float)"
   ]
  },
  {
   "cell_type": "code",
   "execution_count": 22,
   "metadata": {},
   "outputs": [],
   "source": [
    "X['resp_bytes']=X['resp_bytes'].astype(float)"
   ]
  },
  {
   "cell_type": "code",
   "execution_count": 23,
   "metadata": {},
   "outputs": [
    {
     "name": "stdout",
     "output_type": "stream",
     "text": [
      "<class 'pandas.core.frame.DataFrame'>\n",
      "Int64Index: 2803570 entries, 0 to 2803569\n",
      "Data columns (total 16 columns):\n",
      " #   Column         Dtype  \n",
      "---  ------         -----  \n",
      " 0   ts             float64\n",
      " 1   id.orig_p      float64\n",
      " 2   id.resp_p      float64\n",
      " 3   proto          object \n",
      " 4   service        object \n",
      " 5   duration       float64\n",
      " 6   orig_bytes     float64\n",
      " 7   resp_bytes     float64\n",
      " 8   conn_state     object \n",
      " 9   missed_bytes   float64\n",
      " 10  history        object \n",
      " 11  orig_pkts      float64\n",
      " 12  orig_ip_bytes  float64\n",
      " 13  resp_pkts      float64\n",
      " 14  resp_ip_bytes  float64\n",
      " 15  label          object \n",
      "dtypes: float64(11), object(5)\n",
      "memory usage: 363.6+ MB\n"
     ]
    }
   ],
   "source": [
    "X.info()"
   ]
  },
  {
   "cell_type": "markdown",
   "metadata": {},
   "source": [
    "Removing some attack lables as they are very rare .. hence it is better to remove these attacks "
   ]
  },
  {
   "cell_type": "code",
   "execution_count": 24,
   "metadata": {},
   "outputs": [],
   "source": [
    "X.drop(X[X['label'] == 'C&C-HeartBeat' ].index, inplace = True)"
   ]
  },
  {
   "cell_type": "code",
   "execution_count": 25,
   "metadata": {},
   "outputs": [],
   "source": [
    "X.drop(X[X['label'] == 'C&C-Torii' ].index, inplace = True)"
   ]
  },
  {
   "cell_type": "code",
   "execution_count": 26,
   "metadata": {},
   "outputs": [],
   "source": [
    "X.drop(X[X['label'] == 'Okiru-Attack' ].index, inplace = True)"
   ]
  },
  {
   "cell_type": "markdown",
   "metadata": {},
   "source": [
    "Separating dependent and independent variables"
   ]
  },
  {
   "cell_type": "code",
   "execution_count": 27,
   "metadata": {},
   "outputs": [],
   "source": [
    "X=X.iloc[:,:-1]"
   ]
  },
  {
   "cell_type": "code",
   "execution_count": 28,
   "metadata": {},
   "outputs": [
    {
     "data": {
      "text/html": [
       "<div>\n",
       "<style scoped>\n",
       "    .dataframe tbody tr th:only-of-type {\n",
       "        vertical-align: middle;\n",
       "    }\n",
       "\n",
       "    .dataframe tbody tr th {\n",
       "        vertical-align: top;\n",
       "    }\n",
       "\n",
       "    .dataframe thead th {\n",
       "        text-align: right;\n",
       "    }\n",
       "</style>\n",
       "<table border=\"1\" class=\"dataframe\">\n",
       "  <thead>\n",
       "    <tr style=\"text-align: right;\">\n",
       "      <th></th>\n",
       "      <th>ts</th>\n",
       "      <th>id.orig_p</th>\n",
       "      <th>id.resp_p</th>\n",
       "      <th>proto</th>\n",
       "      <th>service</th>\n",
       "      <th>duration</th>\n",
       "      <th>orig_bytes</th>\n",
       "      <th>resp_bytes</th>\n",
       "      <th>conn_state</th>\n",
       "      <th>missed_bytes</th>\n",
       "      <th>history</th>\n",
       "      <th>orig_pkts</th>\n",
       "      <th>orig_ip_bytes</th>\n",
       "      <th>resp_pkts</th>\n",
       "      <th>resp_ip_bytes</th>\n",
       "    </tr>\n",
       "  </thead>\n",
       "  <tbody>\n",
       "    <tr>\n",
       "      <th>0</th>\n",
       "      <td>1.536227e+09</td>\n",
       "      <td>17576.0</td>\n",
       "      <td>8081.0</td>\n",
       "      <td>tcp</td>\n",
       "      <td>-</td>\n",
       "      <td>3000000.0</td>\n",
       "      <td>0.0</td>\n",
       "      <td>0.0</td>\n",
       "      <td>S0</td>\n",
       "      <td>0.0</td>\n",
       "      <td>S</td>\n",
       "      <td>2.0</td>\n",
       "      <td>80.0</td>\n",
       "      <td>0.0</td>\n",
       "      <td>0.0</td>\n",
       "    </tr>\n",
       "    <tr>\n",
       "      <th>1</th>\n",
       "      <td>1.536227e+09</td>\n",
       "      <td>17576.0</td>\n",
       "      <td>8081.0</td>\n",
       "      <td>tcp</td>\n",
       "      <td>-</td>\n",
       "      <td>2000000.0</td>\n",
       "      <td>0.0</td>\n",
       "      <td>0.0</td>\n",
       "      <td>S0</td>\n",
       "      <td>0.0</td>\n",
       "      <td>S</td>\n",
       "      <td>2.0</td>\n",
       "      <td>80.0</td>\n",
       "      <td>0.0</td>\n",
       "      <td>0.0</td>\n",
       "    </tr>\n",
       "    <tr>\n",
       "      <th>2</th>\n",
       "      <td>1.536227e+09</td>\n",
       "      <td>17576.0</td>\n",
       "      <td>8081.0</td>\n",
       "      <td>tcp</td>\n",
       "      <td>-</td>\n",
       "      <td>2000000.0</td>\n",
       "      <td>0.0</td>\n",
       "      <td>0.0</td>\n",
       "      <td>S0</td>\n",
       "      <td>0.0</td>\n",
       "      <td>S</td>\n",
       "      <td>2.0</td>\n",
       "      <td>80.0</td>\n",
       "      <td>0.0</td>\n",
       "      <td>0.0</td>\n",
       "    </tr>\n",
       "    <tr>\n",
       "      <th>3</th>\n",
       "      <td>1.536227e+09</td>\n",
       "      <td>17576.0</td>\n",
       "      <td>8081.0</td>\n",
       "      <td>tcp</td>\n",
       "      <td>-</td>\n",
       "      <td>2000000.0</td>\n",
       "      <td>0.0</td>\n",
       "      <td>0.0</td>\n",
       "      <td>S0</td>\n",
       "      <td>0.0</td>\n",
       "      <td>S</td>\n",
       "      <td>2.0</td>\n",
       "      <td>80.0</td>\n",
       "      <td>0.0</td>\n",
       "      <td>0.0</td>\n",
       "    </tr>\n",
       "    <tr>\n",
       "      <th>4</th>\n",
       "      <td>1.536227e+09</td>\n",
       "      <td>17576.0</td>\n",
       "      <td>8081.0</td>\n",
       "      <td>tcp</td>\n",
       "      <td>-</td>\n",
       "      <td>2000000.0</td>\n",
       "      <td>0.0</td>\n",
       "      <td>0.0</td>\n",
       "      <td>S0</td>\n",
       "      <td>0.0</td>\n",
       "      <td>S</td>\n",
       "      <td>2.0</td>\n",
       "      <td>80.0</td>\n",
       "      <td>0.0</td>\n",
       "      <td>0.0</td>\n",
       "    </tr>\n",
       "  </tbody>\n",
       "</table>\n",
       "</div>"
      ],
      "text/plain": [
       "             ts  id.orig_p  id.resp_p proto service   duration  orig_bytes  \\\n",
       "0  1.536227e+09    17576.0     8081.0   tcp       -  3000000.0         0.0   \n",
       "1  1.536227e+09    17576.0     8081.0   tcp       -  2000000.0         0.0   \n",
       "2  1.536227e+09    17576.0     8081.0   tcp       -  2000000.0         0.0   \n",
       "3  1.536227e+09    17576.0     8081.0   tcp       -  2000000.0         0.0   \n",
       "4  1.536227e+09    17576.0     8081.0   tcp       -  2000000.0         0.0   \n",
       "\n",
       "   resp_bytes conn_state  missed_bytes history  orig_pkts  orig_ip_bytes  \\\n",
       "0         0.0         S0           0.0       S        2.0           80.0   \n",
       "1         0.0         S0           0.0       S        2.0           80.0   \n",
       "2         0.0         S0           0.0       S        2.0           80.0   \n",
       "3         0.0         S0           0.0       S        2.0           80.0   \n",
       "4         0.0         S0           0.0       S        2.0           80.0   \n",
       "\n",
       "   resp_pkts  resp_ip_bytes  \n",
       "0        0.0            0.0  \n",
       "1        0.0            0.0  \n",
       "2        0.0            0.0  \n",
       "3        0.0            0.0  \n",
       "4        0.0            0.0  "
      ]
     },
     "execution_count": 28,
     "metadata": {},
     "output_type": "execute_result"
    }
   ],
   "source": [
    "X.head()"
   ]
  },
  {
   "cell_type": "code",
   "execution_count": 29,
   "metadata": {},
   "outputs": [],
   "source": [
    "y=df['label']"
   ]
  },
  {
   "cell_type": "code",
   "execution_count": 30,
   "metadata": {},
   "outputs": [
    {
     "data": {
      "text/plain": [
       "0    POHScan\n",
       "1    POHScan\n",
       "2    POHScan\n",
       "3    POHScan\n",
       "4    POHScan\n",
       "Name: label, dtype: object"
      ]
     },
     "execution_count": 30,
     "metadata": {},
     "output_type": "execute_result"
    }
   ],
   "source": [
    "y.head()"
   ]
  },
  {
   "cell_type": "code",
   "execution_count": 31,
   "metadata": {},
   "outputs": [
    {
     "data": {
      "text/plain": [
       "POHScan    1324265\n",
       "Okiru       549228\n",
       "Benign      472319\n",
       "DDoS        448703\n",
       "C&C           8240\n",
       "Name: label, dtype: int64"
      ]
     },
     "execution_count": 31,
     "metadata": {},
     "output_type": "execute_result"
    }
   ],
   "source": [
    "y.value_counts()"
   ]
  },
  {
   "cell_type": "markdown",
   "metadata": {},
   "source": [
    "let us check the categorical variables"
   ]
  },
  {
   "cell_type": "code",
   "execution_count": 66,
   "metadata": {},
   "outputs": [],
   "source": [
    "cat_df =X.select_dtypes(include=['object']).copy()"
   ]
  },
  {
   "cell_type": "code",
   "execution_count": 67,
   "metadata": {},
   "outputs": [
    {
     "data": {
      "text/html": [
       "<div>\n",
       "<style scoped>\n",
       "    .dataframe tbody tr th:only-of-type {\n",
       "        vertical-align: middle;\n",
       "    }\n",
       "\n",
       "    .dataframe tbody tr th {\n",
       "        vertical-align: top;\n",
       "    }\n",
       "\n",
       "    .dataframe thead th {\n",
       "        text-align: right;\n",
       "    }\n",
       "</style>\n",
       "<table border=\"1\" class=\"dataframe\">\n",
       "  <thead>\n",
       "    <tr style=\"text-align: right;\">\n",
       "      <th></th>\n",
       "      <th>proto</th>\n",
       "      <th>conn_state</th>\n",
       "      <th>history</th>\n",
       "    </tr>\n",
       "  </thead>\n",
       "  <tbody>\n",
       "    <tr>\n",
       "      <th>0</th>\n",
       "      <td>tcp</td>\n",
       "      <td>S0</td>\n",
       "      <td>S</td>\n",
       "    </tr>\n",
       "    <tr>\n",
       "      <th>1</th>\n",
       "      <td>tcp</td>\n",
       "      <td>S0</td>\n",
       "      <td>S</td>\n",
       "    </tr>\n",
       "    <tr>\n",
       "      <th>2</th>\n",
       "      <td>tcp</td>\n",
       "      <td>S0</td>\n",
       "      <td>S</td>\n",
       "    </tr>\n",
       "    <tr>\n",
       "      <th>3</th>\n",
       "      <td>tcp</td>\n",
       "      <td>S0</td>\n",
       "      <td>S</td>\n",
       "    </tr>\n",
       "    <tr>\n",
       "      <th>4</th>\n",
       "      <td>tcp</td>\n",
       "      <td>S0</td>\n",
       "      <td>S</td>\n",
       "    </tr>\n",
       "  </tbody>\n",
       "</table>\n",
       "</div>"
      ],
      "text/plain": [
       "  proto conn_state history\n",
       "0   tcp         S0       S\n",
       "1   tcp         S0       S\n",
       "2   tcp         S0       S\n",
       "3   tcp         S0       S\n",
       "4   tcp         S0       S"
      ]
     },
     "execution_count": 67,
     "metadata": {},
     "output_type": "execute_result"
    }
   ],
   "source": [
    "cat_df.head()"
   ]
  },
  {
   "cell_type": "code",
   "execution_count": 69,
   "metadata": {},
   "outputs": [],
   "source": [
    "num_df =X.select_dtypes(exclude=['object']).copy()"
   ]
  },
  {
   "cell_type": "code",
   "execution_count": 70,
   "metadata": {},
   "outputs": [
    {
     "data": {
      "text/html": [
       "<div>\n",
       "<style scoped>\n",
       "    .dataframe tbody tr th:only-of-type {\n",
       "        vertical-align: middle;\n",
       "    }\n",
       "\n",
       "    .dataframe tbody tr th {\n",
       "        vertical-align: top;\n",
       "    }\n",
       "\n",
       "    .dataframe thead th {\n",
       "        text-align: right;\n",
       "    }\n",
       "</style>\n",
       "<table border=\"1\" class=\"dataframe\">\n",
       "  <thead>\n",
       "    <tr style=\"text-align: right;\">\n",
       "      <th></th>\n",
       "      <th>ts</th>\n",
       "      <th>id.orig_p</th>\n",
       "      <th>id.resp_p</th>\n",
       "      <th>duration</th>\n",
       "      <th>orig_bytes</th>\n",
       "      <th>resp_bytes</th>\n",
       "      <th>missed_bytes</th>\n",
       "      <th>orig_pkts</th>\n",
       "      <th>orig_ip_bytes</th>\n",
       "      <th>resp_pkts</th>\n",
       "      <th>resp_ip_bytes</th>\n",
       "    </tr>\n",
       "  </thead>\n",
       "  <tbody>\n",
       "    <tr>\n",
       "      <th>0</th>\n",
       "      <td>1.536227e+09</td>\n",
       "      <td>17576.0</td>\n",
       "      <td>8081.0</td>\n",
       "      <td>3000000.0</td>\n",
       "      <td>0.0</td>\n",
       "      <td>0.0</td>\n",
       "      <td>0.0</td>\n",
       "      <td>2.0</td>\n",
       "      <td>80.0</td>\n",
       "      <td>0.0</td>\n",
       "      <td>0.0</td>\n",
       "    </tr>\n",
       "    <tr>\n",
       "      <th>1</th>\n",
       "      <td>1.536227e+09</td>\n",
       "      <td>17576.0</td>\n",
       "      <td>8081.0</td>\n",
       "      <td>2000000.0</td>\n",
       "      <td>0.0</td>\n",
       "      <td>0.0</td>\n",
       "      <td>0.0</td>\n",
       "      <td>2.0</td>\n",
       "      <td>80.0</td>\n",
       "      <td>0.0</td>\n",
       "      <td>0.0</td>\n",
       "    </tr>\n",
       "    <tr>\n",
       "      <th>2</th>\n",
       "      <td>1.536227e+09</td>\n",
       "      <td>17576.0</td>\n",
       "      <td>8081.0</td>\n",
       "      <td>2000000.0</td>\n",
       "      <td>0.0</td>\n",
       "      <td>0.0</td>\n",
       "      <td>0.0</td>\n",
       "      <td>2.0</td>\n",
       "      <td>80.0</td>\n",
       "      <td>0.0</td>\n",
       "      <td>0.0</td>\n",
       "    </tr>\n",
       "    <tr>\n",
       "      <th>3</th>\n",
       "      <td>1.536227e+09</td>\n",
       "      <td>17576.0</td>\n",
       "      <td>8081.0</td>\n",
       "      <td>2000000.0</td>\n",
       "      <td>0.0</td>\n",
       "      <td>0.0</td>\n",
       "      <td>0.0</td>\n",
       "      <td>2.0</td>\n",
       "      <td>80.0</td>\n",
       "      <td>0.0</td>\n",
       "      <td>0.0</td>\n",
       "    </tr>\n",
       "    <tr>\n",
       "      <th>4</th>\n",
       "      <td>1.536227e+09</td>\n",
       "      <td>17576.0</td>\n",
       "      <td>8081.0</td>\n",
       "      <td>2000000.0</td>\n",
       "      <td>0.0</td>\n",
       "      <td>0.0</td>\n",
       "      <td>0.0</td>\n",
       "      <td>2.0</td>\n",
       "      <td>80.0</td>\n",
       "      <td>0.0</td>\n",
       "      <td>0.0</td>\n",
       "    </tr>\n",
       "  </tbody>\n",
       "</table>\n",
       "</div>"
      ],
      "text/plain": [
       "             ts  id.orig_p  id.resp_p   duration  orig_bytes  resp_bytes  \\\n",
       "0  1.536227e+09    17576.0     8081.0  3000000.0         0.0         0.0   \n",
       "1  1.536227e+09    17576.0     8081.0  2000000.0         0.0         0.0   \n",
       "2  1.536227e+09    17576.0     8081.0  2000000.0         0.0         0.0   \n",
       "3  1.536227e+09    17576.0     8081.0  2000000.0         0.0         0.0   \n",
       "4  1.536227e+09    17576.0     8081.0  2000000.0         0.0         0.0   \n",
       "\n",
       "   missed_bytes  orig_pkts  orig_ip_bytes  resp_pkts  resp_ip_bytes  \n",
       "0           0.0        2.0           80.0        0.0            0.0  \n",
       "1           0.0        2.0           80.0        0.0            0.0  \n",
       "2           0.0        2.0           80.0        0.0            0.0  \n",
       "3           0.0        2.0           80.0        0.0            0.0  \n",
       "4           0.0        2.0           80.0        0.0            0.0  "
      ]
     },
     "execution_count": 70,
     "metadata": {},
     "output_type": "execute_result"
    }
   ],
   "source": [
    "num_df.head()"
   ]
  },
  {
   "cell_type": "markdown",
   "metadata": {},
   "source": [
    "ok so there are only three categorical variables..."
   ]
  },
  {
   "cell_type": "code",
   "execution_count": 68,
   "metadata": {},
   "outputs": [],
   "source": [
    "le=LabelEncoder()"
   ]
  },
  {
   "cell_type": "code",
   "execution_count": 72,
   "metadata": {},
   "outputs": [],
   "source": [
    "enc_df =cat_df.apply(LabelEncoder().fit_transform)"
   ]
  },
  {
   "cell_type": "code",
   "execution_count": 73,
   "metadata": {},
   "outputs": [
    {
     "data": {
      "text/html": [
       "<div>\n",
       "<style scoped>\n",
       "    .dataframe tbody tr th:only-of-type {\n",
       "        vertical-align: middle;\n",
       "    }\n",
       "\n",
       "    .dataframe tbody tr th {\n",
       "        vertical-align: top;\n",
       "    }\n",
       "\n",
       "    .dataframe thead th {\n",
       "        text-align: right;\n",
       "    }\n",
       "</style>\n",
       "<table border=\"1\" class=\"dataframe\">\n",
       "  <thead>\n",
       "    <tr style=\"text-align: right;\">\n",
       "      <th></th>\n",
       "      <th>proto</th>\n",
       "      <th>conn_state</th>\n",
       "      <th>history</th>\n",
       "    </tr>\n",
       "  </thead>\n",
       "  <tbody>\n",
       "    <tr>\n",
       "      <th>0</th>\n",
       "      <td>1</td>\n",
       "      <td>6</td>\n",
       "      <td>31</td>\n",
       "    </tr>\n",
       "    <tr>\n",
       "      <th>1</th>\n",
       "      <td>1</td>\n",
       "      <td>6</td>\n",
       "      <td>31</td>\n",
       "    </tr>\n",
       "    <tr>\n",
       "      <th>2</th>\n",
       "      <td>1</td>\n",
       "      <td>6</td>\n",
       "      <td>31</td>\n",
       "    </tr>\n",
       "    <tr>\n",
       "      <th>3</th>\n",
       "      <td>1</td>\n",
       "      <td>6</td>\n",
       "      <td>31</td>\n",
       "    </tr>\n",
       "    <tr>\n",
       "      <th>4</th>\n",
       "      <td>1</td>\n",
       "      <td>6</td>\n",
       "      <td>31</td>\n",
       "    </tr>\n",
       "  </tbody>\n",
       "</table>\n",
       "</div>"
      ],
      "text/plain": [
       "   proto  conn_state  history\n",
       "0      1           6       31\n",
       "1      1           6       31\n",
       "2      1           6       31\n",
       "3      1           6       31\n",
       "4      1           6       31"
      ]
     },
     "execution_count": 73,
     "metadata": {},
     "output_type": "execute_result"
    }
   ],
   "source": [
    "enc_df.head()"
   ]
  },
  {
   "cell_type": "code",
   "execution_count": 76,
   "metadata": {},
   "outputs": [],
   "source": [
    "Xe=pd.concat([num_df,enc_df], axis=1)"
   ]
  },
  {
   "cell_type": "code",
   "execution_count": 92,
   "metadata": {},
   "outputs": [
    {
     "data": {
      "text/html": [
       "<div>\n",
       "<style scoped>\n",
       "    .dataframe tbody tr th:only-of-type {\n",
       "        vertical-align: middle;\n",
       "    }\n",
       "\n",
       "    .dataframe tbody tr th {\n",
       "        vertical-align: top;\n",
       "    }\n",
       "\n",
       "    .dataframe thead th {\n",
       "        text-align: right;\n",
       "    }\n",
       "</style>\n",
       "<table border=\"1\" class=\"dataframe\">\n",
       "  <thead>\n",
       "    <tr style=\"text-align: right;\">\n",
       "      <th></th>\n",
       "      <th>ts</th>\n",
       "      <th>id.orig_p</th>\n",
       "      <th>id.resp_p</th>\n",
       "      <th>duration</th>\n",
       "      <th>orig_bytes</th>\n",
       "      <th>resp_bytes</th>\n",
       "      <th>missed_bytes</th>\n",
       "      <th>orig_pkts</th>\n",
       "      <th>orig_ip_bytes</th>\n",
       "      <th>resp_pkts</th>\n",
       "      <th>resp_ip_bytes</th>\n",
       "      <th>proto</th>\n",
       "      <th>conn_state</th>\n",
       "      <th>history</th>\n",
       "    </tr>\n",
       "  </thead>\n",
       "  <tbody>\n",
       "    <tr>\n",
       "      <th>0</th>\n",
       "      <td>1.536227e+09</td>\n",
       "      <td>17576.0</td>\n",
       "      <td>8081.0</td>\n",
       "      <td>3000000.0</td>\n",
       "      <td>0.0</td>\n",
       "      <td>0.0</td>\n",
       "      <td>0.0</td>\n",
       "      <td>2.0</td>\n",
       "      <td>80.0</td>\n",
       "      <td>0.0</td>\n",
       "      <td>0.0</td>\n",
       "      <td>1</td>\n",
       "      <td>6</td>\n",
       "      <td>31</td>\n",
       "    </tr>\n",
       "    <tr>\n",
       "      <th>1</th>\n",
       "      <td>1.536227e+09</td>\n",
       "      <td>17576.0</td>\n",
       "      <td>8081.0</td>\n",
       "      <td>2000000.0</td>\n",
       "      <td>0.0</td>\n",
       "      <td>0.0</td>\n",
       "      <td>0.0</td>\n",
       "      <td>2.0</td>\n",
       "      <td>80.0</td>\n",
       "      <td>0.0</td>\n",
       "      <td>0.0</td>\n",
       "      <td>1</td>\n",
       "      <td>6</td>\n",
       "      <td>31</td>\n",
       "    </tr>\n",
       "    <tr>\n",
       "      <th>2</th>\n",
       "      <td>1.536227e+09</td>\n",
       "      <td>17576.0</td>\n",
       "      <td>8081.0</td>\n",
       "      <td>2000000.0</td>\n",
       "      <td>0.0</td>\n",
       "      <td>0.0</td>\n",
       "      <td>0.0</td>\n",
       "      <td>2.0</td>\n",
       "      <td>80.0</td>\n",
       "      <td>0.0</td>\n",
       "      <td>0.0</td>\n",
       "      <td>1</td>\n",
       "      <td>6</td>\n",
       "      <td>31</td>\n",
       "    </tr>\n",
       "    <tr>\n",
       "      <th>3</th>\n",
       "      <td>1.536227e+09</td>\n",
       "      <td>17576.0</td>\n",
       "      <td>8081.0</td>\n",
       "      <td>2000000.0</td>\n",
       "      <td>0.0</td>\n",
       "      <td>0.0</td>\n",
       "      <td>0.0</td>\n",
       "      <td>2.0</td>\n",
       "      <td>80.0</td>\n",
       "      <td>0.0</td>\n",
       "      <td>0.0</td>\n",
       "      <td>1</td>\n",
       "      <td>6</td>\n",
       "      <td>31</td>\n",
       "    </tr>\n",
       "    <tr>\n",
       "      <th>4</th>\n",
       "      <td>1.536227e+09</td>\n",
       "      <td>17576.0</td>\n",
       "      <td>8081.0</td>\n",
       "      <td>2000000.0</td>\n",
       "      <td>0.0</td>\n",
       "      <td>0.0</td>\n",
       "      <td>0.0</td>\n",
       "      <td>2.0</td>\n",
       "      <td>80.0</td>\n",
       "      <td>0.0</td>\n",
       "      <td>0.0</td>\n",
       "      <td>1</td>\n",
       "      <td>6</td>\n",
       "      <td>31</td>\n",
       "    </tr>\n",
       "  </tbody>\n",
       "</table>\n",
       "</div>"
      ],
      "text/plain": [
       "             ts  id.orig_p  id.resp_p   duration  orig_bytes  resp_bytes  \\\n",
       "0  1.536227e+09    17576.0     8081.0  3000000.0         0.0         0.0   \n",
       "1  1.536227e+09    17576.0     8081.0  2000000.0         0.0         0.0   \n",
       "2  1.536227e+09    17576.0     8081.0  2000000.0         0.0         0.0   \n",
       "3  1.536227e+09    17576.0     8081.0  2000000.0         0.0         0.0   \n",
       "4  1.536227e+09    17576.0     8081.0  2000000.0         0.0         0.0   \n",
       "\n",
       "   missed_bytes  orig_pkts  orig_ip_bytes  resp_pkts  resp_ip_bytes  proto  \\\n",
       "0           0.0        2.0           80.0        0.0            0.0      1   \n",
       "1           0.0        2.0           80.0        0.0            0.0      1   \n",
       "2           0.0        2.0           80.0        0.0            0.0      1   \n",
       "3           0.0        2.0           80.0        0.0            0.0      1   \n",
       "4           0.0        2.0           80.0        0.0            0.0      1   \n",
       "\n",
       "   conn_state  history  \n",
       "0           6       31  \n",
       "1           6       31  \n",
       "2           6       31  \n",
       "3           6       31  \n",
       "4           6       31  "
      ]
     },
     "execution_count": 92,
     "metadata": {},
     "output_type": "execute_result"
    }
   ],
   "source": [
    "Xe.head()"
   ]
  },
  {
   "cell_type": "code",
   "execution_count": 93,
   "metadata": {},
   "outputs": [],
   "source": [
    "Xe= Xe.drop(columns=['ts'])"
   ]
  },
  {
   "cell_type": "code",
   "execution_count": 108,
   "metadata": {},
   "outputs": [],
   "source": [
    "Xe= Xe.drop(columns=['id.orig_p','id.resp_p','duration'])"
   ]
  },
  {
   "cell_type": "code",
   "execution_count": 109,
   "metadata": {},
   "outputs": [
    {
     "data": {
      "text/html": [
       "<div>\n",
       "<style scoped>\n",
       "    .dataframe tbody tr th:only-of-type {\n",
       "        vertical-align: middle;\n",
       "    }\n",
       "\n",
       "    .dataframe tbody tr th {\n",
       "        vertical-align: top;\n",
       "    }\n",
       "\n",
       "    .dataframe thead th {\n",
       "        text-align: right;\n",
       "    }\n",
       "</style>\n",
       "<table border=\"1\" class=\"dataframe\">\n",
       "  <thead>\n",
       "    <tr style=\"text-align: right;\">\n",
       "      <th></th>\n",
       "      <th>orig_bytes</th>\n",
       "      <th>resp_bytes</th>\n",
       "      <th>missed_bytes</th>\n",
       "      <th>orig_pkts</th>\n",
       "      <th>orig_ip_bytes</th>\n",
       "      <th>resp_pkts</th>\n",
       "      <th>resp_ip_bytes</th>\n",
       "      <th>proto</th>\n",
       "      <th>conn_state</th>\n",
       "      <th>history</th>\n",
       "    </tr>\n",
       "  </thead>\n",
       "  <tbody>\n",
       "    <tr>\n",
       "      <th>0</th>\n",
       "      <td>0.0</td>\n",
       "      <td>0.0</td>\n",
       "      <td>0.0</td>\n",
       "      <td>2.0</td>\n",
       "      <td>80.0</td>\n",
       "      <td>0.0</td>\n",
       "      <td>0.0</td>\n",
       "      <td>1</td>\n",
       "      <td>6</td>\n",
       "      <td>31</td>\n",
       "    </tr>\n",
       "    <tr>\n",
       "      <th>1</th>\n",
       "      <td>0.0</td>\n",
       "      <td>0.0</td>\n",
       "      <td>0.0</td>\n",
       "      <td>2.0</td>\n",
       "      <td>80.0</td>\n",
       "      <td>0.0</td>\n",
       "      <td>0.0</td>\n",
       "      <td>1</td>\n",
       "      <td>6</td>\n",
       "      <td>31</td>\n",
       "    </tr>\n",
       "    <tr>\n",
       "      <th>2</th>\n",
       "      <td>0.0</td>\n",
       "      <td>0.0</td>\n",
       "      <td>0.0</td>\n",
       "      <td>2.0</td>\n",
       "      <td>80.0</td>\n",
       "      <td>0.0</td>\n",
       "      <td>0.0</td>\n",
       "      <td>1</td>\n",
       "      <td>6</td>\n",
       "      <td>31</td>\n",
       "    </tr>\n",
       "    <tr>\n",
       "      <th>3</th>\n",
       "      <td>0.0</td>\n",
       "      <td>0.0</td>\n",
       "      <td>0.0</td>\n",
       "      <td>2.0</td>\n",
       "      <td>80.0</td>\n",
       "      <td>0.0</td>\n",
       "      <td>0.0</td>\n",
       "      <td>1</td>\n",
       "      <td>6</td>\n",
       "      <td>31</td>\n",
       "    </tr>\n",
       "    <tr>\n",
       "      <th>4</th>\n",
       "      <td>0.0</td>\n",
       "      <td>0.0</td>\n",
       "      <td>0.0</td>\n",
       "      <td>2.0</td>\n",
       "      <td>80.0</td>\n",
       "      <td>0.0</td>\n",
       "      <td>0.0</td>\n",
       "      <td>1</td>\n",
       "      <td>6</td>\n",
       "      <td>31</td>\n",
       "    </tr>\n",
       "  </tbody>\n",
       "</table>\n",
       "</div>"
      ],
      "text/plain": [
       "   orig_bytes  resp_bytes  missed_bytes  orig_pkts  orig_ip_bytes  resp_pkts  \\\n",
       "0         0.0         0.0           0.0        2.0           80.0        0.0   \n",
       "1         0.0         0.0           0.0        2.0           80.0        0.0   \n",
       "2         0.0         0.0           0.0        2.0           80.0        0.0   \n",
       "3         0.0         0.0           0.0        2.0           80.0        0.0   \n",
       "4         0.0         0.0           0.0        2.0           80.0        0.0   \n",
       "\n",
       "   resp_ip_bytes  proto  conn_state  history  \n",
       "0            0.0      1           6       31  \n",
       "1            0.0      1           6       31  \n",
       "2            0.0      1           6       31  \n",
       "3            0.0      1           6       31  \n",
       "4            0.0      1           6       31  "
      ]
     },
     "execution_count": 109,
     "metadata": {},
     "output_type": "execute_result"
    }
   ],
   "source": [
    "Xe.head()"
   ]
  },
  {
   "cell_type": "code",
   "execution_count": 110,
   "metadata": {},
   "outputs": [],
   "source": [
    "Ye=le.fit_transform(y)"
   ]
  },
  {
   "cell_type": "code",
   "execution_count": 111,
   "metadata": {},
   "outputs": [
    {
     "data": {
      "text/plain": [
       "array([4, 4, 4, ..., 0, 0, 0])"
      ]
     },
     "execution_count": 111,
     "metadata": {},
     "output_type": "execute_result"
    }
   ],
   "source": [
    "Ye"
   ]
  },
  {
   "cell_type": "code",
   "execution_count": 112,
   "metadata": {},
   "outputs": [],
   "source": [
    "scaling=StandardScaler()"
   ]
  },
  {
   "cell_type": "code",
   "execution_count": 113,
   "metadata": {},
   "outputs": [],
   "source": [
    "Xs=scaling.fit_transform(Xe)"
   ]
  },
  {
   "cell_type": "code",
   "execution_count": 114,
   "metadata": {},
   "outputs": [],
   "source": [
    "from sklearn.tree import DecisionTreeClassifier\n",
    "from sklearn.metrics import accuracy_score\n",
    "from sklearn.linear_model import LogisticRegression\n",
    "from sklearn.naive_bayes import GaussianNB\n",
    "from sklearn.ensemble import RandomForestClassifier\n",
    "from sklearn import neighbors\n",
    "from xgboost import XGBClassifier\n",
    "from sklearn.tree import DecisionTreeClassifier\n",
    "from sklearn import tree\n",
    "from sklearn.metrics import roc_auc_score\n",
    "from sklearn.model_selection import learning_curve\n",
    "from sklearn.model_selection import GridSearchCV\n",
    "from sklearn.metrics import classification_report, confusion_matrix\n",
    "from sklearn.metrics import auc,roc_auc_score,roc_curve,precision_score,recall_score,f1_score\n",
    "from sklearn.model_selection import train_test_split\n",
    "from sklearn.model_selection import KFold\n",
    "from sklearn.model_selection import cross_val_score\n",
    "from sklearn.model_selection import cross_validate"
   ]
  },
  {
   "cell_type": "code",
   "execution_count": 115,
   "metadata": {},
   "outputs": [],
   "source": [
    "X_train, X_test, Y_train, Y_test = train_test_split(Xs, Ye, random_state=10, test_size=0.20)"
   ]
  },
  {
   "cell_type": "code",
   "execution_count": 116,
   "metadata": {},
   "outputs": [
    {
     "data": {
      "text/plain": [
       "(1961928, 10)"
      ]
     },
     "execution_count": 116,
     "metadata": {},
     "output_type": "execute_result"
    }
   ],
   "source": [
    "X_train.shape"
   ]
  },
  {
   "cell_type": "code",
   "execution_count": 117,
   "metadata": {},
   "outputs": [
    {
     "data": {
      "text/plain": [
       "(840827, 10)"
      ]
     },
     "execution_count": 117,
     "metadata": {},
     "output_type": "execute_result"
    }
   ],
   "source": [
    "X_test.shape"
   ]
  },
  {
   "cell_type": "code",
   "execution_count": 118,
   "metadata": {},
   "outputs": [
    {
     "data": {
      "text/plain": [
       "(1961928,)"
      ]
     },
     "execution_count": 118,
     "metadata": {},
     "output_type": "execute_result"
    }
   ],
   "source": [
    "Y_train.shape"
   ]
  },
  {
   "cell_type": "code",
   "execution_count": 119,
   "metadata": {},
   "outputs": [
    {
     "data": {
      "text/plain": [
       "(840827,)"
      ]
     },
     "execution_count": 119,
     "metadata": {},
     "output_type": "execute_result"
    }
   ],
   "source": [
    "Y_test.shape"
   ]
  },
  {
   "cell_type": "code",
   "execution_count": 120,
   "metadata": {},
   "outputs": [],
   "source": [
    "train_scores, test_scores = list(), list()\n",
    "values = [i for i in range(1, 15)]"
   ]
  },
  {
   "cell_type": "code",
   "execution_count": 121,
   "metadata": {},
   "outputs": [
    {
     "name": "stdout",
     "output_type": "stream",
     "text": [
      ">1, train: 0.626, test: 0.625\n",
      ">2, train: 0.768, test: 0.768\n",
      ">3, train: 0.768, test: 0.768\n",
      ">4, train: 0.768, test: 0.768\n",
      ">5, train: 0.768, test: 0.768\n",
      ">6, train: 0.768, test: 0.768\n",
      ">7, train: 0.768, test: 0.768\n",
      ">8, train: 0.768, test: 0.768\n",
      ">9, train: 0.768, test: 0.768\n",
      ">10, train: 0.768, test: 0.768\n",
      ">11, train: 0.768, test: 0.768\n",
      ">12, train: 0.768, test: 0.768\n",
      ">13, train: 0.768, test: 0.768\n",
      ">14, train: 0.768, test: 0.768\n"
     ]
    }
   ],
   "source": [
    "for i in values:\n",
    "\t# configure the model\n",
    "\tmodel = DecisionTreeClassifier(max_depth=i)\n",
    "\t# fit model on the training dataset\n",
    "\tmodel.fit(X_train, Y_train)\n",
    "\t# evaluate on the train dataset\n",
    "\ttrain_yhat = model.predict(X_train)\n",
    "\ttrain_acc = accuracy_score(Y_train, train_yhat)\n",
    "\ttrain_scores.append(train_acc)\n",
    "\t# evaluate on the test dataset\n",
    "\ttest_yhat = model.predict(X_test)\n",
    "\ttest_acc = accuracy_score(Y_test, test_yhat)\n",
    "\ttest_scores.append(test_acc)\n",
    "\t# summarize progress\n",
    "\tprint('>%d, train: %.3f, test: %.3f' % (i, train_acc, test_acc))"
   ]
  },
  {
   "cell_type": "markdown",
   "metadata": {},
   "source": [
    "The model is either underfitting or overfitting there is something wrong with Data! "
   ]
  },
  {
   "cell_type": "code",
   "execution_count": 122,
   "metadata": {},
   "outputs": [
    {
     "name": "stdout",
     "output_type": "stream",
     "text": [
      "Finished training within 0.69 seconds\n"
     ]
    }
   ],
   "source": [
    "start = timer.time()\n",
    "gnb_model = GaussianNB()\n",
    "gnb_model.fit(X_train, Y_train)\n",
    "end = timer.time()\n",
    "print(\"Finished training within {:.2f} seconds\".format(end-start))"
   ]
  },
  {
   "cell_type": "code",
   "execution_count": 123,
   "metadata": {},
   "outputs": [],
   "source": [
    "# Predicting the test set results\n",
    "y_gnb = gnb_model.predict(X_test)\n",
    "y_gnb_prob = gnb_model.predict_proba(X_test)"
   ]
  },
  {
   "cell_type": "code",
   "execution_count": 124,
   "metadata": {},
   "outputs": [
    {
     "name": "stderr",
     "output_type": "stream",
     "text": [
      "C:\\Users\\DELL\\anaconda3\\lib\\site-packages\\sklearn\\metrics\\_classification.py:1318: UndefinedMetricWarning: Precision and F-score are ill-defined and being set to 0.0 in labels with no predicted samples. Use `zero_division` parameter to control this behavior.\n",
      "  _warn_prf(average, modifier, msg_start, len(result))\n",
      "C:\\Users\\DELL\\anaconda3\\lib\\site-packages\\sklearn\\metrics\\_classification.py:1318: UndefinedMetricWarning: Precision and F-score are ill-defined and being set to 0.0 in labels with no predicted samples. Use `zero_division` parameter to control this behavior.\n",
      "  _warn_prf(average, modifier, msg_start, len(result))\n",
      "C:\\Users\\DELL\\anaconda3\\lib\\site-packages\\sklearn\\metrics\\_classification.py:1318: UndefinedMetricWarning: Precision and F-score are ill-defined and being set to 0.0 in labels with no predicted samples. Use `zero_division` parameter to control this behavior.\n",
      "  _warn_prf(average, modifier, msg_start, len(result))\n"
     ]
    },
    {
     "name": "stdout",
     "output_type": "stream",
     "text": [
      "Classification report for GNB: \n",
      "              precision    recall  f1-score   support\n",
      "\n",
      "           0       0.99      0.91      0.95    142280\n",
      "           1       0.00      0.00      0.00      2406\n",
      "           2       1.00      0.89      0.94    134971\n",
      "           3       0.28      1.00      0.44    164846\n",
      "           4       0.87      0.01      0.01    396324\n",
      "\n",
      "    accuracy                           0.50    840827\n",
      "   macro avg       0.63      0.56      0.47    840827\n",
      "weighted avg       0.79      0.50      0.40    840827\n",
      "\n",
      "Confusion matrix for GNB: \n",
      "[[129276      0     38  12623    343]\n",
      " [     5      0      0   2401      0]\n",
      " [     4      0 119927  15035      5]\n",
      " [     0      0      0 164821     25]\n",
      " [  1343      0      4 392499   2478]]\n",
      "Accuracy score for GNB: 0.50\n"
     ]
    },
    {
     "name": "stderr",
     "output_type": "stream",
     "text": [
      "C:\\Users\\DELL\\anaconda3\\lib\\site-packages\\sklearn\\metrics\\_classification.py:1318: UndefinedMetricWarning: Precision is ill-defined and being set to 0.0 in labels with no predicted samples. Use `zero_division` parameter to control this behavior.\n",
      "  _warn_prf(average, modifier, msg_start, len(result))\n"
     ]
    },
    {
     "name": "stdout",
     "output_type": "stream",
     "text": [
      "Precision score for GNB: 0.79\n",
      "Recall score for GNB: 0.50\n",
      "F1 score for GNB: 0.40\n"
     ]
    }
   ],
   "source": [
    "print(\"Classification report for GNB: \\n{}\".format(classification_report(Y_test,y_gnb)))\n",
    "print(\"Confusion matrix for GNB: \\n{}\".format(confusion_matrix(Y_test,y_gnb)))\n",
    "print(\"Accuracy score for GNB: {:.2f}\".format(accuracy_score(Y_test,y_gnb)))\n",
    "# calculate precision, recall, and f1 scores\n",
    "prec_gnb = precision_score(Y_test,y_gnb,average='weighted')\n",
    "rec_gnb = recall_score(Y_test,y_gnb,average='weighted')\n",
    "f1_gnb = f1_score(Y_test,y_gnb,average='weighted')\n",
    "print(\"Precision score for GNB: {:.2f}\".format(prec_gnb))\n",
    "print(\"Recall score for GNB: {:.2f}\".format(rec_gnb))\n",
    "print(\"F1 score for GNB: {:.2f}\".format(f1_gnb))"
   ]
  },
  {
   "cell_type": "code",
   "execution_count": 130,
   "metadata": {},
   "outputs": [],
   "source": [
    "from collections import Counter"
   ]
  },
  {
   "cell_type": "code",
   "execution_count": 131,
   "metadata": {},
   "outputs": [
    {
     "name": "stdout",
     "output_type": "stream",
     "text": [
      "Original dataset shape Counter({4: 1324265, 3: 549228, 0: 472319, 2: 448703, 1: 8240})\n"
     ]
    }
   ],
   "source": [
    "print('Original dataset shape %s' % Counter(Ye))"
   ]
  },
  {
   "cell_type": "code",
   "execution_count": 125,
   "metadata": {},
   "outputs": [],
   "source": [
    "from imblearn import under_sampling, over_sampling"
   ]
  },
  {
   "cell_type": "code",
   "execution_count": 128,
   "metadata": {},
   "outputs": [],
   "source": [
    "from imblearn.under_sampling import RandomUnderSampler"
   ]
  },
  {
   "cell_type": "code",
   "execution_count": 150,
   "metadata": {},
   "outputs": [],
   "source": [
    "rus=RandomUnderSampler(sampling_strategy='majority',random_state=21)"
   ]
  },
  {
   "cell_type": "code",
   "execution_count": 151,
   "metadata": {},
   "outputs": [],
   "source": [
    "X_res, y_res = rus.fit_resample(Xe, Ye)"
   ]
  },
  {
   "cell_type": "code",
   "execution_count": 152,
   "metadata": {},
   "outputs": [
    {
     "name": "stdout",
     "output_type": "stream",
     "text": [
      "Resampled dataset shape Counter({3: 549228, 0: 472319, 2: 448703, 1: 8240, 4: 8240})\n"
     ]
    }
   ],
   "source": [
    "print('Resampled dataset shape %s' % Counter(y_res))"
   ]
  },
  {
   "cell_type": "markdown",
   "metadata": {},
   "source": [
    "Followed by oversampling"
   ]
  },
  {
   "cell_type": "code",
   "execution_count": 153,
   "metadata": {},
   "outputs": [],
   "source": [
    "from imblearn.over_sampling import RandomOverSampler"
   ]
  },
  {
   "cell_type": "code",
   "execution_count": 154,
   "metadata": {},
   "outputs": [],
   "source": [
    "over = RandomOverSampler(sampling_strategy='minority')"
   ]
  },
  {
   "cell_type": "code",
   "execution_count": 157,
   "metadata": {},
   "outputs": [],
   "source": [
    "X_rs, y_rs = over.fit_resample(X_res, y_res)"
   ]
  },
  {
   "cell_type": "code",
   "execution_count": 158,
   "metadata": {},
   "outputs": [
    {
     "name": "stdout",
     "output_type": "stream",
     "text": [
      "Resampled dataset shape Counter({1: 549228, 3: 549228, 0: 472319, 2: 448703, 4: 8240})\n"
     ]
    }
   ],
   "source": [
    "print('Resampled dataset shape %s' % Counter(y_rs))"
   ]
  },
  {
   "cell_type": "code",
   "execution_count": 159,
   "metadata": {},
   "outputs": [],
   "source": [
    "X_train, X_test, Y_train, Y_test = train_test_split(X_res, y_res, random_state=10, test_size=0.20)"
   ]
  },
  {
   "cell_type": "code",
   "execution_count": 160,
   "metadata": {},
   "outputs": [],
   "source": [
    "train_scores, test_scores = list(), list()\n",
    "values = [i for i in range(1, 15)]"
   ]
  },
  {
   "cell_type": "code",
   "execution_count": 161,
   "metadata": {},
   "outputs": [
    {
     "name": "stdout",
     "output_type": "stream",
     "text": [
      ">1, train: 0.638, test: 0.637\n",
      ">2, train: 0.926, test: 0.926\n",
      ">3, train: 0.926, test: 0.926\n",
      ">4, train: 0.945, test: 0.945\n",
      ">5, train: 0.955, test: 0.955\n",
      ">6, train: 0.955, test: 0.955\n",
      ">7, train: 0.955, test: 0.955\n",
      ">8, train: 0.955, test: 0.955\n",
      ">9, train: 0.955, test: 0.955\n",
      ">10, train: 0.955, test: 0.955\n",
      ">11, train: 0.955, test: 0.955\n",
      ">12, train: 0.955, test: 0.955\n",
      ">13, train: 0.955, test: 0.955\n",
      ">14, train: 0.955, test: 0.955\n"
     ]
    }
   ],
   "source": [
    "for i in values:\n",
    "\t# configure the model\n",
    "\tmodel = DecisionTreeClassifier(max_depth=i)\n",
    "\t# fit model on the training dataset\n",
    "\tmodel.fit(X_train, Y_train)\n",
    "\t# evaluate on the train dataset\n",
    "\ttrain_yhat = model.predict(X_train)\n",
    "\ttrain_acc = accuracy_score(Y_train, train_yhat)\n",
    "\ttrain_scores.append(train_acc)\n",
    "\t# evaluate on the test dataset\n",
    "\ttest_yhat = model.predict(X_test)\n",
    "\ttest_acc = accuracy_score(Y_test, test_yhat)\n",
    "\ttest_scores.append(test_acc)\n",
    "\t# summarize progress\n",
    "\tprint('>%d, train: %.3f, test: %.3f' % (i, train_acc, test_acc))"
   ]
  },
  {
   "cell_type": "code",
   "execution_count": null,
   "metadata": {},
   "outputs": [],
   "source": []
  }
 ],
 "metadata": {
  "kernelspec": {
   "display_name": "Python 3",
   "language": "python",
   "name": "python3"
  },
  "language_info": {
   "codemirror_mode": {
    "name": "ipython",
    "version": 3
   },
   "file_extension": ".py",
   "mimetype": "text/x-python",
   "name": "python",
   "nbconvert_exporter": "python",
   "pygments_lexer": "ipython3",
   "version": "3.8.5"
  }
 },
 "nbformat": 4,
 "nbformat_minor": 4
}
