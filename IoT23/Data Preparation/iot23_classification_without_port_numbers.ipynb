{
 "cells": [
  {
   "cell_type": "markdown",
   "metadata": {},
   "source": [
    "# Data Preparation and EDA for IoT23 dataset"
   ]
  },
  {
   "cell_type": "code",
   "execution_count": 1,
   "metadata": {},
   "outputs": [],
   "source": [
    "import os \n",
    "import pandas as pd\n",
    "import numpy as np \n",
    "import seaborn as sns\n",
    "import matplotlib.pyplot as plt\n",
    "from collections import defaultdict\n",
    "import csv\n",
    "from numpy import array\n",
    "from numpy import argmax\n",
    "from sklearn import preprocessing\n",
    "from sklearn.preprocessing import StandardScaler,LabelEncoder"
   ]
  },
  {
   "cell_type": "code",
   "execution_count": 2,
   "metadata": {},
   "outputs": [],
   "source": [
    "data= pd.read_csv('preprocessed_iot23_1M_samples.csv', low_memory=False)"
   ]
  },
  {
   "cell_type": "code",
   "execution_count": 69,
   "metadata": {},
   "outputs": [
    {
     "data": {
      "text/html": [
       "<div>\n",
       "<style scoped>\n",
       "    .dataframe tbody tr th:only-of-type {\n",
       "        vertical-align: middle;\n",
       "    }\n",
       "\n",
       "    .dataframe tbody tr th {\n",
       "        vertical-align: top;\n",
       "    }\n",
       "\n",
       "    .dataframe thead th {\n",
       "        text-align: right;\n",
       "    }\n",
       "</style>\n",
       "<table border=\"1\" class=\"dataframe\">\n",
       "  <thead>\n",
       "    <tr style=\"text-align: right;\">\n",
       "      <th></th>\n",
       "      <th>Unnamed: 0</th>\n",
       "      <th>ts</th>\n",
       "      <th>id.orig_p</th>\n",
       "      <th>id.resp_p</th>\n",
       "      <th>duration</th>\n",
       "      <th>orig_bytes</th>\n",
       "      <th>resp_bytes</th>\n",
       "      <th>local_orig</th>\n",
       "      <th>local_resp</th>\n",
       "      <th>missed_bytes</th>\n",
       "      <th>orig_pkts</th>\n",
       "      <th>orig_ip_bytes</th>\n",
       "      <th>resp_pkts</th>\n",
       "      <th>resp_ip_bytes</th>\n",
       "      <th>proto</th>\n",
       "      <th>conn_state</th>\n",
       "      <th>label</th>\n",
       "    </tr>\n",
       "  </thead>\n",
       "  <tbody>\n",
       "    <tr>\n",
       "      <th>0</th>\n",
       "      <td>0</td>\n",
       "      <td>1.536227e+09</td>\n",
       "      <td>17576.0</td>\n",
       "      <td>8081.0</td>\n",
       "      <td>0.000003</td>\n",
       "      <td>0.0</td>\n",
       "      <td>0.0</td>\n",
       "      <td>0</td>\n",
       "      <td>0</td>\n",
       "      <td>0.0</td>\n",
       "      <td>2.0</td>\n",
       "      <td>80.0</td>\n",
       "      <td>0.0</td>\n",
       "      <td>0.0</td>\n",
       "      <td>1</td>\n",
       "      <td>5</td>\n",
       "      <td>POHS</td>\n",
       "    </tr>\n",
       "    <tr>\n",
       "      <th>1</th>\n",
       "      <td>1</td>\n",
       "      <td>1.536227e+09</td>\n",
       "      <td>17576.0</td>\n",
       "      <td>8081.0</td>\n",
       "      <td>0.000002</td>\n",
       "      <td>0.0</td>\n",
       "      <td>0.0</td>\n",
       "      <td>0</td>\n",
       "      <td>0</td>\n",
       "      <td>0.0</td>\n",
       "      <td>2.0</td>\n",
       "      <td>80.0</td>\n",
       "      <td>0.0</td>\n",
       "      <td>0.0</td>\n",
       "      <td>1</td>\n",
       "      <td>5</td>\n",
       "      <td>POHS</td>\n",
       "    </tr>\n",
       "    <tr>\n",
       "      <th>2</th>\n",
       "      <td>2</td>\n",
       "      <td>1.536227e+09</td>\n",
       "      <td>17576.0</td>\n",
       "      <td>8081.0</td>\n",
       "      <td>0.000002</td>\n",
       "      <td>0.0</td>\n",
       "      <td>0.0</td>\n",
       "      <td>0</td>\n",
       "      <td>0</td>\n",
       "      <td>0.0</td>\n",
       "      <td>2.0</td>\n",
       "      <td>80.0</td>\n",
       "      <td>0.0</td>\n",
       "      <td>0.0</td>\n",
       "      <td>1</td>\n",
       "      <td>5</td>\n",
       "      <td>POHS</td>\n",
       "    </tr>\n",
       "    <tr>\n",
       "      <th>3</th>\n",
       "      <td>3</td>\n",
       "      <td>1.536227e+09</td>\n",
       "      <td>17576.0</td>\n",
       "      <td>8081.0</td>\n",
       "      <td>0.000002</td>\n",
       "      <td>0.0</td>\n",
       "      <td>0.0</td>\n",
       "      <td>0</td>\n",
       "      <td>0</td>\n",
       "      <td>0.0</td>\n",
       "      <td>2.0</td>\n",
       "      <td>80.0</td>\n",
       "      <td>0.0</td>\n",
       "      <td>0.0</td>\n",
       "      <td>1</td>\n",
       "      <td>5</td>\n",
       "      <td>POHS</td>\n",
       "    </tr>\n",
       "    <tr>\n",
       "      <th>4</th>\n",
       "      <td>4</td>\n",
       "      <td>1.536227e+09</td>\n",
       "      <td>17576.0</td>\n",
       "      <td>8081.0</td>\n",
       "      <td>0.000002</td>\n",
       "      <td>0.0</td>\n",
       "      <td>0.0</td>\n",
       "      <td>0</td>\n",
       "      <td>0</td>\n",
       "      <td>0.0</td>\n",
       "      <td>2.0</td>\n",
       "      <td>80.0</td>\n",
       "      <td>0.0</td>\n",
       "      <td>0.0</td>\n",
       "      <td>1</td>\n",
       "      <td>5</td>\n",
       "      <td>POHS</td>\n",
       "    </tr>\n",
       "  </tbody>\n",
       "</table>\n",
       "</div>"
      ],
      "text/plain": [
       "   Unnamed: 0            ts  id.orig_p  id.resp_p  duration  orig_bytes  \\\n",
       "0           0  1.536227e+09    17576.0     8081.0  0.000003         0.0   \n",
       "1           1  1.536227e+09    17576.0     8081.0  0.000002         0.0   \n",
       "2           2  1.536227e+09    17576.0     8081.0  0.000002         0.0   \n",
       "3           3  1.536227e+09    17576.0     8081.0  0.000002         0.0   \n",
       "4           4  1.536227e+09    17576.0     8081.0  0.000002         0.0   \n",
       "\n",
       "   resp_bytes  local_orig  local_resp  missed_bytes  orig_pkts  orig_ip_bytes  \\\n",
       "0         0.0           0           0           0.0        2.0           80.0   \n",
       "1         0.0           0           0           0.0        2.0           80.0   \n",
       "2         0.0           0           0           0.0        2.0           80.0   \n",
       "3         0.0           0           0           0.0        2.0           80.0   \n",
       "4         0.0           0           0           0.0        2.0           80.0   \n",
       "\n",
       "   resp_pkts  resp_ip_bytes  proto  conn_state label  \n",
       "0        0.0            0.0      1           5  POHS  \n",
       "1        0.0            0.0      1           5  POHS  \n",
       "2        0.0            0.0      1           5  POHS  \n",
       "3        0.0            0.0      1           5  POHS  \n",
       "4        0.0            0.0      1           5  POHS  "
      ]
     },
     "execution_count": 69,
     "metadata": {},
     "output_type": "execute_result"
    }
   ],
   "source": [
    "data.head()  "
   ]
  },
  {
   "cell_type": "code",
   "execution_count": 3,
   "metadata": {},
   "outputs": [],
   "source": [
    "del data['Unnamed: 0']"
   ]
  },
  {
   "cell_type": "code",
   "execution_count": 4,
   "metadata": {},
   "outputs": [
    {
     "data": {
      "text/html": [
       "<div>\n",
       "<style scoped>\n",
       "    .dataframe tbody tr th:only-of-type {\n",
       "        vertical-align: middle;\n",
       "    }\n",
       "\n",
       "    .dataframe tbody tr th {\n",
       "        vertical-align: top;\n",
       "    }\n",
       "\n",
       "    .dataframe thead th {\n",
       "        text-align: right;\n",
       "    }\n",
       "</style>\n",
       "<table border=\"1\" class=\"dataframe\">\n",
       "  <thead>\n",
       "    <tr style=\"text-align: right;\">\n",
       "      <th></th>\n",
       "      <th>ts</th>\n",
       "      <th>id.orig_p</th>\n",
       "      <th>id.resp_p</th>\n",
       "      <th>duration</th>\n",
       "      <th>orig_bytes</th>\n",
       "      <th>resp_bytes</th>\n",
       "      <th>local_orig</th>\n",
       "      <th>local_resp</th>\n",
       "      <th>missed_bytes</th>\n",
       "      <th>orig_pkts</th>\n",
       "      <th>orig_ip_bytes</th>\n",
       "      <th>resp_pkts</th>\n",
       "      <th>resp_ip_bytes</th>\n",
       "      <th>proto</th>\n",
       "      <th>conn_state</th>\n",
       "      <th>label</th>\n",
       "    </tr>\n",
       "  </thead>\n",
       "  <tbody>\n",
       "    <tr>\n",
       "      <th>1244126</th>\n",
       "      <td>1.532526e+09</td>\n",
       "      <td>41762.0</td>\n",
       "      <td>23.0</td>\n",
       "      <td>0.0</td>\n",
       "      <td>0.0</td>\n",
       "      <td>0.0</td>\n",
       "      <td>0</td>\n",
       "      <td>0</td>\n",
       "      <td>0.0</td>\n",
       "      <td>1.0</td>\n",
       "      <td>40.0</td>\n",
       "      <td>0.0</td>\n",
       "      <td>0.0</td>\n",
       "      <td>1</td>\n",
       "      <td>5</td>\n",
       "      <td>POHS</td>\n",
       "    </tr>\n",
       "    <tr>\n",
       "      <th>1244127</th>\n",
       "      <td>1.532526e+09</td>\n",
       "      <td>58758.0</td>\n",
       "      <td>23.0</td>\n",
       "      <td>0.0</td>\n",
       "      <td>0.0</td>\n",
       "      <td>0.0</td>\n",
       "      <td>0</td>\n",
       "      <td>0</td>\n",
       "      <td>0.0</td>\n",
       "      <td>1.0</td>\n",
       "      <td>40.0</td>\n",
       "      <td>0.0</td>\n",
       "      <td>0.0</td>\n",
       "      <td>1</td>\n",
       "      <td>5</td>\n",
       "      <td>POHS</td>\n",
       "    </tr>\n",
       "    <tr>\n",
       "      <th>1244128</th>\n",
       "      <td>1.532526e+09</td>\n",
       "      <td>40400.0</td>\n",
       "      <td>23.0</td>\n",
       "      <td>0.0</td>\n",
       "      <td>0.0</td>\n",
       "      <td>0.0</td>\n",
       "      <td>0</td>\n",
       "      <td>0</td>\n",
       "      <td>0.0</td>\n",
       "      <td>1.0</td>\n",
       "      <td>40.0</td>\n",
       "      <td>0.0</td>\n",
       "      <td>0.0</td>\n",
       "      <td>1</td>\n",
       "      <td>5</td>\n",
       "      <td>POHS</td>\n",
       "    </tr>\n",
       "    <tr>\n",
       "      <th>1244129</th>\n",
       "      <td>1.532526e+09</td>\n",
       "      <td>27117.0</td>\n",
       "      <td>23.0</td>\n",
       "      <td>0.0</td>\n",
       "      <td>0.0</td>\n",
       "      <td>0.0</td>\n",
       "      <td>0</td>\n",
       "      <td>0</td>\n",
       "      <td>0.0</td>\n",
       "      <td>1.0</td>\n",
       "      <td>40.0</td>\n",
       "      <td>0.0</td>\n",
       "      <td>0.0</td>\n",
       "      <td>1</td>\n",
       "      <td>5</td>\n",
       "      <td>POHS</td>\n",
       "    </tr>\n",
       "    <tr>\n",
       "      <th>1244130</th>\n",
       "      <td>1.532526e+09</td>\n",
       "      <td>23227.0</td>\n",
       "      <td>23.0</td>\n",
       "      <td>0.0</td>\n",
       "      <td>0.0</td>\n",
       "      <td>0.0</td>\n",
       "      <td>0</td>\n",
       "      <td>0</td>\n",
       "      <td>0.0</td>\n",
       "      <td>1.0</td>\n",
       "      <td>40.0</td>\n",
       "      <td>0.0</td>\n",
       "      <td>0.0</td>\n",
       "      <td>1</td>\n",
       "      <td>5</td>\n",
       "      <td>POHS</td>\n",
       "    </tr>\n",
       "  </tbody>\n",
       "</table>\n",
       "</div>"
      ],
      "text/plain": [
       "                   ts  id.orig_p  id.resp_p  duration  orig_bytes  resp_bytes  \\\n",
       "1244126  1.532526e+09    41762.0       23.0       0.0         0.0         0.0   \n",
       "1244127  1.532526e+09    58758.0       23.0       0.0         0.0         0.0   \n",
       "1244128  1.532526e+09    40400.0       23.0       0.0         0.0         0.0   \n",
       "1244129  1.532526e+09    27117.0       23.0       0.0         0.0         0.0   \n",
       "1244130  1.532526e+09    23227.0       23.0       0.0         0.0         0.0   \n",
       "\n",
       "         local_orig  local_resp  missed_bytes  orig_pkts  orig_ip_bytes  \\\n",
       "1244126           0           0           0.0        1.0           40.0   \n",
       "1244127           0           0           0.0        1.0           40.0   \n",
       "1244128           0           0           0.0        1.0           40.0   \n",
       "1244129           0           0           0.0        1.0           40.0   \n",
       "1244130           0           0           0.0        1.0           40.0   \n",
       "\n",
       "         resp_pkts  resp_ip_bytes  proto  conn_state label  \n",
       "1244126        0.0            0.0      1           5  POHS  \n",
       "1244127        0.0            0.0      1           5  POHS  \n",
       "1244128        0.0            0.0      1           5  POHS  \n",
       "1244129        0.0            0.0      1           5  POHS  \n",
       "1244130        0.0            0.0      1           5  POHS  "
      ]
     },
     "execution_count": 4,
     "metadata": {},
     "output_type": "execute_result"
    }
   ],
   "source": [
    "data.tail()"
   ]
  },
  {
   "cell_type": "code",
   "execution_count": 5,
   "metadata": {},
   "outputs": [
    {
     "data": {
      "text/plain": [
       "(1244131, 16)"
      ]
     },
     "execution_count": 5,
     "metadata": {},
     "output_type": "execute_result"
    }
   ],
   "source": [
    "data.shape"
   ]
  },
  {
   "cell_type": "code",
   "execution_count": 66,
   "metadata": {},
   "outputs": [
    {
     "name": "stdout",
     "output_type": "stream",
     "text": [
      "Index(['ts', 'id.orig_p', 'id.resp_p', 'duration', 'orig_bytes', 'resp_bytes',\n",
      "       'local_orig', 'local_resp', 'missed_bytes', 'orig_pkts',\n",
      "       'orig_ip_bytes', 'resp_pkts', 'resp_ip_bytes', 'proto', 'conn_state',\n",
      "       'label'],\n",
      "      dtype='object')\n"
     ]
    }
   ],
   "source": [
    "print(data.columns)"
   ]
  },
  {
   "cell_type": "code",
   "execution_count": 6,
   "metadata": {},
   "outputs": [],
   "source": [
    "#we drop port numbers because they can cause overfitting of the model\n",
    "df= data.drop(columns=['id.orig_p','id.resp_p'])"
   ]
  },
  {
   "cell_type": "code",
   "execution_count": 8,
   "metadata": {},
   "outputs": [],
   "source": [
    "#separate the X variables\n",
    "X=df.iloc[:,:-1]"
   ]
  },
  {
   "cell_type": "code",
   "execution_count": 9,
   "metadata": {},
   "outputs": [],
   "source": [
    "#separate labels (y)\n",
    "y=data['label']"
   ]
  },
  {
   "cell_type": "code",
   "execution_count": 10,
   "metadata": {},
   "outputs": [
    {
     "data": {
      "text/html": [
       "<div>\n",
       "<style scoped>\n",
       "    .dataframe tbody tr th:only-of-type {\n",
       "        vertical-align: middle;\n",
       "    }\n",
       "\n",
       "    .dataframe tbody tr th {\n",
       "        vertical-align: top;\n",
       "    }\n",
       "\n",
       "    .dataframe thead th {\n",
       "        text-align: right;\n",
       "    }\n",
       "</style>\n",
       "<table border=\"1\" class=\"dataframe\">\n",
       "  <thead>\n",
       "    <tr style=\"text-align: right;\">\n",
       "      <th></th>\n",
       "      <th>ts</th>\n",
       "      <th>duration</th>\n",
       "      <th>orig_bytes</th>\n",
       "      <th>resp_bytes</th>\n",
       "      <th>local_orig</th>\n",
       "      <th>local_resp</th>\n",
       "      <th>missed_bytes</th>\n",
       "      <th>orig_pkts</th>\n",
       "      <th>orig_ip_bytes</th>\n",
       "      <th>resp_pkts</th>\n",
       "      <th>resp_ip_bytes</th>\n",
       "      <th>proto</th>\n",
       "      <th>conn_state</th>\n",
       "    </tr>\n",
       "  </thead>\n",
       "  <tbody>\n",
       "    <tr>\n",
       "      <th>count</th>\n",
       "      <td>1.244131e+06</td>\n",
       "      <td>1.244131e+06</td>\n",
       "      <td>1.244131e+06</td>\n",
       "      <td>1.244131e+06</td>\n",
       "      <td>1244131.0</td>\n",
       "      <td>1244131.0</td>\n",
       "      <td>1.244131e+06</td>\n",
       "      <td>1.244131e+06</td>\n",
       "      <td>1.244131e+06</td>\n",
       "      <td>1.244131e+06</td>\n",
       "      <td>1.244131e+06</td>\n",
       "      <td>1.244131e+06</td>\n",
       "      <td>1.244131e+06</td>\n",
       "    </tr>\n",
       "    <tr>\n",
       "      <th>mean</th>\n",
       "      <td>1.546090e+09</td>\n",
       "      <td>4.382011e-01</td>\n",
       "      <td>3.162748e+03</td>\n",
       "      <td>1.228624e+01</td>\n",
       "      <td>0.0</td>\n",
       "      <td>0.0</td>\n",
       "      <td>5.353777e-02</td>\n",
       "      <td>2.063864e+02</td>\n",
       "      <td>8.971911e+03</td>\n",
       "      <td>3.341047e-02</td>\n",
       "      <td>1.382442e+01</td>\n",
       "      <td>1.011863e+00</td>\n",
       "      <td>4.577432e+00</td>\n",
       "    </tr>\n",
       "    <tr>\n",
       "      <th>std</th>\n",
       "      <td>9.480849e+06</td>\n",
       "      <td>5.560016e+01</td>\n",
       "      <td>1.847804e+06</td>\n",
       "      <td>1.046620e+04</td>\n",
       "      <td>0.0</td>\n",
       "      <td>0.0</td>\n",
       "      <td>1.525009e+01</td>\n",
       "      <td>7.791396e+04</td>\n",
       "      <td>3.070481e+06</td>\n",
       "      <td>7.342897e+00</td>\n",
       "      <td>1.083993e+04</td>\n",
       "      <td>1.103718e-01</td>\n",
       "      <td>1.502551e+00</td>\n",
       "    </tr>\n",
       "    <tr>\n",
       "      <th>min</th>\n",
       "      <td>1.532101e+09</td>\n",
       "      <td>0.000000e+00</td>\n",
       "      <td>0.000000e+00</td>\n",
       "      <td>0.000000e+00</td>\n",
       "      <td>0.0</td>\n",
       "      <td>0.0</td>\n",
       "      <td>0.000000e+00</td>\n",
       "      <td>0.000000e+00</td>\n",
       "      <td>0.000000e+00</td>\n",
       "      <td>0.000000e+00</td>\n",
       "      <td>0.000000e+00</td>\n",
       "      <td>0.000000e+00</td>\n",
       "      <td>0.000000e+00</td>\n",
       "    </tr>\n",
       "    <tr>\n",
       "      <th>25%</th>\n",
       "      <td>1.538493e+09</td>\n",
       "      <td>0.000000e+00</td>\n",
       "      <td>0.000000e+00</td>\n",
       "      <td>0.000000e+00</td>\n",
       "      <td>0.0</td>\n",
       "      <td>0.0</td>\n",
       "      <td>0.000000e+00</td>\n",
       "      <td>1.000000e+00</td>\n",
       "      <td>4.000000e+01</td>\n",
       "      <td>0.000000e+00</td>\n",
       "      <td>0.000000e+00</td>\n",
       "      <td>1.000000e+00</td>\n",
       "      <td>5.000000e+00</td>\n",
       "    </tr>\n",
       "    <tr>\n",
       "      <th>50%</th>\n",
       "      <td>1.545459e+09</td>\n",
       "      <td>0.000000e+00</td>\n",
       "      <td>0.000000e+00</td>\n",
       "      <td>0.000000e+00</td>\n",
       "      <td>0.0</td>\n",
       "      <td>0.0</td>\n",
       "      <td>0.000000e+00</td>\n",
       "      <td>1.000000e+00</td>\n",
       "      <td>4.000000e+01</td>\n",
       "      <td>0.000000e+00</td>\n",
       "      <td>0.000000e+00</td>\n",
       "      <td>1.000000e+00</td>\n",
       "      <td>5.000000e+00</td>\n",
       "    </tr>\n",
       "    <tr>\n",
       "      <th>75%</th>\n",
       "      <td>1.551379e+09</td>\n",
       "      <td>2.000000e-06</td>\n",
       "      <td>0.000000e+00</td>\n",
       "      <td>0.000000e+00</td>\n",
       "      <td>0.0</td>\n",
       "      <td>0.0</td>\n",
       "      <td>0.000000e+00</td>\n",
       "      <td>2.000000e+00</td>\n",
       "      <td>8.000000e+01</td>\n",
       "      <td>0.000000e+00</td>\n",
       "      <td>0.000000e+00</td>\n",
       "      <td>1.000000e+00</td>\n",
       "      <td>5.000000e+00</td>\n",
       "    </tr>\n",
       "    <tr>\n",
       "      <th>max</th>\n",
       "      <td>1.569018e+09</td>\n",
       "      <td>4.897682e+04</td>\n",
       "      <td>1.744830e+09</td>\n",
       "      <td>1.166102e+07</td>\n",
       "      <td>0.0</td>\n",
       "      <td>0.0</td>\n",
       "      <td>5.792000e+03</td>\n",
       "      <td>6.602735e+07</td>\n",
       "      <td>1.914793e+09</td>\n",
       "      <td>8.055000e+03</td>\n",
       "      <td>1.207699e+07</td>\n",
       "      <td>2.000000e+00</td>\n",
       "      <td>1.100000e+01</td>\n",
       "    </tr>\n",
       "  </tbody>\n",
       "</table>\n",
       "</div>"
      ],
      "text/plain": [
       "                 ts      duration    orig_bytes    resp_bytes  local_orig  \\\n",
       "count  1.244131e+06  1.244131e+06  1.244131e+06  1.244131e+06   1244131.0   \n",
       "mean   1.546090e+09  4.382011e-01  3.162748e+03  1.228624e+01         0.0   \n",
       "std    9.480849e+06  5.560016e+01  1.847804e+06  1.046620e+04         0.0   \n",
       "min    1.532101e+09  0.000000e+00  0.000000e+00  0.000000e+00         0.0   \n",
       "25%    1.538493e+09  0.000000e+00  0.000000e+00  0.000000e+00         0.0   \n",
       "50%    1.545459e+09  0.000000e+00  0.000000e+00  0.000000e+00         0.0   \n",
       "75%    1.551379e+09  2.000000e-06  0.000000e+00  0.000000e+00         0.0   \n",
       "max    1.569018e+09  4.897682e+04  1.744830e+09  1.166102e+07         0.0   \n",
       "\n",
       "       local_resp  missed_bytes     orig_pkts  orig_ip_bytes     resp_pkts  \\\n",
       "count   1244131.0  1.244131e+06  1.244131e+06   1.244131e+06  1.244131e+06   \n",
       "mean          0.0  5.353777e-02  2.063864e+02   8.971911e+03  3.341047e-02   \n",
       "std           0.0  1.525009e+01  7.791396e+04   3.070481e+06  7.342897e+00   \n",
       "min           0.0  0.000000e+00  0.000000e+00   0.000000e+00  0.000000e+00   \n",
       "25%           0.0  0.000000e+00  1.000000e+00   4.000000e+01  0.000000e+00   \n",
       "50%           0.0  0.000000e+00  1.000000e+00   4.000000e+01  0.000000e+00   \n",
       "75%           0.0  0.000000e+00  2.000000e+00   8.000000e+01  0.000000e+00   \n",
       "max           0.0  5.792000e+03  6.602735e+07   1.914793e+09  8.055000e+03   \n",
       "\n",
       "       resp_ip_bytes         proto    conn_state  \n",
       "count   1.244131e+06  1.244131e+06  1.244131e+06  \n",
       "mean    1.382442e+01  1.011863e+00  4.577432e+00  \n",
       "std     1.083993e+04  1.103718e-01  1.502551e+00  \n",
       "min     0.000000e+00  0.000000e+00  0.000000e+00  \n",
       "25%     0.000000e+00  1.000000e+00  5.000000e+00  \n",
       "50%     0.000000e+00  1.000000e+00  5.000000e+00  \n",
       "75%     0.000000e+00  1.000000e+00  5.000000e+00  \n",
       "max     1.207699e+07  2.000000e+00  1.100000e+01  "
      ]
     },
     "execution_count": 10,
     "metadata": {},
     "output_type": "execute_result"
    }
   ],
   "source": [
    "X.describe()"
   ]
  },
  {
   "cell_type": "code",
   "execution_count": 11,
   "metadata": {},
   "outputs": [
    {
     "data": {
      "text/plain": [
       "ts               0\n",
       "duration         0\n",
       "orig_bytes       0\n",
       "resp_bytes       0\n",
       "local_orig       0\n",
       "local_resp       0\n",
       "missed_bytes     0\n",
       "orig_pkts        0\n",
       "orig_ip_bytes    0\n",
       "resp_pkts        0\n",
       "resp_ip_bytes    0\n",
       "proto            0\n",
       "conn_state       0\n",
       "dtype: int64"
      ]
     },
     "execution_count": 11,
     "metadata": {},
     "output_type": "execute_result"
    }
   ],
   "source": [
    "X.isnull().sum()"
   ]
  },
  {
   "cell_type": "code",
   "execution_count": 12,
   "metadata": {},
   "outputs": [],
   "source": [
    "X = np.asarray(X).astype(np.float32)"
   ]
  },
  {
   "cell_type": "code",
   "execution_count": 13,
   "metadata": {},
   "outputs": [
    {
     "data": {
      "text/plain": [
       "0          POHS\n",
       "1          POHS\n",
       "2          POHS\n",
       "3          POHS\n",
       "4          POHS\n",
       "           ... \n",
       "1244126    POHS\n",
       "1244127    POHS\n",
       "1244128    POHS\n",
       "1244129    POHS\n",
       "1244130    POHS\n",
       "Name: label, Length: 1244131, dtype: object"
      ]
     },
     "execution_count": 13,
     "metadata": {},
     "output_type": "execute_result"
    }
   ],
   "source": [
    "y"
   ]
  },
  {
   "cell_type": "code",
   "execution_count": 14,
   "metadata": {},
   "outputs": [
    {
     "data": {
      "text/plain": [
       "POHS      677827\n",
       "Okiru     262690\n",
       "Benign    149744\n",
       "DDoS      138777\n",
       "C&C        15093\n",
       "Name: label, dtype: int64"
      ]
     },
     "execution_count": 14,
     "metadata": {},
     "output_type": "execute_result"
    }
   ],
   "source": [
    "y.value_counts()"
   ]
  },
  {
   "cell_type": "code",
   "execution_count": 15,
   "metadata": {},
   "outputs": [],
   "source": [
    "le=LabelEncoder()"
   ]
  },
  {
   "cell_type": "code",
   "execution_count": 16,
   "metadata": {},
   "outputs": [],
   "source": [
    "y=le.fit_transform(y)"
   ]
  },
  {
   "cell_type": "code",
   "execution_count": 17,
   "metadata": {},
   "outputs": [
    {
     "data": {
      "text/plain": [
       "array([4, 4, 4, ..., 4, 4, 4])"
      ]
     },
     "execution_count": 17,
     "metadata": {},
     "output_type": "execute_result"
    }
   ],
   "source": [
    "y"
   ]
  },
  {
   "cell_type": "code",
   "execution_count": 18,
   "metadata": {},
   "outputs": [],
   "source": [
    "#the labels are encoded in alphabetic order\n",
    "#0---->Benign\n",
    "#1---->Cnc\n",
    "#2---->DDoS\n",
    "#3---->Okiru\n",
    "#4---->POHScan\n"
   ]
  },
  {
   "cell_type": "code",
   "execution_count": 19,
   "metadata": {},
   "outputs": [
    {
     "data": {
      "text/plain": [
       "array(['POHS', 'POHS', 'POHS', ..., 'POHS', 'POHS', 'POHS'], dtype=object)"
      ]
     },
     "execution_count": 19,
     "metadata": {},
     "output_type": "execute_result"
    }
   ],
   "source": [
    "le.inverse_transform(y)"
   ]
  },
  {
   "cell_type": "code",
   "execution_count": 20,
   "metadata": {},
   "outputs": [
    {
     "data": {
      "text/plain": [
       "(1244131,)"
      ]
     },
     "execution_count": 20,
     "metadata": {},
     "output_type": "execute_result"
    }
   ],
   "source": [
    "y.shape"
   ]
  },
  {
   "cell_type": "code",
   "execution_count": 21,
   "metadata": {},
   "outputs": [],
   "source": [
    "sc=StandardScaler()"
   ]
  },
  {
   "cell_type": "code",
   "execution_count": 22,
   "metadata": {},
   "outputs": [],
   "source": [
    "Xs=sc.fit_transform(X)"
   ]
  },
  {
   "cell_type": "code",
   "execution_count": null,
   "metadata": {},
   "outputs": [],
   "source": []
  },
  {
   "cell_type": "markdown",
   "metadata": {},
   "source": [
    "======================================================================="
   ]
  },
  {
   "cell_type": "code",
   "execution_count": null,
   "metadata": {},
   "outputs": [],
   "source": []
  },
  {
   "cell_type": "code",
   "execution_count": 23,
   "metadata": {},
   "outputs": [],
   "source": [
    "from sklearn.tree import DecisionTreeClassifier\n",
    "from sklearn.metrics import accuracy_score\n",
    "from sklearn.linear_model import LogisticRegression\n",
    "from sklearn.naive_bayes import GaussianNB\n",
    "from sklearn.ensemble import RandomForestClassifier\n",
    "from xgboost import XGBClassifier\n",
    "from sklearn import neighbors\n",
    "from sklearn.tree import DecisionTreeClassifier\n",
    "from sklearn import tree\n",
    "from sklearn.metrics import roc_auc_score\n",
    "from sklearn.svm import SVC\n",
    "from sklearn.model_selection import GridSearchCV\n",
    "from sklearn.metrics import classification_report, confusion_matrix\n",
    "from sklearn.metrics import auc,roc_auc_score,roc_curve,precision_score,recall_score,f1_score\n",
    "from sklearn.model_selection import train_test_split\n",
    "import time as timer"
   ]
  },
  {
   "cell_type": "code",
   "execution_count": 24,
   "metadata": {},
   "outputs": [],
   "source": [
    "X_train, X_test, Y_train, Y_test = train_test_split(Xs, y, random_state=124, test_size=0.20, shuffle=True)"
   ]
  },
  {
   "cell_type": "markdown",
   "metadata": {},
   "source": [
    "# Gussian Naive Bayes "
   ]
  },
  {
   "cell_type": "code",
   "execution_count": 61,
   "metadata": {},
   "outputs": [],
   "source": [
    "GaussianNB?"
   ]
  },
  {
   "cell_type": "code",
   "execution_count": 25,
   "metadata": {},
   "outputs": [
    {
     "name": "stdout",
     "output_type": "stream",
     "text": [
      "Finished training within 1.07 seconds\n"
     ]
    }
   ],
   "source": [
    "start = timer.time()\n",
    "gnb_model = GaussianNB()\n",
    "gnb_model.fit(X_train, Y_train)\n",
    "end = timer.time()\n",
    "print(\"Finished training within {:.2f} seconds\".format(end-start))"
   ]
  },
  {
   "cell_type": "code",
   "execution_count": 26,
   "metadata": {},
   "outputs": [],
   "source": [
    "# Predicting the results on train set\n",
    "y_gnbr = gnb_model.predict(X_train)"
   ]
  },
  {
   "cell_type": "code",
   "execution_count": 27,
   "metadata": {},
   "outputs": [
    {
     "name": "stdout",
     "output_type": "stream",
     "text": [
      "Accuracy score for GNB: 0.3828\n"
     ]
    }
   ],
   "source": [
    "print(\"Accuracy score for GNB: {:.4f}\".format(accuracy_score(Y_train,y_gnbr)))"
   ]
  },
  {
   "cell_type": "code",
   "execution_count": 28,
   "metadata": {},
   "outputs": [],
   "source": [
    "# Predicting the test set results\n",
    "y_gnb = gnb_model.predict(X_test)\n",
    "y_gnb_prob = gnb_model.predict_proba(X_test)"
   ]
  },
  {
   "cell_type": "code",
   "execution_count": 29,
   "metadata": {},
   "outputs": [
    {
     "name": "stdout",
     "output_type": "stream",
     "text": [
      "Accuracy score for GNB: 0.3828\n"
     ]
    }
   ],
   "source": [
    "print(\"Accuracy score for GNB: {:.4f}\".format(accuracy_score(Y_train,y_gnbr)))"
   ]
  },
  {
   "cell_type": "code",
   "execution_count": 63,
   "metadata": {},
   "outputs": [
    {
     "name": "stdout",
     "output_type": "stream",
     "text": [
      "Classification report for GNB: \n",
      "              precision    recall  f1-score   support\n",
      "\n",
      "           0       1.00      0.10      0.19     29952\n",
      "           1       0.55      0.11      0.19      2945\n",
      "           2       1.00      0.82      0.90     27853\n",
      "           3       0.27      1.00      0.42     52514\n",
      "           4       0.60      0.12      0.20    135563\n",
      "\n",
      "    accuracy                           0.38    248827\n",
      "   macro avg       0.68      0.43      0.38    248827\n",
      "weighted avg       0.62      0.38      0.33    248827\n",
      "\n",
      "Confusion matrix for GNB: \n",
      "[[  3108    230      4  16503  10107]\n",
      " [     0    334      0   1694    917]\n",
      " [     2      2  22704   5144      1]\n",
      " [     0     41      0  52472      1]\n",
      " [     1      0      1 119036  16525]]\n",
      "Accuracy score for GNB: 0.3824\n",
      "Precision score for GNB: 0.6223\n",
      "Recall score for GNB: 0.3824\n",
      "F1 score for GNB: 0.3253\n"
     ]
    }
   ],
   "source": [
    "print(\"Classification report for GNB: \\n{}\".format(classification_report(Y_test,y_gnb)))\n",
    "print(\"Confusion matrix for GNB: \\n{}\".format(confusion_matrix(Y_test,y_gnb)))\n",
    "print(\"Accuracy score for GNB: {:.4f}\".format(accuracy_score(Y_test,y_gnb)))\n",
    "# calculate precision, recall, and f1 scores\n",
    "prec_gnb = precision_score(Y_test,y_gnb,average='weighted')\n",
    "rec_gnb = recall_score(Y_test,y_gnb,average='weighted')\n",
    "f1_gnb = f1_score(Y_test,y_gnb,average='weighted')\n",
    "print(\"Precision score for GNB: {:.4f}\".format(prec_gnb))\n",
    "print(\"Recall score for GNB: {:.4f}\".format(rec_gnb))\n",
    "print(\"F1 score for GNB: {:.4f}\".format(f1_gnb))"
   ]
  },
  {
   "cell_type": "code",
   "execution_count": 69,
   "metadata": {},
   "outputs": [],
   "source": [
    "cf=confusion_matrix(Y_test,y_gnb)"
   ]
  },
  {
   "cell_type": "code",
   "execution_count": 70,
   "metadata": {},
   "outputs": [
    {
     "data": {
      "text/plain": [
       "array([0.10376603, 0.11341256, 0.81513661, 0.99920021, 0.12189904])"
      ]
     },
     "execution_count": 70,
     "metadata": {},
     "output_type": "execute_result"
    }
   ],
   "source": [
    "#accuracy for each class\n",
    "cf.diagonal()/cf.sum(axis=1)"
   ]
  },
  {
   "cell_type": "markdown",
   "metadata": {},
   "source": [
    "# Logistic Regression "
   ]
  },
  {
   "cell_type": "code",
   "execution_count": 205,
   "metadata": {},
   "outputs": [],
   "source": [
    "LogisticRegression?"
   ]
  },
  {
   "cell_type": "code",
   "execution_count": 31,
   "metadata": {},
   "outputs": [
    {
     "name": "stdout",
     "output_type": "stream",
     "text": [
      "Finished training within 70.79 seconds\n"
     ]
    }
   ],
   "source": [
    "start = timer.time()\n",
    "logit_model = LogisticRegression(solver='sag', max_iter=300, multi_class='multinomial')\n",
    "logit_model.fit(X_train, Y_train)\n",
    "end = timer.time()\n",
    "print(\"Finished training within {:.2f} seconds\".format(end-start))"
   ]
  },
  {
   "cell_type": "code",
   "execution_count": 33,
   "metadata": {},
   "outputs": [],
   "source": [
    "# Predicting the train set results\n",
    "y_logitr = logit_model.predict(X_train)"
   ]
  },
  {
   "cell_type": "code",
   "execution_count": 34,
   "metadata": {},
   "outputs": [
    {
     "name": "stdout",
     "output_type": "stream",
     "text": [
      "Accuracy score for LR: 0.6489\n"
     ]
    }
   ],
   "source": [
    "print(\"Accuracy score for LR: {:.4f}\".format(accuracy_score(Y_train,y_logitr)))"
   ]
  },
  {
   "cell_type": "code",
   "execution_count": 35,
   "metadata": {},
   "outputs": [],
   "source": [
    "# Predicting the test set results\n",
    "y_logit = logit_model.predict(X_test)\n",
    "y_logit_prob = logit_model.predict_proba(X_test)"
   ]
  },
  {
   "cell_type": "code",
   "execution_count": 36,
   "metadata": {},
   "outputs": [
    {
     "name": "stderr",
     "output_type": "stream",
     "text": [
      "C:\\Users\\DELL\\anaconda3\\lib\\site-packages\\sklearn\\metrics\\_classification.py:1318: UndefinedMetricWarning: Precision and F-score are ill-defined and being set to 0.0 in labels with no predicted samples. Use `zero_division` parameter to control this behavior.\n",
      "  _warn_prf(average, modifier, msg_start, len(result))\n",
      "C:\\Users\\DELL\\anaconda3\\lib\\site-packages\\sklearn\\metrics\\_classification.py:1318: UndefinedMetricWarning: Precision and F-score are ill-defined and being set to 0.0 in labels with no predicted samples. Use `zero_division` parameter to control this behavior.\n",
      "  _warn_prf(average, modifier, msg_start, len(result))\n",
      "C:\\Users\\DELL\\anaconda3\\lib\\site-packages\\sklearn\\metrics\\_classification.py:1318: UndefinedMetricWarning: Precision and F-score are ill-defined and being set to 0.0 in labels with no predicted samples. Use `zero_division` parameter to control this behavior.\n",
      "  _warn_prf(average, modifier, msg_start, len(result))\n"
     ]
    },
    {
     "name": "stdout",
     "output_type": "stream",
     "text": [
      "Classification report for LR: \n",
      "              precision    recall  f1-score   support\n",
      "\n",
      "           0       1.00      0.10      0.18     29952\n",
      "           1       0.00      0.00      0.00      2945\n",
      "           2       1.00      0.82      0.90     27853\n",
      "           3       0.48      0.38      0.42     52514\n",
      "           4       0.64      0.85      0.73    135563\n",
      "\n",
      "    accuracy                           0.65    248827\n",
      "   macro avg       0.62      0.43      0.45    248827\n",
      "weighted avg       0.68      0.65      0.61    248827\n",
      "\n",
      "Confusion matrix for LR: \n",
      "[[  3041      0     62     27  26822]\n",
      " [     1      0      0   1625   1319]\n",
      " [     3      0  22702      0   5148]\n",
      " [     0      0     41  19806  32667]\n",
      " [     1      0      0  19818 115744]]\n",
      "Accuracy score for LR: 0.6482\n"
     ]
    },
    {
     "name": "stderr",
     "output_type": "stream",
     "text": [
      "C:\\Users\\DELL\\anaconda3\\lib\\site-packages\\sklearn\\metrics\\_classification.py:1318: UndefinedMetricWarning: Precision is ill-defined and being set to 0.0 in labels with no predicted samples. Use `zero_division` parameter to control this behavior.\n",
      "  _warn_prf(average, modifier, msg_start, len(result))\n"
     ]
    },
    {
     "name": "stdout",
     "output_type": "stream",
     "text": [
      "Precision score for LR: 0.6799\n",
      "Recall score for LR: 0.6482\n",
      "F1 score for LR: 0.6092\n"
     ]
    }
   ],
   "source": [
    "print(\"Classification report for LR: \\n{}\".format(classification_report(Y_test,y_logit)))\n",
    "print(\"Confusion matrix for LR: \\n{}\".format(confusion_matrix(Y_test,y_logit)))\n",
    "print(\"Accuracy score for LR: {:.4f}\".format(accuracy_score(Y_test,y_logit)))\n",
    "# calculate precision, recall, and f1 scores\n",
    "prec_logit = precision_score(Y_test,y_logit,average='weighted')\n",
    "rec_logit = recall_score(Y_test,y_logit,average='weighted')\n",
    "f1_logit = f1_score(Y_test,y_logit,average='weighted')\n",
    "print(\"Precision score for LR: {:.4f}\".format(prec_logit))\n",
    "print(\"Recall score for LR: {:.4f}\".format(rec_logit))\n",
    "print(\"F1 score for LR: {:.4f}\".format(f1_logit))\n"
   ]
  },
  {
   "cell_type": "code",
   "execution_count": 65,
   "metadata": {},
   "outputs": [],
   "source": [
    "cf=confusion_matrix(Y_test,y_logit)"
   ]
  },
  {
   "cell_type": "code",
   "execution_count": 66,
   "metadata": {},
   "outputs": [
    {
     "data": {
      "text/plain": [
       "array([0.10152911, 0.        , 0.8150648 , 0.37715657, 0.85380229])"
      ]
     },
     "execution_count": 66,
     "metadata": {},
     "output_type": "execute_result"
    }
   ],
   "source": [
    "#accuracy for each class\n",
    "cf.diagonal()/cf.sum(axis=1)"
   ]
  },
  {
   "cell_type": "markdown",
   "metadata": {},
   "source": [
    "# RandomForestClassifier"
   ]
  },
  {
   "cell_type": "code",
   "execution_count": 37,
   "metadata": {},
   "outputs": [
    {
     "name": "stdout",
     "output_type": "stream",
     "text": [
      "Finished training within 25.8060 seconds\n"
     ]
    }
   ],
   "source": [
    "start = timer.time()\n",
    "Rf_clf=RandomForestClassifier(n_estimators =10, max_depth=20, criterion = 'entropy', random_state = 124)\n",
    "Rf_clf.fit(X_train, Y_train)\n",
    "end = timer.time()\n",
    "print(\"Finished training within {:.4f} seconds\".format(end-start))"
   ]
  },
  {
   "cell_type": "code",
   "execution_count": 38,
   "metadata": {},
   "outputs": [],
   "source": [
    "#checking train accuracy\n",
    "y_RF_train = Rf_clf.predict(X_train)"
   ]
  },
  {
   "cell_type": "code",
   "execution_count": 59,
   "metadata": {},
   "outputs": [
    {
     "name": "stdout",
     "output_type": "stream",
     "text": [
      "Training Accuracy score for RF: 0.9032\n"
     ]
    }
   ],
   "source": [
    "print(\"Training Accuracy score for RF: {:.4f}\".format(accuracy_score(Y_train,y_RF_train)))"
   ]
  },
  {
   "cell_type": "code",
   "execution_count": 40,
   "metadata": {},
   "outputs": [],
   "source": [
    "y_RF = Rf_clf.predict(X_test)\n",
    "y_RF_prob = Rf_clf.predict_proba(X_test)"
   ]
  },
  {
   "cell_type": "code",
   "execution_count": 58,
   "metadata": {},
   "outputs": [
    {
     "name": "stdout",
     "output_type": "stream",
     "text": [
      "Classification report for RF: \n",
      "              precision    recall  f1-score   support\n",
      "\n",
      "           0       1.00      0.78      0.88     29952\n",
      "           1       1.00      0.99      1.00      2945\n",
      "           2       1.00      0.82      0.90     27853\n",
      "           3       1.00      0.76      0.86     52514\n",
      "           4       0.85      1.00      0.92    135563\n",
      "\n",
      "    accuracy                           0.90    248827\n",
      "   macro avg       0.97      0.87      0.91    248827\n",
      "weighted avg       0.92      0.90      0.90    248827\n",
      "\n",
      "Confusion matrix for RF: \n",
      "[[ 23483      7      3      0   6459]\n",
      " [    18   2927      0      0      0]\n",
      " [     1      0  22735      0   5117]\n",
      " [     2      0      1  39813  12698]\n",
      " [     2      1      0      0 135560]]\n",
      "Accuracy score for RF: 0.9023\n",
      "Precision score for DT: 0.9171\n",
      "Recall score for DT: 0.9023\n",
      "F1 score for DF: 0.9002\n"
     ]
    }
   ],
   "source": [
    "print(\"Classification report for RF: \\n{}\".format(classification_report(Y_test,y_RF)))\n",
    "print(\"Confusion matrix for RF: \\n{}\".format(confusion_matrix(Y_test,y_RF)))\n",
    "print(\"Accuracy score for RF: {:.4f}\".format(accuracy_score(Y_test,y_RF)))\n",
    "# calculate precision, recall, and f1 scores\n",
    "prec_rf = precision_score(Y_test,y_RF, average='weighted')\n",
    "rec_rf = recall_score(Y_test,y_RF,average='weighted')\n",
    "f1_rf = f1_score(Y_test,y_RF,average='weighted')\n",
    "print(\"Precision score for DT: {:.4f}\".format(prec_rf))\n",
    "print(\"Recall score for DT: {:.4f}\".format(rec_rf))\n",
    "print(\"F1 score for DF: {:.4f}\".format(f1_rf))\n"
   ]
  },
  {
   "cell_type": "code",
   "execution_count": 71,
   "metadata": {},
   "outputs": [
    {
     "data": {
      "text/plain": [
       "array([0.7840211 , 0.99388795, 0.8162496 , 0.75814069, 0.99997787])"
      ]
     },
     "execution_count": 71,
     "metadata": {},
     "output_type": "execute_result"
    }
   ],
   "source": [
    "#accuracy for each class\n",
    "cf=confusion_matrix(Y_test,y_RF)\n",
    "cf.diagonal()/cf.sum(axis=1)"
   ]
  },
  {
   "cell_type": "markdown",
   "metadata": {},
   "source": [
    "# Decision Trees"
   ]
  },
  {
   "cell_type": "code",
   "execution_count": 42,
   "metadata": {},
   "outputs": [
    {
     "name": "stdout",
     "output_type": "stream",
     "text": [
      "Finished training within 5.63 seconds\n"
     ]
    }
   ],
   "source": [
    "start = timer.time()\n",
    "DT_clf= DecisionTreeClassifier(max_depth=10)\n",
    "DT_clf.fit(X_train,Y_train)\n",
    "end = timer.time()\n",
    "print(\"Finished training within {:.2f} seconds\".format(end-start))"
   ]
  },
  {
   "cell_type": "code",
   "execution_count": 61,
   "metadata": {},
   "outputs": [],
   "source": [
    "#checking train accuracy\n",
    "y_DT_train = DT_clf.predict(X_train)"
   ]
  },
  {
   "cell_type": "code",
   "execution_count": 62,
   "metadata": {},
   "outputs": [
    {
     "name": "stdout",
     "output_type": "stream",
     "text": [
      "Train Accuracy score for DT:5.63 0.9031\n"
     ]
    }
   ],
   "source": [
    "print(\"Train Accuracy score for DT:5.63 {:.4f}\".format(accuracy_score(Y_train,y_DT_train)))"
   ]
  },
  {
   "cell_type": "code",
   "execution_count": 43,
   "metadata": {},
   "outputs": [],
   "source": [
    "#test accuracy\n",
    "y_DT = DT_clf.predict(X_test)\n",
    "y_DT_prob = DT_clf.predict_proba(X_test)"
   ]
  },
  {
   "cell_type": "code",
   "execution_count": 56,
   "metadata": {},
   "outputs": [
    {
     "name": "stdout",
     "output_type": "stream",
     "text": [
      "Classification report for DT: \n",
      "              precision    recall  f1-score   support\n",
      "\n",
      "           0       1.00      0.78      0.88     29952\n",
      "           1       1.00      0.99      1.00      2945\n",
      "           2       1.00      0.82      0.90     27853\n",
      "           3       1.00      0.76      0.86     52514\n",
      "           4       0.85      1.00      0.92    135563\n",
      "\n",
      "    accuracy                           0.90    248827\n",
      "   macro avg       0.97      0.87      0.91    248827\n",
      "weighted avg       0.92      0.90      0.90    248827\n",
      "\n",
      "Confusion matrix for DT: \n",
      "[[ 23485      3      4      0   6460]\n",
      " [    20   2924      0      0      1]\n",
      " [     3      0  22734      0   5116]\n",
      " [     3      0      0  39814  12697]\n",
      " [     1      3      0      0 135559]]\n",
      "Accuracy score for DT: 0.9023\n",
      "Precision score for DT: 0.9171\n",
      "Recall score for DT: 0.9023\n",
      "F1 score for DF: 0.9002\n"
     ]
    }
   ],
   "source": [
    "print(\"Classification report for DT: \\n{}\".format(classification_report(Y_test,y_DT)))\n",
    "print(\"Confusion matrix for DT: \\n{}\".format(confusion_matrix(Y_test,y_DT)))\n",
    "print(\"Accuracy score for DT: {:.4f}\".format(accuracy_score(Y_test,y_DT)))\n",
    "# calculate precision, recall, and f1 scores\n",
    "prec_dt = precision_score(Y_test,y_DT, average='weighted')\n",
    "rec_dt = recall_score(Y_test,y_DT, average='weighted')\n",
    "f1_dt = f1_score(Y_test,y_DT, average='weighted')\n",
    "print(\"Precision score for DT: {:.4f}\".format(prec_dt))\n",
    "print(\"Recall score for DT: {:.4f}\".format(rec_dt))\n",
    "print(\"F1 score for DF: {:.4f}\".format(f1_dt))\n"
   ]
  },
  {
   "cell_type": "code",
   "execution_count": 72,
   "metadata": {},
   "outputs": [
    {
     "data": {
      "text/plain": [
       "array([0.78408787, 0.99286927, 0.81621369, 0.75815973, 0.99997049])"
      ]
     },
     "execution_count": 72,
     "metadata": {},
     "output_type": "execute_result"
    }
   ],
   "source": [
    "#accuracy for each class\n",
    "cf=confusion_matrix(Y_test,y_DT)\n",
    "cf.diagonal()/cf.sum(axis=1)"
   ]
  },
  {
   "cell_type": "markdown",
   "metadata": {},
   "source": [
    "# KNN "
   ]
  },
  {
   "cell_type": "code",
   "execution_count": 53,
   "metadata": {},
   "outputs": [
    {
     "name": "stdout",
     "output_type": "stream",
     "text": [
      "Finished training within 2.95 seconds\n"
     ]
    }
   ],
   "source": [
    "start = timer.time()\n",
    "knn_model = neighbors.KNeighborsClassifier(p=2,leaf_size=20, n_neighbors=5, n_jobs=-1)\n",
    "knn_model.fit(X_train, Y_train)\n",
    "end = timer.time()\n",
    "print(\"Finished training within {:.2f} seconds\".format(end-start))"
   ]
  },
  {
   "cell_type": "code",
   "execution_count": 54,
   "metadata": {},
   "outputs": [
    {
     "name": "stdout",
     "output_type": "stream",
     "text": [
      "Finished training within 921.68 seconds\n"
     ]
    }
   ],
   "source": [
    "start = timer.time()\n",
    "y_KNN = knn_model.predict(X_test)\n",
    "y_KNN_prob = knn_model.predict_proba(X_test)\n",
    "end = timer.time()\n",
    "print(\"Finished training within {:.2f} seconds\".format(end-start))"
   ]
  },
  {
   "cell_type": "code",
   "execution_count": 52,
   "metadata": {},
   "outputs": [
    {
     "name": "stdout",
     "output_type": "stream",
     "text": [
      "Accuracy score for KNN: 0.9033\n"
     ]
    }
   ],
   "source": [
    "#checking train accuracy\n",
    "y_KNN_train = xg_clf.predict(X_train)\n",
    "print(\"Accuracy score for KNN: {:.4f}\".format(accuracy_score(Y_train,y_KNN_train)))"
   ]
  },
  {
   "cell_type": "code",
   "execution_count": 55,
   "metadata": {},
   "outputs": [
    {
     "name": "stdout",
     "output_type": "stream",
     "text": [
      "Confusion matrix for KNN: \n",
      "[[ 23483      4      4    346   6115]\n",
      " [    27   2915      0      0      3]\n",
      " [     1      1  23046   3242   1563]\n",
      " [     3      0    461  46241   5809]\n",
      " [     2      1    764  15989 118807]]\n",
      "Accuracy score for KNN: 0.8620\n",
      "Precision score for KNN: 0.8758\n",
      "Recall score for KNN: 0.8620\n",
      "F1 score for KNN: 0.8647\n"
     ]
    }
   ],
   "source": [
    "# print(\"Classification report for KNN: \\n{}\".format(classification_report(Y_test,y_KNN)))\n",
    "print(\"Confusion matrix for KNN: \\n{}\".format(confusion_matrix(Y_test,y_KNN)))\n",
    "print(\"Accuracy score for KNN: {:.4f}\".format(accuracy_score(Y_test,y_KNN)))\n",
    "# calculate precision, recall, and f1 scores\n",
    "prec_knn = precision_score(Y_test,y_KNN,average='weighted')\n",
    "rec_knn = recall_score(Y_test,y_KNN,average='weighted')\n",
    "f1_knn = f1_score(Y_test,y_KNN,average='weighted')\n",
    "print(\"Precision score for KNN: {:.4f}\".format(prec_knn))\n",
    "print(\"Recall score for KNN: {:.4f}\".format(rec_knn))\n",
    "print(\"F1 score for KNN: {:.4f}\".format(f1_knn))\n"
   ]
  },
  {
   "cell_type": "code",
   "execution_count": 73,
   "metadata": {},
   "outputs": [
    {
     "data": {
      "text/plain": [
       "array([0.7840211 , 0.98981324, 0.82741536, 0.88054614, 0.87639695])"
      ]
     },
     "execution_count": 73,
     "metadata": {},
     "output_type": "execute_result"
    }
   ],
   "source": [
    "#accuracy for each class\n",
    "cf=confusion_matrix(Y_test,y_KNN)\n",
    "cf.diagonal()/cf.sum(axis=1)"
   ]
  },
  {
   "cell_type": "markdown",
   "metadata": {},
   "source": [
    "# XGBoost Classifier"
   ]
  },
  {
   "cell_type": "code",
   "execution_count": 45,
   "metadata": {},
   "outputs": [
    {
     "name": "stdout",
     "output_type": "stream",
     "text": [
      "[23:30:56] WARNING: ..\\src\\learner.cc:1115: Starting in XGBoost 1.3.0, the default evaluation metric used with the objective 'multi:softprob' was changed from 'merror' to 'mlogloss'. Explicitly set eval_metric if you'd like to restore the old behavior.\n",
      "Finished training within 184.57 seconds\n"
     ]
    }
   ],
   "source": [
    "start = timer.time()\n",
    "xg_clf=XGBClassifier(use_label_encoder=False)\n",
    "xg_clf.fit(X_train, Y_train)\n",
    "end = timer.time()\n",
    "print(\"Finished training within {:.2f} seconds\".format(end-start))"
   ]
  },
  {
   "cell_type": "code",
   "execution_count": 46,
   "metadata": {},
   "outputs": [
    {
     "name": "stdout",
     "output_type": "stream",
     "text": [
      "Accuracy score for DT: 0.9033\n"
     ]
    }
   ],
   "source": [
    "#checking train accuracy\n",
    "y_xg_train = xg_clf.predict(X_train)\n",
    "print(\"Accuracy score for XGB: {:.4f}\".format(accuracy_score(Y_train,y_xg_train)))"
   ]
  },
  {
   "cell_type": "code",
   "execution_count": 47,
   "metadata": {},
   "outputs": [
    {
     "name": "stdout",
     "output_type": "stream",
     "text": [
      "Finished training within 1.15 seconds\n"
     ]
    }
   ],
   "source": [
    "start = timer.time()\n",
    "y_xg = xg_clf.predict(X_test)\n",
    "y_xg_prob = xg_clf.predict_proba(X_test)\n",
    "end = timer.time()\n",
    "print(\"Finished training within {:.2f} seconds\".format(end-start))"
   ]
  },
  {
   "cell_type": "code",
   "execution_count": 48,
   "metadata": {},
   "outputs": [
    {
     "name": "stdout",
     "output_type": "stream",
     "text": [
      "Classification report for XGBoost: \n",
      "              precision    recall  f1-score   support\n",
      "\n",
      "           0       1.00      0.78      0.88     29952\n",
      "           1       1.00      0.99      1.00      2945\n",
      "           2       1.00      0.82      0.90     27853\n",
      "           3       1.00      0.76      0.86     52514\n",
      "           4       0.85      1.00      0.92    135563\n",
      "\n",
      "    accuracy                           0.90    248827\n",
      "   macro avg       0.97      0.87      0.91    248827\n",
      "weighted avg       0.92      0.90      0.90    248827\n",
      "\n",
      "Confusion matrix for XGBoost: \n",
      "[[ 23487      3      3      0   6459]\n",
      " [    20   2923      0      0      2]\n",
      " [     2      0  22774     15   5062]\n",
      " [     2      0     14  39857  12641]\n",
      " [     2      0     42     27 135492]]\n",
      "Accuracy score for XGBoost: 0.9024\n",
      "Precision score for XGBoost: 0.9169\n",
      "Recall score for XGBoost: 0.9024\n",
      "F1 score for XGBoost: 0.9003\n"
     ]
    }
   ],
   "source": [
    "print(\"Classification report for XGBoost: \\n{}\".format(classification_report(Y_test,y_xg)))\n",
    "print(\"Confusion matrix for XGBoost: \\n{}\".format(confusion_matrix(Y_test,y_xg)))\n",
    "print(\"Accuracy score for XGBoost: {:.4f}\".format(accuracy_score(Y_test,y_xg)))\n",
    "# calculate precision, recall, and f1 scores\n",
    "prec_knn = precision_score(Y_test,y_xg,average='weighted')\n",
    "rec_knn = recall_score(Y_test,y_xg,average='weighted')\n",
    "f1_knn = f1_score(Y_test,y_xg,average='weighted')\n",
    "print(\"Precision score for XGBoost: {:.4f}\".format(prec_knn))\n",
    "print(\"Recall score for XGBoost: {:.4f}\".format(rec_knn))\n",
    "print(\"F1 score for XGBoost: {:.4f}\".format(f1_knn))"
   ]
  },
  {
   "cell_type": "code",
   "execution_count": 75,
   "metadata": {},
   "outputs": [
    {
     "data": {
      "text/plain": [
       "array([0.78415465, 0.99252971, 0.8176498 , 0.75897856, 0.99947626])"
      ]
     },
     "execution_count": 75,
     "metadata": {},
     "output_type": "execute_result"
    }
   ],
   "source": [
    "#accuracy for each class\n",
    "cf=confusion_matrix(Y_test,y_xg)\n",
    "cf.diagonal()/cf.sum(axis=1)"
   ]
  },
  {
   "cell_type": "code",
   "execution_count": null,
   "metadata": {},
   "outputs": [],
   "source": []
  }
 ],
 "metadata": {
  "kernelspec": {
   "display_name": "Python 3",
   "language": "python",
   "name": "python3"
  },
  "language_info": {
   "codemirror_mode": {
    "name": "ipython",
    "version": 3
   },
   "file_extension": ".py",
   "mimetype": "text/x-python",
   "name": "python",
   "nbconvert_exporter": "python",
   "pygments_lexer": "ipython3",
   "version": "3.8.5"
  }
 },
 "nbformat": 4,
 "nbformat_minor": 4
}
